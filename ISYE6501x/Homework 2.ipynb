{
 "cells": [
  {
   "cell_type": "markdown",
   "metadata": {},
   "source": [
    "<p style=\"font-family: Arial; font-size:1.75em;color:#2462C0; font-style:bold\">ISYE6501x : Homework 2 </p>"
   ]
  },
  {
   "cell_type": "code",
   "execution_count": 1,
   "metadata": {},
   "outputs": [],
   "source": [
    "options(warn=-1) #suppressing warnings"
   ]
  },
  {
   "cell_type": "code",
   "execution_count": 2,
   "metadata": {},
   "outputs": [
    {
     "name": "stderr",
     "output_type": "stream",
     "text": [
      "Installing package into 'C:/Users/fayal/R/win-library/3.6'\n",
      "(as 'lib' is unspecified)\n"
     ]
    },
    {
     "name": "stdout",
     "output_type": "stream",
     "text": [
      "package 'tidyverse' successfully unpacked and MD5 sums checked\n",
      "\n",
      "The downloaded binary packages are in\n",
      "\tC:\\Users\\fayal\\AppData\\Local\\Temp\\RtmpMXPaf6\\downloaded_packages\n"
     ]
    }
   ],
   "source": [
    "#installing tidyverse to use readr package\n",
    "install.packages(\"tidyverse\")"
   ]
  },
  {
   "cell_type": "code",
   "execution_count": 3,
   "metadata": {},
   "outputs": [
    {
     "name": "stderr",
     "output_type": "stream",
     "text": [
      "Installing package into 'C:/Users/fayal/R/win-library/3.6'\n",
      "(as 'lib' is unspecified)\n"
     ]
    },
    {
     "name": "stdout",
     "output_type": "stream",
     "text": [
      "package 'factoextra' successfully unpacked and MD5 sums checked\n",
      "\n",
      "The downloaded binary packages are in\n",
      "\tC:\\Users\\fayal\\AppData\\Local\\Temp\\RtmpMXPaf6\\downloaded_packages\n"
     ]
    }
   ],
   "source": [
    "install.packages(\"factoextra\")"
   ]
  },
  {
   "cell_type": "code",
   "execution_count": 2,
   "metadata": {},
   "outputs": [
    {
     "name": "stderr",
     "output_type": "stream",
     "text": [
      "-- Attaching packages --------------------------------------- tidyverse 1.3.0 --\n",
      "v ggplot2 3.2.1     v purrr   0.3.3\n",
      "v tibble  2.1.3     v dplyr   0.8.3\n",
      "v tidyr   1.0.0     v stringr 1.4.0\n",
      "v readr   1.3.1     v forcats 0.4.0\n",
      "-- Conflicts ------------------------------------------ tidyverse_conflicts() --\n",
      "x dplyr::filter() masks stats::filter()\n",
      "x dplyr::lag()    masks stats::lag()\n"
     ]
    }
   ],
   "source": [
    "#loading tidyverse packages\n",
    "library(tidyverse)"
   ]
  },
  {
   "cell_type": "code",
   "execution_count": 3,
   "metadata": {},
   "outputs": [],
   "source": [
    "library(kknn)"
   ]
  },
  {
   "cell_type": "code",
   "execution_count": 51,
   "metadata": {},
   "outputs": [
    {
     "name": "stderr",
     "output_type": "stream",
     "text": [
      "\n",
      "Attaching package: 'kernlab'\n",
      "\n",
      "The following object is masked from 'package:purrr':\n",
      "\n",
      "    cross\n",
      "\n",
      "The following object is masked from 'package:ggplot2':\n",
      "\n",
      "    alpha\n",
      "\n"
     ]
    }
   ],
   "source": [
    "library(kernlab)"
   ]
  },
  {
   "cell_type": "markdown",
   "metadata": {},
   "source": [
    "Caret is a great R package which provides general interface to nearly 150 ML algorithms. It also provides great functions to sample the data (for training and testing), preprocessing, evaluating the model etc.,"
   ]
  },
  {
   "cell_type": "code",
   "execution_count": 4,
   "metadata": {},
   "outputs": [
    {
     "name": "stderr",
     "output_type": "stream",
     "text": [
      "Loading required package: lattice\n",
      "\n",
      "Attaching package: 'caret'\n",
      "\n",
      "The following object is masked from 'package:kknn':\n",
      "\n",
      "    contr.dummy\n",
      "\n",
      "The following object is masked from 'package:purrr':\n",
      "\n",
      "    lift\n",
      "\n"
     ]
    }
   ],
   "source": [
    "library(caret)"
   ]
  },
  {
   "cell_type": "markdown",
   "metadata": {},
   "source": [
    "<p style=\"font-family: Arial; font-size:1.25em;color:#2462C0; font-style:bold\">Loading data </p>"
   ]
  },
  {
   "cell_type": "code",
   "execution_count": 6,
   "metadata": {},
   "outputs": [
    {
     "name": "stderr",
     "output_type": "stream",
     "text": [
      "Parsed with column specification:\n",
      "cols(\n",
      "  A1 = col_double(),\n",
      "  A2 = col_double(),\n",
      "  A3 = col_double(),\n",
      "  A8 = col_double(),\n",
      "  A9 = col_double(),\n",
      "  A10 = col_double(),\n",
      "  A11 = col_double(),\n",
      "  A12 = col_double(),\n",
      "  A14 = col_double(),\n",
      "  A15 = col_double(),\n",
      "  R1 = col_double()\n",
      ")\n"
     ]
    }
   ],
   "source": [
    "data<-read_tsv(\"credit_card_data-headers.txt\")"
   ]
  },
  {
   "cell_type": "code",
   "execution_count": 7,
   "metadata": {},
   "outputs": [
    {
     "data": {
      "text/html": [
       "<table>\n",
       "<thead><tr><th scope=col>A1</th><th scope=col>A2</th><th scope=col>A3</th><th scope=col>A8</th><th scope=col>A9</th><th scope=col>A10</th><th scope=col>A11</th><th scope=col>A12</th><th scope=col>A14</th><th scope=col>A15</th><th scope=col>R1</th></tr></thead>\n",
       "<tbody>\n",
       "\t<tr><td>1    </td><td>30.83</td><td>0.000</td><td>1.25 </td><td>1    </td><td>0    </td><td>1    </td><td>1    </td><td>202  </td><td>  0  </td><td>1    </td></tr>\n",
       "\t<tr><td>0    </td><td>58.67</td><td>4.460</td><td>3.04 </td><td>1    </td><td>0    </td><td>6    </td><td>1    </td><td> 43  </td><td>560  </td><td>1    </td></tr>\n",
       "\t<tr><td>0    </td><td>24.50</td><td>0.500</td><td>1.50 </td><td>1    </td><td>1    </td><td>0    </td><td>1    </td><td>280  </td><td>824  </td><td>1    </td></tr>\n",
       "\t<tr><td>1    </td><td>27.83</td><td>1.540</td><td>3.75 </td><td>1    </td><td>0    </td><td>5    </td><td>0    </td><td>100  </td><td>  3  </td><td>1    </td></tr>\n",
       "\t<tr><td>1    </td><td>20.17</td><td>5.625</td><td>1.71 </td><td>1    </td><td>1    </td><td>0    </td><td>1    </td><td>120  </td><td>  0  </td><td>1    </td></tr>\n",
       "\t<tr><td>1    </td><td>32.08</td><td>4.000</td><td>2.50 </td><td>1    </td><td>1    </td><td>0    </td><td>0    </td><td>360  </td><td>  0  </td><td>1    </td></tr>\n",
       "</tbody>\n",
       "</table>\n"
      ],
      "text/latex": [
       "\\begin{tabular}{r|lllllllllll}\n",
       " A1 & A2 & A3 & A8 & A9 & A10 & A11 & A12 & A14 & A15 & R1\\\\\n",
       "\\hline\n",
       "\t 1     & 30.83 & 0.000 & 1.25  & 1     & 0     & 1     & 1     & 202   &   0   & 1    \\\\\n",
       "\t 0     & 58.67 & 4.460 & 3.04  & 1     & 0     & 6     & 1     &  43   & 560   & 1    \\\\\n",
       "\t 0     & 24.50 & 0.500 & 1.50  & 1     & 1     & 0     & 1     & 280   & 824   & 1    \\\\\n",
       "\t 1     & 27.83 & 1.540 & 3.75  & 1     & 0     & 5     & 0     & 100   &   3   & 1    \\\\\n",
       "\t 1     & 20.17 & 5.625 & 1.71  & 1     & 1     & 0     & 1     & 120   &   0   & 1    \\\\\n",
       "\t 1     & 32.08 & 4.000 & 2.50  & 1     & 1     & 0     & 0     & 360   &   0   & 1    \\\\\n",
       "\\end{tabular}\n"
      ],
      "text/markdown": [
       "\n",
       "| A1 | A2 | A3 | A8 | A9 | A10 | A11 | A12 | A14 | A15 | R1 |\n",
       "|---|---|---|---|---|---|---|---|---|---|---|\n",
       "| 1     | 30.83 | 0.000 | 1.25  | 1     | 0     | 1     | 1     | 202   |   0   | 1     |\n",
       "| 0     | 58.67 | 4.460 | 3.04  | 1     | 0     | 6     | 1     |  43   | 560   | 1     |\n",
       "| 0     | 24.50 | 0.500 | 1.50  | 1     | 1     | 0     | 1     | 280   | 824   | 1     |\n",
       "| 1     | 27.83 | 1.540 | 3.75  | 1     | 0     | 5     | 0     | 100   |   3   | 1     |\n",
       "| 1     | 20.17 | 5.625 | 1.71  | 1     | 1     | 0     | 1     | 120   |   0   | 1     |\n",
       "| 1     | 32.08 | 4.000 | 2.50  | 1     | 1     | 0     | 0     | 360   |   0   | 1     |\n",
       "\n"
      ],
      "text/plain": [
       "  A1 A2    A3    A8   A9 A10 A11 A12 A14 A15 R1\n",
       "1 1  30.83 0.000 1.25 1  0   1   1   202   0 1 \n",
       "2 0  58.67 4.460 3.04 1  0   6   1    43 560 1 \n",
       "3 0  24.50 0.500 1.50 1  1   0   1   280 824 1 \n",
       "4 1  27.83 1.540 3.75 1  0   5   0   100   3 1 \n",
       "5 1  20.17 5.625 1.71 1  1   0   1   120   0 1 \n",
       "6 1  32.08 4.000 2.50 1  1   0   0   360   0 1 "
      ]
     },
     "metadata": {},
     "output_type": "display_data"
    }
   ],
   "source": [
    "#exploring data\n",
    "head(data)"
   ]
  },
  {
   "cell_type": "code",
   "execution_count": 10,
   "metadata": {},
   "outputs": [
    {
     "data": {
      "text/html": [
       "<ol class=list-inline>\n",
       "\t<li>'spec_tbl_df'</li>\n",
       "\t<li>'tbl_df'</li>\n",
       "\t<li>'tbl'</li>\n",
       "\t<li>'data.frame'</li>\n",
       "</ol>\n"
      ],
      "text/latex": [
       "\\begin{enumerate*}\n",
       "\\item 'spec\\_tbl\\_df'\n",
       "\\item 'tbl\\_df'\n",
       "\\item 'tbl'\n",
       "\\item 'data.frame'\n",
       "\\end{enumerate*}\n"
      ],
      "text/markdown": [
       "1. 'spec_tbl_df'\n",
       "2. 'tbl_df'\n",
       "3. 'tbl'\n",
       "4. 'data.frame'\n",
       "\n",
       "\n"
      ],
      "text/plain": [
       "[1] \"spec_tbl_df\" \"tbl_df\"      \"tbl\"         \"data.frame\" "
      ]
     },
     "metadata": {},
     "output_type": "display_data"
    }
   ],
   "source": [
    "#type of data\n",
    "class(data)"
   ]
  },
  {
   "cell_type": "code",
   "execution_count": 11,
   "metadata": {},
   "outputs": [
    {
     "data": {
      "text/html": [
       "<ol class=list-inline>\n",
       "\t<li>654</li>\n",
       "\t<li>11</li>\n",
       "</ol>\n"
      ],
      "text/latex": [
       "\\begin{enumerate*}\n",
       "\\item 654\n",
       "\\item 11\n",
       "\\end{enumerate*}\n"
      ],
      "text/markdown": [
       "1. 654\n",
       "2. 11\n",
       "\n",
       "\n"
      ],
      "text/plain": [
       "[1] 654  11"
      ]
     },
     "metadata": {},
     "output_type": "display_data"
    }
   ],
   "source": [
    "#dimension of data\n",
    "dim(data)"
   ]
  },
  {
   "cell_type": "markdown",
   "metadata": {},
   "source": [
    "<p style=\"font-family: Arial; font-size:1.5em;color:#2462C0; font-style:bold\">    Question 3.1 </p>"
   ]
  },
  {
   "cell_type": "markdown",
   "metadata": {},
   "source": [
    "Using the same data set (credit_card_data.txt or credit_card_data-headers.txt) as\n",
    "in Question 2.2, use the ksvm or kknn function to find a good classifier:\n",
    "(a) using cross-validation (do this for the k-nearest-neighbors model; SVM is optional); and\n",
    "(b) splitting the data into training, validation, and test data sets (pick either KNN or SVM; the other\n",
    "is optional)."
   ]
  },
  {
   "cell_type": "markdown",
   "metadata": {},
   "source": [
    "<p style=\"font-family: Arial; font-size:1.25em;color:#2462C0; font-style:bold\">Part a : Cross-Validation with two methods , knn and svm</p>"
   ]
  },
  {
   "cell_type": "markdown",
   "metadata": {},
   "source": [
    "<p style=\"font-family: Arial; font-size:1.25em;color:#2462C0; font-style:bold\">- Using K-nearest neighbor (knn) method</p>"
   ]
  },
  {
   "cell_type": "markdown",
   "metadata": {},
   "source": [
    "The function createDataPartition can be used to create a stratified random sample of the data into training and test sets:"
   ]
  },
  {
   "cell_type": "code",
   "execution_count": 13,
   "metadata": {},
   "outputs": [],
   "source": [
    "set.seed(1)\n",
    "inTraining <- createDataPartition(data$R1, p = .75, list = FALSE)\n",
    "training <- data[ inTraining,]\n",
    "testing  <- data[-inTraining,]"
   ]
  },
  {
   "cell_type": "markdown",
   "metadata": {},
   "source": [
    "Creating a model using train() function in caret:"
   ]
  },
  {
   "cell_type": "code",
   "execution_count": 14,
   "metadata": {},
   "outputs": [
    {
     "data": {
      "text/plain": [
       "k-Nearest Neighbors \n",
       "\n",
       "491 samples\n",
       " 10 predictor\n",
       "  2 classes: '0', '1' \n",
       "\n",
       "Pre-processing: centered (10), scaled (10) \n",
       "Resampling: Cross-Validated (10 fold, repeated 5 times) \n",
       "Summary of sample sizes: 443, 441, 442, 441, 441, 443, ... \n",
       "Resampling results across tuning parameters:\n",
       "\n",
       "  k   Accuracy   Kappa    \n",
       "   5  0.8463969  0.6915303\n",
       "   7  0.8537946  0.7071650\n",
       "   9  0.8452048  0.6901634\n",
       "  11  0.8431548  0.6860323\n",
       "  13  0.8395306  0.6781539\n",
       "  15  0.8403469  0.6791713\n",
       "  17  0.8407316  0.6796886\n",
       "  19  0.8382646  0.6741464\n",
       "  21  0.8382728  0.6737870\n",
       "  23  0.8398823  0.6763811\n",
       "  25  0.8366582  0.6698150\n",
       "  27  0.8374497  0.6711851\n",
       "  29  0.8358663  0.6677499\n",
       "  31  0.8317925  0.6596328\n",
       "  33  0.8314255  0.6586866\n",
       "  35  0.8354912  0.6666591\n",
       "  37  0.8362656  0.6680010\n",
       "  39  0.8362490  0.6680228\n",
       "  41  0.8350405  0.6653279\n",
       "  43  0.8318003  0.6585129\n",
       "  45  0.8306255  0.6558393\n",
       "  47  0.8354997  0.6656505\n",
       "  49  0.8367238  0.6682137\n",
       "  51  0.8379493  0.6706480\n",
       "  53  0.8363490  0.6674334\n",
       "  55  0.8355160  0.6655243\n",
       "  57  0.8355245  0.6654721\n",
       "  59  0.8363497  0.6669720\n",
       "  61  0.8359582  0.6659956\n",
       "  63  0.8343418  0.6627303\n",
       "\n",
       "Accuracy was used to select the optimal model using the largest value.\n",
       "The final value used for the model was k = 7."
      ]
     },
     "metadata": {},
     "output_type": "display_data"
    }
   ],
   "source": [
    "set.seed(1)\n",
    "\n",
    "model_knn_cv <- train(as.factor(R1)~., #modeling R1 column  as a function of all of the other variables\n",
    "              data=training, #using training data for cv\n",
    "              method=\"knn\", # using k-nearest neighbor\n",
    "              trControl=trainControl(method=\"repeatedcv\",#k-fold will be repeated multiple times\n",
    "                                     number=10, # number of folds (k in cross-validation)\n",
    "                                     repeats=5), # number of times to repeat k-fold cross validation \n",
    "              preProcess = c(\"center\", \"scale\"),\n",
    "                      tuneLength =30 #Tells the algorithm to try different values of k for knn\n",
    "                     )\n",
    "model_knn_cv"
   ]
  },
  {
   "cell_type": "markdown",
   "metadata": {},
   "source": [
    "Different models have been built and the best (k=7) is selected using cross-validation.\n",
    "Using this model, we use the test set to find the accuracy of the model:\n"
   ]
  },
  {
   "cell_type": "code",
   "execution_count": 15,
   "metadata": {},
   "outputs": [
    {
     "data": {
      "text/plain": [
       "Confusion Matrix and Statistics\n",
       "\n",
       "          Reference\n",
       "Prediction  0  1\n",
       "         0 79 11\n",
       "         1 12 61\n",
       "                                          \n",
       "               Accuracy : 0.8589          \n",
       "                 95% CI : (0.7958, 0.9084)\n",
       "    No Information Rate : 0.5583          \n",
       "    P-Value [Acc > NIR] : <2e-16          \n",
       "                                          \n",
       "                  Kappa : 0.7143          \n",
       "                                          \n",
       " Mcnemar's Test P-Value : 1               \n",
       "                                          \n",
       "            Sensitivity : 0.8681          \n",
       "            Specificity : 0.8472          \n",
       "         Pos Pred Value : 0.8778          \n",
       "         Neg Pred Value : 0.8356          \n",
       "             Prevalence : 0.5583          \n",
       "         Detection Rate : 0.4847          \n",
       "   Detection Prevalence : 0.5521          \n",
       "      Balanced Accuracy : 0.8577          \n",
       "                                          \n",
       "       'Positive' Class : 0               \n",
       "                                          "
      ]
     },
     "metadata": {},
     "output_type": "display_data"
    }
   ],
   "source": [
    "pred_knn_cv <- predict(model_knn_cv,testing) # measuring the model quality\n",
    "cm_knn_cv<-confusionMatrix(pred_knn_cv,factor(testing$R1)) # summary of model performance\n",
    "\n",
    "cm_knn_cv"
   ]
  },
  {
   "cell_type": "markdown",
   "metadata": {},
   "source": [
    "<p style=\"font-family: Arial; font-size:1em;color:#FF00FF; font-style:bold\">Result: \n",
    "    \n",
    "    Using knn method with k=7, the model delivers accuracy of 85.89% for test data set.\n",
    "</p>"
   ]
  },
  {
   "cell_type": "markdown",
   "metadata": {},
   "source": [
    "<p style=\"font-family: Arial; font-size:1.25em;color:#2462C0; font-style:bold\">- Using svm method</p>"
   ]
  },
  {
   "cell_type": "code",
   "execution_count": 16,
   "metadata": {},
   "outputs": [
    {
     "data": {
      "text/plain": [
       "Support Vector Machines with Radial Basis Function Kernel \n",
       "\n",
       "491 samples\n",
       " 10 predictor\n",
       "  2 classes: '0', '1' \n",
       "\n",
       "Pre-processing: centered (10), scaled (10) \n",
       "Resampling: Cross-Validated (10 fold, repeated 5 times) \n",
       "Summary of sample sizes: 443, 441, 442, 441, 441, 443, ... \n",
       "Resampling results across tuning parameters:\n",
       "\n",
       "  C       Accuracy   Kappa    \n",
       "    0.25  0.8614861  0.7256463\n",
       "    0.50  0.8622942  0.7272099\n",
       "    1.00  0.8622776  0.7268781\n",
       "    2.00  0.8533374  0.7086652\n",
       "    4.00  0.8452218  0.6910813\n",
       "    8.00  0.8508963  0.7012755\n",
       "   16.00  0.8411480  0.6809950\n",
       "   32.00  0.8362330  0.6707432\n",
       "   64.00  0.8345656  0.6663922\n",
       "  128.00  0.8178446  0.6322347\n",
       "\n",
       "Tuning parameter 'sigma' was held constant at a value of 0.09595587\n",
       "Accuracy was used to select the optimal model using the largest value.\n",
       "The final values used for the model were sigma = 0.09595587 and C = 0.5."
      ]
     },
     "metadata": {},
     "output_type": "display_data"
    }
   ],
   "source": [
    "set.seed(1) #we use the same seed as knn method\n",
    "\n",
    "model_svm_cv <- train(as.factor(R1)~., #modeling R1 column  as a function of all of the other variables\n",
    "              data=training, #using training data for cv\n",
    "              method=\"svmRadial\", # using svm Radial Basis Function\n",
    "              trControl=trainControl(method=\"repeatedcv\",\n",
    "                                     number=10, # number of folds (k in cross validation)\n",
    "                                     repeats=5), # number of times to repeat k-fold cross validation to lower bias \n",
    "              preProcess = c(\"center\", \"scale\"),\n",
    "              tuneLength =10 # the blind search for C values\n",
    "                  )\n",
    "model_svm_cv"
   ]
  },
  {
   "cell_type": "markdown",
   "metadata": {},
   "source": [
    "Different models have been built and the best(C=0.5) is selected using cross-validation.\n",
    "Using this model, we use the test set to find the accuracy of the model:\n"
   ]
  },
  {
   "cell_type": "code",
   "execution_count": 18,
   "metadata": {},
   "outputs": [
    {
     "data": {
      "text/plain": [
       "Confusion Matrix and Statistics\n",
       "\n",
       "          Reference\n",
       "Prediction  0  1\n",
       "         0 73  6\n",
       "         1 18 66\n",
       "                                          \n",
       "               Accuracy : 0.8528          \n",
       "                 95% CI : (0.7889, 0.9033)\n",
       "    No Information Rate : 0.5583          \n",
       "    P-Value [Acc > NIR] : 8.452e-16       \n",
       "                                          \n",
       "                  Kappa : 0.7066          \n",
       "                                          \n",
       " Mcnemar's Test P-Value : 0.02474         \n",
       "                                          \n",
       "            Sensitivity : 0.8022          \n",
       "            Specificity : 0.9167          \n",
       "         Pos Pred Value : 0.9241          \n",
       "         Neg Pred Value : 0.7857          \n",
       "             Prevalence : 0.5583          \n",
       "         Detection Rate : 0.4479          \n",
       "   Detection Prevalence : 0.4847          \n",
       "      Balanced Accuracy : 0.8594          \n",
       "                                          \n",
       "       'Positive' Class : 0               \n",
       "                                          "
      ]
     },
     "metadata": {},
     "output_type": "display_data"
    }
   ],
   "source": [
    "pred_svm_cv <- predict(model_svm_cv,testing)\n",
    "cm_svm_cv<-confusionMatrix(pred_svm_cv,factor(testing$R1))\n",
    "\n",
    "cm_svm_cv"
   ]
  },
  {
   "cell_type": "markdown",
   "metadata": {},
   "source": [
    "<p style=\"font-family: Arial; font-size:1em;color:#FF00FF; font-style:bold\">Result: \n",
    "    \n",
    "    Using svm method with C=0.5 , the model delivers accuracy of 85.28% for test data set.\n",
    "</p> \n"
   ]
  },
  {
   "cell_type": "markdown",
   "metadata": {},
   "source": [
    "### Note: ###\n",
    "    \n",
    "Using cross validation we can select a model with knn method and value of k=7 for best performance and a model with svm method and value of c=0.5. \n",
    "In this preliminary analysis, a camparison of knn classifier (accuracy:85.89%) and svm classifier(accuracy :85.28%)  with cross-validation, indicates that **knn method delivers** the best performance.\n",
    "\n"
   ]
  },
  {
   "cell_type": "markdown",
   "metadata": {},
   "source": [
    "<p style=\"font-family: Arial; font-size:1.25em;color:#2462C0; font-style:bold\">Part b : Regular Validation</p>"
   ]
  },
  {
   "cell_type": "markdown",
   "metadata": {},
   "source": [
    "<p style=\"font-family: Arial; font-size:1.25em;color:#2462C0; font-style:bold\">- Using K-nearest neighbor (knn) method</p>"
   ]
  },
  {
   "cell_type": "code",
   "execution_count": 47,
   "metadata": {},
   "outputs": [],
   "source": [
    "set.seed(1)\n",
    "\n",
    "splitSample <- sample(1:3, size=nrow(data), prob=c(0.6,0.2,0.2), replace = TRUE)\n",
    "train_data<- data[splitSample==1,]\n",
    "valid_data <- data[splitSample==2,]\n",
    "test_data <- data[splitSample==3,]\n"
   ]
  },
  {
   "cell_type": "code",
   "execution_count": 48,
   "metadata": {},
   "outputs": [
    {
     "name": "stdout",
     "output_type": "stream",
     "text": [
      "k= 1 : Accuracy= 80.15267 % \n",
      "k= 2 : Accuracy= 80.15267 % \n",
      "k= 3 : Accuracy= 80.15267 % \n",
      "k= 4 : Accuracy= 80.15267 % \n",
      "k= 5 : Accuracy= 84.73282 % \n",
      "k= 6 : Accuracy= 83.96947 % \n",
      "k= 7 : Accuracy= 83.96947 % \n",
      "k= 8 : Accuracy= 83.20611 % \n",
      "k= 9 : Accuracy= 83.20611 % \n",
      "k= 10 : Accuracy= 83.20611 % \n",
      "k= 11 : Accuracy= 83.20611 % \n",
      "k= 12 : Accuracy= 83.20611 % \n",
      "k= 13 : Accuracy= 83.20611 % \n",
      "k= 14 : Accuracy= 83.20611 % \n",
      "k= 15 : Accuracy= 83.20611 % \n",
      "k= 16 : Accuracy= 83.20611 % \n",
      "k= 17 : Accuracy= 83.20611 % \n",
      "k= 18 : Accuracy= 83.20611 % \n",
      "k= 19 : Accuracy= 83.20611 % \n",
      "k= 20 : Accuracy= 83.20611 % \n"
     ]
    }
   ],
   "source": [
    "#model for regular validation\n",
    "acc_knn_rv <-rep(0,20)\n",
    "\n",
    "set.seed(1)\n",
    "\n",
    "for (k in 1:20){\n",
    "    model_knn_rv <- kknn(R1~.,train_data,valid_data,k=k,scale=TRUE)\n",
    "    pred_knn_rv <- as.integer(fitted(model_knn_rv)+0.5)\n",
    "    acc_knn_rv[k] <- (sum(pred_knn_rv == valid_data$R1) / nrow(valid_data)*100)\n",
    "    cat(\"k=\", k, \":\",\"Accuracy=\",acc_knn_rv[k],\"%\",\"\\n\")\n",
    "    \n",
    "}\n"
   ]
  },
  {
   "cell_type": "code",
   "execution_count": 83,
   "metadata": {},
   "outputs": [
    {
     "name": "stdout",
     "output_type": "stream",
     "text": [
      "k= 5 performs best with accuracy of: 84.73282 for validation data set."
     ]
    }
   ],
   "source": [
    "cat(\"k=\",which.max(acc_knn_rv), \"performs best with accuracy of:\",max(acc_knn_rv),\"for validation data set.\")"
   ]
  },
  {
   "cell_type": "markdown",
   "metadata": {},
   "source": [
    "The model with k=5 is selected.The quality of the model then is evaluated using test data set :\n"
   ]
  },
  {
   "cell_type": "code",
   "execution_count": 50,
   "metadata": {},
   "outputs": [
    {
     "name": "stdout",
     "output_type": "stream",
     "text": [
      "Final Evaluation : Accuracy of model = 81.39535 % \n"
     ]
    }
   ],
   "source": [
    "set.seed(1)\n",
    "model_knn_final <- kknn(R1~.,train_data,test_data,k=5,scale=TRUE)\n",
    "pred_knn_final <- as.integer(fitted(model_knn_final)+0.5)\n",
    "acc_knn_final <- (sum(pred_knn_final == test_data$R1) / nrow(test_data)*100)\n",
    "cat(\"Final Evaluation : Accuracy of model =\",acc_knn_final,\"%\",\"\\n\")\n",
    "    \n",
    "\n"
   ]
  },
  {
   "cell_type": "markdown",
   "metadata": {},
   "source": [
    "<p style=\"font-family: Arial; font-size:1em;color:#FF00FF; font-style:bold\">Result: \n",
    "    \n",
    "Using regular validation,knn classifier with k=5 delivers 81.39% accuracy. We can compare it to Using knn classifier with k=7 and cross-validation, where the model delivers accuracy of 85.89% for test data set. By this comparison, we can say that a classifier evaluated by cross-validation performs better than regular validation.\n",
    "</p> \n"
   ]
  },
  {
   "cell_type": "markdown",
   "metadata": {},
   "source": [
    "<p style=\"font-family: Arial; font-size:1.25em;color:#2462C0; font-style:bold\">- Using SVM method</p>"
   ]
  },
  {
   "cell_type": "code",
   "execution_count": 54,
   "metadata": {},
   "outputs": [
    {
     "data": {
      "text/html": [
       "<ol class=list-inline>\n",
       "\t<li>'tbl_df'</li>\n",
       "\t<li>'tbl'</li>\n",
       "\t<li>'data.frame'</li>\n",
       "</ol>\n"
      ],
      "text/latex": [
       "\\begin{enumerate*}\n",
       "\\item 'tbl\\_df'\n",
       "\\item 'tbl'\n",
       "\\item 'data.frame'\n",
       "\\end{enumerate*}\n"
      ],
      "text/markdown": [
       "1. 'tbl_df'\n",
       "2. 'tbl'\n",
       "3. 'data.frame'\n",
       "\n",
       "\n"
      ],
      "text/plain": [
       "[1] \"tbl_df\"     \"tbl\"        \"data.frame\""
      ]
     },
     "metadata": {},
     "output_type": "display_data"
    }
   ],
   "source": [
    "class(train_data)"
   ]
  },
  {
   "cell_type": "code",
   "execution_count": 57,
   "metadata": {},
   "outputs": [],
   "source": [
    "kernels<- c(\"vanilladot\",\"rbfdot\",\"polydot\")"
   ]
  },
  {
   "cell_type": "code",
   "execution_count": 58,
   "metadata": {},
   "outputs": [],
   "source": [
    "cost_misclass<-c(0.0001,0.001,0.01,1,10,100)"
   ]
  },
  {
   "cell_type": "code",
   "execution_count": 69,
   "metadata": {},
   "outputs": [
    {
     "name": "stdout",
     "output_type": "stream",
     "text": [
      "vanilladot kernel accuracy: \n",
      "------------------------- \n",
      " Setting default kernel parameters  \n",
      "C= 1e-04 Accuracy: 0.5648855 \n",
      "\n",
      " Setting default kernel parameters  \n",
      "C= 0.001 Accuracy: 0.7862595 \n",
      "\n",
      " Setting default kernel parameters  \n",
      "C= 0.01 Accuracy: 0.8473282 \n",
      "\n",
      " Setting default kernel parameters  \n",
      "C= 1 Accuracy: 0.8473282 \n",
      "\n",
      " Setting default kernel parameters  \n",
      "C= 10 Accuracy: 0.8473282 \n",
      "\n",
      " Setting default kernel parameters  \n",
      "C= 100 Accuracy: 0.8473282 \n",
      "\n",
      "rbfdot kernel accuracy: \n",
      "------------------------- \n",
      "C= 1e-04 Accuracy: 0.5648855 \n",
      "\n",
      "C= 0.001 Accuracy: 0.5648855 \n",
      "\n",
      "C= 0.01 Accuracy: 0.5648855 \n",
      "\n",
      "C= 1 Accuracy: 0.8473282 \n",
      "\n",
      "C= 10 Accuracy: 0.8167939 \n",
      "\n",
      "C= 100 Accuracy: 0.8320611 \n",
      "\n",
      "polydot kernel accuracy: \n",
      "------------------------- \n",
      " Setting default kernel parameters  \n",
      "C= 1e-04 Accuracy: 0.5648855 \n",
      "\n",
      " Setting default kernel parameters  \n",
      "C= 0.001 Accuracy: 0.7862595 \n",
      "\n",
      " Setting default kernel parameters  \n",
      "C= 0.01 Accuracy: 0.8473282 \n",
      "\n",
      " Setting default kernel parameters  \n",
      "C= 1 Accuracy: 0.8473282 \n",
      "\n",
      " Setting default kernel parameters  \n",
      "C= 10 Accuracy: 0.8473282 \n",
      "\n",
      " Setting default kernel parameters  \n",
      "C= 100 Accuracy: 0.8473282 \n",
      "\n"
     ]
    }
   ],
   "source": [
    "#fitting the model using training set and testing with validation set\n",
    "set.seed(1)\n",
    "for (k in kernels){\n",
    "    cat(k,\"kernel accuracy:\",\"\\n\")\n",
    "    cat('-------------------------',\"\\n\")\n",
    "    for (cost in cost_misclass){\n",
    "        model_c <- ksvm(as.factor(R1)~.,data=train_data,\n",
    "              type=\"C-svc\",\n",
    "              kernel=k, \n",
    "              C=cost,\n",
    "              scaled=TRUE)\n",
    "        \n",
    "        pred_c <- predict(model_c,valid_data[,1:10])\n",
    "        confusion_mtx_c<-confusionMatrix(as.factor(pred_c),as.factor(valid_data$R1))\n",
    "        cat(\"C=\",cost,\"Accuracy:\",confusion_mtx_c$overall[[1]],\"\\n\")\n",
    "        cat(\"\\n\")\n",
    "    }\n",
    "    \n",
    "}\n",
    "\n"
   ]
  },
  {
   "cell_type": "markdown",
   "metadata": {},
   "source": [
    "Since different kernels with the right value of C have similar performances, we will pick the linear classifier with C= 0.01 and accuracy=0.8473282 as the best model. Then we will do our final evaluation of the model using test data set."
   ]
  },
  {
   "cell_type": "code",
   "execution_count": 71,
   "metadata": {},
   "outputs": [
    {
     "name": "stdout",
     "output_type": "stream",
     "text": [
      " Setting default kernel parameters  \n",
      "Accuracy: 0.8139535 \n"
     ]
    }
   ],
   "source": [
    "set.seed(1)\n",
    "\n",
    "model_svm_final <- ksvm(as.factor(R1)~.,data=train_data,\n",
    "              type=\"C-svc\",\n",
    "              kernel=\"vanilladot\", \n",
    "              C=0.01,\n",
    "              scaled=TRUE)\n",
    "pred_svm_final <- predict(model_svm_final,test_data[,1:10])\n",
    "cm_svm_final<-confusionMatrix(as.factor(pred_svm_final),as.factor(test_data$R1))\n",
    "cat(\"Accuracy:\",cm_svm_final$overall[[1]],\"\\n\")\n",
    "\n"
   ]
  },
  {
   "cell_type": "markdown",
   "metadata": {},
   "source": [
    "<p style=\"font-family: Arial; font-size:1em;color:#FF00FF; font-style:bold\">Result: \n",
    "    \n",
    "Using regular validation, and SVM classifier with C=0.01, and kernel=vanilladot (linear) delivers 81.39% accuracy. We can compare it to Using SVM classifier with C=0.5 and cross-validation, where the model delivers accuracy of 85.28% for test data set. By this comparison, we can say that a **classifier evaluated by cross-validation** performs better than regular validation.\n",
    "</p> \n"
   ]
  },
  {
   "cell_type": "markdown",
   "metadata": {},
   "source": [
    "<p style=\"font-family: Arial; font-size:1.5em;color:#2462C0; font-style:bold\">    Question 4.1 </p>"
   ]
  },
  {
   "cell_type": "markdown",
   "metadata": {},
   "source": [
    "Describe a situation or problem from your job, everyday life, current events, etc., for which a clustering\n",
    "model would be appropriate. List some (up to 5) predictors that you might use:\n",
    "\n",
    "**Answer**\n",
    "- A good application would be using clustering to make a book recommendation system for libraries.\n",
    "  Some useful predictors are gender,age and occupation.\n",
    "    "
   ]
  },
  {
   "cell_type": "markdown",
   "metadata": {},
   "source": [
    "<p style=\"font-family: Arial; font-size:1.5em;color:#2462C0; font-style:bold\">    Question 4.2 </p>"
   ]
  },
  {
   "cell_type": "code",
   "execution_count": 72,
   "metadata": {},
   "outputs": [
    {
     "name": "stderr",
     "output_type": "stream",
     "text": [
      "Parsed with column specification:\n",
      "cols(\n",
      "  X1 = col_double(),\n",
      "  Sepal.Length = col_double(),\n",
      "  Sepal.Width = col_double(),\n",
      "  Petal.Length = col_double(),\n",
      "  Petal.Width = col_double(),\n",
      "  Species = col_character()\n",
      ")\n"
     ]
    }
   ],
   "source": [
    "#loading data\n",
    "iris<-read_table(\"iris.txt\",col_names=TRUE)"
   ]
  },
  {
   "cell_type": "code",
   "execution_count": 74,
   "metadata": {},
   "outputs": [
    {
     "data": {
      "text/html": [
       "<table>\n",
       "<thead><tr><th scope=col>X1</th><th scope=col>Sepal.Length</th><th scope=col>Sepal.Width</th><th scope=col>Petal.Length</th><th scope=col>Petal.Width</th><th scope=col>Species</th></tr></thead>\n",
       "<tbody>\n",
       "\t<tr><td>1     </td><td>5.1   </td><td>3.5   </td><td>1.4   </td><td>0.2   </td><td>setosa</td></tr>\n",
       "\t<tr><td>2     </td><td>4.9   </td><td>3.0   </td><td>1.4   </td><td>0.2   </td><td>setosa</td></tr>\n",
       "\t<tr><td>3     </td><td>4.7   </td><td>3.2   </td><td>1.3   </td><td>0.2   </td><td>setosa</td></tr>\n",
       "\t<tr><td>4     </td><td>4.6   </td><td>3.1   </td><td>1.5   </td><td>0.2   </td><td>setosa</td></tr>\n",
       "\t<tr><td>5     </td><td>5.0   </td><td>3.6   </td><td>1.4   </td><td>0.2   </td><td>setosa</td></tr>\n",
       "\t<tr><td>6     </td><td>5.4   </td><td>3.9   </td><td>1.7   </td><td>0.4   </td><td>setosa</td></tr>\n",
       "</tbody>\n",
       "</table>\n"
      ],
      "text/latex": [
       "\\begin{tabular}{r|llllll}\n",
       " X1 & Sepal.Length & Sepal.Width & Petal.Length & Petal.Width & Species\\\\\n",
       "\\hline\n",
       "\t 1      & 5.1    & 3.5    & 1.4    & 0.2    & setosa\\\\\n",
       "\t 2      & 4.9    & 3.0    & 1.4    & 0.2    & setosa\\\\\n",
       "\t 3      & 4.7    & 3.2    & 1.3    & 0.2    & setosa\\\\\n",
       "\t 4      & 4.6    & 3.1    & 1.5    & 0.2    & setosa\\\\\n",
       "\t 5      & 5.0    & 3.6    & 1.4    & 0.2    & setosa\\\\\n",
       "\t 6      & 5.4    & 3.9    & 1.7    & 0.4    & setosa\\\\\n",
       "\\end{tabular}\n"
      ],
      "text/markdown": [
       "\n",
       "| X1 | Sepal.Length | Sepal.Width | Petal.Length | Petal.Width | Species |\n",
       "|---|---|---|---|---|---|\n",
       "| 1      | 5.1    | 3.5    | 1.4    | 0.2    | setosa |\n",
       "| 2      | 4.9    | 3.0    | 1.4    | 0.2    | setosa |\n",
       "| 3      | 4.7    | 3.2    | 1.3    | 0.2    | setosa |\n",
       "| 4      | 4.6    | 3.1    | 1.5    | 0.2    | setosa |\n",
       "| 5      | 5.0    | 3.6    | 1.4    | 0.2    | setosa |\n",
       "| 6      | 5.4    | 3.9    | 1.7    | 0.4    | setosa |\n",
       "\n"
      ],
      "text/plain": [
       "  X1 Sepal.Length Sepal.Width Petal.Length Petal.Width Species\n",
       "1 1  5.1          3.5         1.4          0.2         setosa \n",
       "2 2  4.9          3.0         1.4          0.2         setosa \n",
       "3 3  4.7          3.2         1.3          0.2         setosa \n",
       "4 4  4.6          3.1         1.5          0.2         setosa \n",
       "5 5  5.0          3.6         1.4          0.2         setosa \n",
       "6 6  5.4          3.9         1.7          0.4         setosa "
      ]
     },
     "metadata": {},
     "output_type": "display_data"
    }
   ],
   "source": [
    "#exploring data\n",
    "head(iris)"
   ]
  },
  {
   "cell_type": "code",
   "execution_count": 75,
   "metadata": {},
   "outputs": [
    {
     "data": {
      "text/html": [
       "<ol class=list-inline>\n",
       "\t<li>'spec_tbl_df'</li>\n",
       "\t<li>'tbl_df'</li>\n",
       "\t<li>'tbl'</li>\n",
       "\t<li>'data.frame'</li>\n",
       "</ol>\n"
      ],
      "text/latex": [
       "\\begin{enumerate*}\n",
       "\\item 'spec\\_tbl\\_df'\n",
       "\\item 'tbl\\_df'\n",
       "\\item 'tbl'\n",
       "\\item 'data.frame'\n",
       "\\end{enumerate*}\n"
      ],
      "text/markdown": [
       "1. 'spec_tbl_df'\n",
       "2. 'tbl_df'\n",
       "3. 'tbl'\n",
       "4. 'data.frame'\n",
       "\n",
       "\n"
      ],
      "text/plain": [
       "[1] \"spec_tbl_df\" \"tbl_df\"      \"tbl\"         \"data.frame\" "
      ]
     },
     "metadata": {},
     "output_type": "display_data"
    }
   ],
   "source": [
    "class(iris)"
   ]
  },
  {
   "cell_type": "code",
   "execution_count": 76,
   "metadata": {},
   "outputs": [
    {
     "data": {
      "text/html": [
       "6"
      ],
      "text/latex": [
       "6"
      ],
      "text/markdown": [
       "6"
      ],
      "text/plain": [
       "[1] 6"
      ]
     },
     "metadata": {},
     "output_type": "display_data"
    }
   ],
   "source": [
    "ncol(iris)"
   ]
  },
  {
   "cell_type": "markdown",
   "metadata": {},
   "source": [
    "We don't need the first column so we will do a bit of data cleaning, droping the first column."
   ]
  },
  {
   "cell_type": "code",
   "execution_count": 77,
   "metadata": {},
   "outputs": [],
   "source": [
    "iris <-select(iris,-c(1))"
   ]
  },
  {
   "cell_type": "code",
   "execution_count": 78,
   "metadata": {},
   "outputs": [
    {
     "data": {
      "text/html": [
       "5"
      ],
      "text/latex": [
       "5"
      ],
      "text/markdown": [
       "5"
      ],
      "text/plain": [
       "[1] 5"
      ]
     },
     "metadata": {},
     "output_type": "display_data"
    }
   ],
   "source": [
    "ncol(iris)"
   ]
  },
  {
   "cell_type": "code",
   "execution_count": 79,
   "metadata": {},
   "outputs": [
    {
     "data": {
      "text/html": [
       "<table>\n",
       "<thead><tr><th scope=col>Sepal.Length</th><th scope=col>Sepal.Width</th><th scope=col>Petal.Length</th><th scope=col>Petal.Width</th><th scope=col>Species</th></tr></thead>\n",
       "<tbody>\n",
       "\t<tr><td>5.1   </td><td>3.5   </td><td>1.4   </td><td>0.2   </td><td>setosa</td></tr>\n",
       "\t<tr><td>4.9   </td><td>3.0   </td><td>1.4   </td><td>0.2   </td><td>setosa</td></tr>\n",
       "\t<tr><td>4.7   </td><td>3.2   </td><td>1.3   </td><td>0.2   </td><td>setosa</td></tr>\n",
       "\t<tr><td>4.6   </td><td>3.1   </td><td>1.5   </td><td>0.2   </td><td>setosa</td></tr>\n",
       "\t<tr><td>5.0   </td><td>3.6   </td><td>1.4   </td><td>0.2   </td><td>setosa</td></tr>\n",
       "\t<tr><td>5.4   </td><td>3.9   </td><td>1.7   </td><td>0.4   </td><td>setosa</td></tr>\n",
       "</tbody>\n",
       "</table>\n"
      ],
      "text/latex": [
       "\\begin{tabular}{r|lllll}\n",
       " Sepal.Length & Sepal.Width & Petal.Length & Petal.Width & Species\\\\\n",
       "\\hline\n",
       "\t 5.1    & 3.5    & 1.4    & 0.2    & setosa\\\\\n",
       "\t 4.9    & 3.0    & 1.4    & 0.2    & setosa\\\\\n",
       "\t 4.7    & 3.2    & 1.3    & 0.2    & setosa\\\\\n",
       "\t 4.6    & 3.1    & 1.5    & 0.2    & setosa\\\\\n",
       "\t 5.0    & 3.6    & 1.4    & 0.2    & setosa\\\\\n",
       "\t 5.4    & 3.9    & 1.7    & 0.4    & setosa\\\\\n",
       "\\end{tabular}\n"
      ],
      "text/markdown": [
       "\n",
       "| Sepal.Length | Sepal.Width | Petal.Length | Petal.Width | Species |\n",
       "|---|---|---|---|---|\n",
       "| 5.1    | 3.5    | 1.4    | 0.2    | setosa |\n",
       "| 4.9    | 3.0    | 1.4    | 0.2    | setosa |\n",
       "| 4.7    | 3.2    | 1.3    | 0.2    | setosa |\n",
       "| 4.6    | 3.1    | 1.5    | 0.2    | setosa |\n",
       "| 5.0    | 3.6    | 1.4    | 0.2    | setosa |\n",
       "| 5.4    | 3.9    | 1.7    | 0.4    | setosa |\n",
       "\n"
      ],
      "text/plain": [
       "  Sepal.Length Sepal.Width Petal.Length Petal.Width Species\n",
       "1 5.1          3.5         1.4          0.2         setosa \n",
       "2 4.9          3.0         1.4          0.2         setosa \n",
       "3 4.7          3.2         1.3          0.2         setosa \n",
       "4 4.6          3.1         1.5          0.2         setosa \n",
       "5 5.0          3.6         1.4          0.2         setosa \n",
       "6 5.4          3.9         1.7          0.4         setosa "
      ]
     },
     "metadata": {},
     "output_type": "display_data"
    }
   ],
   "source": [
    "#making sure data is cleaned\n",
    "head(iris)"
   ]
  },
  {
   "cell_type": "code",
   "execution_count": 80,
   "metadata": {},
   "outputs": [],
   "source": [
    "library(ggplot2)\n"
   ]
  },
  {
   "cell_type": "markdown",
   "metadata": {},
   "source": [
    "The elbow method is a heuristic method of interpretation and validation of consistency within cluster analysis designed to help find the appropriate number of clusters in a dataset."
   ]
  },
  {
   "cell_type": "code",
   "execution_count": 82,
   "metadata": {},
   "outputs": [
    {
     "data": {
      "image/png": "[encoded data removed]",
      "text/plain": [
       "plot without title"
      ]
     },
     "metadata": {},
     "output_type": "display_data"
    }
   ],
   "source": [
    "set.seed(1)\n",
    "\n",
    "# function to compute total within-cluster sum of square \n",
    "wss <- function(k) {\n",
    "  kmeans(iris[,1:4], k, nstart = 10 )$tot.withinss\n",
    "}\n",
    "\n",
    "# trying k = 1 to 15 to find the best number of clusters\n",
    "k_values <- 1:15 \n",
    "\n",
    "# Applying function wss to each k value\n",
    "wss_values <- map_dbl(k_values, wss)\n",
    "\n",
    "#visualizing wss versus number of clusters\n",
    "options(repr.plot.width=5, repr.plot.height=5)\n",
    "plot(k_values, wss_values,\n",
    "       type=\"b\", pch = 19, frame = FALSE, \n",
    "       xlab=\"Number of clusters K\",\n",
    "       ylab=\"Total within-clusters sum of squares\")"
   ]
  },
  {
   "cell_type": "markdown",
   "metadata": {},
   "source": [
    "Looking at the plot above, the elbow value suggest value of 3 is a good number of cluster to select."
   ]
  },
  {
   "cell_type": "code",
   "execution_count": 35,
   "metadata": {},
   "outputs": [
    {
     "name": "stderr",
     "output_type": "stream",
     "text": [
      "Welcome! Want to learn more? See two factoextra-related books at https://goo.gl/ve3WBa\n"
     ]
    }
   ],
   "source": [
    "library(factoextra)"
   ]
  },
  {
   "cell_type": "code",
   "execution_count": 45,
   "metadata": {},
   "outputs": [
    {
     "data": {
      "image/png": "[encoded data removed]",
      "text/plain": [
       "plot without title"
      ]
     },
     "metadata": {},
     "output_type": "display_data"
    }
   ],
   "source": [
    "set.seed(123)\n",
    "\n",
    "iris_scaled <- scale(iris[, -5])\n",
    "\n",
    "# K-means clustering\n",
    "kmeans_model <- kmeans(iris_scaled, 3, nstart = 10)\n",
    "\n",
    "# Visualize kmeans clustering\n",
    "\n",
    "fviz_cluster(kmeans_model, iris[, -5])"
   ]
  },
  {
   "cell_type": "markdown",
   "metadata": {},
   "source": [
    "We happen to know the label for each cluster in this case. However, in real-life further analysis is needed to find the appropriate label for clusters."
   ]
  },
  {
   "cell_type": "code",
   "execution_count": null,
   "metadata": {},
   "outputs": [],
   "source": []
  }
 ],
 "metadata": {
  "kernelspec": {
   "display_name": "R",
   "language": "R",
   "name": "ir"
  },
  "language_info": {
   "codemirror_mode": "r",
   "file_extension": ".r",
   "mimetype": "text/x-r-source",
   "name": "R",
   "pygments_lexer": "r",
   "version": "3.6.1"
  }
 },
 "nbformat": 4,
 "nbformat_minor": 2
}
