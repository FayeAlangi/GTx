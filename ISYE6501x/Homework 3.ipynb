{
 "cells": [
  {
   "cell_type": "markdown",
   "metadata": {},
   "source": [
    "## ISYE6501x Homework 3"
   ]
  },
  {
   "cell_type": "markdown",
   "metadata": {},
   "source": [
    "### Installing Packages and Loading Libraries"
   ]
  },
  {
   "cell_type": "code",
   "execution_count": 1,
   "metadata": {},
   "outputs": [],
   "source": [
    "options(warn=-1) #suppressing warnings"
   ]
  },
  {
   "cell_type": "code",
   "execution_count": 2,
   "metadata": {},
   "outputs": [
    {
     "name": "stderr",
     "output_type": "stream",
     "text": [
      "Installing package into 'C:/Users/fayal/R/win-library/3.6'\n",
      "(as 'lib' is unspecified)\n"
     ]
    },
    {
     "name": "stdout",
     "output_type": "stream",
     "text": [
      "package 'outliers' successfully unpacked and MD5 sums checked\n",
      "\n",
      "The downloaded binary packages are in\n",
      "\tC:\\Users\\fayal\\AppData\\Local\\Temp\\RtmpuWldb2\\downloaded_packages\n"
     ]
    }
   ],
   "source": [
    "install.packages(\"outliers\")"
   ]
  },
  {
   "cell_type": "code",
   "execution_count": 3,
   "metadata": {},
   "outputs": [
    {
     "name": "stderr",
     "output_type": "stream",
     "text": [
      "Installing package into 'C:/Users/fayal/R/win-library/3.6'\n",
      "(as 'lib' is unspecified)\n"
     ]
    },
    {
     "name": "stdout",
     "output_type": "stream",
     "text": [
      "package 'lubridate' successfully unpacked and MD5 sums checked\n",
      "\n",
      "The downloaded binary packages are in\n",
      "\tC:\\Users\\fayal\\AppData\\Local\\Temp\\RtmpuWldb2\\downloaded_packages\n"
     ]
    }
   ],
   "source": [
    "install.packages(\"lubridate\")"
   ]
  },
  {
   "cell_type": "code",
   "execution_count": 4,
   "metadata": {},
   "outputs": [],
   "source": [
    "library(outliers)"
   ]
  },
  {
   "cell_type": "code",
   "execution_count": 5,
   "metadata": {},
   "outputs": [],
   "source": [
    "library(ggplot2)"
   ]
  },
  {
   "cell_type": "code",
   "execution_count": 6,
   "metadata": {},
   "outputs": [
    {
     "name": "stderr",
     "output_type": "stream",
     "text": [
      "-- Attaching packages --------------------------------------- tidyverse 1.3.0 --\n",
      "v tibble  2.1.3     v dplyr   0.8.3\n",
      "v tidyr   1.0.0     v stringr 1.4.0\n",
      "v readr   1.3.1     v forcats 0.4.0\n",
      "v purrr   0.3.3     \n",
      "-- Conflicts ------------------------------------------ tidyverse_conflicts() --\n",
      "x dplyr::filter() masks stats::filter()\n",
      "x dplyr::lag()    masks stats::lag()\n"
     ]
    }
   ],
   "source": [
    "library(tidyverse)"
   ]
  },
  {
   "cell_type": "code",
   "execution_count": 11,
   "metadata": {},
   "outputs": [],
   "source": [
    "library(repr)"
   ]
  },
  {
   "cell_type": "code",
   "execution_count": 28,
   "metadata": {},
   "outputs": [
    {
     "name": "stderr",
     "output_type": "stream",
     "text": [
      "\n",
      "Attaching package: 'reshape'\n",
      "\n",
      "The following object is masked from 'package:dplyr':\n",
      "\n",
      "    rename\n",
      "\n",
      "The following objects are masked from 'package:tidyr':\n",
      "\n",
      "    expand, smiths\n",
      "\n"
     ]
    }
   ],
   "source": [
    "library(reshape)"
   ]
  },
  {
   "cell_type": "code",
   "execution_count": 72,
   "metadata": {},
   "outputs": [],
   "source": [
    "library(tidyr)"
   ]
  },
  {
   "cell_type": "markdown",
   "metadata": {},
   "source": [
    "### Question 5.1\n",
    "Using crime data , test to see whether there are any outliers in the last column (number of crimes per 100,000 people). Use the grubbs.test function in the outliers package in R."
   ]
  },
  {
   "cell_type": "code",
   "execution_count": 15,
   "metadata": {},
   "outputs": [
    {
     "name": "stderr",
     "output_type": "stream",
     "text": [
      "Parsed with column specification:\n",
      "cols(\n",
      "  M = col_double(),\n",
      "  So = col_double(),\n",
      "  Ed = col_double(),\n",
      "  Po1 = col_double(),\n",
      "  Po2 = col_double(),\n",
      "  LF = col_double(),\n",
      "  M.F = col_double(),\n",
      "  Pop = col_double(),\n",
      "  NW = col_double(),\n",
      "  U1 = col_double(),\n",
      "  U2 = col_double(),\n",
      "  Wealth = col_double(),\n",
      "  Ineq = col_double(),\n",
      "  Prob = col_double(),\n",
      "  Time = col_double(),\n",
      "  Crime = col_double()\n",
      ")\n"
     ]
    }
   ],
   "source": [
    "#Loading data as a data frame\n",
    "crime<-read_tsv(\"uscrime.txt\")"
   ]
  },
  {
   "cell_type": "code",
   "execution_count": 19,
   "metadata": {},
   "outputs": [
    {
     "data": {
      "text/html": [
       "<table>\n",
       "<thead><tr><th scope=col>M</th><th scope=col>So</th><th scope=col>Ed</th><th scope=col>Po1</th><th scope=col>Po2</th><th scope=col>LF</th><th scope=col>M.F</th><th scope=col>Pop</th><th scope=col>NW</th><th scope=col>U1</th><th scope=col>U2</th><th scope=col>Wealth</th><th scope=col>Ineq</th><th scope=col>Prob</th><th scope=col>Time</th><th scope=col>Crime</th></tr></thead>\n",
       "<tbody>\n",
       "\t<tr><td>15.1    </td><td>1       </td><td> 9.1    </td><td> 5.8    </td><td> 5.6    </td><td>0.510   </td><td> 95.0   </td><td> 33     </td><td>30.1    </td><td>0.108   </td><td>4.1     </td><td>3940    </td><td>26.1    </td><td>0.084602</td><td>26.2011 </td><td> 791    </td></tr>\n",
       "\t<tr><td>14.3    </td><td>0       </td><td>11.3    </td><td>10.3    </td><td> 9.5    </td><td>0.583   </td><td>101.2   </td><td> 13     </td><td>10.2    </td><td>0.096   </td><td>3.6     </td><td>5570    </td><td>19.4    </td><td>0.029599</td><td>25.2999 </td><td>1635    </td></tr>\n",
       "\t<tr><td>14.2    </td><td>1       </td><td> 8.9    </td><td> 4.5    </td><td> 4.4    </td><td>0.533   </td><td> 96.9   </td><td> 18     </td><td>21.9    </td><td>0.094   </td><td>3.3     </td><td>3180    </td><td>25.0    </td><td>0.083401</td><td>24.3006 </td><td> 578    </td></tr>\n",
       "\t<tr><td>13.6    </td><td>0       </td><td>12.1    </td><td>14.9    </td><td>14.1    </td><td>0.577   </td><td> 99.4   </td><td>157     </td><td> 8.0    </td><td>0.102   </td><td>3.9     </td><td>6730    </td><td>16.7    </td><td>0.015801</td><td>29.9012 </td><td>1969    </td></tr>\n",
       "\t<tr><td>14.1    </td><td>0       </td><td>12.1    </td><td>10.9    </td><td>10.1    </td><td>0.591   </td><td> 98.5   </td><td> 18     </td><td> 3.0    </td><td>0.091   </td><td>2.0     </td><td>5780    </td><td>17.4    </td><td>0.041399</td><td>21.2998 </td><td>1234    </td></tr>\n",
       "\t<tr><td>12.1    </td><td>0       </td><td>11.0    </td><td>11.8    </td><td>11.5    </td><td>0.547   </td><td> 96.4   </td><td> 25     </td><td> 4.4    </td><td>0.084   </td><td>2.9     </td><td>6890    </td><td>12.6    </td><td>0.034201</td><td>20.9995 </td><td> 682    </td></tr>\n",
       "</tbody>\n",
       "</table>\n"
      ],
      "text/latex": [
       "\\begin{tabular}{r|llllllllllllllll}\n",
       " M & So & Ed & Po1 & Po2 & LF & M.F & Pop & NW & U1 & U2 & Wealth & Ineq & Prob & Time & Crime\\\\\n",
       "\\hline\n",
       "\t 15.1     & 1        &  9.1     &  5.8     &  5.6     & 0.510    &  95.0    &  33      & 30.1     & 0.108    & 4.1      & 3940     & 26.1     & 0.084602 & 26.2011  &  791    \\\\\n",
       "\t 14.3     & 0        & 11.3     & 10.3     &  9.5     & 0.583    & 101.2    &  13      & 10.2     & 0.096    & 3.6      & 5570     & 19.4     & 0.029599 & 25.2999  & 1635    \\\\\n",
       "\t 14.2     & 1        &  8.9     &  4.5     &  4.4     & 0.533    &  96.9    &  18      & 21.9     & 0.094    & 3.3      & 3180     & 25.0     & 0.083401 & 24.3006  &  578    \\\\\n",
       "\t 13.6     & 0        & 12.1     & 14.9     & 14.1     & 0.577    &  99.4    & 157      &  8.0     & 0.102    & 3.9      & 6730     & 16.7     & 0.015801 & 29.9012  & 1969    \\\\\n",
       "\t 14.1     & 0        & 12.1     & 10.9     & 10.1     & 0.591    &  98.5    &  18      &  3.0     & 0.091    & 2.0      & 5780     & 17.4     & 0.041399 & 21.2998  & 1234    \\\\\n",
       "\t 12.1     & 0        & 11.0     & 11.8     & 11.5     & 0.547    &  96.4    &  25      &  4.4     & 0.084    & 2.9      & 6890     & 12.6     & 0.034201 & 20.9995  &  682    \\\\\n",
       "\\end{tabular}\n"
      ],
      "text/markdown": [
       "\n",
       "| M | So | Ed | Po1 | Po2 | LF | M.F | Pop | NW | U1 | U2 | Wealth | Ineq | Prob | Time | Crime |\n",
       "|---|---|---|---|---|---|---|---|---|---|---|---|---|---|---|---|\n",
       "| 15.1     | 1        |  9.1     |  5.8     |  5.6     | 0.510    |  95.0    |  33      | 30.1     | 0.108    | 4.1      | 3940     | 26.1     | 0.084602 | 26.2011  |  791     |\n",
       "| 14.3     | 0        | 11.3     | 10.3     |  9.5     | 0.583    | 101.2    |  13      | 10.2     | 0.096    | 3.6      | 5570     | 19.4     | 0.029599 | 25.2999  | 1635     |\n",
       "| 14.2     | 1        |  8.9     |  4.5     |  4.4     | 0.533    |  96.9    |  18      | 21.9     | 0.094    | 3.3      | 3180     | 25.0     | 0.083401 | 24.3006  |  578     |\n",
       "| 13.6     | 0        | 12.1     | 14.9     | 14.1     | 0.577    |  99.4    | 157      |  8.0     | 0.102    | 3.9      | 6730     | 16.7     | 0.015801 | 29.9012  | 1969     |\n",
       "| 14.1     | 0        | 12.1     | 10.9     | 10.1     | 0.591    |  98.5    |  18      |  3.0     | 0.091    | 2.0      | 5780     | 17.4     | 0.041399 | 21.2998  | 1234     |\n",
       "| 12.1     | 0        | 11.0     | 11.8     | 11.5     | 0.547    |  96.4    |  25      |  4.4     | 0.084    | 2.9      | 6890     | 12.6     | 0.034201 | 20.9995  |  682     |\n",
       "\n"
      ],
      "text/plain": [
       "  M    So Ed   Po1  Po2  LF    M.F   Pop NW   U1    U2  Wealth Ineq Prob    \n",
       "1 15.1 1   9.1  5.8  5.6 0.510  95.0  33 30.1 0.108 4.1 3940   26.1 0.084602\n",
       "2 14.3 0  11.3 10.3  9.5 0.583 101.2  13 10.2 0.096 3.6 5570   19.4 0.029599\n",
       "3 14.2 1   8.9  4.5  4.4 0.533  96.9  18 21.9 0.094 3.3 3180   25.0 0.083401\n",
       "4 13.6 0  12.1 14.9 14.1 0.577  99.4 157  8.0 0.102 3.9 6730   16.7 0.015801\n",
       "5 14.1 0  12.1 10.9 10.1 0.591  98.5  18  3.0 0.091 2.0 5780   17.4 0.041399\n",
       "6 12.1 0  11.0 11.8 11.5 0.547  96.4  25  4.4 0.084 2.9 6890   12.6 0.034201\n",
       "  Time    Crime\n",
       "1 26.2011  791 \n",
       "2 25.2999 1635 \n",
       "3 24.3006  578 \n",
       "4 29.9012 1969 \n",
       "5 21.2998 1234 \n",
       "6 20.9995  682 "
      ]
     },
     "metadata": {},
     "output_type": "display_data"
    }
   ],
   "source": [
    "#Exploring the data\n",
    "head(crime)"
   ]
  },
  {
   "cell_type": "code",
   "execution_count": 20,
   "metadata": {},
   "outputs": [
    {
     "data": {
      "text/html": [
       "<ol class=list-inline>\n",
       "\t<li>47</li>\n",
       "\t<li>16</li>\n",
       "</ol>\n"
      ],
      "text/latex": [
       "\\begin{enumerate*}\n",
       "\\item 47\n",
       "\\item 16\n",
       "\\end{enumerate*}\n"
      ],
      "text/markdown": [
       "1. 47\n",
       "2. 16\n",
       "\n",
       "\n"
      ],
      "text/plain": [
       "[1] 47 16"
      ]
     },
     "metadata": {},
     "output_type": "display_data"
    }
   ],
   "source": [
    "dim(crime)"
   ]
  },
  {
   "cell_type": "markdown",
   "metadata": {},
   "source": [
    "    Variable\t \tDescription\n",
    "    M\t\tpercentage of males aged 14–24 in total state population\n",
    "    So\t\tindicator variable for a southern state\n",
    "    Ed\t\tmean years of schooling of the population aged 25 years or over\n",
    "    Po1\t\tper capita expenditure on police protection in 1960\n",
    "    Po2\t\tper capita expenditure on police protection in 1959\n",
    "    LF\t\tlabour force participation rate of civilian urban males in the age-group 14-24\n",
    "    M.F\t\tnumber of males per 100 females\n",
    "    Pop\t\tstate population in 1960 in hundred thousands\n",
    "    NW\t\tpercentage of nonwhites in the population\n",
    "    U1\t\tunemployment rate of urban males 14–24\n",
    "    U2\t\tunemployment rate of urban males 35–39\n",
    "    Wealth\twealth: median value of transferable assets or family income\n",
    "    Ineq\tincome inequality: percentage of families earning below half the median income\n",
    "    Prob\tprobability of imprisonment: ratio of number of commitments to number of offenses\n",
    "    Time\taverage time in months served by offenders in state prisons before their first release\n",
    "    Crime\tcrime rate: number of offenses per 100,000 population in 1960"
   ]
  },
  {
   "cell_type": "code",
   "execution_count": 21,
   "metadata": {},
   "outputs": [
    {
     "data": {
      "text/plain": [
       "   Min. 1st Qu.  Median    Mean 3rd Qu.    Max. \n",
       "  342.0   658.5   831.0   905.1  1057.5  1993.0 "
      ]
     },
     "metadata": {},
     "output_type": "display_data"
    }
   ],
   "source": [
    "#Summary of crime rate\n",
    "summary(crime$Crime)"
   ]
  },
  {
   "cell_type": "markdown",
   "metadata": {},
   "source": [
    "We can use visualization to see if there is any outliers in crime rate data:"
   ]
  },
  {
   "cell_type": "code",
   "execution_count": 23,
   "metadata": {},
   "outputs": [
    {
     "data": {
      "image/png": "[encoded data removed]",
      "text/plain": [
       "plot without title"
      ]
     },
     "metadata": {},
     "output_type": "display_data"
    }
   ],
   "source": [
    "options(repr.plot.width=3, repr.plot.height=5)\n",
    "\n",
    "ggplot(crime, aes(x=\"\",y=Crime))+\n",
    "geom_boxplot(width=0.25,outlier.color=\"red\",outlier.shape = 1, color = \"tomato\")+\n",
    "labs(title=\"Number of offenses per 100,000 population in 1960\")+\n",
    "theme(plot.title = element_text(hjust=0.5,lineheight=.8,size=10))"
   ]
  },
  {
   "cell_type": "markdown",
   "metadata": {},
   "source": [
    "The above boxplot shows three points which are \"too far away\" from the range in which we expect them. \n",
    "Although, the plot shows these points as outliers, they are real data and valid observations.\n",
    "\n",
    "We can also use Grubb's test.This test is defined for the hypothesis:\n",
    "    H0 : There are no outliers in the data set\n",
    "    Ha : The maximum and minimum values are outliers in the data set."
   ]
  },
  {
   "cell_type": "code",
   "execution_count": 73,
   "metadata": {},
   "outputs": [
    {
     "data": {
      "text/plain": [
       "\n",
       "\tGrubbs test for two opposite outliers\n",
       "\n",
       "data:  crime$Crime\n",
       "G = 4.26877, U = 0.78103, p-value < 2.2e-16\n",
       "alternative hypothesis: 342 and 1993 are outliers\n"
      ]
     },
     "metadata": {},
     "output_type": "display_data"
    }
   ],
   "source": [
    "grubbs.test(crime$Crime,type=11,two.sided = TRUE) #type 11 is a test for two outliers on opposite tails"
   ]
  },
  {
   "cell_type": "markdown",
   "metadata": {},
   "source": [
    "Using Grubb's test, a p-value bigger than 0.05 inidcated there is no evidence against a null hypothesis(The smaller the p-value, the stronger the evidence that you should reject the null hypothesis). So we reject alternate hypothesis and keep the null hypothesis that the maximum and minimum values are not outliers."
   ]
  },
  {
   "cell_type": "markdown",
   "metadata": {},
   "source": [
    "### Question 6.1\n",
    "Describe a situation or problem from your job, everyday life, current events, etc., for which a Change Detection model would be appropriate. Applying the CUSUM technique, how would you choose the\n",
    "critical value and the threshold?\n",
    "\n",
    "**Answer:**\n",
    "\n",
    "We can use CUSUM method for evaluating energy consumption in power grid.CUSUM control chart can be utilized to monitor energy usage data so that abnormal changes can be detected in a timely manner. \n",
    "\n",
    "Upon detecting the change, other techniques can be used to detect the cause of abnormal energy consumption such as performance degradation, poor maintenance or improper operation of systems."
   ]
  },
  {
   "cell_type": "markdown",
   "metadata": {},
   "source": [
    "### Question 6.2"
   ]
  },
  {
   "cell_type": "markdown",
   "metadata": {},
   "source": [
    "**Part 1**:\n",
    "\n",
    "Using July through October daily-high-temperature data for Atlanta for 1996 through 2015, use\n",
    "a CUSUM approach to identify when unofficial summer ends (i.e., when the weather starts\n",
    "cooling off) each year."
   ]
  },
  {
   "cell_type": "code",
   "execution_count": 34,
   "metadata": {},
   "outputs": [
    {
     "name": "stderr",
     "output_type": "stream",
     "text": [
      "Parsed with column specification:\n",
      "cols(\n",
      "  .default = col_double(),\n",
      "  DAY = col_character()\n",
      ")\n",
      "See spec(...) for full column specifications.\n"
     ]
    }
   ],
   "source": [
    "#Loading the data\n",
    "temps=read_tsv(\"temps.txt\")"
   ]
  },
  {
   "cell_type": "code",
   "execution_count": 32,
   "metadata": {},
   "outputs": [
    {
     "data": {
      "text/html": [
       "0"
      ],
      "text/latex": [
       "0"
      ],
      "text/markdown": [
       "0"
      ],
      "text/plain": [
       "[1] 0"
      ]
     },
     "metadata": {},
     "output_type": "display_data"
    }
   ],
   "source": [
    "#checking for NA/missing values in data frame\n",
    "sum(is.na(temps))"
   ]
  },
  {
   "cell_type": "code",
   "execution_count": 33,
   "metadata": {},
   "outputs": [
    {
     "data": {
      "text/html": [
       "<table>\n",
       "<thead><tr><th scope=col>DAY</th><th scope=col>1996</th><th scope=col>1997</th><th scope=col>1998</th><th scope=col>1999</th><th scope=col>2000</th><th scope=col>2001</th><th scope=col>2002</th><th scope=col>2003</th><th scope=col>2004</th><th scope=col>...</th><th scope=col>2006</th><th scope=col>2007</th><th scope=col>2008</th><th scope=col>2009</th><th scope=col>2010</th><th scope=col>2011</th><th scope=col>2012</th><th scope=col>2013</th><th scope=col>2014</th><th scope=col>2015</th></tr></thead>\n",
       "<tbody>\n",
       "\t<tr><td>26-Oct</td><td>75    </td><td>71    </td><td>79    </td><td>69    </td><td>75    </td><td>64    </td><td>68    </td><td>68    </td><td>79    </td><td>...   </td><td>62    </td><td>68    </td><td>70    </td><td>65    </td><td>85    </td><td>77    </td><td>80    </td><td>61    </td><td>84    </td><td>67    </td></tr>\n",
       "\t<tr><td>27-Oct</td><td>75    </td><td>57    </td><td>79    </td><td>75    </td><td>78    </td><td>51    </td><td>69    </td><td>64    </td><td>81    </td><td>...   </td><td>66    </td><td>67    </td><td>59    </td><td>60    </td><td>76    </td><td>79    </td><td>70    </td><td>69    </td><td>84    </td><td>56    </td></tr>\n",
       "\t<tr><td>28-Oct</td><td>81    </td><td>55    </td><td>79    </td><td>73    </td><td>80    </td><td>55    </td><td>75    </td><td>57    </td><td>78    </td><td>...   </td><td>63    </td><td>70    </td><td>50    </td><td>71    </td><td>74    </td><td>74    </td><td>56    </td><td>64    </td><td>77    </td><td>78    </td></tr>\n",
       "</tbody>\n",
       "</table>\n"
      ],
      "text/latex": [
       "\\begin{tabular}{r|lllllllllllllllllllll}\n",
       " DAY & 1996 & 1997 & 1998 & 1999 & 2000 & 2001 & 2002 & 2003 & 2004 & ... & 2006 & 2007 & 2008 & 2009 & 2010 & 2011 & 2012 & 2013 & 2014 & 2015\\\\\n",
       "\\hline\n",
       "\t 26-Oct & 75     & 71     & 79     & 69     & 75     & 64     & 68     & 68     & 79     & ...    & 62     & 68     & 70     & 65     & 85     & 77     & 80     & 61     & 84     & 67    \\\\\n",
       "\t 27-Oct & 75     & 57     & 79     & 75     & 78     & 51     & 69     & 64     & 81     & ...    & 66     & 67     & 59     & 60     & 76     & 79     & 70     & 69     & 84     & 56    \\\\\n",
       "\t 28-Oct & 81     & 55     & 79     & 73     & 80     & 55     & 75     & 57     & 78     & ...    & 63     & 70     & 50     & 71     & 74     & 74     & 56     & 64     & 77     & 78    \\\\\n",
       "\\end{tabular}\n"
      ],
      "text/markdown": [
       "\n",
       "| DAY | 1996 | 1997 | 1998 | 1999 | 2000 | 2001 | 2002 | 2003 | 2004 | ... | 2006 | 2007 | 2008 | 2009 | 2010 | 2011 | 2012 | 2013 | 2014 | 2015 |\n",
       "|---|---|---|---|---|---|---|---|---|---|---|---|---|---|---|---|---|---|---|---|---|\n",
       "| 26-Oct | 75     | 71     | 79     | 69     | 75     | 64     | 68     | 68     | 79     | ...    | 62     | 68     | 70     | 65     | 85     | 77     | 80     | 61     | 84     | 67     |\n",
       "| 27-Oct | 75     | 57     | 79     | 75     | 78     | 51     | 69     | 64     | 81     | ...    | 66     | 67     | 59     | 60     | 76     | 79     | 70     | 69     | 84     | 56     |\n",
       "| 28-Oct | 81     | 55     | 79     | 73     | 80     | 55     | 75     | 57     | 78     | ...    | 63     | 70     | 50     | 71     | 74     | 74     | 56     | 64     | 77     | 78     |\n",
       "\n"
      ],
      "text/plain": [
       "  DAY    1996 1997 1998 1999 2000 2001 2002 2003 2004 ... 2006 2007 2008 2009\n",
       "1 26-Oct 75   71   79   69   75   64   68   68   79   ... 62   68   70   65  \n",
       "2 27-Oct 75   57   79   75   78   51   69   64   81   ... 66   67   59   60  \n",
       "3 28-Oct 81   55   79   73   80   55   75   57   78   ... 63   70   50   71  \n",
       "  2010 2011 2012 2013 2014 2015\n",
       "1 85   77   80   61   84   67  \n",
       "2 76   79   70   69   84   56  \n",
       "3 74   74   56   64   77   78  "
      ]
     },
     "metadata": {},
     "output_type": "display_data"
    }
   ],
   "source": [
    "#Exploring the data\n",
    "tail(temps)[1:3,]"
   ]
  },
  {
   "cell_type": "markdown",
   "metadata": {},
   "source": [
    "We can look at the changes using two approaches:\n",
    "\n",
    "#### First approach:\n",
    "we will look at average of temperature of each day taken from 1996 to 2015.\n",
    "The goal is to observe, in average,  when the weather starts cooling down. \n",
    "Since the data includes 2 months of Summer and 1st month of Fall, the change indicates change of the season. "
   ]
  },
  {
   "cell_type": "code",
   "execution_count": 35,
   "metadata": {},
   "outputs": [],
   "source": [
    "#adding a column to data frame, with average value for each day\n",
    "temps<-cbind(temps,rowMeans(temps[,-1]))"
   ]
  },
  {
   "cell_type": "code",
   "execution_count": 36,
   "metadata": {},
   "outputs": [],
   "source": [
    "#renaming the column to Average\n",
    "colnames(temps)[ncol(temps)] <- \"Average\""
   ]
  },
  {
   "cell_type": "code",
   "execution_count": 38,
   "metadata": {},
   "outputs": [
    {
     "data": {
      "text/html": [
       "<table>\n",
       "<thead><tr><th scope=col>DAY</th><th scope=col>1996</th><th scope=col>1997</th><th scope=col>1998</th><th scope=col>1999</th><th scope=col>2000</th><th scope=col>2001</th><th scope=col>2002</th><th scope=col>2003</th><th scope=col>2004</th><th scope=col>...</th><th scope=col>2007</th><th scope=col>2008</th><th scope=col>2009</th><th scope=col>2010</th><th scope=col>2011</th><th scope=col>2012</th><th scope=col>2013</th><th scope=col>2014</th><th scope=col>2015</th><th scope=col>Average</th></tr></thead>\n",
       "<tbody>\n",
       "\t<tr><td>1-Jul</td><td>98   </td><td>86   </td><td>91   </td><td>84   </td><td>89   </td><td>84   </td><td>90   </td><td>73   </td><td>82   </td><td>...  </td><td>95   </td><td>85   </td><td>95   </td><td>87   </td><td>92   </td><td>105  </td><td>82   </td><td>90   </td><td>85   </td><td>88.85</td></tr>\n",
       "\t<tr><td>2-Jul</td><td>97   </td><td>90   </td><td>88   </td><td>82   </td><td>91   </td><td>87   </td><td>90   </td><td>81   </td><td>81   </td><td>...  </td><td>85   </td><td>87   </td><td>90   </td><td>84   </td><td>94   </td><td> 93  </td><td>85   </td><td>93   </td><td>87   </td><td>88.35</td></tr>\n",
       "\t<tr><td>3-Jul</td><td>97   </td><td>93   </td><td>91   </td><td>87   </td><td>93   </td><td>87   </td><td>87   </td><td>87   </td><td>86   </td><td>...  </td><td>82   </td><td>91   </td><td>89   </td><td>83   </td><td>95   </td><td> 99  </td><td>76   </td><td>87   </td><td>79   </td><td>88.40</td></tr>\n",
       "</tbody>\n",
       "</table>\n"
      ],
      "text/latex": [
       "\\begin{tabular}{r|llllllllllllllllllllll}\n",
       " DAY & 1996 & 1997 & 1998 & 1999 & 2000 & 2001 & 2002 & 2003 & 2004 & ... & 2007 & 2008 & 2009 & 2010 & 2011 & 2012 & 2013 & 2014 & 2015 & Average\\\\\n",
       "\\hline\n",
       "\t 1-Jul & 98    & 86    & 91    & 84    & 89    & 84    & 90    & 73    & 82    & ...   & 95    & 85    & 95    & 87    & 92    & 105   & 82    & 90    & 85    & 88.85\\\\\n",
       "\t 2-Jul & 97    & 90    & 88    & 82    & 91    & 87    & 90    & 81    & 81    & ...   & 85    & 87    & 90    & 84    & 94    &  93   & 85    & 93    & 87    & 88.35\\\\\n",
       "\t 3-Jul & 97    & 93    & 91    & 87    & 93    & 87    & 87    & 87    & 86    & ...   & 82    & 91    & 89    & 83    & 95    &  99   & 76    & 87    & 79    & 88.40\\\\\n",
       "\\end{tabular}\n"
      ],
      "text/markdown": [
       "\n",
       "| DAY | 1996 | 1997 | 1998 | 1999 | 2000 | 2001 | 2002 | 2003 | 2004 | ... | 2007 | 2008 | 2009 | 2010 | 2011 | 2012 | 2013 | 2014 | 2015 | Average |\n",
       "|---|---|---|---|---|---|---|---|---|---|---|---|---|---|---|---|---|---|---|---|---|\n",
       "| 1-Jul | 98    | 86    | 91    | 84    | 89    | 84    | 90    | 73    | 82    | ...   | 95    | 85    | 95    | 87    | 92    | 105   | 82    | 90    | 85    | 88.85 |\n",
       "| 2-Jul | 97    | 90    | 88    | 82    | 91    | 87    | 90    | 81    | 81    | ...   | 85    | 87    | 90    | 84    | 94    |  93   | 85    | 93    | 87    | 88.35 |\n",
       "| 3-Jul | 97    | 93    | 91    | 87    | 93    | 87    | 87    | 87    | 86    | ...   | 82    | 91    | 89    | 83    | 95    |  99   | 76    | 87    | 79    | 88.40 |\n",
       "\n"
      ],
      "text/plain": [
       "  DAY   1996 1997 1998 1999 2000 2001 2002 2003 2004 ... 2007 2008 2009 2010\n",
       "1 1-Jul 98   86   91   84   89   84   90   73   82   ... 95   85   95   87  \n",
       "2 2-Jul 97   90   88   82   91   87   90   81   81   ... 85   87   90   84  \n",
       "3 3-Jul 97   93   91   87   93   87   87   87   86   ... 82   91   89   83  \n",
       "  2011 2012 2013 2014 2015 Average\n",
       "1 92   105  82   90   85   88.85  \n",
       "2 94    93  85   93   87   88.35  \n",
       "3 95    99  76   87   79   88.40  "
      ]
     },
     "metadata": {},
     "output_type": "display_data"
    }
   ],
   "source": [
    "#checking the data frame\n",
    "head(temps)[1:3,]"
   ]
  },
  {
   "cell_type": "markdown",
   "metadata": {},
   "source": [
    "Now, we calculate the CUSUM values using average temperatures:"
   ]
  },
  {
   "cell_type": "code",
   "execution_count": 39,
   "metadata": {},
   "outputs": [],
   "source": [
    "#adding a col to temps data frame to store St value in each step\n",
    "temps[,\"St\"]<-NA"
   ]
  },
  {
   "cell_type": "markdown",
   "metadata": {},
   "source": [
    "In order to detect the shift from target,we define an \"allowable slack\" (C). This value is usually ½ or 1 standard deviation of the parameter. "
   ]
  },
  {
   "cell_type": "code",
   "execution_count": 40,
   "metadata": {},
   "outputs": [],
   "source": [
    "#Standard Deviation of the data points\n",
    "std_sample<-sd(temps[,\"Average\"])"
   ]
  },
  {
   "cell_type": "code",
   "execution_count": 41,
   "metadata": {},
   "outputs": [
    {
     "data": {
      "text/html": [
       "6.70138087245912"
      ],
      "text/latex": [
       "6.70138087245912"
      ],
      "text/markdown": [
       "6.70138087245912"
      ],
      "text/plain": [
       "[1] 6.701381"
      ]
     },
     "metadata": {},
     "output_type": "display_data"
    }
   ],
   "source": [
    "std_sample"
   ]
  },
  {
   "cell_type": "code",
   "execution_count": 42,
   "metadata": {},
   "outputs": [],
   "source": [
    "mean_sample<-mean(temps[,\"Average\"])"
   ]
  },
  {
   "cell_type": "code",
   "execution_count": 44,
   "metadata": {},
   "outputs": [
    {
     "data": {
      "text/html": [
       "83.3390243902439"
      ],
      "text/latex": [
       "83.3390243902439"
      ],
      "text/markdown": [
       "83.3390243902439"
      ],
      "text/plain": [
       "[1] 83.33902"
      ]
     },
     "metadata": {},
     "output_type": "display_data"
    }
   ],
   "source": [
    "mean_sample"
   ]
  },
  {
   "cell_type": "code",
   "execution_count": 45,
   "metadata": {},
   "outputs": [],
   "source": [
    "#allowable slack C : typically set to 1 sigma\n",
    "C<-std_sample"
   ]
  },
  {
   "cell_type": "markdown",
   "metadata": {},
   "source": [
    "When the CUSUM value is at or more than **Threshold**, we say the process is “out of control” .  The standard practice is to set the threshold to 4 or 5 times the standard deviation. "
   ]
  },
  {
   "cell_type": "code",
   "execution_count": 53,
   "metadata": {},
   "outputs": [
    {
     "data": {
      "text/html": [
       "33.5069043622956"
      ],
      "text/latex": [
       "33.5069043622956"
      ],
      "text/markdown": [
       "33.5069043622956"
      ],
      "text/plain": [
       "[1] 33.5069"
      ]
     },
     "metadata": {},
     "output_type": "display_data"
    }
   ],
   "source": [
    "#threshold set to 5*sigma\n",
    "T<-5*std_sample\n",
    "T"
   ]
  },
  {
   "cell_type": "code",
   "execution_count": 54,
   "metadata": {},
   "outputs": [],
   "source": [
    "#using Zero start method\n",
    "\n",
    "temps[1,\"St\"]<-0\n",
    "for(i in 2:nrow(temps)){\n",
    "    \n",
    "    temps[i,\"St\"]<-max(0,(temps[i-1,\"St\"]+mean_sample-temps[i,\"Average\"]-C))\n",
    "    \n",
    "    \n",
    "}"
   ]
  },
  {
   "cell_type": "code",
   "execution_count": 55,
   "metadata": {},
   "outputs": [
    {
     "data": {
      "text/html": [
       "<ol class=list-inline>\n",
       "\t<li>0</li>\n",
       "\t<li>0</li>\n",
       "\t<li>0</li>\n",
       "\t<li>0</li>\n",
       "\t<li>0</li>\n",
       "\t<li>0</li>\n",
       "\t<li>0</li>\n",
       "\t<li>0</li>\n",
       "\t<li>0</li>\n",
       "\t<li>0</li>\n",
       "\t<li>0</li>\n",
       "\t<li>0</li>\n",
       "\t<li>0</li>\n",
       "\t<li>0</li>\n",
       "\t<li>0</li>\n",
       "\t<li>0</li>\n",
       "\t<li>0</li>\n",
       "\t<li>0</li>\n",
       "\t<li>0</li>\n",
       "\t<li>0</li>\n",
       "\t<li>0</li>\n",
       "\t<li>0</li>\n",
       "\t<li>0</li>\n",
       "\t<li>0</li>\n",
       "\t<li>0</li>\n",
       "\t<li>0</li>\n",
       "\t<li>0</li>\n",
       "\t<li>0</li>\n",
       "\t<li>0</li>\n",
       "\t<li>0</li>\n",
       "\t<li>0</li>\n",
       "\t<li>0</li>\n",
       "\t<li>0</li>\n",
       "\t<li>0</li>\n",
       "\t<li>0</li>\n",
       "\t<li>0</li>\n",
       "\t<li>0</li>\n",
       "\t<li>0</li>\n",
       "\t<li>0</li>\n",
       "\t<li>0</li>\n",
       "\t<li>0</li>\n",
       "\t<li>0</li>\n",
       "\t<li>0</li>\n",
       "\t<li>0</li>\n",
       "\t<li>0</li>\n",
       "\t<li>0</li>\n",
       "\t<li>0</li>\n",
       "\t<li>0</li>\n",
       "\t<li>0</li>\n",
       "\t<li>0</li>\n",
       "\t<li>0</li>\n",
       "\t<li>0</li>\n",
       "\t<li>0</li>\n",
       "\t<li>0</li>\n",
       "\t<li>0</li>\n",
       "\t<li>0</li>\n",
       "\t<li>0</li>\n",
       "\t<li>0</li>\n",
       "\t<li>0</li>\n",
       "\t<li>0</li>\n",
       "\t<li>0</li>\n",
       "\t<li>0</li>\n",
       "\t<li>0</li>\n",
       "\t<li>0</li>\n",
       "\t<li>0</li>\n",
       "\t<li>0</li>\n",
       "\t<li>0</li>\n",
       "\t<li>0</li>\n",
       "\t<li>0</li>\n",
       "\t<li>0</li>\n",
       "\t<li>0</li>\n",
       "\t<li>0</li>\n",
       "\t<li>0</li>\n",
       "\t<li>0</li>\n",
       "\t<li>0</li>\n",
       "\t<li>0</li>\n",
       "\t<li>0</li>\n",
       "\t<li>0</li>\n",
       "\t<li>0</li>\n",
       "\t<li>0</li>\n",
       "\t<li>0</li>\n",
       "\t<li>0</li>\n",
       "\t<li>0</li>\n",
       "\t<li>0</li>\n",
       "\t<li>0</li>\n",
       "\t<li>0</li>\n",
       "\t<li>0</li>\n",
       "\t<li>0</li>\n",
       "\t<li>0</li>\n",
       "\t<li>0</li>\n",
       "\t<li>0.287643517784796</li>\n",
       "\t<li>0</li>\n",
       "\t<li>0</li>\n",
       "\t<li>0</li>\n",
       "\t<li>0</li>\n",
       "\t<li>0</li>\n",
       "\t<li>0</li>\n",
       "\t<li>0.287643517784796</li>\n",
       "\t<li>1.3252870355696</li>\n",
       "\t<li>3.1629305533544</li>\n",
       "\t<li>5.55057407113919</li>\n",
       "\t<li>7.03821758892398</li>\n",
       "\t<li>7.82586110670878</li>\n",
       "\t<li>8.66350462449358</li>\n",
       "\t<li>9.85114814227837</li>\n",
       "\t<li>12.2887916600632</li>\n",
       "\t<li>16.026435177848</li>\n",
       "\t<li>20.0140786956327</li>\n",
       "\t<li>23.5517222134175</li>\n",
       "\t<li>28.2893657312023</li>\n",
       "\t<li>33.8770092489871</li>\n",
       "\t<li>39.2646527667719</li>\n",
       "\t<li>41.8022962845567</li>\n",
       "\t<li>46.0899398023415</li>\n",
       "\t<li>53.0775833201263</li>\n",
       "\t<li>60.8652268379111</li>\n",
       "\t<li>68.1528703556959</li>\n",
       "\t<li>73.3905138734807</li>\n",
       "\t<li>81.1281573912655</li>\n",
       "\t<li>89.1658009090503</li>\n",
       "\t<li>96.4534444268351</li>\n",
       "\t<li>102.04108794462</li>\n",
       "\t<li>108.178731462405</li>\n",
       "</ol>\n"
      ],
      "text/latex": [
       "\\begin{enumerate*}\n",
       "\\item 0\n",
       "\\item 0\n",
       "\\item 0\n",
       "\\item 0\n",
       "\\item 0\n",
       "\\item 0\n",
       "\\item 0\n",
       "\\item 0\n",
       "\\item 0\n",
       "\\item 0\n",
       "\\item 0\n",
       "\\item 0\n",
       "\\item 0\n",
       "\\item 0\n",
       "\\item 0\n",
       "\\item 0\n",
       "\\item 0\n",
       "\\item 0\n",
       "\\item 0\n",
       "\\item 0\n",
       "\\item 0\n",
       "\\item 0\n",
       "\\item 0\n",
       "\\item 0\n",
       "\\item 0\n",
       "\\item 0\n",
       "\\item 0\n",
       "\\item 0\n",
       "\\item 0\n",
       "\\item 0\n",
       "\\item 0\n",
       "\\item 0\n",
       "\\item 0\n",
       "\\item 0\n",
       "\\item 0\n",
       "\\item 0\n",
       "\\item 0\n",
       "\\item 0\n",
       "\\item 0\n",
       "\\item 0\n",
       "\\item 0\n",
       "\\item 0\n",
       "\\item 0\n",
       "\\item 0\n",
       "\\item 0\n",
       "\\item 0\n",
       "\\item 0\n",
       "\\item 0\n",
       "\\item 0\n",
       "\\item 0\n",
       "\\item 0\n",
       "\\item 0\n",
       "\\item 0\n",
       "\\item 0\n",
       "\\item 0\n",
       "\\item 0\n",
       "\\item 0\n",
       "\\item 0\n",
       "\\item 0\n",
       "\\item 0\n",
       "\\item 0\n",
       "\\item 0\n",
       "\\item 0\n",
       "\\item 0\n",
       "\\item 0\n",
       "\\item 0\n",
       "\\item 0\n",
       "\\item 0\n",
       "\\item 0\n",
       "\\item 0\n",
       "\\item 0\n",
       "\\item 0\n",
       "\\item 0\n",
       "\\item 0\n",
       "\\item 0\n",
       "\\item 0\n",
       "\\item 0\n",
       "\\item 0\n",
       "\\item 0\n",
       "\\item 0\n",
       "\\item 0\n",
       "\\item 0\n",
       "\\item 0\n",
       "\\item 0\n",
       "\\item 0\n",
       "\\item 0\n",
       "\\item 0\n",
       "\\item 0\n",
       "\\item 0\n",
       "\\item 0\n",
       "\\item 0.287643517784796\n",
       "\\item 0\n",
       "\\item 0\n",
       "\\item 0\n",
       "\\item 0\n",
       "\\item 0\n",
       "\\item 0\n",
       "\\item 0.287643517784796\n",
       "\\item 1.3252870355696\n",
       "\\item 3.1629305533544\n",
       "\\item 5.55057407113919\n",
       "\\item 7.03821758892398\n",
       "\\item 7.82586110670878\n",
       "\\item 8.66350462449358\n",
       "\\item 9.85114814227837\n",
       "\\item 12.2887916600632\n",
       "\\item 16.026435177848\n",
       "\\item 20.0140786956327\n",
       "\\item 23.5517222134175\n",
       "\\item 28.2893657312023\n",
       "\\item 33.8770092489871\n",
       "\\item 39.2646527667719\n",
       "\\item 41.8022962845567\n",
       "\\item 46.0899398023415\n",
       "\\item 53.0775833201263\n",
       "\\item 60.8652268379111\n",
       "\\item 68.1528703556959\n",
       "\\item 73.3905138734807\n",
       "\\item 81.1281573912655\n",
       "\\item 89.1658009090503\n",
       "\\item 96.4534444268351\n",
       "\\item 102.04108794462\n",
       "\\item 108.178731462405\n",
       "\\end{enumerate*}\n"
      ],
      "text/markdown": [
       "1. 0\n",
       "2. 0\n",
       "3. 0\n",
       "4. 0\n",
       "5. 0\n",
       "6. 0\n",
       "7. 0\n",
       "8. 0\n",
       "9. 0\n",
       "10. 0\n",
       "11. 0\n",
       "12. 0\n",
       "13. 0\n",
       "14. 0\n",
       "15. 0\n",
       "16. 0\n",
       "17. 0\n",
       "18. 0\n",
       "19. 0\n",
       "20. 0\n",
       "21. 0\n",
       "22. 0\n",
       "23. 0\n",
       "24. 0\n",
       "25. 0\n",
       "26. 0\n",
       "27. 0\n",
       "28. 0\n",
       "29. 0\n",
       "30. 0\n",
       "31. 0\n",
       "32. 0\n",
       "33. 0\n",
       "34. 0\n",
       "35. 0\n",
       "36. 0\n",
       "37. 0\n",
       "38. 0\n",
       "39. 0\n",
       "40. 0\n",
       "41. 0\n",
       "42. 0\n",
       "43. 0\n",
       "44. 0\n",
       "45. 0\n",
       "46. 0\n",
       "47. 0\n",
       "48. 0\n",
       "49. 0\n",
       "50. 0\n",
       "51. 0\n",
       "52. 0\n",
       "53. 0\n",
       "54. 0\n",
       "55. 0\n",
       "56. 0\n",
       "57. 0\n",
       "58. 0\n",
       "59. 0\n",
       "60. 0\n",
       "61. 0\n",
       "62. 0\n",
       "63. 0\n",
       "64. 0\n",
       "65. 0\n",
       "66. 0\n",
       "67. 0\n",
       "68. 0\n",
       "69. 0\n",
       "70. 0\n",
       "71. 0\n",
       "72. 0\n",
       "73. 0\n",
       "74. 0\n",
       "75. 0\n",
       "76. 0\n",
       "77. 0\n",
       "78. 0\n",
       "79. 0\n",
       "80. 0\n",
       "81. 0\n",
       "82. 0\n",
       "83. 0\n",
       "84. 0\n",
       "85. 0\n",
       "86. 0\n",
       "87. 0\n",
       "88. 0\n",
       "89. 0\n",
       "90. 0\n",
       "91. 0.287643517784796\n",
       "92. 0\n",
       "93. 0\n",
       "94. 0\n",
       "95. 0\n",
       "96. 0\n",
       "97. 0\n",
       "98. 0.287643517784796\n",
       "99. 1.3252870355696\n",
       "100. 3.1629305533544\n",
       "101. 5.55057407113919\n",
       "102. 7.03821758892398\n",
       "103. 7.82586110670878\n",
       "104. 8.66350462449358\n",
       "105. 9.85114814227837\n",
       "106. 12.2887916600632\n",
       "107. 16.026435177848\n",
       "108. 20.0140786956327\n",
       "109. 23.5517222134175\n",
       "110. 28.2893657312023\n",
       "111. 33.8770092489871\n",
       "112. 39.2646527667719\n",
       "113. 41.8022962845567\n",
       "114. 46.0899398023415\n",
       "115. 53.0775833201263\n",
       "116. 60.8652268379111\n",
       "117. 68.1528703556959\n",
       "118. 73.3905138734807\n",
       "119. 81.1281573912655\n",
       "120. 89.1658009090503\n",
       "121. 96.4534444268351\n",
       "122. 102.04108794462\n",
       "123. 108.178731462405\n",
       "\n",
       "\n"
      ],
      "text/plain": [
       "  [1]   0.0000000   0.0000000   0.0000000   0.0000000   0.0000000   0.0000000\n",
       "  [7]   0.0000000   0.0000000   0.0000000   0.0000000   0.0000000   0.0000000\n",
       " [13]   0.0000000   0.0000000   0.0000000   0.0000000   0.0000000   0.0000000\n",
       " [19]   0.0000000   0.0000000   0.0000000   0.0000000   0.0000000   0.0000000\n",
       " [25]   0.0000000   0.0000000   0.0000000   0.0000000   0.0000000   0.0000000\n",
       " [31]   0.0000000   0.0000000   0.0000000   0.0000000   0.0000000   0.0000000\n",
       " [37]   0.0000000   0.0000000   0.0000000   0.0000000   0.0000000   0.0000000\n",
       " [43]   0.0000000   0.0000000   0.0000000   0.0000000   0.0000000   0.0000000\n",
       " [49]   0.0000000   0.0000000   0.0000000   0.0000000   0.0000000   0.0000000\n",
       " [55]   0.0000000   0.0000000   0.0000000   0.0000000   0.0000000   0.0000000\n",
       " [61]   0.0000000   0.0000000   0.0000000   0.0000000   0.0000000   0.0000000\n",
       " [67]   0.0000000   0.0000000   0.0000000   0.0000000   0.0000000   0.0000000\n",
       " [73]   0.0000000   0.0000000   0.0000000   0.0000000   0.0000000   0.0000000\n",
       " [79]   0.0000000   0.0000000   0.0000000   0.0000000   0.0000000   0.0000000\n",
       " [85]   0.0000000   0.0000000   0.0000000   0.0000000   0.0000000   0.0000000\n",
       " [91]   0.2876435   0.0000000   0.0000000   0.0000000   0.0000000   0.0000000\n",
       " [97]   0.0000000   0.2876435   1.3252870   3.1629306   5.5505741   7.0382176\n",
       "[103]   7.8258611   8.6635046   9.8511481  12.2887917  16.0264352  20.0140787\n",
       "[109]  23.5517222  28.2893657  33.8770092  39.2646528  41.8022963  46.0899398\n",
       "[115]  53.0775833  60.8652268  68.1528704  73.3905139  81.1281574  89.1658009\n",
       "[121]  96.4534444 102.0410879 108.1787315"
      ]
     },
     "metadata": {},
     "output_type": "display_data"
    }
   ],
   "source": [
    "temps$St"
   ]
  },
  {
   "cell_type": "code",
   "execution_count": 61,
   "metadata": {},
   "outputs": [
    {
     "name": "stdout",
     "output_type": "stream",
     "text": [
      "The day a change in trend is detected is: 19-Oct"
     ]
    }
   ],
   "source": [
    "cat(\"The day a change in trend is detected is:\",temps[which(temps$St>T),\"DAY\"][1])"
   ]
  },
  {
   "cell_type": "code",
   "execution_count": 62,
   "metadata": {},
   "outputs": [],
   "source": [
    "temps[,\"Date\"]<-as.Date(temps[,\"DAY\"],\"%d-%B\")"
   ]
  },
  {
   "cell_type": "code",
   "execution_count": 63,
   "metadata": {},
   "outputs": [],
   "source": [
    "temps[,\"Date\"]<-format(temps[,\"Date\"],format=\"%m/%d\")"
   ]
  },
  {
   "cell_type": "code",
   "execution_count": 64,
   "metadata": {},
   "outputs": [
    {
     "data": {
      "image/png": "[encoded data removed]",
      "text/plain": [
       "plot without title"
      ]
     },
     "metadata": {},
     "output_type": "display_data"
    }
   ],
   "source": [
    "options(repr.plot.width=10, repr.plot.height=5)\n",
    "ggplot(data = temps, aes(x = Date, y =`St`,group=2)) + \n",
    "  geom_line()+\n",
    "  geom_hline(yintercept=T,color=\"red\")+\n",
    " \n",
    "  scale_x_discrete(breaks = unique(temps$Date)[seq(1,123,5)])+\n",
    "  xlab(\"Days\") +\n",
    "  ylab(\"CUSUM\") +\n",
    "  ggtitle(\"CUSUM Chart for July-October Daily-high Temperature for Atlanta 1996-2015\")+\n",
    "  theme(plot.title = element_text(hjust = 0.5))\n",
    "\n"
   ]
  },
  {
   "cell_type": "markdown",
   "metadata": {},
   "source": [
    "As we can also see in above visualization, in october 19th, the weather offically starts changing and it makes sense.Atlanta has humid subtropical climate with hot and long summers. Eventhough, the offical end day of summer is end of September, the weather does not cool down until end of October."
   ]
  },
  {
   "cell_type": "markdown",
   "metadata": {},
   "source": [
    "#### Second approach:\n",
    "we will look at CUSUM for each year indivudually and look at the trend:"
   ]
  },
  {
   "cell_type": "code",
   "execution_count": 68,
   "metadata": {},
   "outputs": [],
   "source": [
    "#creating a data frame to store the cusum values for each year\n",
    "cusum_df<-data.frame(matrix(nrow=nrow(temps),ncol=length(1996:2015)+1))"
   ]
  },
  {
   "cell_type": "code",
   "execution_count": 69,
   "metadata": {},
   "outputs": [],
   "source": [
    "#assigning columns names to cusum data frame\n",
    "colnames(cusum_df)<-colnames(temps[,1:21])"
   ]
  },
  {
   "cell_type": "code",
   "execution_count": 70,
   "metadata": {},
   "outputs": [],
   "source": [
    "#tidying up the Day and converting it to Date for ease of processing\n",
    "cusum_df$DAY<-temps$Date"
   ]
  },
  {
   "cell_type": "code",
   "execution_count": 71,
   "metadata": {},
   "outputs": [
    {
     "name": "stdout",
     "output_type": "stream",
     "text": [
      "In year of 1996 the day Summer started is: 10/06 \n",
      "In year of 1997 the day Summer started is: 10/19 \n",
      "In year of 1998 the day Summer started is: 10/22 \n",
      "In year of 1999 the day Summer started is: 10/23 \n",
      "In year of 2000 the day Summer started is: 10/09 \n",
      "In year of 2001 the day Summer started is: 10/28 \n",
      "In year of 2002 the day Summer started is: 10/18 \n",
      "In year of 2003 the day Summer started is: 10/11 \n",
      "In year of 2004 the day Summer started is: 10/14 \n",
      "In year of 2005 the day Summer started is: 10/25 \n",
      "In year of 2006 the day Summer started is: 10/23 \n",
      "In year of 2007 the day Summer started is: 10/26 \n",
      "In year of 2008 the day Summer started is: 10/23 \n",
      "In year of 2009 the day Summer started is: 10/17 \n",
      "In year of 2010 the day Summer started is: 10/04 \n",
      "In year of 2011 the day Summer started is: 10/23 \n",
      "In year of 2012 the day Summer started is: 10/29 \n",
      "In year of 2013 the day Summer started is: 10/23 \n",
      "In year of 2014 the day Summer started is: 10/22 \n",
      "In year of 2015 the day Summer started is: 10/29 \n"
     ]
    }
   ],
   "source": [
    "#using Zero start method\n",
    "#calculating cusum values for each year\n",
    "for(y in 2:ncol(cusum_df)){\n",
    "    cusum_df[1,y]<-0 #initial St value for each column,set to zero\n",
    "    mu<-mean(temps[,y]) #mean of each sample space(each year's observations)\n",
    "    std<-sd(temps[,y]) #sd of each sample,also used as allowable slack\n",
    "    threshold<-5*std #using 5 sd as threshold value,different T for each year \n",
    "    change<-NULL # to store dates with St over threshold,first value:first day change detected\n",
    "    \n",
    "    for(i in 2:nrow(cusum_df)){\n",
    "        cusum_df[i,y]<-max(0,cusum_df[i-1,y]+(mu-temps[i,y]-std))\n",
    "        if (cusum_df[i,y]>=threshold){\n",
    "            change<-append(change,cusum_df[i,y])}}\n",
    "    cat(\"In year of\",colnames(cusum_df[y]),\"the day Summer started is:\",\n",
    "        cusum_df[which(cusum_df[,y]==change[1]),\"DAY\"],\"\\n\")\n",
    "}"
   ]
  },
  {
   "cell_type": "markdown",
   "metadata": {},
   "source": [
    "As we can observe,more or less,for each year, the weather offically starts cooling down toward end of October."
   ]
  },
  {
   "cell_type": "markdown",
   "metadata": {},
   "source": [
    "**Part 2**:\n",
    "\n",
    "Use a CUSUM approach to make a judgment of whether Atlanta’s summer climate has gotten\n",
    "warmer in that time (and if so, when)."
   ]
  },
  {
   "cell_type": "markdown",
   "metadata": {},
   "source": [
    "**Answer:**\n",
    "If we look at the result above, there is no strong evidence that summer is getting longer. For most years, fall starts after October 19th. If we want to dive deeper and investigate more, other methods might be more helpful."
   ]
  },
  {
   "cell_type": "code",
   "execution_count": null,
   "metadata": {},
   "outputs": [],
   "source": []
  }
 ],
 "metadata": {
  "kernelspec": {
   "display_name": "R",
   "language": "R",
   "name": "ir"
  },
  "language_info": {
   "codemirror_mode": "r",
   "file_extension": ".r",
   "mimetype": "text/x-r-source",
   "name": "R",
   "pygments_lexer": "r",
   "version": "3.6.1"
  }
 },
 "nbformat": 4,
 "nbformat_minor": 2
}
