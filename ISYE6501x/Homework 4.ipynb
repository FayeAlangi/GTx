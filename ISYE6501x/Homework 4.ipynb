{
 "cells": [
  {
   "cell_type": "markdown",
   "metadata": {},
   "source": [
    "## ISYE6501x Homework 4"
   ]
  },
  {
   "cell_type": "markdown",
   "metadata": {},
   "source": [
    "### Question 7.1\n",
    "Describe a situation or problem from your job, everyday life, current events, etc., for which exponential smoothing would be appropriate. What data would you need? Would you expect the value of alpha (the first smoothing parameter) to be closer to 0 or 1, and why?\n",
    "\n",
    "**Answer:**\n",
    "\n",
    "Predicitng the electricity load in short-term is very crucial in operating a reliable,stable and economic power system.\n",
    "\n",
    "Using triple exponential smoothing method (Holtwinters) we can forcast the power load and prepare the grid for it. A value of alpha closer to 1 would be appropriate since the profile of demand in recent observations should have more weight in building forecasting model.\n",
    "\n"
   ]
  },
  {
   "cell_type": "markdown",
   "metadata": {},
   "source": [
    "### Question 7.2"
   ]
  },
  {
   "cell_type": "markdown",
   "metadata": {},
   "source": [
    "Using the 20 years of daily high temperature data for Atlanta (July through October) from Question 6.2 (file temps.txt), build and use an exponential smoothing model to help make a judgment of whether\n",
    "the unofficial end of summer has gotten later over the 20 years. (Part of the point of this assignment is for you to think about how you might use exponential smoothing to answer this question. Feel free to combine it with other models if you’d like to. There’s certainly more than one reasonable approach.)\n",
    "Note: in R, you can use either HoltWinters (simpler to use) or the smooth package’s es function\n",
    "(harder to use, but more general). If you use es, the Holt-Winters model uses model=”AAM” in the\n",
    "function call (the first and second constants are used “A”dditively, and the third (seasonality) is used\n",
    "“M”ultiplicatively; the documentation doesn’t make that clear). "
   ]
  },
  {
   "cell_type": "markdown",
   "metadata": {},
   "source": [
    "### Installing Packages and Loading Libraries"
   ]
  },
  {
   "cell_type": "code",
   "execution_count": 86,
   "metadata": {},
   "outputs": [],
   "source": [
    "options(warn=-1) #suppressing warnings"
   ]
  },
  {
   "cell_type": "code",
   "execution_count": 88,
   "metadata": {},
   "outputs": [
    {
     "name": "stderr",
     "output_type": "stream",
     "text": [
      "Installing packages into 'C:/Users/fayal/R/win-library/3.6'\n",
      "(as 'lib' is unspecified)\n"
     ]
    },
    {
     "name": "stdout",
     "output_type": "stream",
     "text": [
      "package 'IRkernel' successfully unpacked and MD5 sums checked\n",
      "package 'IRdisplay' successfully unpacked and MD5 sums checked\n",
      "package 'repr' successfully unpacked and MD5 sums checked\n",
      "\n",
      "The downloaded binary packages are in\n",
      "\tC:\\Users\\fayal\\AppData\\Local\\Temp\\RtmpmCDXAT\\downloaded_packages\n"
     ]
    }
   ],
   "source": [
    "install.packages(c('IRkernel', 'IRdisplay', 'repr'))"
   ]
  },
  {
   "cell_type": "code",
   "execution_count": 90,
   "metadata": {},
   "outputs": [],
   "source": [
    "library(IRkernel)"
   ]
  },
  {
   "cell_type": "code",
   "execution_count": 21,
   "metadata": {},
   "outputs": [
    {
     "name": "stderr",
     "output_type": "stream",
     "text": [
      "Installing package into 'C:/Users/fayal/R/win-library/3.6'\n",
      "(as 'lib' is unspecified)\n"
     ]
    },
    {
     "name": "stdout",
     "output_type": "stream",
     "text": [
      "package 'survMisc' successfully unpacked and MD5 sums checked\n",
      "\n",
      "The downloaded binary packages are in\n",
      "\tC:\\Users\\fayal\\AppData\\Local\\Temp\\RtmpmCDXAT\\downloaded_packages\n"
     ]
    }
   ],
   "source": [
    "install.packages(\"survMisc\")"
   ]
  },
  {
   "cell_type": "code",
   "execution_count": 22,
   "metadata": {},
   "outputs": [
    {
     "name": "stderr",
     "output_type": "stream",
     "text": [
      "Installing package into 'C:/Users/fayal/R/win-library/3.6'\n",
      "(as 'lib' is unspecified)\n"
     ]
    },
    {
     "name": "stdout",
     "output_type": "stream",
     "text": [
      "package 'forecast' successfully unpacked and MD5 sums checked\n",
      "\n",
      "The downloaded binary packages are in\n",
      "\tC:\\Users\\fayal\\AppData\\Local\\Temp\\RtmpmCDXAT\\downloaded_packages\n"
     ]
    }
   ],
   "source": [
    "install.packages(\"forecast\")"
   ]
  },
  {
   "cell_type": "code",
   "execution_count": 46,
   "metadata": {},
   "outputs": [
    {
     "name": "stderr",
     "output_type": "stream",
     "text": [
      "Installing package into 'C:/Users/fayal/R/win-library/3.6'\n",
      "(as 'lib' is unspecified)\n"
     ]
    }
   ],
   "source": [
    "install.packages(\"ggfortify\")"
   ]
  },
  {
   "cell_type": "code",
   "execution_count": 50,
   "metadata": {},
   "outputs": [
    {
     "name": "stderr",
     "output_type": "stream",
     "text": [
      "\n",
      "Attaching package: 'forecast'\n",
      "\n",
      "The following object is masked from 'package:survMisc':\n",
      "\n",
      "    autoplot\n",
      "\n"
     ]
    }
   ],
   "source": [
    "library(forecast)"
   ]
  },
  {
   "cell_type": "code",
   "execution_count": 25,
   "metadata": {},
   "outputs": [],
   "source": [
    "library(ggplot2)"
   ]
  },
  {
   "cell_type": "code",
   "execution_count": 26,
   "metadata": {},
   "outputs": [
    {
     "name": "stderr",
     "output_type": "stream",
     "text": [
      "Loading required package: survival\n",
      "\n",
      "Attaching package: 'survMisc'\n",
      "\n",
      "The following object is masked from 'package:forecast':\n",
      "\n",
      "    autoplot\n",
      "\n",
      "The following object is masked from 'package:ggplot2':\n",
      "\n",
      "    autoplot\n",
      "\n"
     ]
    }
   ],
   "source": [
    "library(survMisc)"
   ]
  },
  {
   "cell_type": "code",
   "execution_count": 27,
   "metadata": {},
   "outputs": [],
   "source": [
    "library(tidyverse)"
   ]
  },
  {
   "cell_type": "code",
   "execution_count": 158,
   "metadata": {},
   "outputs": [
    {
     "name": "stderr",
     "output_type": "stream",
     "text": [
      "\n",
      "Attaching package: 'reshape'\n",
      "\n",
      "The following object is masked from 'package:lubridate':\n",
      "\n",
      "    stamp\n",
      "\n",
      "The following object is masked from 'package:dplyr':\n",
      "\n",
      "    rename\n",
      "\n",
      "The following objects are masked from 'package:tidyr':\n",
      "\n",
      "    expand, smiths\n",
      "\n"
     ]
    }
   ],
   "source": [
    "library(reshape)"
   ]
  },
  {
   "cell_type": "code",
   "execution_count": 47,
   "metadata": {},
   "outputs": [],
   "source": [
    "library(ggfortify)"
   ]
  },
  {
   "cell_type": "code",
   "execution_count": 148,
   "metadata": {},
   "outputs": [],
   "source": [
    "library(lubridate)"
   ]
  },
  {
   "cell_type": "markdown",
   "metadata": {},
   "source": [
    "### Answer:\n",
    "\n",
    "The Holt-Winters forecasting algorithm allows users to smooth a time series and use that data to forecast areas of interest. Exponential smoothing assigns exponentially decreasing weights and values against historical data to decrease the value of the weight for the older data. In other words, more recent historical data is assigned more weight in forecasting than the older results.\n",
    "\n",
    "There are three types of exponential smoothing:\n",
    "\n",
    "- Single(simple) exponential smoothing: This method is suitable for forecasting data with no clear trend or seasonal pattern.\n",
    "- Double (Holt’s linear trend) exponential smoothing: This method employs a level component and a trend component at each period.\n",
    "- Triple (Holt-Winters seasonal) exponential smoothing: This method comprises the forecast equation and three smoothing equations — one for the level ℓt, one for the trend bt,and one for the seasonal component st,with corresponding smoothing parameters α, β∗ and γ. \n",
    "\n",
    "In order to see which method is more suitable for our data, first we get help from visualizing data to see data's behavior.\n",
    "\n",
    "\n"
   ]
  },
  {
   "cell_type": "code",
   "execution_count": 51,
   "metadata": {},
   "outputs": [
    {
     "name": "stderr",
     "output_type": "stream",
     "text": [
      "Parsed with column specification:\n",
      "cols(\n",
      "  .default = col_double(),\n",
      "  DAY = col_character()\n",
      ")\n",
      "See spec(...) for full column specifications.\n"
     ]
    }
   ],
   "source": [
    "#Loading the data\n",
    "temps=read_tsv(\"temps.txt\")"
   ]
  },
  {
   "cell_type": "code",
   "execution_count": 52,
   "metadata": {},
   "outputs": [
    {
     "data": {
      "text/html": [
       "<table>\n",
       "<thead><tr><th scope=col>DAY</th><th scope=col>1996</th><th scope=col>1997</th><th scope=col>1998</th><th scope=col>1999</th><th scope=col>2000</th><th scope=col>2001</th><th scope=col>2002</th><th scope=col>2003</th><th scope=col>2004</th><th scope=col>...</th><th scope=col>2006</th><th scope=col>2007</th><th scope=col>2008</th><th scope=col>2009</th><th scope=col>2010</th><th scope=col>2011</th><th scope=col>2012</th><th scope=col>2013</th><th scope=col>2014</th><th scope=col>2015</th></tr></thead>\n",
       "<tbody>\n",
       "\t<tr><td>1-Jul</td><td>98   </td><td>86   </td><td>91   </td><td>84   </td><td>89   </td><td>84   </td><td>90   </td><td>73   </td><td>82   </td><td>...  </td><td>93   </td><td>95   </td><td>85   </td><td>95   </td><td>87   </td><td>92   </td><td>105  </td><td>82   </td><td>90   </td><td>85   </td></tr>\n",
       "\t<tr><td>2-Jul</td><td>97   </td><td>90   </td><td>88   </td><td>82   </td><td>91   </td><td>87   </td><td>90   </td><td>81   </td><td>81   </td><td>...  </td><td>93   </td><td>85   </td><td>87   </td><td>90   </td><td>84   </td><td>94   </td><td> 93  </td><td>85   </td><td>93   </td><td>87   </td></tr>\n",
       "\t<tr><td>3-Jul</td><td>97   </td><td>93   </td><td>91   </td><td>87   </td><td>93   </td><td>87   </td><td>87   </td><td>87   </td><td>86   </td><td>...  </td><td>93   </td><td>82   </td><td>91   </td><td>89   </td><td>83   </td><td>95   </td><td> 99  </td><td>76   </td><td>87   </td><td>79   </td></tr>\n",
       "</tbody>\n",
       "</table>\n"
      ],
      "text/latex": [
       "\\begin{tabular}{r|lllllllllllllllllllll}\n",
       " DAY & 1996 & 1997 & 1998 & 1999 & 2000 & 2001 & 2002 & 2003 & 2004 & ... & 2006 & 2007 & 2008 & 2009 & 2010 & 2011 & 2012 & 2013 & 2014 & 2015\\\\\n",
       "\\hline\n",
       "\t 1-Jul & 98    & 86    & 91    & 84    & 89    & 84    & 90    & 73    & 82    & ...   & 93    & 95    & 85    & 95    & 87    & 92    & 105   & 82    & 90    & 85   \\\\\n",
       "\t 2-Jul & 97    & 90    & 88    & 82    & 91    & 87    & 90    & 81    & 81    & ...   & 93    & 85    & 87    & 90    & 84    & 94    &  93   & 85    & 93    & 87   \\\\\n",
       "\t 3-Jul & 97    & 93    & 91    & 87    & 93    & 87    & 87    & 87    & 86    & ...   & 93    & 82    & 91    & 89    & 83    & 95    &  99   & 76    & 87    & 79   \\\\\n",
       "\\end{tabular}\n"
      ],
      "text/markdown": [
       "\n",
       "| DAY | 1996 | 1997 | 1998 | 1999 | 2000 | 2001 | 2002 | 2003 | 2004 | ... | 2006 | 2007 | 2008 | 2009 | 2010 | 2011 | 2012 | 2013 | 2014 | 2015 |\n",
       "|---|---|---|---|---|---|---|---|---|---|---|---|---|---|---|---|---|---|---|---|---|\n",
       "| 1-Jul | 98    | 86    | 91    | 84    | 89    | 84    | 90    | 73    | 82    | ...   | 93    | 95    | 85    | 95    | 87    | 92    | 105   | 82    | 90    | 85    |\n",
       "| 2-Jul | 97    | 90    | 88    | 82    | 91    | 87    | 90    | 81    | 81    | ...   | 93    | 85    | 87    | 90    | 84    | 94    |  93   | 85    | 93    | 87    |\n",
       "| 3-Jul | 97    | 93    | 91    | 87    | 93    | 87    | 87    | 87    | 86    | ...   | 93    | 82    | 91    | 89    | 83    | 95    |  99   | 76    | 87    | 79    |\n",
       "\n"
      ],
      "text/plain": [
       "  DAY   1996 1997 1998 1999 2000 2001 2002 2003 2004 ... 2006 2007 2008 2009\n",
       "1 1-Jul 98   86   91   84   89   84   90   73   82   ... 93   95   85   95  \n",
       "2 2-Jul 97   90   88   82   91   87   90   81   81   ... 93   85   87   90  \n",
       "3 3-Jul 97   93   91   87   93   87   87   87   86   ... 93   82   91   89  \n",
       "  2010 2011 2012 2013 2014 2015\n",
       "1 87   92   105  82   90   85  \n",
       "2 84   94    93  85   93   87  \n",
       "3 83   95    99  76   87   79  "
      ]
     },
     "metadata": {},
     "output_type": "display_data"
    }
   ],
   "source": [
    "#checking the data\n",
    "head(temps)[1:3,]"
   ]
  },
  {
   "cell_type": "code",
   "execution_count": 53,
   "metadata": {},
   "outputs": [],
   "source": [
    "#converting data frame to time series object\n",
    "data<-ts(as.vector(unlist(temps[,2:21])),start=1996,frequency=123)"
   ]
  },
  {
   "cell_type": "code",
   "execution_count": 57,
   "metadata": {},
   "outputs": [
    {
     "data": {
      "image/png": "[encoded data removed]",
      "text/plain": [
       "plot without title"
      ]
     },
     "metadata": {},
     "output_type": "display_data"
    }
   ],
   "source": [
    "#exploring behaviour of data\n",
    "autoplot(data)"
   ]
  },
  {
   "cell_type": "markdown",
   "metadata": {},
   "source": [
    "Looking at data, we observe there is seasonality.The triple( Holt-Winters) method seems to be a good method to use.\n",
    "\n",
    "We will build a model using Holtwinters() in R and extract the trend component to see if there is any trend (summers getting warmer) or any change in seasonality( summers getting longer)."
   ]
  },
  {
   "cell_type": "code",
   "execution_count": 10,
   "metadata": {},
   "outputs": [],
   "source": [
    "#HoltWinters(x, alpha = NULL, beta = NULL, gamma = NULL, seasonal = c(\"additive\", \"multiplicative\"),\n",
    "#             start.periods = 2, l.start = NULL, b.start = NULL,\n",
    "#             s.start = NULL,\n",
    "#             optim.start = c(alpha = 0.3, beta = 0.1, gamma = 0.1),\n",
    "#             optim.control = list())"
   ]
  },
  {
   "cell_type": "markdown",
   "metadata": {},
   "source": [
    "We can decompose a time series into three components (trend,seosonal, and level(residual) to understand the underlying pattern.\n",
    "There are two important decomposition methods:\n",
    "\n",
    "- Multiplicative : Time series is modeled as the product of the four components : yt=Tt* St* Ct* It\n",
    "- Additive: Time series is modeled as sum of four component: yt=Tt+St+Ct+It\n",
    "\n",
    "The additive decomposition method is more suitable when seasonal factors are steady from one year to another. But many economic time series are multiplicative rather than linear where seasonal factor grows proportionaly with the level of the time series.\n",
    "\n",
    "Here, the additive method might work better. However, we will build 2 models to see th result and do a comparison.\n",
    "\n",
    "\n"
   ]
  },
  {
   "cell_type": "code",
   "execution_count": 76,
   "metadata": {},
   "outputs": [],
   "source": [
    "set.seed(1)\n",
    "#Holtwinter, using additive decomposition\n",
    "HW_A<- HoltWinters(data,seasonal=\"additive\")\n",
    "        "
   ]
  },
  {
   "cell_type": "code",
   "execution_count": 77,
   "metadata": {},
   "outputs": [
    {
     "data": {
      "image/png": "[encoded data removed]",
      "text/plain": [
       "plot without title"
      ]
     },
     "metadata": {},
     "output_type": "display_data"
    }
   ],
   "source": [
    "autoplot(HW_A)"
   ]
  },
  {
   "cell_type": "code",
   "execution_count": 265,
   "metadata": {
    "scrolled": false
   },
   "outputs": [],
   "source": [
    "set.seed(1)\n",
    "#Holtwinter, using multiplicative decomposition\n",
    "HW_M<- HoltWinters(data, seasonal=\"multiplicative\")"
   ]
  },
  {
   "cell_type": "code",
   "execution_count": 266,
   "metadata": {},
   "outputs": [
    {
     "data": {
      "image/png": "[encoded data removed]",
      "text/plain": [
       "plot without title"
      ]
     },
     "metadata": {},
     "output_type": "display_data"
    }
   ],
   "source": [
    "autoplot(HW_M)"
   ]
  },
  {
   "cell_type": "code",
   "execution_count": 78,
   "metadata": {},
   "outputs": [
    {
     "name": "stdout",
     "output_type": "stream",
     "text": [
      "Using additive method:\n",
      "\tBase factor: 0.6610618 \n",
      "\tTrend factor: 0 \n",
      "\tSeasonal factor: 0.6248076 \n",
      "\tSum of Squared Errors: 66244.25"
     ]
    }
   ],
   "source": [
    "cat(\"Using additive method:\\n\")\n",
    "cat(\"\\tBase factor:\", HW_A$alpha,\"\\n\")\n",
    "cat(\"\\tTrend factor:\",HW_A$beta,\"\\n\")\n",
    "cat(\"\\tSeasonal factor:\",HW_A$gamma,\"\\n\")\n",
    "cat(\"\\tSum of Squared Errors:\", HW_A$SSE)"
   ]
  },
  {
   "cell_type": "code",
   "execution_count": 267,
   "metadata": {
    "scrolled": false
   },
   "outputs": [
    {
     "name": "stdout",
     "output_type": "stream",
     "text": [
      "For multiplicative method:\n",
      "\tBase factor: 0.615003 \n",
      "\tTrend factor: 0 \n",
      "\tSeasonal factor: 0.5495256 \n",
      "\tSum of Squared Errors: 68904.57"
     ]
    }
   ],
   "source": [
    "cat(\"For multiplicative method:\\n\")\n",
    "cat(\"\\tBase factor:\", HW_M$alpha,\"\\n\")\n",
    "cat(\"\\tTrend factor:\",HW_M$beta,\"\\n\")\n",
    "cat(\"\\tSeasonal factor:\",HW_M$gamma,\"\\n\")\n",
    "cat(\"\\tSum of Squared Errors:\", HW_M$SSE)"
   ]
  },
  {
   "cell_type": "markdown",
   "metadata": {},
   "source": [
    "Below is the Holt-Winters decomposition of time-series.The xhat represents the raw(fitted) data, and is followed by the decomposed components in each plot."
   ]
  },
  {
   "cell_type": "code",
   "execution_count": 268,
   "metadata": {},
   "outputs": [
    {
     "data": {
      "image/png": "[encoded data removed]",
      "text/plain": [
       "plot without title"
      ]
     },
     "metadata": {},
     "output_type": "display_data"
    },
    {
     "data": {
      "image/png": "[encoded data removed]",
      "text/plain": [
       "plot without title"
      ]
     },
     "metadata": {},
     "output_type": "display_data"
    }
   ],
   "source": [
    "par(mfrow=c(1,2))\n",
    "plot(fitted(HW_A))\n",
    "plot(fitted(HW_M))"
   ]
  },
  {
   "cell_type": "markdown",
   "metadata": {},
   "source": [
    "Since additive method results in a smaller sum of squared, we will pick that for our analysis."
   ]
  },
  {
   "cell_type": "code",
   "execution_count": 93,
   "metadata": {},
   "outputs": [
    {
     "data": {
      "text/html": [
       "<table>\n",
       "<thead><tr><th scope=col>xhat</th><th scope=col>level</th><th scope=col>trend</th><th scope=col>season</th></tr></thead>\n",
       "<tbody>\n",
       "\t<tr><td>87.17619    </td><td>82.87739    </td><td>-0.004362918</td><td> 4.303159   </td></tr>\n",
       "\t<tr><td>90.32925    </td><td>82.09550    </td><td>-0.004362918</td><td> 8.238119   </td></tr>\n",
       "\t<tr><td>92.96089    </td><td>81.87348    </td><td>-0.004362918</td><td>11.091777   </td></tr>\n",
       "\t<tr><td>90.93360    </td><td>81.89497    </td><td>-0.004362918</td><td> 9.042997   </td></tr>\n",
       "\t<tr><td>83.99752    </td><td>81.93450    </td><td>-0.004362918</td><td> 2.067387   </td></tr>\n",
       "</tbody>\n",
       "</table>\n"
      ],
      "text/latex": [
       "\\begin{tabular}{llll}\n",
       " xhat & level & trend & season\\\\\n",
       "\\hline\n",
       "\t 87.17619     & 82.87739     & -0.004362918 &  4.303159   \\\\\n",
       "\t 90.32925     & 82.09550     & -0.004362918 &  8.238119   \\\\\n",
       "\t 92.96089     & 81.87348     & -0.004362918 & 11.091777   \\\\\n",
       "\t 90.93360     & 81.89497     & -0.004362918 &  9.042997   \\\\\n",
       "\t 83.99752     & 81.93450     & -0.004362918 &  2.067387   \\\\\n",
       "\\end{tabular}\n"
      ],
      "text/markdown": [
       "\n",
       "| xhat | level | trend | season |\n",
       "|---|---|---|---|\n",
       "| 87.17619     | 82.87739     | -0.004362918 |  4.303159    |\n",
       "| 90.32925     | 82.09550     | -0.004362918 |  8.238119    |\n",
       "| 92.96089     | 81.87348     | -0.004362918 | 11.091777    |\n",
       "| 90.93360     | 81.89497     | -0.004362918 |  9.042997    |\n",
       "| 83.99752     | 81.93450     | -0.004362918 |  2.067387    |\n",
       "\n"
      ],
      "text/plain": [
       "     xhat     level    trend        season   \n",
       "[1,] 87.17619 82.87739 -0.004362918  4.303159\n",
       "[2,] 90.32925 82.09550 -0.004362918  8.238119\n",
       "[3,] 92.96089 81.87348 -0.004362918 11.091777\n",
       "[4,] 90.93360 81.89497 -0.004362918  9.042997\n",
       "[5,] 83.99752 81.93450 -0.004362918  2.067387"
      ]
     },
     "metadata": {},
     "output_type": "display_data"
    }
   ],
   "source": [
    "HW_A$fitted[1:5,]"
   ]
  },
  {
   "cell_type": "markdown",
   "metadata": {},
   "source": [
    "#### Result:\n",
    " If we inspect the plot of fitted model visually, we can see that the length of seasons are not getting wider as years go by. The duration of warm season is staying pretting constant.\n",
    "\n",
    "To explore further, we can perform cusum method to see if we can use Holtwinters model's components to detect change.\n",
    "We will pick fitted values, xhat and seasonal component for out calculations.\n"
   ]
  },
  {
   "cell_type": "markdown",
   "metadata": {},
   "source": [
    "### First, we try CUSUM using seasonal factors:"
   ]
  },
  {
   "cell_type": "code",
   "execution_count": 184,
   "metadata": {},
   "outputs": [],
   "source": [
    "season <- matrix(HW_A$fitted[,4],ncol=123)"
   ]
  },
  {
   "cell_type": "code",
   "execution_count": 185,
   "metadata": {},
   "outputs": [
    {
     "data": {
      "text/html": [
       "<table>\n",
       "<tbody>\n",
       "\t<tr><td> 4.303159  </td><td>7.896655   </td><td>-2.493588  </td><td> 8.132428  </td><td> 3.4251107 </td><td>-12.192775 </td><td>-12.6480600</td><td>2.284850   </td><td> 6.239628  </td><td> 6.6517207 </td><td>...        </td><td> 1.8817396 </td><td> 2.7973275 </td><td> -7.384007 </td><td> -6.731199 </td><td>4.594863   </td><td>4.229417   </td><td>2.351232   </td><td>1.784854   </td><td>-4.558808  </td><td>-14.105770 </td></tr>\n",
       "\t<tr><td> 8.238119  </td><td>6.766574   </td><td>-9.574889  </td><td> 8.343810  </td><td>-0.5748893 </td><td>-16.176515 </td><td> -8.5667592</td><td>6.318137   </td><td>-9.901430  </td><td> 6.6256258 </td><td>...        </td><td> 1.1980662 </td><td> 2.5782433 </td><td> -4.781048 </td><td>-10.324733 </td><td>2.398748   </td><td>7.180348   </td><td>6.424048   </td><td>1.580458   </td><td>-3.088859  </td><td>-16.322937 </td></tr>\n",
       "\t<tr><td>11.091777  </td><td>1.677143   </td><td>-2.656190  </td><td> 9.490151  </td><td>-0.5179787 </td><td>-18.135865 </td><td> -8.4935885</td><td>4.338100   </td><td>-1.984170  </td><td> 5.6101678 </td><td>...        </td><td>-0.2425926 </td><td> 0.3037505 </td><td> -6.456080 </td><td>-11.314989 </td><td>4.734543   </td><td>4.587807   </td><td>7.136208   </td><td>1.309686   </td><td>-2.716105  </td><td>-16.169481 </td></tr>\n",
       "\t<tr><td> 9.042997  </td><td>4.766574   </td><td> 3.238119  </td><td> 9.620233  </td><td>-4.4691982 </td><td>-22.103345 </td><td> -6.4935885</td><td>8.285123   </td><td> 1.990683  </td><td>-0.3353284 </td><td>...        </td><td> 2.9354693 </td><td>-2.8434214 </td><td> -7.796781 </td><td>-14.441652 </td><td>2.474585   </td><td>5.996550   </td><td>8.335971   </td><td>0.883261   </td><td>-2.276560  </td><td>-12.230328 </td></tr>\n",
       "\t<tr><td> 2.067387  </td><td>5.799094   </td><td> 5.156818  </td><td> 2.770639  </td><td>-3.4122877 </td><td> -4.046434 </td><td> -6.4854584</td><td>9.225205   </td><td> 6.040869  </td><td>-3.2044010 </td><td>...        </td><td> 0.9624345 </td><td>-1.7724418 </td><td>-13.752436 </td><td> -9.707349 </td><td>3.562329   </td><td>6.522292   </td><td>8.632628   </td><td>1.957987   </td><td>-4.599660  </td><td> -9.335535 </td></tr>\n",
       "\t<tr><td> 2.116168  </td><td>6.815355   </td><td> 5.099907  </td><td>-3.152125  </td><td>-3.3391169 </td><td>-12.013914 </td><td> -0.5342389</td><td>9.200351   </td><td> 6.997307  </td><td>-1.1412182 </td><td>...        </td><td> 5.2063254 </td><td> 0.2441455 </td><td>-15.460074 </td><td>-10.375104 </td><td>1.729221   </td><td>5.832260   </td><td>7.564373   </td><td>3.625247   </td><td>-5.251089  </td><td>-10.575347 </td></tr>\n",
       "</tbody>\n",
       "</table>\n"
      ],
      "text/latex": [
       "\\begin{tabular}{lllllllllllllllllllllllllllllllllllllllllllllllllllllllllllllllllllllllllllllllllllllllllllllllllllllllllllllllllllllllllll}\n",
       "\t  4.303159   & 7.896655    & -2.493588   &  8.132428   &  3.4251107  & -12.192775  & -12.6480600 & 2.284850    &  6.239628   &  6.6517207  & ...         &  1.8817396  &  2.7973275  &  -7.384007  &  -6.731199  & 4.594863    & 4.229417    & 2.351232    & 1.784854    & -4.558808   & -14.105770 \\\\\n",
       "\t  8.238119   & 6.766574    & -9.574889   &  8.343810   & -0.5748893  & -16.176515  &  -8.5667592 & 6.318137    & -9.901430   &  6.6256258  & ...         &  1.1980662  &  2.5782433  &  -4.781048  & -10.324733  & 2.398748    & 7.180348    & 6.424048    & 1.580458    & -3.088859   & -16.322937 \\\\\n",
       "\t 11.091777   & 1.677143    & -2.656190   &  9.490151   & -0.5179787  & -18.135865  &  -8.4935885 & 4.338100    & -1.984170   &  5.6101678  & ...         & -0.2425926  &  0.3037505  &  -6.456080  & -11.314989  & 4.734543    & 4.587807    & 7.136208    & 1.309686    & -2.716105   & -16.169481 \\\\\n",
       "\t  9.042997   & 4.766574    &  3.238119   &  9.620233   & -4.4691982  & -22.103345  &  -6.4935885 & 8.285123    &  1.990683   & -0.3353284  & ...         &  2.9354693  & -2.8434214  &  -7.796781  & -14.441652  & 2.474585    & 5.996550    & 8.335971    & 0.883261    & -2.276560   & -12.230328 \\\\\n",
       "\t  2.067387   & 5.799094    &  5.156818   &  2.770639   & -3.4122877  &  -4.046434  &  -6.4854584 & 9.225205    &  6.040869   & -3.2044010  & ...         &  0.9624345  & -1.7724418  & -13.752436  &  -9.707349  & 3.562329    & 6.522292    & 8.632628    & 1.957987    & -4.599660   &  -9.335535 \\\\\n",
       "\t  2.116168   & 6.815355    &  5.099907   & -3.152125   & -3.3391169  & -12.013914  &  -0.5342389 & 9.200351    &  6.997307   & -1.1412182  & ...         &  5.2063254  &  0.2441455  & -15.460074  & -10.375104  & 1.729221    & 5.832260    & 7.564373    & 3.625247    & -5.251089   & -10.575347 \\\\\n",
       "\\end{tabular}\n"
      ],
      "text/markdown": [
       "\n",
       "|  4.303159   | 7.896655    | -2.493588   |  8.132428   |  3.4251107  | -12.192775  | -12.6480600 | 2.284850    |  6.239628   |  6.6517207  | ...         |  1.8817396  |  2.7973275  |  -7.384007  |  -6.731199  | 4.594863    | 4.229417    | 2.351232    | 1.784854    | -4.558808   | -14.105770  |\n",
       "|  8.238119   | 6.766574    | -9.574889   |  8.343810   | -0.5748893  | -16.176515  |  -8.5667592 | 6.318137    | -9.901430   |  6.6256258  | ...         |  1.1980662  |  2.5782433  |  -4.781048  | -10.324733  | 2.398748    | 7.180348    | 6.424048    | 1.580458    | -3.088859   | -16.322937  |\n",
       "| 11.091777   | 1.677143    | -2.656190   |  9.490151   | -0.5179787  | -18.135865  |  -8.4935885 | 4.338100    | -1.984170   |  5.6101678  | ...         | -0.2425926  |  0.3037505  |  -6.456080  | -11.314989  | 4.734543    | 4.587807    | 7.136208    | 1.309686    | -2.716105   | -16.169481  |\n",
       "|  9.042997   | 4.766574    |  3.238119   |  9.620233   | -4.4691982  | -22.103345  |  -6.4935885 | 8.285123    |  1.990683   | -0.3353284  | ...         |  2.9354693  | -2.8434214  |  -7.796781  | -14.441652  | 2.474585    | 5.996550    | 8.335971    | 0.883261    | -2.276560   | -12.230328  |\n",
       "|  2.067387   | 5.799094    |  5.156818   |  2.770639   | -3.4122877  |  -4.046434  |  -6.4854584 | 9.225205    |  6.040869   | -3.2044010  | ...         |  0.9624345  | -1.7724418  | -13.752436  |  -9.707349  | 3.562329    | 6.522292    | 8.632628    | 1.957987    | -4.599660   |  -9.335535  |\n",
       "|  2.116168   | 6.815355    |  5.099907   | -3.152125   | -3.3391169  | -12.013914  |  -0.5342389 | 9.200351    |  6.997307   | -1.1412182  | ...         |  5.2063254  |  0.2441455  | -15.460074  | -10.375104  | 1.729221    | 5.832260    | 7.564373    | 3.625247    | -5.251089   | -10.575347  |\n",
       "\n"
      ],
      "text/plain": [
       "     [,1]      [,2]     [,3]      [,4]      [,5]       [,6]       [,7]       \n",
       "[1,]  4.303159 7.896655 -2.493588  8.132428  3.4251107 -12.192775 -12.6480600\n",
       "[2,]  8.238119 6.766574 -9.574889  8.343810 -0.5748893 -16.176515  -8.5667592\n",
       "[3,] 11.091777 1.677143 -2.656190  9.490151 -0.5179787 -18.135865  -8.4935885\n",
       "[4,]  9.042997 4.766574  3.238119  9.620233 -4.4691982 -22.103345  -6.4935885\n",
       "[5,]  2.067387 5.799094  5.156818  2.770639 -3.4122877  -4.046434  -6.4854584\n",
       "[6,]  2.116168 6.815355  5.099907 -3.152125 -3.3391169 -12.013914  -0.5342389\n",
       "     [,8]     [,9]      [,10]      [,11] [,12]      [,13]      [,14]     \n",
       "[1,] 2.284850  6.239628  6.6517207 ...    1.8817396  2.7973275  -7.384007\n",
       "[2,] 6.318137 -9.901430  6.6256258 ...    1.1980662  2.5782433  -4.781048\n",
       "[3,] 4.338100 -1.984170  5.6101678 ...   -0.2425926  0.3037505  -6.456080\n",
       "[4,] 8.285123  1.990683 -0.3353284 ...    2.9354693 -2.8434214  -7.796781\n",
       "[5,] 9.225205  6.040869 -3.2044010 ...    0.9624345 -1.7724418 -13.752436\n",
       "[6,] 9.200351  6.997307 -1.1412182 ...    5.2063254  0.2441455 -15.460074\n",
       "     [,15]      [,16]    [,17]    [,18]    [,19]    [,20]     [,21]     \n",
       "[1,]  -6.731199 4.594863 4.229417 2.351232 1.784854 -4.558808 -14.105770\n",
       "[2,] -10.324733 2.398748 7.180348 6.424048 1.580458 -3.088859 -16.322937\n",
       "[3,] -11.314989 4.734543 4.587807 7.136208 1.309686 -2.716105 -16.169481\n",
       "[4,] -14.441652 2.474585 5.996550 8.335971 0.883261 -2.276560 -12.230328\n",
       "[5,]  -9.707349 3.562329 6.522292 8.632628 1.957987 -4.599660  -9.335535\n",
       "[6,] -10.375104 1.729221 5.832260 7.564373 3.625247 -5.251089 -10.575347"
      ]
     },
     "metadata": {},
     "output_type": "display_data"
    }
   ],
   "source": [
    "head(season)"
   ]
  },
  {
   "cell_type": "code",
   "execution_count": 186,
   "metadata": {},
   "outputs": [
    {
     "data": {
      "text/html": [
       "<ol class=list-inline>\n",
       "\t<li>19</li>\n",
       "\t<li>123</li>\n",
       "</ol>\n"
      ],
      "text/latex": [
       "\\begin{enumerate*}\n",
       "\\item 19\n",
       "\\item 123\n",
       "\\end{enumerate*}\n"
      ],
      "text/markdown": [
       "1. 19\n",
       "2. 123\n",
       "\n",
       "\n"
      ],
      "text/plain": [
       "[1]  19 123"
      ]
     },
     "metadata": {},
     "output_type": "display_data"
    }
   ],
   "source": [
    "dim(season)"
   ]
  },
  {
   "cell_type": "markdown",
   "metadata": {},
   "source": [
    "The data for year 1996 is not present in seasonality data."
   ]
  },
  {
   "cell_type": "code",
   "execution_count": 187,
   "metadata": {},
   "outputs": [],
   "source": [
    "#Adding row names and columns to xhat data\n",
    "colnames(season)<-as.vector(t(temps[,1]))\n",
    "rownames(season)<-c(1997:2015)\n"
   ]
  },
  {
   "cell_type": "code",
   "execution_count": 188,
   "metadata": {},
   "outputs": [
    {
     "data": {
      "text/html": [
       "<table>\n",
       "<thead><tr><th></th><th scope=col>1-Jul</th><th scope=col>2-Jul</th><th scope=col>3-Jul</th><th scope=col>4-Jul</th><th scope=col>5-Jul</th><th scope=col>6-Jul</th><th scope=col>7-Jul</th><th scope=col>8-Jul</th><th scope=col>9-Jul</th><th scope=col>10-Jul</th><th scope=col>...</th><th scope=col>22-Oct</th><th scope=col>23-Oct</th><th scope=col>24-Oct</th><th scope=col>25-Oct</th><th scope=col>26-Oct</th><th scope=col>27-Oct</th><th scope=col>28-Oct</th><th scope=col>29-Oct</th><th scope=col>30-Oct</th><th scope=col>31-Oct</th></tr></thead>\n",
       "<tbody>\n",
       "\t<tr><th scope=row>1997</th><td> 4.303159  </td><td>7.896655   </td><td>-2.493588  </td><td> 8.132428  </td><td> 3.4251107 </td><td>-12.192775 </td><td>-12.6480600</td><td>2.284850   </td><td> 6.239628  </td><td> 6.6517207 </td><td>...        </td><td> 1.8817396 </td><td> 2.7973275 </td><td> -7.384007 </td><td> -6.731199 </td><td>4.594863   </td><td>4.229417   </td><td>2.351232   </td><td>1.784854   </td><td>-4.558808  </td><td>-14.105770 </td></tr>\n",
       "\t<tr><th scope=row>1998</th><td> 8.238119  </td><td>6.766574   </td><td>-9.574889  </td><td> 8.343810  </td><td>-0.5748893 </td><td>-16.176515 </td><td> -8.5667592</td><td>6.318137   </td><td>-9.901430  </td><td> 6.6256258 </td><td>...        </td><td> 1.1980662 </td><td> 2.5782433 </td><td> -4.781048 </td><td>-10.324733 </td><td>2.398748   </td><td>7.180348   </td><td>6.424048   </td><td>1.580458   </td><td>-3.088859  </td><td>-16.322937 </td></tr>\n",
       "\t<tr><th scope=row>1999</th><td>11.091777  </td><td>1.677143   </td><td>-2.656190  </td><td> 9.490151  </td><td>-0.5179787 </td><td>-18.135865 </td><td> -8.4935885</td><td>4.338100   </td><td>-1.984170  </td><td> 5.6101678 </td><td>...        </td><td>-0.2425926 </td><td> 0.3037505 </td><td> -6.456080 </td><td>-11.314989 </td><td>4.734543   </td><td>4.587807   </td><td>7.136208   </td><td>1.309686   </td><td>-2.716105  </td><td>-16.169481 </td></tr>\n",
       "\t<tr><th scope=row>2000</th><td> 9.042997  </td><td>4.766574   </td><td> 3.238119  </td><td> 9.620233  </td><td>-4.4691982 </td><td>-22.103345 </td><td> -6.4935885</td><td>8.285123   </td><td> 1.990683  </td><td>-0.3353284 </td><td>...        </td><td> 2.9354693 </td><td>-2.8434214 </td><td> -7.796781 </td><td>-14.441652 </td><td>2.474585   </td><td>5.996550   </td><td>8.335971   </td><td>0.883261   </td><td>-2.276560  </td><td>-12.230328 </td></tr>\n",
       "\t<tr><th scope=row>2001</th><td> 2.067387  </td><td>5.799094   </td><td> 5.156818  </td><td> 2.770639  </td><td>-3.4122877 </td><td> -4.046434 </td><td> -6.4854584</td><td>9.225205   </td><td> 6.040869  </td><td>-3.2044010 </td><td>...        </td><td> 0.9624345 </td><td>-1.7724418 </td><td>-13.752436 </td><td> -9.707349 </td><td>3.562329   </td><td>6.522292   </td><td>8.632628   </td><td>1.957987   </td><td>-4.599660  </td><td> -9.335535 </td></tr>\n",
       "\t<tr><th scope=row>2002</th><td> 2.116168  </td><td>6.815355   </td><td> 5.099907  </td><td>-3.152125  </td><td>-3.3391169 </td><td>-12.013914 </td><td> -0.5342389</td><td>9.200351   </td><td> 6.997307  </td><td>-1.1412182 </td><td>...        </td><td> 5.2063254 </td><td> 0.2441455 </td><td>-15.460074 </td><td>-10.375104 </td><td>1.729221   </td><td>5.832260   </td><td>7.564373   </td><td>3.625247   </td><td>-5.251089  </td><td>-10.575347 </td></tr>\n",
       "</tbody>\n",
       "</table>\n"
      ],
      "text/latex": [
       "\\begin{tabular}{r|lllllllllllllllllllllllllllllllllllllllllllllllllllllllllllllllllllllllllllllllllllllllllllllllllllllllllllllllllllllllllll}\n",
       "  & 1-Jul & 2-Jul & 3-Jul & 4-Jul & 5-Jul & 6-Jul & 7-Jul & 8-Jul & 9-Jul & 10-Jul & ... & 22-Oct & 23-Oct & 24-Oct & 25-Oct & 26-Oct & 27-Oct & 28-Oct & 29-Oct & 30-Oct & 31-Oct\\\\\n",
       "\\hline\n",
       "\t1997 &  4.303159   & 7.896655    & -2.493588   &  8.132428   &  3.4251107  & -12.192775  & -12.6480600 & 2.284850    &  6.239628   &  6.6517207  & ...         &  1.8817396  &  2.7973275  &  -7.384007  &  -6.731199  & 4.594863    & 4.229417    & 2.351232    & 1.784854    & -4.558808   & -14.105770 \\\\\n",
       "\t1998 &  8.238119   & 6.766574    & -9.574889   &  8.343810   & -0.5748893  & -16.176515  &  -8.5667592 & 6.318137    & -9.901430   &  6.6256258  & ...         &  1.1980662  &  2.5782433  &  -4.781048  & -10.324733  & 2.398748    & 7.180348    & 6.424048    & 1.580458    & -3.088859   & -16.322937 \\\\\n",
       "\t1999 & 11.091777   & 1.677143    & -2.656190   &  9.490151   & -0.5179787  & -18.135865  &  -8.4935885 & 4.338100    & -1.984170   &  5.6101678  & ...         & -0.2425926  &  0.3037505  &  -6.456080  & -11.314989  & 4.734543    & 4.587807    & 7.136208    & 1.309686    & -2.716105   & -16.169481 \\\\\n",
       "\t2000 &  9.042997   & 4.766574    &  3.238119   &  9.620233   & -4.4691982  & -22.103345  &  -6.4935885 & 8.285123    &  1.990683   & -0.3353284  & ...         &  2.9354693  & -2.8434214  &  -7.796781  & -14.441652  & 2.474585    & 5.996550    & 8.335971    & 0.883261    & -2.276560   & -12.230328 \\\\\n",
       "\t2001 &  2.067387   & 5.799094    &  5.156818   &  2.770639   & -3.4122877  &  -4.046434  &  -6.4854584 & 9.225205    &  6.040869   & -3.2044010  & ...         &  0.9624345  & -1.7724418  & -13.752436  &  -9.707349  & 3.562329    & 6.522292    & 8.632628    & 1.957987    & -4.599660   &  -9.335535 \\\\\n",
       "\t2002 &  2.116168   & 6.815355    &  5.099907   & -3.152125   & -3.3391169  & -12.013914  &  -0.5342389 & 9.200351    &  6.997307   & -1.1412182  & ...         &  5.2063254  &  0.2441455  & -15.460074  & -10.375104  & 1.729221    & 5.832260    & 7.564373    & 3.625247    & -5.251089   & -10.575347 \\\\\n",
       "\\end{tabular}\n"
      ],
      "text/markdown": [
       "\n",
       "| <!--/--> | 1-Jul | 2-Jul | 3-Jul | 4-Jul | 5-Jul | 6-Jul | 7-Jul | 8-Jul | 9-Jul | 10-Jul | ... | 22-Oct | 23-Oct | 24-Oct | 25-Oct | 26-Oct | 27-Oct | 28-Oct | 29-Oct | 30-Oct | 31-Oct |\n",
       "|---|---|---|---|---|---|---|---|---|---|---|---|---|---|---|---|---|---|---|---|---|---|\n",
       "| 1997 |  4.303159   | 7.896655    | -2.493588   |  8.132428   |  3.4251107  | -12.192775  | -12.6480600 | 2.284850    |  6.239628   |  6.6517207  | ...         |  1.8817396  |  2.7973275  |  -7.384007  |  -6.731199  | 4.594863    | 4.229417    | 2.351232    | 1.784854    | -4.558808   | -14.105770  |\n",
       "| 1998 |  8.238119   | 6.766574    | -9.574889   |  8.343810   | -0.5748893  | -16.176515  |  -8.5667592 | 6.318137    | -9.901430   |  6.6256258  | ...         |  1.1980662  |  2.5782433  |  -4.781048  | -10.324733  | 2.398748    | 7.180348    | 6.424048    | 1.580458    | -3.088859   | -16.322937  |\n",
       "| 1999 | 11.091777   | 1.677143    | -2.656190   |  9.490151   | -0.5179787  | -18.135865  |  -8.4935885 | 4.338100    | -1.984170   |  5.6101678  | ...         | -0.2425926  |  0.3037505  |  -6.456080  | -11.314989  | 4.734543    | 4.587807    | 7.136208    | 1.309686    | -2.716105   | -16.169481  |\n",
       "| 2000 |  9.042997   | 4.766574    |  3.238119   |  9.620233   | -4.4691982  | -22.103345  |  -6.4935885 | 8.285123    |  1.990683   | -0.3353284  | ...         |  2.9354693  | -2.8434214  |  -7.796781  | -14.441652  | 2.474585    | 5.996550    | 8.335971    | 0.883261    | -2.276560   | -12.230328  |\n",
       "| 2001 |  2.067387   | 5.799094    |  5.156818   |  2.770639   | -3.4122877  |  -4.046434  |  -6.4854584 | 9.225205    |  6.040869   | -3.2044010  | ...         |  0.9624345  | -1.7724418  | -13.752436  |  -9.707349  | 3.562329    | 6.522292    | 8.632628    | 1.957987    | -4.599660   |  -9.335535  |\n",
       "| 2002 |  2.116168   | 6.815355    |  5.099907   | -3.152125   | -3.3391169  | -12.013914  |  -0.5342389 | 9.200351    |  6.997307   | -1.1412182  | ...         |  5.2063254  |  0.2441455  | -15.460074  | -10.375104  | 1.729221    | 5.832260    | 7.564373    | 3.625247    | -5.251089   | -10.575347  |\n",
       "\n"
      ],
      "text/plain": [
       "     1-Jul     2-Jul    3-Jul     4-Jul     5-Jul      6-Jul      7-Jul      \n",
       "1997  4.303159 7.896655 -2.493588  8.132428  3.4251107 -12.192775 -12.6480600\n",
       "1998  8.238119 6.766574 -9.574889  8.343810 -0.5748893 -16.176515  -8.5667592\n",
       "1999 11.091777 1.677143 -2.656190  9.490151 -0.5179787 -18.135865  -8.4935885\n",
       "2000  9.042997 4.766574  3.238119  9.620233 -4.4691982 -22.103345  -6.4935885\n",
       "2001  2.067387 5.799094  5.156818  2.770639 -3.4122877  -4.046434  -6.4854584\n",
       "2002  2.116168 6.815355  5.099907 -3.152125 -3.3391169 -12.013914  -0.5342389\n",
       "     8-Jul    9-Jul     10-Jul     ... 22-Oct     23-Oct     24-Oct    \n",
       "1997 2.284850  6.239628  6.6517207 ...  1.8817396  2.7973275  -7.384007\n",
       "1998 6.318137 -9.901430  6.6256258 ...  1.1980662  2.5782433  -4.781048\n",
       "1999 4.338100 -1.984170  5.6101678 ... -0.2425926  0.3037505  -6.456080\n",
       "2000 8.285123  1.990683 -0.3353284 ...  2.9354693 -2.8434214  -7.796781\n",
       "2001 9.225205  6.040869 -3.2044010 ...  0.9624345 -1.7724418 -13.752436\n",
       "2002 9.200351  6.997307 -1.1412182 ...  5.2063254  0.2441455 -15.460074\n",
       "     25-Oct     26-Oct   27-Oct   28-Oct   29-Oct   30-Oct    31-Oct    \n",
       "1997  -6.731199 4.594863 4.229417 2.351232 1.784854 -4.558808 -14.105770\n",
       "1998 -10.324733 2.398748 7.180348 6.424048 1.580458 -3.088859 -16.322937\n",
       "1999 -11.314989 4.734543 4.587807 7.136208 1.309686 -2.716105 -16.169481\n",
       "2000 -14.441652 2.474585 5.996550 8.335971 0.883261 -2.276560 -12.230328\n",
       "2001  -9.707349 3.562329 6.522292 8.632628 1.957987 -4.599660  -9.335535\n",
       "2002 -10.375104 1.729221 5.832260 7.564373 3.625247 -5.251089 -10.575347"
      ]
     },
     "metadata": {},
     "output_type": "display_data"
    }
   ],
   "source": [
    "head(season)"
   ]
  },
  {
   "cell_type": "code",
   "execution_count": 189,
   "metadata": {},
   "outputs": [],
   "source": [
    "#transposing xhat to be able to use homework 3 functions and prodecures\n",
    "season<-t(season)"
   ]
  },
  {
   "cell_type": "code",
   "execution_count": 239,
   "metadata": {},
   "outputs": [
    {
     "data": {
      "text/html": [
       "<table>\n",
       "<thead><tr><th></th><th scope=col>1997</th><th scope=col>1998</th><th scope=col>1999</th><th scope=col>2000</th><th scope=col>2001</th><th scope=col>2002</th><th scope=col>2003</th><th scope=col>2004</th><th scope=col>2005</th><th scope=col>2006</th><th scope=col>2007</th><th scope=col>2008</th><th scope=col>2009</th><th scope=col>2010</th><th scope=col>2011</th><th scope=col>2012</th><th scope=col>2013</th><th scope=col>2014</th><th scope=col>2015</th></tr></thead>\n",
       "<tbody>\n",
       "\t<tr><th scope=row>26-Oct</th><td>  4.594863 </td><td>  2.398748 </td><td>  4.734543 </td><td>  2.474585 </td><td> 3.562329  </td><td>  1.729221 </td><td>  2.963993 </td><td> 6.1617888 </td><td> 4.9642385 </td><td> 8.4888275 </td><td> 5.396697  </td><td> 10.3475617</td><td> 10.132140 </td><td>  9.7119924</td><td>  7.762740 </td><td>  7.2592883</td><td>  6.393069 </td><td>  5.8999187</td><td>  5.7717276</td></tr>\n",
       "\t<tr><th scope=row>27-Oct</th><td>  4.229417 </td><td>  7.180348 </td><td>  4.587807 </td><td>  5.996550 </td><td> 6.522292  </td><td>  5.832260 </td><td>  3.676858 </td><td> 3.9638066 </td><td> 3.5715531 </td><td> 2.8544750 </td><td> 2.115263  </td><td>  2.6367990</td><td>  1.704358 </td><td>  0.2398016</td><td>  0.106239 </td><td> -1.4964109</td><td> -2.176732 </td><td> -2.3581247</td><td>  0.3313898</td></tr>\n",
       "\t<tr><th scope=row>28-Oct</th><td>  2.351232 </td><td>  6.424048 </td><td>  7.136208 </td><td>  8.335971 </td><td> 8.632628  </td><td>  7.564373 </td><td>  4.915796 </td><td> 0.5495608 </td><td>-0.9733753 </td><td> 1.6163475 </td><td> 1.677363  </td><td>  0.8611871</td><td>  2.849256 </td><td>  0.5048845</td><td>  4.365206 </td><td>  4.4810004</td><td>  3.012644 </td><td>  3.7928937</td><td> -2.1404589</td></tr>\n",
       "\t<tr><th scope=row>29-Oct</th><td>  1.784854 </td><td>  1.580458 </td><td>  1.309686 </td><td>  0.883261 </td><td> 1.957987  </td><td>  3.625247 </td><td>  4.613873 </td><td> 4.4851461 </td><td> 1.6616995 </td><td> 0.7696508 </td><td> 2.361848  </td><td>  1.9836291</td><td> -1.606642 </td><td> -1.7908999</td><td> -0.400013 </td><td>  0.1019151</td><td> -1.072244 </td><td> -0.9699143</td><td> -2.7687440</td></tr>\n",
       "\t<tr><th scope=row>30-Oct</th><td> -4.558808 </td><td> -3.088859 </td><td> -2.716105 </td><td> -2.276560 </td><td>-4.599660  </td><td> -5.251089 </td><td> -4.467081 </td><td>-5.7668367 </td><td>-7.4080386 </td><td>-8.8197985 </td><td>-8.571026  </td><td> -6.1143737</td><td> -5.913719 </td><td>-11.0049498</td><td>-13.319209 </td><td>-13.4601826</td><td>-14.259795 </td><td>-15.1073129</td><td>-14.4557108</td></tr>\n",
       "\t<tr><th scope=row>31-Oct</th><td>-14.105770 </td><td>-16.322937 </td><td>-16.169481 </td><td>-12.230328 </td><td>-9.335535  </td><td>-10.575347 </td><td>-12.280703 </td><td>-9.8827456 </td><td>-5.9204277 </td><td>-8.0541265 </td><td>-9.587651  </td><td>-10.4309896</td><td>-12.843656 </td><td> -8.6849941</td><td> -9.886253 </td><td>-14.6457515</td><td>-12.026808 </td><td> -8.9339468</td><td> -4.9410841</td></tr>\n",
       "</tbody>\n",
       "</table>\n"
      ],
      "text/latex": [
       "\\begin{tabular}{r|lllllllllllllllllll}\n",
       "  & 1997 & 1998 & 1999 & 2000 & 2001 & 2002 & 2003 & 2004 & 2005 & 2006 & 2007 & 2008 & 2009 & 2010 & 2011 & 2012 & 2013 & 2014 & 2015\\\\\n",
       "\\hline\n",
       "\t26-Oct &   4.594863  &   2.398748  &   4.734543  &   2.474585  &  3.562329   &   1.729221  &   2.963993  &  6.1617888  &  4.9642385  &  8.4888275  &  5.396697   &  10.3475617 &  10.132140  &   9.7119924 &   7.762740  &   7.2592883 &   6.393069  &   5.8999187 &   5.7717276\\\\\n",
       "\t27-Oct &   4.229417  &   7.180348  &   4.587807  &   5.996550  &  6.522292   &   5.832260  &   3.676858  &  3.9638066  &  3.5715531  &  2.8544750  &  2.115263   &   2.6367990 &   1.704358  &   0.2398016 &   0.106239  &  -1.4964109 &  -2.176732  &  -2.3581247 &   0.3313898\\\\\n",
       "\t28-Oct &   2.351232  &   6.424048  &   7.136208  &   8.335971  &  8.632628   &   7.564373  &   4.915796  &  0.5495608  & -0.9733753  &  1.6163475  &  1.677363   &   0.8611871 &   2.849256  &   0.5048845 &   4.365206  &   4.4810004 &   3.012644  &   3.7928937 &  -2.1404589\\\\\n",
       "\t29-Oct &   1.784854  &   1.580458  &   1.309686  &   0.883261  &  1.957987   &   3.625247  &   4.613873  &  4.4851461  &  1.6616995  &  0.7696508  &  2.361848   &   1.9836291 &  -1.606642  &  -1.7908999 &  -0.400013  &   0.1019151 &  -1.072244  &  -0.9699143 &  -2.7687440\\\\\n",
       "\t30-Oct &  -4.558808  &  -3.088859  &  -2.716105  &  -2.276560  & -4.599660   &  -5.251089  &  -4.467081  & -5.7668367  & -7.4080386  & -8.8197985  & -8.571026   &  -6.1143737 &  -5.913719  & -11.0049498 & -13.319209  & -13.4601826 & -14.259795  & -15.1073129 & -14.4557108\\\\\n",
       "\t31-Oct & -14.105770  & -16.322937  & -16.169481  & -12.230328  & -9.335535   & -10.575347  & -12.280703  & -9.8827456  & -5.9204277  & -8.0541265  & -9.587651   & -10.4309896 & -12.843656  &  -8.6849941 &  -9.886253  & -14.6457515 & -12.026808  &  -8.9339468 &  -4.9410841\\\\\n",
       "\\end{tabular}\n"
      ],
      "text/markdown": [
       "\n",
       "| <!--/--> | 1997 | 1998 | 1999 | 2000 | 2001 | 2002 | 2003 | 2004 | 2005 | 2006 | 2007 | 2008 | 2009 | 2010 | 2011 | 2012 | 2013 | 2014 | 2015 |\n",
       "|---|---|---|---|---|---|---|---|---|---|---|---|---|---|---|---|---|---|---|---|\n",
       "| 26-Oct |   4.594863  |   2.398748  |   4.734543  |   2.474585  |  3.562329   |   1.729221  |   2.963993  |  6.1617888  |  4.9642385  |  8.4888275  |  5.396697   |  10.3475617 |  10.132140  |   9.7119924 |   7.762740  |   7.2592883 |   6.393069  |   5.8999187 |   5.7717276 |\n",
       "| 27-Oct |   4.229417  |   7.180348  |   4.587807  |   5.996550  |  6.522292   |   5.832260  |   3.676858  |  3.9638066  |  3.5715531  |  2.8544750  |  2.115263   |   2.6367990 |   1.704358  |   0.2398016 |   0.106239  |  -1.4964109 |  -2.176732  |  -2.3581247 |   0.3313898 |\n",
       "| 28-Oct |   2.351232  |   6.424048  |   7.136208  |   8.335971  |  8.632628   |   7.564373  |   4.915796  |  0.5495608  | -0.9733753  |  1.6163475  |  1.677363   |   0.8611871 |   2.849256  |   0.5048845 |   4.365206  |   4.4810004 |   3.012644  |   3.7928937 |  -2.1404589 |\n",
       "| 29-Oct |   1.784854  |   1.580458  |   1.309686  |   0.883261  |  1.957987   |   3.625247  |   4.613873  |  4.4851461  |  1.6616995  |  0.7696508  |  2.361848   |   1.9836291 |  -1.606642  |  -1.7908999 |  -0.400013  |   0.1019151 |  -1.072244  |  -0.9699143 |  -2.7687440 |\n",
       "| 30-Oct |  -4.558808  |  -3.088859  |  -2.716105  |  -2.276560  | -4.599660   |  -5.251089  |  -4.467081  | -5.7668367  | -7.4080386  | -8.8197985  | -8.571026   |  -6.1143737 |  -5.913719  | -11.0049498 | -13.319209  | -13.4601826 | -14.259795  | -15.1073129 | -14.4557108 |\n",
       "| 31-Oct | -14.105770  | -16.322937  | -16.169481  | -12.230328  | -9.335535   | -10.575347  | -12.280703  | -9.8827456  | -5.9204277  | -8.0541265  | -9.587651   | -10.4309896 | -12.843656  |  -8.6849941 |  -9.886253  | -14.6457515 | -12.026808  |  -8.9339468 |  -4.9410841 |\n",
       "\n"
      ],
      "text/plain": [
       "       1997       1998       1999       2000       2001      2002      \n",
       "26-Oct   4.594863   2.398748   4.734543   2.474585  3.562329   1.729221\n",
       "27-Oct   4.229417   7.180348   4.587807   5.996550  6.522292   5.832260\n",
       "28-Oct   2.351232   6.424048   7.136208   8.335971  8.632628   7.564373\n",
       "29-Oct   1.784854   1.580458   1.309686   0.883261  1.957987   3.625247\n",
       "30-Oct  -4.558808  -3.088859  -2.716105  -2.276560 -4.599660  -5.251089\n",
       "31-Oct -14.105770 -16.322937 -16.169481 -12.230328 -9.335535 -10.575347\n",
       "       2003       2004       2005       2006       2007      2008       \n",
       "26-Oct   2.963993  6.1617888  4.9642385  8.4888275  5.396697  10.3475617\n",
       "27-Oct   3.676858  3.9638066  3.5715531  2.8544750  2.115263   2.6367990\n",
       "28-Oct   4.915796  0.5495608 -0.9733753  1.6163475  1.677363   0.8611871\n",
       "29-Oct   4.613873  4.4851461  1.6616995  0.7696508  2.361848   1.9836291\n",
       "30-Oct  -4.467081 -5.7668367 -7.4080386 -8.8197985 -8.571026  -6.1143737\n",
       "31-Oct -12.280703 -9.8827456 -5.9204277 -8.0541265 -9.587651 -10.4309896\n",
       "       2009       2010        2011       2012        2013       2014       \n",
       "26-Oct  10.132140   9.7119924   7.762740   7.2592883   6.393069   5.8999187\n",
       "27-Oct   1.704358   0.2398016   0.106239  -1.4964109  -2.176732  -2.3581247\n",
       "28-Oct   2.849256   0.5048845   4.365206   4.4810004   3.012644   3.7928937\n",
       "29-Oct  -1.606642  -1.7908999  -0.400013   0.1019151  -1.072244  -0.9699143\n",
       "30-Oct  -5.913719 -11.0049498 -13.319209 -13.4601826 -14.259795 -15.1073129\n",
       "31-Oct -12.843656  -8.6849941  -9.886253 -14.6457515 -12.026808  -8.9339468\n",
       "       2015       \n",
       "26-Oct   5.7717276\n",
       "27-Oct   0.3313898\n",
       "28-Oct  -2.1404589\n",
       "29-Oct  -2.7687440\n",
       "30-Oct -14.4557108\n",
       "31-Oct  -4.9410841"
      ]
     },
     "metadata": {},
     "output_type": "display_data"
    }
   ],
   "source": [
    "tail(season)\n"
   ]
  },
  {
   "cell_type": "code",
   "execution_count": 242,
   "metadata": {},
   "outputs": [],
   "source": [
    "#creating a data frame to store the cusum values for each year\n",
    "cusum_df<-data.frame(matrix(nrow=nrow(season),ncol=ncol(season)))"
   ]
  },
  {
   "cell_type": "code",
   "execution_count": 243,
   "metadata": {},
   "outputs": [],
   "source": [
    "#assigning columns names to cusum data frame\n",
    "colnames(cusum_df)<-colnames(season)\n",
    "rownames(cusum_df)<-rownames(season)\n"
   ]
  },
  {
   "cell_type": "code",
   "execution_count": 251,
   "metadata": {},
   "outputs": [
    {
     "data": {
      "text/html": [
       "<table>\n",
       "<thead><tr><th scope=col>Day</th><th scope=col>1997</th><th scope=col>1998</th><th scope=col>1999</th><th scope=col>2000</th><th scope=col>2001</th><th scope=col>2002</th><th scope=col>2003</th><th scope=col>2004</th><th scope=col>2005</th><th scope=col>2006</th><th scope=col>2007</th><th scope=col>2008</th><th scope=col>2009</th><th scope=col>2010</th><th scope=col>2011</th><th scope=col>2012</th><th scope=col>2013</th><th scope=col>2014</th><th scope=col>2015</th></tr></thead>\n",
       "<tbody>\n",
       "\t<tr><td>1-Jul</td><td>NA   </td><td>NA   </td><td>NA   </td><td>NA   </td><td>NA   </td><td>NA   </td><td>NA   </td><td>NA   </td><td>NA   </td><td>NA   </td><td>NA   </td><td>NA   </td><td>NA   </td><td>NA   </td><td>NA   </td><td>NA   </td><td>NA   </td><td>NA   </td><td>NA   </td></tr>\n",
       "\t<tr><td>2-Jul</td><td>NA   </td><td>NA   </td><td>NA   </td><td>NA   </td><td>NA   </td><td>NA   </td><td>NA   </td><td>NA   </td><td>NA   </td><td>NA   </td><td>NA   </td><td>NA   </td><td>NA   </td><td>NA   </td><td>NA   </td><td>NA   </td><td>NA   </td><td>NA   </td><td>NA   </td></tr>\n",
       "\t<tr><td>3-Jul</td><td>NA   </td><td>NA   </td><td>NA   </td><td>NA   </td><td>NA   </td><td>NA   </td><td>NA   </td><td>NA   </td><td>NA   </td><td>NA   </td><td>NA   </td><td>NA   </td><td>NA   </td><td>NA   </td><td>NA   </td><td>NA   </td><td>NA   </td><td>NA   </td><td>NA   </td></tr>\n",
       "\t<tr><td>4-Jul</td><td>NA   </td><td>NA   </td><td>NA   </td><td>NA   </td><td>NA   </td><td>NA   </td><td>NA   </td><td>NA   </td><td>NA   </td><td>NA   </td><td>NA   </td><td>NA   </td><td>NA   </td><td>NA   </td><td>NA   </td><td>NA   </td><td>NA   </td><td>NA   </td><td>NA   </td></tr>\n",
       "\t<tr><td>5-Jul</td><td>NA   </td><td>NA   </td><td>NA   </td><td>NA   </td><td>NA   </td><td>NA   </td><td>NA   </td><td>NA   </td><td>NA   </td><td>NA   </td><td>NA   </td><td>NA   </td><td>NA   </td><td>NA   </td><td>NA   </td><td>NA   </td><td>NA   </td><td>NA   </td><td>NA   </td></tr>\n",
       "\t<tr><td>6-Jul</td><td>NA   </td><td>NA   </td><td>NA   </td><td>NA   </td><td>NA   </td><td>NA   </td><td>NA   </td><td>NA   </td><td>NA   </td><td>NA   </td><td>NA   </td><td>NA   </td><td>NA   </td><td>NA   </td><td>NA   </td><td>NA   </td><td>NA   </td><td>NA   </td><td>NA   </td></tr>\n",
       "</tbody>\n",
       "</table>\n"
      ],
      "text/latex": [
       "\\begin{tabular}{r|llllllllllllllllllll}\n",
       " Day & 1997 & 1998 & 1999 & 2000 & 2001 & 2002 & 2003 & 2004 & 2005 & 2006 & 2007 & 2008 & 2009 & 2010 & 2011 & 2012 & 2013 & 2014 & 2015\\\\\n",
       "\\hline\n",
       "\t 1-Jul & NA    & NA    & NA    & NA    & NA    & NA    & NA    & NA    & NA    & NA    & NA    & NA    & NA    & NA    & NA    & NA    & NA    & NA    & NA   \\\\\n",
       "\t 2-Jul & NA    & NA    & NA    & NA    & NA    & NA    & NA    & NA    & NA    & NA    & NA    & NA    & NA    & NA    & NA    & NA    & NA    & NA    & NA   \\\\\n",
       "\t 3-Jul & NA    & NA    & NA    & NA    & NA    & NA    & NA    & NA    & NA    & NA    & NA    & NA    & NA    & NA    & NA    & NA    & NA    & NA    & NA   \\\\\n",
       "\t 4-Jul & NA    & NA    & NA    & NA    & NA    & NA    & NA    & NA    & NA    & NA    & NA    & NA    & NA    & NA    & NA    & NA    & NA    & NA    & NA   \\\\\n",
       "\t 5-Jul & NA    & NA    & NA    & NA    & NA    & NA    & NA    & NA    & NA    & NA    & NA    & NA    & NA    & NA    & NA    & NA    & NA    & NA    & NA   \\\\\n",
       "\t 6-Jul & NA    & NA    & NA    & NA    & NA    & NA    & NA    & NA    & NA    & NA    & NA    & NA    & NA    & NA    & NA    & NA    & NA    & NA    & NA   \\\\\n",
       "\\end{tabular}\n"
      ],
      "text/markdown": [
       "\n",
       "| Day | 1997 | 1998 | 1999 | 2000 | 2001 | 2002 | 2003 | 2004 | 2005 | 2006 | 2007 | 2008 | 2009 | 2010 | 2011 | 2012 | 2013 | 2014 | 2015 |\n",
       "|---|---|---|---|---|---|---|---|---|---|---|---|---|---|---|---|---|---|---|---|\n",
       "| 1-Jul | NA    | NA    | NA    | NA    | NA    | NA    | NA    | NA    | NA    | NA    | NA    | NA    | NA    | NA    | NA    | NA    | NA    | NA    | NA    |\n",
       "| 2-Jul | NA    | NA    | NA    | NA    | NA    | NA    | NA    | NA    | NA    | NA    | NA    | NA    | NA    | NA    | NA    | NA    | NA    | NA    | NA    |\n",
       "| 3-Jul | NA    | NA    | NA    | NA    | NA    | NA    | NA    | NA    | NA    | NA    | NA    | NA    | NA    | NA    | NA    | NA    | NA    | NA    | NA    |\n",
       "| 4-Jul | NA    | NA    | NA    | NA    | NA    | NA    | NA    | NA    | NA    | NA    | NA    | NA    | NA    | NA    | NA    | NA    | NA    | NA    | NA    |\n",
       "| 5-Jul | NA    | NA    | NA    | NA    | NA    | NA    | NA    | NA    | NA    | NA    | NA    | NA    | NA    | NA    | NA    | NA    | NA    | NA    | NA    |\n",
       "| 6-Jul | NA    | NA    | NA    | NA    | NA    | NA    | NA    | NA    | NA    | NA    | NA    | NA    | NA    | NA    | NA    | NA    | NA    | NA    | NA    |\n",
       "\n"
      ],
      "text/plain": [
       "  Day   1997 1998 1999 2000 2001 2002 2003 2004 2005 2006 2007 2008 2009 2010\n",
       "1 1-Jul NA   NA   NA   NA   NA   NA   NA   NA   NA   NA   NA   NA   NA   NA  \n",
       "2 2-Jul NA   NA   NA   NA   NA   NA   NA   NA   NA   NA   NA   NA   NA   NA  \n",
       "3 3-Jul NA   NA   NA   NA   NA   NA   NA   NA   NA   NA   NA   NA   NA   NA  \n",
       "4 4-Jul NA   NA   NA   NA   NA   NA   NA   NA   NA   NA   NA   NA   NA   NA  \n",
       "5 5-Jul NA   NA   NA   NA   NA   NA   NA   NA   NA   NA   NA   NA   NA   NA  \n",
       "6 6-Jul NA   NA   NA   NA   NA   NA   NA   NA   NA   NA   NA   NA   NA   NA  \n",
       "  2011 2012 2013 2014 2015\n",
       "1 NA   NA   NA   NA   NA  \n",
       "2 NA   NA   NA   NA   NA  \n",
       "3 NA   NA   NA   NA   NA  \n",
       "4 NA   NA   NA   NA   NA  \n",
       "5 NA   NA   NA   NA   NA  \n",
       "6 NA   NA   NA   NA   NA  "
      ]
     },
     "metadata": {},
     "output_type": "display_data"
    }
   ],
   "source": [
    "head(rownames_to_column(cusum_df,var=\"Day\"))"
   ]
  },
  {
   "cell_type": "code",
   "execution_count": 255,
   "metadata": {},
   "outputs": [
    {
     "name": "stdout",
     "output_type": "stream",
     "text": [
      "Year 1998 :No Change detected.\n",
      "Year 1999 :No Change detected.\n",
      "Year 2000 :No Change detected.\n",
      "Year 2001 :No Change detected.\n",
      "Year 2002 :No Change detected.\n",
      "Year 2003 :No Change detected.\n",
      "Year 2004 :No Change detected.\n",
      "Year 2005 :No Change detected.\n",
      "Year 2006 :No Change detected.\n",
      "Year 2007 :No Change detected.\n",
      "Year 2008 :No Change detected.\n",
      "Year 2009 :No Change detected.\n",
      "Year 2010 :No Change detected.\n",
      "Year 2011 :No Change detected.\n",
      "Year 2012 :No Change detected.\n",
      "Year 2013 :No Change detected.\n",
      "Year 2014 :No Change detected.\n",
      "Year 2015 :No Change detected.\n"
     ]
    }
   ],
   "source": [
    "#using Zero start method\n",
    "#calculating cusum values for each year\n",
    "for(y in 2:ncol(cusum_df)){\n",
    "    cusum_df[1,y]<-0 #initial St value for each column,set to zero\n",
    "    mu<-mean(season[1:31,y-1]) #mean of july \n",
    "    std<-sd(season[1:31,y-1]) #sd of july \n",
    "    threshold<-4*std #using 4 sd as threshold value,different T for each year \n",
    "    change<-NULL # to store dates with St over threshold,first value:first day change detected\n",
    "    \n",
    "    for(i in 2:nrow(cusum_df)){\n",
    "        cusum_df[i,y]<-max(0,cusum_df[i-1,y]+(mu-season[i,y]-std))\n",
    "        if (cusum_df[i,y]>=threshold){\n",
    "            change<-append(change,cusum_df[i,y])}}\n",
    "    if (length(change)==0){\n",
    "        cat(\"Year\",colnames(cusum_df[y]),\":No Change detected.\\n\")\n",
    "    }else{\n",
    "        cat(\"In year of\",colnames(cusum_df[y]),\"the day Summer started is:\",\n",
    "        cusum_df[which(cusum_df[,y]==change[1]),\"Day\"],\"\\n\")}\n",
    "    \n",
    "}"
   ]
  },
  {
   "cell_type": "markdown",
   "metadata": {},
   "source": [
    "**Result:**\n",
    "No change is detected using these values. Further analysis is needed to understand these results which is out of scope for now."
   ]
  },
  {
   "cell_type": "markdown",
   "metadata": {},
   "source": [
    "### Next, we try using fitted values:"
   ]
  },
  {
   "cell_type": "code",
   "execution_count": 256,
   "metadata": {},
   "outputs": [],
   "source": [
    "xhat <- matrix(HW_A$fitted[,1],ncol=123)"
   ]
  },
  {
   "cell_type": "code",
   "execution_count": 257,
   "metadata": {},
   "outputs": [],
   "source": [
    "colnames(xhat)<-as.vector(t(temps[,1]))\n",
    "rownames(xhat)<-c(1997:2015)"
   ]
  },
  {
   "cell_type": "code",
   "execution_count": 258,
   "metadata": {},
   "outputs": [],
   "source": [
    "xhat<-t(xhat)"
   ]
  },
  {
   "cell_type": "code",
   "execution_count": 259,
   "metadata": {},
   "outputs": [],
   "source": [
    "cusum_df2<-data.frame(matrix(nrow=nrow(xhat),ncol=ncol(xhat)))"
   ]
  },
  {
   "cell_type": "code",
   "execution_count": 260,
   "metadata": {},
   "outputs": [],
   "source": [
    "#assigning columns names to cusum data frame\n",
    "colnames(cusum_df2)<-colnames(xhat)\n",
    "rownames(cusum_df2)<-rownames(xhat)"
   ]
  },
  {
   "cell_type": "code",
   "execution_count": 261,
   "metadata": {},
   "outputs": [
    {
     "data": {
      "text/html": [
       "<table>\n",
       "<thead><tr><th scope=col>Day</th><th scope=col>1997</th><th scope=col>1998</th><th scope=col>1999</th><th scope=col>2000</th><th scope=col>2001</th><th scope=col>2002</th><th scope=col>2003</th><th scope=col>2004</th><th scope=col>2005</th><th scope=col>2006</th><th scope=col>2007</th><th scope=col>2008</th><th scope=col>2009</th><th scope=col>2010</th><th scope=col>2011</th><th scope=col>2012</th><th scope=col>2013</th><th scope=col>2014</th><th scope=col>2015</th></tr></thead>\n",
       "<tbody>\n",
       "\t<tr><td>1-Jul</td><td>NA   </td><td>NA   </td><td>NA   </td><td>NA   </td><td>NA   </td><td>NA   </td><td>NA   </td><td>NA   </td><td>NA   </td><td>NA   </td><td>NA   </td><td>NA   </td><td>NA   </td><td>NA   </td><td>NA   </td><td>NA   </td><td>NA   </td><td>NA   </td><td>NA   </td></tr>\n",
       "\t<tr><td>2-Jul</td><td>NA   </td><td>NA   </td><td>NA   </td><td>NA   </td><td>NA   </td><td>NA   </td><td>NA   </td><td>NA   </td><td>NA   </td><td>NA   </td><td>NA   </td><td>NA   </td><td>NA   </td><td>NA   </td><td>NA   </td><td>NA   </td><td>NA   </td><td>NA   </td><td>NA   </td></tr>\n",
       "\t<tr><td>3-Jul</td><td>NA   </td><td>NA   </td><td>NA   </td><td>NA   </td><td>NA   </td><td>NA   </td><td>NA   </td><td>NA   </td><td>NA   </td><td>NA   </td><td>NA   </td><td>NA   </td><td>NA   </td><td>NA   </td><td>NA   </td><td>NA   </td><td>NA   </td><td>NA   </td><td>NA   </td></tr>\n",
       "\t<tr><td>4-Jul</td><td>NA   </td><td>NA   </td><td>NA   </td><td>NA   </td><td>NA   </td><td>NA   </td><td>NA   </td><td>NA   </td><td>NA   </td><td>NA   </td><td>NA   </td><td>NA   </td><td>NA   </td><td>NA   </td><td>NA   </td><td>NA   </td><td>NA   </td><td>NA   </td><td>NA   </td></tr>\n",
       "\t<tr><td>5-Jul</td><td>NA   </td><td>NA   </td><td>NA   </td><td>NA   </td><td>NA   </td><td>NA   </td><td>NA   </td><td>NA   </td><td>NA   </td><td>NA   </td><td>NA   </td><td>NA   </td><td>NA   </td><td>NA   </td><td>NA   </td><td>NA   </td><td>NA   </td><td>NA   </td><td>NA   </td></tr>\n",
       "\t<tr><td>6-Jul</td><td>NA   </td><td>NA   </td><td>NA   </td><td>NA   </td><td>NA   </td><td>NA   </td><td>NA   </td><td>NA   </td><td>NA   </td><td>NA   </td><td>NA   </td><td>NA   </td><td>NA   </td><td>NA   </td><td>NA   </td><td>NA   </td><td>NA   </td><td>NA   </td><td>NA   </td></tr>\n",
       "</tbody>\n",
       "</table>\n"
      ],
      "text/latex": [
       "\\begin{tabular}{r|llllllllllllllllllll}\n",
       " Day & 1997 & 1998 & 1999 & 2000 & 2001 & 2002 & 2003 & 2004 & 2005 & 2006 & 2007 & 2008 & 2009 & 2010 & 2011 & 2012 & 2013 & 2014 & 2015\\\\\n",
       "\\hline\n",
       "\t 1-Jul & NA    & NA    & NA    & NA    & NA    & NA    & NA    & NA    & NA    & NA    & NA    & NA    & NA    & NA    & NA    & NA    & NA    & NA    & NA   \\\\\n",
       "\t 2-Jul & NA    & NA    & NA    & NA    & NA    & NA    & NA    & NA    & NA    & NA    & NA    & NA    & NA    & NA    & NA    & NA    & NA    & NA    & NA   \\\\\n",
       "\t 3-Jul & NA    & NA    & NA    & NA    & NA    & NA    & NA    & NA    & NA    & NA    & NA    & NA    & NA    & NA    & NA    & NA    & NA    & NA    & NA   \\\\\n",
       "\t 4-Jul & NA    & NA    & NA    & NA    & NA    & NA    & NA    & NA    & NA    & NA    & NA    & NA    & NA    & NA    & NA    & NA    & NA    & NA    & NA   \\\\\n",
       "\t 5-Jul & NA    & NA    & NA    & NA    & NA    & NA    & NA    & NA    & NA    & NA    & NA    & NA    & NA    & NA    & NA    & NA    & NA    & NA    & NA   \\\\\n",
       "\t 6-Jul & NA    & NA    & NA    & NA    & NA    & NA    & NA    & NA    & NA    & NA    & NA    & NA    & NA    & NA    & NA    & NA    & NA    & NA    & NA   \\\\\n",
       "\\end{tabular}\n"
      ],
      "text/markdown": [
       "\n",
       "| Day | 1997 | 1998 | 1999 | 2000 | 2001 | 2002 | 2003 | 2004 | 2005 | 2006 | 2007 | 2008 | 2009 | 2010 | 2011 | 2012 | 2013 | 2014 | 2015 |\n",
       "|---|---|---|---|---|---|---|---|---|---|---|---|---|---|---|---|---|---|---|---|\n",
       "| 1-Jul | NA    | NA    | NA    | NA    | NA    | NA    | NA    | NA    | NA    | NA    | NA    | NA    | NA    | NA    | NA    | NA    | NA    | NA    | NA    |\n",
       "| 2-Jul | NA    | NA    | NA    | NA    | NA    | NA    | NA    | NA    | NA    | NA    | NA    | NA    | NA    | NA    | NA    | NA    | NA    | NA    | NA    |\n",
       "| 3-Jul | NA    | NA    | NA    | NA    | NA    | NA    | NA    | NA    | NA    | NA    | NA    | NA    | NA    | NA    | NA    | NA    | NA    | NA    | NA    |\n",
       "| 4-Jul | NA    | NA    | NA    | NA    | NA    | NA    | NA    | NA    | NA    | NA    | NA    | NA    | NA    | NA    | NA    | NA    | NA    | NA    | NA    |\n",
       "| 5-Jul | NA    | NA    | NA    | NA    | NA    | NA    | NA    | NA    | NA    | NA    | NA    | NA    | NA    | NA    | NA    | NA    | NA    | NA    | NA    |\n",
       "| 6-Jul | NA    | NA    | NA    | NA    | NA    | NA    | NA    | NA    | NA    | NA    | NA    | NA    | NA    | NA    | NA    | NA    | NA    | NA    | NA    |\n",
       "\n"
      ],
      "text/plain": [
       "  Day   1997 1998 1999 2000 2001 2002 2003 2004 2005 2006 2007 2008 2009 2010\n",
       "1 1-Jul NA   NA   NA   NA   NA   NA   NA   NA   NA   NA   NA   NA   NA   NA  \n",
       "2 2-Jul NA   NA   NA   NA   NA   NA   NA   NA   NA   NA   NA   NA   NA   NA  \n",
       "3 3-Jul NA   NA   NA   NA   NA   NA   NA   NA   NA   NA   NA   NA   NA   NA  \n",
       "4 4-Jul NA   NA   NA   NA   NA   NA   NA   NA   NA   NA   NA   NA   NA   NA  \n",
       "5 5-Jul NA   NA   NA   NA   NA   NA   NA   NA   NA   NA   NA   NA   NA   NA  \n",
       "6 6-Jul NA   NA   NA   NA   NA   NA   NA   NA   NA   NA   NA   NA   NA   NA  \n",
       "  2011 2012 2013 2014 2015\n",
       "1 NA   NA   NA   NA   NA  \n",
       "2 NA   NA   NA   NA   NA  \n",
       "3 NA   NA   NA   NA   NA  \n",
       "4 NA   NA   NA   NA   NA  \n",
       "5 NA   NA   NA   NA   NA  \n",
       "6 NA   NA   NA   NA   NA  "
      ]
     },
     "metadata": {},
     "output_type": "display_data"
    }
   ],
   "source": [
    "head(rownames_to_column(cusum_df2,var=\"Day\"))"
   ]
  },
  {
   "cell_type": "code",
   "execution_count": 264,
   "metadata": {},
   "outputs": [
    {
     "name": "stdout",
     "output_type": "stream",
     "text": [
      "Year 1998 :No Change detected.\n",
      "Year 1999 :No Change detected.\n",
      "Year 2000 :No Change detected.\n",
      "Year 2001 :No Change detected.\n",
      "Year 2002 :No Change detected.\n",
      "Year 2003 :No Change detected.\n",
      "Year 2004 :No Change detected.\n",
      "Year 2005 :No Change detected.\n",
      "Year 2006 :No Change detected.\n",
      "Year 2007 :No Change detected.\n",
      "Year 2008 :No Change detected.\n",
      "Year 2009 :No Change detected.\n",
      "Year 2010 :No Change detected.\n",
      "Year 2011 :No Change detected.\n",
      "Year 2012 :No Change detected.\n",
      "Year 2013 :No Change detected.\n",
      "Year 2014 :No Change detected.\n",
      "Year 2015 :No Change detected.\n"
     ]
    }
   ],
   "source": [
    "#using Zero start method\n",
    "#calculating cusum values for each year\n",
    "for(y in 2:ncol(cusum_df2)){\n",
    "    cusum_df2[1,y]<-0 #initial St value for each column,set to zero\n",
    "    mu<-mean(xhat[1:31,y-1]) #mean of july \n",
    "    std<-sd(xhat[1:31,y-1]) #sd of july \n",
    "    threshold<-4*std #using 4 sd as threshold value,different T for each year \n",
    "    change<-NULL # to store dates with St over threshold,first value:first day change detected\n",
    "    \n",
    "    for(i in 2:nrow(cusum_df2)){\n",
    "        cusum_df2[i,y]<-max(0,cusum_df2[i-1,y]+(mu-xhat[i,y]-std))\n",
    "        if (cusum_df2[i,y]>=threshold){\n",
    "            change<-append(change,cusum_df2[i,y])}}\n",
    "    if (length(change)==0){\n",
    "        cat(\"Year\",colnames(cusum_df2[y]),\":No Change detected.\\n\")\n",
    "    }else{\n",
    "        cat(\"In year of\",colnames(cusum_df2[y]),\"the day Summer started is:\",\n",
    "        cusum_df2[which(cusum_df2[,y]==change[1]),\"Day\"],\"\\n\")}\n",
    "    \n",
    "}"
   ]
  },
  {
   "cell_type": "markdown",
   "metadata": {},
   "source": [
    "**Result:**\n",
    "Again,no change is detected using these values. Further analysis is needed to understand these results which is out of scope for now."
   ]
  },
  {
   "cell_type": "code",
   "execution_count": null,
   "metadata": {},
   "outputs": [],
   "source": []
  }
 ],
 "metadata": {
  "kernelspec": {
   "display_name": "R",
   "language": "R",
   "name": "ir"
  },
  "language_info": {
   "codemirror_mode": "r",
   "file_extension": ".r",
   "mimetype": "text/x-r-source",
   "name": "R",
   "pygments_lexer": "r",
   "version": "3.6.1"
  }
 },
 "nbformat": 4,
 "nbformat_minor": 2
}
