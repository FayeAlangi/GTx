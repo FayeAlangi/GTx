{
 "cells": [
  {
   "cell_type": "markdown",
   "metadata": {},
   "source": [
    "## ISYE6501x Homework 5"
   ]
  },
  {
   "cell_type": "markdown",
   "metadata": {},
   "source": [
    "### Question 8.1\n",
    "\n",
    "Describe a situation or problem from your job, everyday life, current events, etc., for which a    linear regression model would be appropriate. List some (up to 5) predictors that you might use.\n",
    "\n",
    "**Answer:**\n",
    "\n",
    "One of the application of regression model could be in calculating the salary of employees. For example, if a company wants to hire a new employee, and is wondering what salary is appropriate to be offered, a regression model can be built to predict that. Some relevant predictors for building the model are level of education,years of experience, title/position, location and so on."
   ]
  },
  {
   "cell_type": "markdown",
   "metadata": {},
   "source": [
    "### Question 8.2\n",
    "\n",
    "Using crime data from http://www.statsci.org/data/general/uscrime.txt (file uscrime.txt,\n",
    "description at http://www.statsci.org/data/general/uscrime.html ), use regression (a useful R function is\n",
    "lm or glm) to predict the observed crime rate in a city with the following data:\n"
   ]
  },
  {
   "cell_type": "code",
   "execution_count": 25,
   "metadata": {},
   "outputs": [],
   "source": [
    "test<-data.frame(M = 14.0,So = 0,Ed = 10.0, Po1 = 12.0,Po2 = 15.5,\n",
    "                 LF = 0.640, M.F = 94.0,Pop = 150,NW = 1.1,U1 = 0.120,\n",
    "                 U2 = 3.6, Wealth = 3200,Ineq = 20.1,Prob = 0.04, Time = 39.0)"
   ]
  },
  {
   "cell_type": "markdown",
   "metadata": {},
   "source": [
    "## Loading Libraries"
   ]
  },
  {
   "cell_type": "code",
   "execution_count": 26,
   "metadata": {},
   "outputs": [],
   "source": [
    "options(warn=-1)"
   ]
  },
  {
   "cell_type": "code",
   "execution_count": 27,
   "metadata": {},
   "outputs": [],
   "source": [
    "library(ggplot2)"
   ]
  },
  {
   "cell_type": "code",
   "execution_count": 28,
   "metadata": {},
   "outputs": [],
   "source": [
    "library(tidyverse)"
   ]
  },
  {
   "cell_type": "code",
   "execution_count": 29,
   "metadata": {},
   "outputs": [],
   "source": [
    "library(caret)"
   ]
  },
  {
   "cell_type": "code",
   "execution_count": 30,
   "metadata": {},
   "outputs": [
    {
     "name": "stderr",
     "output_type": "stream",
     "text": [
      "Parsed with column specification:\n",
      "cols(\n",
      "  M = \u001b[32mcol_double()\u001b[39m,\n",
      "  So = \u001b[32mcol_double()\u001b[39m,\n",
      "  Ed = \u001b[32mcol_double()\u001b[39m,\n",
      "  Po1 = \u001b[32mcol_double()\u001b[39m,\n",
      "  Po2 = \u001b[32mcol_double()\u001b[39m,\n",
      "  LF = \u001b[32mcol_double()\u001b[39m,\n",
      "  M.F = \u001b[32mcol_double()\u001b[39m,\n",
      "  Pop = \u001b[32mcol_double()\u001b[39m,\n",
      "  NW = \u001b[32mcol_double()\u001b[39m,\n",
      "  U1 = \u001b[32mcol_double()\u001b[39m,\n",
      "  U2 = \u001b[32mcol_double()\u001b[39m,\n",
      "  Wealth = \u001b[32mcol_double()\u001b[39m,\n",
      "  Ineq = \u001b[32mcol_double()\u001b[39m,\n",
      "  Prob = \u001b[32mcol_double()\u001b[39m,\n",
      "  Time = \u001b[32mcol_double()\u001b[39m,\n",
      "  Crime = \u001b[32mcol_double()\u001b[39m\n",
      ")\n",
      "\n"
     ]
    }
   ],
   "source": [
    "#loading data\n",
    "crime=read_tsv(\"uscrime.txt\")"
   ]
  },
  {
   "cell_type": "markdown",
   "metadata": {},
   "source": [
    "Criminologists are interested in the effect of punishment regimes on crime rates. This has been studied using aggregate data on 47 states of the USA for 1960. The data set contains the following columns:\n",
    "\n",
    "    Variable   Description\n",
    "    M\t\tpercentage of males aged 14–24 in total state population\n",
    "    So\t\tindicator variable for a southern state\n",
    "    Ed\t\tmean years of schooling of the population aged 25 years or over\n",
    "    Po1\t\tper capita expenditure on police protection in 1960\n",
    "    Po2\t\tper capita expenditure on police protection in 1959\n",
    "    LF\t\tlabour force participation rate of civilian urban males in the age-group 14-24\n",
    "    M.F\t\tnumber of males per 100 females\n",
    "    Pop\t\tstate population in 1960 in hundred thousands\n",
    "    NW\t\tpercentage of nonwhites in the population\n",
    "    U1\t\tunemployment rate of urban males 14–24\n",
    "    U2\t\tunemployment rate of urban males 35–39\n",
    "    Wealth\twealth: median value of transferable assets or family income\n",
    "    Ineq\tincome inequality: percentage of families earning below half the median income\n",
    "    Prob\tprobability of imprisonment: ratio of number of commitments to number of offenses\n",
    "    Time\taverage time in months served by offenders in state prisons before their first release\n",
    "    Crime\t\tcrime rate: number of offenses per 100,000 population in 1960"
   ]
  },
  {
   "cell_type": "code",
   "execution_count": 31,
   "metadata": {},
   "outputs": [
    {
     "data": {
      "text/html": [
       "<table>\n",
       "<caption>A tibble: 6 × 16</caption>\n",
       "<thead>\n",
       "\t<tr><th scope=col>M</th><th scope=col>So</th><th scope=col>Ed</th><th scope=col>Po1</th><th scope=col>Po2</th><th scope=col>LF</th><th scope=col>M.F</th><th scope=col>Pop</th><th scope=col>NW</th><th scope=col>U1</th><th scope=col>U2</th><th scope=col>Wealth</th><th scope=col>Ineq</th><th scope=col>Prob</th><th scope=col>Time</th><th scope=col>Crime</th></tr>\n",
       "\t<tr><th scope=col>&lt;dbl&gt;</th><th scope=col>&lt;dbl&gt;</th><th scope=col>&lt;dbl&gt;</th><th scope=col>&lt;dbl&gt;</th><th scope=col>&lt;dbl&gt;</th><th scope=col>&lt;dbl&gt;</th><th scope=col>&lt;dbl&gt;</th><th scope=col>&lt;dbl&gt;</th><th scope=col>&lt;dbl&gt;</th><th scope=col>&lt;dbl&gt;</th><th scope=col>&lt;dbl&gt;</th><th scope=col>&lt;dbl&gt;</th><th scope=col>&lt;dbl&gt;</th><th scope=col>&lt;dbl&gt;</th><th scope=col>&lt;dbl&gt;</th><th scope=col>&lt;dbl&gt;</th></tr>\n",
       "</thead>\n",
       "<tbody>\n",
       "\t<tr><td>15.1</td><td>1</td><td> 9.1</td><td> 5.8</td><td> 5.6</td><td>0.510</td><td> 95.0</td><td> 33</td><td>30.1</td><td>0.108</td><td>4.1</td><td>3940</td><td>26.1</td><td>0.084602</td><td>26.2011</td><td> 791</td></tr>\n",
       "\t<tr><td>14.3</td><td>0</td><td>11.3</td><td>10.3</td><td> 9.5</td><td>0.583</td><td>101.2</td><td> 13</td><td>10.2</td><td>0.096</td><td>3.6</td><td>5570</td><td>19.4</td><td>0.029599</td><td>25.2999</td><td>1635</td></tr>\n",
       "\t<tr><td>14.2</td><td>1</td><td> 8.9</td><td> 4.5</td><td> 4.4</td><td>0.533</td><td> 96.9</td><td> 18</td><td>21.9</td><td>0.094</td><td>3.3</td><td>3180</td><td>25.0</td><td>0.083401</td><td>24.3006</td><td> 578</td></tr>\n",
       "\t<tr><td>13.6</td><td>0</td><td>12.1</td><td>14.9</td><td>14.1</td><td>0.577</td><td> 99.4</td><td>157</td><td> 8.0</td><td>0.102</td><td>3.9</td><td>6730</td><td>16.7</td><td>0.015801</td><td>29.9012</td><td>1969</td></tr>\n",
       "\t<tr><td>14.1</td><td>0</td><td>12.1</td><td>10.9</td><td>10.1</td><td>0.591</td><td> 98.5</td><td> 18</td><td> 3.0</td><td>0.091</td><td>2.0</td><td>5780</td><td>17.4</td><td>0.041399</td><td>21.2998</td><td>1234</td></tr>\n",
       "\t<tr><td>12.1</td><td>0</td><td>11.0</td><td>11.8</td><td>11.5</td><td>0.547</td><td> 96.4</td><td> 25</td><td> 4.4</td><td>0.084</td><td>2.9</td><td>6890</td><td>12.6</td><td>0.034201</td><td>20.9995</td><td> 682</td></tr>\n",
       "</tbody>\n",
       "</table>\n"
      ],
      "text/latex": [
       "A tibble: 6 × 16\n",
       "\\begin{tabular}{llllllllllllllll}\n",
       " M & So & Ed & Po1 & Po2 & LF & M.F & Pop & NW & U1 & U2 & Wealth & Ineq & Prob & Time & Crime\\\\\n",
       " <dbl> & <dbl> & <dbl> & <dbl> & <dbl> & <dbl> & <dbl> & <dbl> & <dbl> & <dbl> & <dbl> & <dbl> & <dbl> & <dbl> & <dbl> & <dbl>\\\\\n",
       "\\hline\n",
       "\t 15.1 & 1 &  9.1 &  5.8 &  5.6 & 0.510 &  95.0 &  33 & 30.1 & 0.108 & 4.1 & 3940 & 26.1 & 0.084602 & 26.2011 &  791\\\\\n",
       "\t 14.3 & 0 & 11.3 & 10.3 &  9.5 & 0.583 & 101.2 &  13 & 10.2 & 0.096 & 3.6 & 5570 & 19.4 & 0.029599 & 25.2999 & 1635\\\\\n",
       "\t 14.2 & 1 &  8.9 &  4.5 &  4.4 & 0.533 &  96.9 &  18 & 21.9 & 0.094 & 3.3 & 3180 & 25.0 & 0.083401 & 24.3006 &  578\\\\\n",
       "\t 13.6 & 0 & 12.1 & 14.9 & 14.1 & 0.577 &  99.4 & 157 &  8.0 & 0.102 & 3.9 & 6730 & 16.7 & 0.015801 & 29.9012 & 1969\\\\\n",
       "\t 14.1 & 0 & 12.1 & 10.9 & 10.1 & 0.591 &  98.5 &  18 &  3.0 & 0.091 & 2.0 & 5780 & 17.4 & 0.041399 & 21.2998 & 1234\\\\\n",
       "\t 12.1 & 0 & 11.0 & 11.8 & 11.5 & 0.547 &  96.4 &  25 &  4.4 & 0.084 & 2.9 & 6890 & 12.6 & 0.034201 & 20.9995 &  682\\\\\n",
       "\\end{tabular}\n"
      ],
      "text/markdown": [
       "\n",
       "A tibble: 6 × 16\n",
       "\n",
       "| M &lt;dbl&gt; | So &lt;dbl&gt; | Ed &lt;dbl&gt; | Po1 &lt;dbl&gt; | Po2 &lt;dbl&gt; | LF &lt;dbl&gt; | M.F &lt;dbl&gt; | Pop &lt;dbl&gt; | NW &lt;dbl&gt; | U1 &lt;dbl&gt; | U2 &lt;dbl&gt; | Wealth &lt;dbl&gt; | Ineq &lt;dbl&gt; | Prob &lt;dbl&gt; | Time &lt;dbl&gt; | Crime &lt;dbl&gt; |\n",
       "|---|---|---|---|---|---|---|---|---|---|---|---|---|---|---|---|\n",
       "| 15.1 | 1 |  9.1 |  5.8 |  5.6 | 0.510 |  95.0 |  33 | 30.1 | 0.108 | 4.1 | 3940 | 26.1 | 0.084602 | 26.2011 |  791 |\n",
       "| 14.3 | 0 | 11.3 | 10.3 |  9.5 | 0.583 | 101.2 |  13 | 10.2 | 0.096 | 3.6 | 5570 | 19.4 | 0.029599 | 25.2999 | 1635 |\n",
       "| 14.2 | 1 |  8.9 |  4.5 |  4.4 | 0.533 |  96.9 |  18 | 21.9 | 0.094 | 3.3 | 3180 | 25.0 | 0.083401 | 24.3006 |  578 |\n",
       "| 13.6 | 0 | 12.1 | 14.9 | 14.1 | 0.577 |  99.4 | 157 |  8.0 | 0.102 | 3.9 | 6730 | 16.7 | 0.015801 | 29.9012 | 1969 |\n",
       "| 14.1 | 0 | 12.1 | 10.9 | 10.1 | 0.591 |  98.5 |  18 |  3.0 | 0.091 | 2.0 | 5780 | 17.4 | 0.041399 | 21.2998 | 1234 |\n",
       "| 12.1 | 0 | 11.0 | 11.8 | 11.5 | 0.547 |  96.4 |  25 |  4.4 | 0.084 | 2.9 | 6890 | 12.6 | 0.034201 | 20.9995 |  682 |\n",
       "\n"
      ],
      "text/plain": [
       "  M    So Ed   Po1  Po2  LF    M.F   Pop NW   U1    U2  Wealth Ineq Prob    \n",
       "1 15.1 1   9.1  5.8  5.6 0.510  95.0  33 30.1 0.108 4.1 3940   26.1 0.084602\n",
       "2 14.3 0  11.3 10.3  9.5 0.583 101.2  13 10.2 0.096 3.6 5570   19.4 0.029599\n",
       "3 14.2 1   8.9  4.5  4.4 0.533  96.9  18 21.9 0.094 3.3 3180   25.0 0.083401\n",
       "4 13.6 0  12.1 14.9 14.1 0.577  99.4 157  8.0 0.102 3.9 6730   16.7 0.015801\n",
       "5 14.1 0  12.1 10.9 10.1 0.591  98.5  18  3.0 0.091 2.0 5780   17.4 0.041399\n",
       "6 12.1 0  11.0 11.8 11.5 0.547  96.4  25  4.4 0.084 2.9 6890   12.6 0.034201\n",
       "  Time    Crime\n",
       "1 26.2011  791 \n",
       "2 25.2999 1635 \n",
       "3 24.3006  578 \n",
       "4 29.9012 1969 \n",
       "5 21.2998 1234 \n",
       "6 20.9995  682 "
      ]
     },
     "metadata": {},
     "output_type": "display_data"
    }
   ],
   "source": [
    "#checking the data\n",
    "head(crime)"
   ]
  },
  {
   "cell_type": "code",
   "execution_count": 32,
   "metadata": {},
   "outputs": [
    {
     "name": "stdout",
     "output_type": "stream",
     "text": [
      "Classes 'spec_tbl_df', 'tbl_df', 'tbl' and 'data.frame':\t47 obs. of  16 variables:\n",
      " $ M     : num  15.1 14.3 14.2 13.6 14.1 12.1 12.7 13.1 15.7 14 ...\n",
      " $ So    : num  1 0 1 0 0 0 1 1 1 0 ...\n",
      " $ Ed    : num  9.1 11.3 8.9 12.1 12.1 11 11.1 10.9 9 11.8 ...\n",
      " $ Po1   : num  5.8 10.3 4.5 14.9 10.9 11.8 8.2 11.5 6.5 7.1 ...\n",
      " $ Po2   : num  5.6 9.5 4.4 14.1 10.1 11.5 7.9 10.9 6.2 6.8 ...\n",
      " $ LF    : num  0.51 0.583 0.533 0.577 0.591 0.547 0.519 0.542 0.553 0.632 ...\n",
      " $ M.F   : num  95 101.2 96.9 99.4 98.5 ...\n",
      " $ Pop   : num  33 13 18 157 18 25 4 50 39 7 ...\n",
      " $ NW    : num  30.1 10.2 21.9 8 3 4.4 13.9 17.9 28.6 1.5 ...\n",
      " $ U1    : num  0.108 0.096 0.094 0.102 0.091 0.084 0.097 0.079 0.081 0.1 ...\n",
      " $ U2    : num  4.1 3.6 3.3 3.9 2 2.9 3.8 3.5 2.8 2.4 ...\n",
      " $ Wealth: num  3940 5570 3180 6730 5780 6890 6200 4720 4210 5260 ...\n",
      " $ Ineq  : num  26.1 19.4 25 16.7 17.4 12.6 16.8 20.6 23.9 17.4 ...\n",
      " $ Prob  : num  0.0846 0.0296 0.0834 0.0158 0.0414 ...\n",
      " $ Time  : num  26.2 25.3 24.3 29.9 21.3 ...\n",
      " $ Crime : num  791 1635 578 1969 1234 ...\n",
      " - attr(*, \"spec\")=\n",
      "  .. cols(\n",
      "  ..   M = \u001b[32mcol_double()\u001b[39m,\n",
      "  ..   So = \u001b[32mcol_double()\u001b[39m,\n",
      "  ..   Ed = \u001b[32mcol_double()\u001b[39m,\n",
      "  ..   Po1 = \u001b[32mcol_double()\u001b[39m,\n",
      "  ..   Po2 = \u001b[32mcol_double()\u001b[39m,\n",
      "  ..   LF = \u001b[32mcol_double()\u001b[39m,\n",
      "  ..   M.F = \u001b[32mcol_double()\u001b[39m,\n",
      "  ..   Pop = \u001b[32mcol_double()\u001b[39m,\n",
      "  ..   NW = \u001b[32mcol_double()\u001b[39m,\n",
      "  ..   U1 = \u001b[32mcol_double()\u001b[39m,\n",
      "  ..   U2 = \u001b[32mcol_double()\u001b[39m,\n",
      "  ..   Wealth = \u001b[32mcol_double()\u001b[39m,\n",
      "  ..   Ineq = \u001b[32mcol_double()\u001b[39m,\n",
      "  ..   Prob = \u001b[32mcol_double()\u001b[39m,\n",
      "  ..   Time = \u001b[32mcol_double()\u001b[39m,\n",
      "  ..   Crime = \u001b[32mcol_double()\u001b[39m\n",
      "  .. )\n"
     ]
    }
   ],
   "source": [
    "#Looking at the structure of data\n",
    "str(crime)"
   ]
  },
  {
   "cell_type": "markdown",
   "metadata": {},
   "source": [
    "A linear regression is a statistical model that analyzes the relationship between a response variable (often called y) and one or more variables and their interactions (often called x or explanatory variables).The objective here is to find the relevant variables/predictors to have a good model for predicting crime rate of new data point.\n",
    "\n",
    "Simply put, the goal is to do a meaningful feature selection.\n",
    "\n",
    "Feature selection is an important task. It is essential for two reasons. First, we need to keep our model simple( for a couple of reasons). Second, including insignificant variables can significantly impact the model performance.\n",
    "\n"
   ]
  },
  {
   "cell_type": "markdown",
   "metadata": {},
   "source": [
    "### Feature Selection using Hypothesis Testing  \n",
    "\n",
    "One method of feature selection is hypothesis testing, to check if the independent variable has a significant dependent variable or not. \n",
    "\n",
    "- Null Hypothesis : the variable has no relationship with output variable.\n",
    "- Alternate Hypothesis :the variable has a relationship with output variable and impacts response prediction.\n",
    "\n",
    "We will use simple linear model lm() using all variable to examine the prediction and see which one has a significant impact on producing response."
   ]
  },
  {
   "cell_type": "code",
   "execution_count": 33,
   "metadata": {},
   "outputs": [
    {
     "data": {
      "text/plain": [
       "\n",
       "Call:\n",
       "lm(formula = Crime ~ ., data = crime)\n",
       "\n",
       "Residuals:\n",
       "    Min      1Q  Median      3Q     Max \n",
       "-395.74  -98.09   -6.69  112.99  512.67 \n",
       "\n",
       "Coefficients:\n",
       "              Estimate Std. Error t value Pr(>|t|)    \n",
       "(Intercept) -5.984e+03  1.628e+03  -3.675 0.000893 ***\n",
       "M            8.783e+01  4.171e+01   2.106 0.043443 *  \n",
       "So          -3.803e+00  1.488e+02  -0.026 0.979765    \n",
       "Ed           1.883e+02  6.209e+01   3.033 0.004861 ** \n",
       "Po1          1.928e+02  1.061e+02   1.817 0.078892 .  \n",
       "Po2         -1.094e+02  1.175e+02  -0.931 0.358830    \n",
       "LF          -6.638e+02  1.470e+03  -0.452 0.654654    \n",
       "M.F          1.741e+01  2.035e+01   0.855 0.398995    \n",
       "Pop         -7.330e-01  1.290e+00  -0.568 0.573845    \n",
       "NW           4.204e+00  6.481e+00   0.649 0.521279    \n",
       "U1          -5.827e+03  4.210e+03  -1.384 0.176238    \n",
       "U2           1.678e+02  8.234e+01   2.038 0.050161 .  \n",
       "Wealth       9.617e-02  1.037e-01   0.928 0.360754    \n",
       "Ineq         7.067e+01  2.272e+01   3.111 0.003983 ** \n",
       "Prob        -4.855e+03  2.272e+03  -2.137 0.040627 *  \n",
       "Time        -3.479e+00  7.165e+00  -0.486 0.630708    \n",
       "---\n",
       "Signif. codes:  0 '***' 0.001 '**' 0.01 '*' 0.05 '.' 0.1 ' ' 1\n",
       "\n",
       "Residual standard error: 209.1 on 31 degrees of freedom\n",
       "Multiple R-squared:  0.8031,\tAdjusted R-squared:  0.7078 \n",
       "F-statistic: 8.429 on 15 and 31 DF,  p-value: 3.539e-07\n"
      ]
     },
     "metadata": {},
     "output_type": "display_data"
    }
   ],
   "source": [
    "set.seed(0)\n",
    "# as simple linear model\n",
    "model_1<-lm(Crime~.,data=crime)\n",
    "\n",
    "summary(model_1)"
   ]
  },
  {
   "cell_type": "code",
   "execution_count": 34,
   "metadata": {},
   "outputs": [
    {
     "data": {
      "text/html": [
       "<strong>1:</strong> 155.434896887446"
      ],
      "text/latex": [
       "\\textbf{1:} 155.434896887446"
      ],
      "text/markdown": [
       "**1:** 155.434896887446"
      ],
      "text/plain": [
       "       1 \n",
       "155.4349 "
      ]
     },
     "metadata": {},
     "output_type": "display_data"
    }
   ],
   "source": [
    "predict(model_1,test)"
   ]
  },
  {
   "cell_type": "code",
   "execution_count": 35,
   "metadata": {},
   "outputs": [
    {
     "data": {
      "text/html": [
       "<style>\n",
       ".list-inline {list-style: none; margin:0; padding: 0}\n",
       ".list-inline>li {display: inline-block}\n",
       ".list-inline>li:not(:last-child)::after {content: \"\\00b7\"; padding: 0 .5ex}\n",
       "</style>\n",
       "<ol class=list-inline><li>342</li><li>1993</li></ol>\n"
      ],
      "text/latex": [
       "\\begin{enumerate*}\n",
       "\\item 342\n",
       "\\item 1993\n",
       "\\end{enumerate*}\n"
      ],
      "text/markdown": [
       "1. 342\n",
       "2. 1993\n",
       "\n",
       "\n"
      ],
      "text/plain": [
       "[1]  342 1993"
      ]
     },
     "metadata": {},
     "output_type": "display_data"
    }
   ],
   "source": [
    "range(crime$Crime)"
   ]
  },
  {
   "cell_type": "markdown",
   "metadata": {},
   "source": [
    "The predicted crime rate is way below the minimum value of crime rate in our data set. It might be possible for a data point to have such a low crime rate. However, we need to examine our regression model since it is very prone to overfitting.\n",
    "\n",
    "We have used all predictors in this model. Looking at coefficients in model summary, we realize not every variable has a significant impact on producing the response.We can remove variables with coefficients which have a p-value of 0.05 or more."
   ]
  },
  {
   "cell_type": "code",
   "execution_count": 36,
   "metadata": {},
   "outputs": [
    {
     "data": {
      "text/html": [
       "<table>\n",
       "<caption>A data.frame: 5 × 1</caption>\n",
       "<thead>\n",
       "\t<tr><th></th><th scope=col>summary.model_1..coef.summary.model_1..coef...4.....0.05..4.</th></tr>\n",
       "\t<tr><th></th><th scope=col>&lt;dbl&gt;</th></tr>\n",
       "</thead>\n",
       "<tbody>\n",
       "\t<tr><th scope=row>(Intercept)</th><td>0.0008929887</td></tr>\n",
       "\t<tr><th scope=row>M</th><td>0.0434433942</td></tr>\n",
       "\t<tr><th scope=row>Ed</th><td>0.0048614327</td></tr>\n",
       "\t<tr><th scope=row>Ineq</th><td>0.0039831365</td></tr>\n",
       "\t<tr><th scope=row>Prob</th><td>0.0406269260</td></tr>\n",
       "</tbody>\n",
       "</table>\n"
      ],
      "text/latex": [
       "A data.frame: 5 × 1\n",
       "\\begin{tabular}{r|l}\n",
       "  & summary.model\\_1..coef.summary.model\\_1..coef...4.....0.05..4.\\\\\n",
       "  & <dbl>\\\\\n",
       "\\hline\n",
       "\t(Intercept) & 0.0008929887\\\\\n",
       "\tM & 0.0434433942\\\\\n",
       "\tEd & 0.0048614327\\\\\n",
       "\tIneq & 0.0039831365\\\\\n",
       "\tProb & 0.0406269260\\\\\n",
       "\\end{tabular}\n"
      ],
      "text/markdown": [
       "\n",
       "A data.frame: 5 × 1\n",
       "\n",
       "| <!--/--> | summary.model_1..coef.summary.model_1..coef...4.....0.05..4. &lt;dbl&gt; |\n",
       "|---|---|\n",
       "| (Intercept) | 0.0008929887 |\n",
       "| M | 0.0434433942 |\n",
       "| Ed | 0.0048614327 |\n",
       "| Ineq | 0.0039831365 |\n",
       "| Prob | 0.0406269260 |\n",
       "\n"
      ],
      "text/plain": [
       "            summary.model_1..coef.summary.model_1..coef...4.....0.05..4.\n",
       "(Intercept) 0.0008929887                                                \n",
       "M           0.0434433942                                                \n",
       "Ed          0.0048614327                                                \n",
       "Ineq        0.0039831365                                                \n",
       "Prob        0.0406269260                                                "
      ]
     },
     "metadata": {},
     "output_type": "display_data"
    }
   ],
   "source": [
    "#filtering variables with significant impact on response\n",
    "data.frame(summary(model_1)$coef[summary(model_1)$coef[,4] <= .05, 4])"
   ]
  },
  {
   "cell_type": "markdown",
   "metadata": {},
   "source": [
    "A p-value indicates whether or not you can reject or accept a hypothesis. The hypothesis, in this case, is that the predictor is not meaningful for the model.\n",
    "\n",
    "For example,a p-value of 0.85 means there’s 85% chance that this predictor is not meaningful for the regression.\n",
    "A standard way to test if the predictors are not meaningful is looking if the p-values are larger than 0.05. If so, we assume those predictors don't affect the predictive power of the model, and we can remove them. "
   ]
  },
  {
   "cell_type": "code",
   "execution_count": 37,
   "metadata": {},
   "outputs": [],
   "source": [
    "set.seed(0)\n",
    "model_2<-lm(Crime~M+Ed+Ineq+Prob,data=crime,x=TRUE,y=TRUE)"
   ]
  },
  {
   "cell_type": "code",
   "execution_count": 38,
   "metadata": {},
   "outputs": [
    {
     "data": {
      "text/plain": [
       "\n",
       "Call:\n",
       "lm(formula = Crime ~ M + Ed + Ineq + Prob, data = crime, x = TRUE, \n",
       "    y = TRUE)\n",
       "\n",
       "Residuals:\n",
       "    Min      1Q  Median      3Q     Max \n",
       "-532.97 -254.03  -55.72  137.80  960.21 \n",
       "\n",
       "Coefficients:\n",
       "            Estimate Std. Error t value Pr(>|t|)   \n",
       "(Intercept) -1339.35    1247.01  -1.074  0.28893   \n",
       "M              35.97      53.39   0.674  0.50417   \n",
       "Ed            148.61      71.92   2.066  0.04499 * \n",
       "Ineq           26.87      22.77   1.180  0.24458   \n",
       "Prob        -7331.92    2560.27  -2.864  0.00651 **\n",
       "---\n",
       "Signif. codes:  0 '***' 0.001 '**' 0.01 '*' 0.05 '.' 0.1 ' ' 1\n",
       "\n",
       "Residual standard error: 347.5 on 42 degrees of freedom\n",
       "Multiple R-squared:  0.2629,\tAdjusted R-squared:  0.1927 \n",
       "F-statistic: 3.745 on 4 and 42 DF,  p-value: 0.01077\n"
      ]
     },
     "metadata": {},
     "output_type": "display_data"
    }
   ],
   "source": [
    "summary(model_2)"
   ]
  },
  {
   "cell_type": "code",
   "execution_count": 39,
   "metadata": {},
   "outputs": [
    {
     "data": {
      "text/html": [
       "<strong>1:</strong> 897.230683687278"
      ],
      "text/latex": [
       "\\textbf{1:} 897.230683687278"
      ],
      "text/markdown": [
       "**1:** 897.230683687278"
      ],
      "text/plain": [
       "       1 \n",
       "897.2307 "
      ]
     },
     "metadata": {},
     "output_type": "display_data"
    }
   ],
   "source": [
    "predict(model_2,test)"
   ]
  },
  {
   "cell_type": "markdown",
   "metadata": {},
   "source": [
    "This prediction makes more sense in context of our data set. If we look at Adjusted R-squared, we notice it is significantly lower in this model. The higher Adjusted R-squared in the first model does not mean it was a better one. Having too many variables which some of them are not significant for prediction, creates an overfitted model,hence higher Adjusted R-squared.\n",
    "Taking out variables from model is going to lower the Adjusted R-square, but does not give any information on quality of the model.\n",
    "\n",
    "Although, we have selected variables with small p-values, it does not neccesary mean other variables are not meaningful. Sometimes, when two variables have a strong correlation, the model selects one as important predictor and the other predictor's receive a higher p-value.\n",
    "\n",
    "We will try using a different method to train our model and see if we can improve the predictive power."
   ]
  },
  {
   "cell_type": "markdown",
   "metadata": {},
   "source": [
    "### Feature Selection using Recursive Feature Elimination method "
   ]
  },
  {
   "cell_type": "markdown",
   "metadata": {},
   "source": [
    "Recursive feature elimination(rfe), is a technique in which a model is built with all the variables, and then the algorithm removes the weakest features one by one until we reach the specified number of features. While using RFE, we need to specify the number of features to be used. However, this is often not known at the beginning. The optimal number of features can be identified using cross-validation."
   ]
  },
  {
   "cell_type": "code",
   "execution_count": 40,
   "metadata": {},
   "outputs": [],
   "source": [
    "library(caret)"
   ]
  },
  {
   "cell_type": "code",
   "execution_count": 41,
   "metadata": {},
   "outputs": [
    {
     "data": {
      "text/plain": [
       "\n",
       "Recursive feature selection\n",
       "\n",
       "Outer resampling method: Cross-Validated (10 fold, repeated 25 times) \n",
       "\n",
       "Resampling performance over subset size:\n",
       "\n",
       " Variables  RMSE Rsquared   MAE RMSESD RsquaredSD  MAESD Selected\n",
       "         1 359.9   0.3361 291.2 131.91     0.2926 100.05         \n",
       "         2 344.1   0.3539 276.5 135.96     0.2889 111.02         \n",
       "         3 351.9   0.3213 285.4 133.22     0.2895 109.99         \n",
       "         4 333.3   0.4145 277.8 101.94     0.3139  91.01         \n",
       "         5 316.1   0.4769 261.2  97.50     0.3125  86.74         \n",
       "         6 306.8   0.4853 253.9  94.46     0.3123  84.85         \n",
       "         7 307.3   0.4975 255.1  93.07     0.3079  83.56         \n",
       "         8 268.5   0.5692 222.7  84.48     0.2999  72.92         \n",
       "         9 234.7   0.6446 189.7  94.01     0.2886  76.30         \n",
       "        10 230.6   0.6572 186.9  84.12     0.2666  67.17        *\n",
       "        11 235.9   0.6333 190.9  90.45     0.2748  69.68         \n",
       "        12 248.5   0.6093 199.5  91.42     0.2867  72.36         \n",
       "        13 253.0   0.6070 204.2  93.88     0.2896  75.76         \n",
       "        14 259.4   0.5948 208.3  95.69     0.2928  77.11         \n",
       "        15 263.6   0.5878 213.5  93.76     0.2866  78.58         \n",
       "\n",
       "The top 5 variables (out of 10):\n",
       "   U1, Prob, LF, Po1, Ed\n"
      ]
     },
     "metadata": {},
     "output_type": "display_data"
    }
   ],
   "source": [
    "set.seed(0)\n",
    "\n",
    "# Setting the cross validation parameters\n",
    "ctrl_param <- rfeControl(functions = lmFuncs,\n",
    "                   method = \"repeatedcv\",\n",
    "                   number=10,\n",
    "                   repeats = 25,\n",
    "                   verbose = FALSE)\n",
    "                  \n",
    "lm_rfe <- rfe(crime[,-16], crime[[16]],\n",
    "                 sizes = c(1:15),\n",
    "                 rfeControl = ctrl_param)\n",
    "                \n",
    "\n",
    "lm_rfe"
   ]
  },
  {
   "cell_type": "markdown",
   "metadata": {},
   "source": [
    "By looking at RMSEs, it seems that selecting 10 features results in lower RMSE/higher R-squared.So, the model is fitted with 10 strongest features.\n",
    "\n",
    "Below we can see which feastures have been selected:"
   ]
  },
  {
   "cell_type": "code",
   "execution_count": 42,
   "metadata": {},
   "outputs": [
    {
     "data": {
      "text/html": [
       "<style>\n",
       ".list-inline {list-style: none; margin:0; padding: 0}\n",
       ".list-inline>li {display: inline-block}\n",
       ".list-inline>li:not(:last-child)::after {content: \"\\00b7\"; padding: 0 .5ex}\n",
       "</style>\n",
       "<ol class=list-inline><li>'U1'</li><li>'Prob'</li><li>'LF'</li><li>'Po1'</li><li>'Ed'</li><li>'U2'</li><li>'Po2'</li><li>'M'</li><li>'Ineq'</li><li>'So'</li></ol>\n"
      ],
      "text/latex": [
       "\\begin{enumerate*}\n",
       "\\item 'U1'\n",
       "\\item 'Prob'\n",
       "\\item 'LF'\n",
       "\\item 'Po1'\n",
       "\\item 'Ed'\n",
       "\\item 'U2'\n",
       "\\item 'Po2'\n",
       "\\item 'M'\n",
       "\\item 'Ineq'\n",
       "\\item 'So'\n",
       "\\end{enumerate*}\n"
      ],
      "text/markdown": [
       "1. 'U1'\n",
       "2. 'Prob'\n",
       "3. 'LF'\n",
       "4. 'Po1'\n",
       "5. 'Ed'\n",
       "6. 'U2'\n",
       "7. 'Po2'\n",
       "8. 'M'\n",
       "9. 'Ineq'\n",
       "10. 'So'\n",
       "\n",
       "\n"
      ],
      "text/plain": [
       " [1] \"U1\"   \"Prob\" \"LF\"   \"Po1\"  \"Ed\"   \"U2\"   \"Po2\"  \"M\"    \"Ineq\" \"So\"  "
      ]
     },
     "metadata": {},
     "output_type": "display_data"
    }
   ],
   "source": [
    "predictors(lm_rfe)"
   ]
  },
  {
   "cell_type": "code",
   "execution_count": 43,
   "metadata": {},
   "outputs": [
    {
     "data": {
      "text/plain": [
       "\n",
       "Call:\n",
       "lm(formula = y ~ ., data = tmp)\n",
       "\n",
       "Coefficients:\n",
       "(Intercept)           U1         Prob           LF          Po1           Ed  \n",
       "   -5099.78     -2925.15     -4000.57       531.84       177.49       210.85  \n",
       "         U2          Po2            M         Ineq           So  \n",
       "     150.25       -79.51       100.88        58.80        78.48  \n"
      ]
     },
     "metadata": {},
     "output_type": "display_data"
    }
   ],
   "source": [
    "lm_rfe$fit"
   ]
  },
  {
   "cell_type": "code",
   "execution_count": 44,
   "metadata": {},
   "outputs": [
    {
     "data": {
      "text/html": [
       "<strong>1:</strong> 870.683361434229"
      ],
      "text/latex": [
       "\\textbf{1:} 870.683361434229"
      ],
      "text/markdown": [
       "**1:** 870.683361434229"
      ],
      "text/plain": [
       "       1 \n",
       "870.6834 "
      ]
     },
     "metadata": {},
     "output_type": "display_data"
    }
   ],
   "source": [
    "predict(lm_rfe,test)"
   ]
  },
  {
   "cell_type": "markdown",
   "metadata": {},
   "source": [
    "### Conclusion:\n",
    "\n",
    "Using cross-validation and RFE method, we can achieve a better model with a decent value for R-squared. The prediction of crime rate seems to be in an acceptable range based on our data.\n",
    "There are many other ways to build a linear model for regression analysis.But they are not in scope of work for this homework. "
   ]
  }
 ],
 "metadata": {
  "kernelspec": {
   "display_name": "R",
   "language": "R",
   "name": "ir"
  },
  "language_info": {
   "codemirror_mode": "r",
   "file_extension": ".r",
   "mimetype": "text/x-r-source",
   "name": "R",
   "pygments_lexer": "r",
   "version": "3.6.1"
  }
 },
 "nbformat": 4,
 "nbformat_minor": 2
}
