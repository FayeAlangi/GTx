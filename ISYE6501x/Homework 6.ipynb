{
 "cells": [
  {
   "cell_type": "markdown",
   "metadata": {},
   "source": [
    "## ISYE6501x Homework 6\n"
   ]
  },
  {
   "cell_type": "markdown",
   "metadata": {},
   "source": [
    "### Question 9.1\n",
    "\n",
    "Using the same crime data set uscrime.txt as in Question 8.2, apply Principal Component Analysis\n",
    "and then create a regression model using the first few principal components. Specify your new model in terms of the original variables (not the principal components), and compare its quality to that of your solution to Question 8.2. You can use the R function prcomp for PCA. (Note that to first scale the data,you can include scale. = TRUE to scale as part of the PCA function. Don’t forget that, to make a prediction for the new city, you’ll need to unscale the coefficients (i.e., do the scaling calculation in reverse)!)"
   ]
  },
  {
   "cell_type": "code",
   "execution_count": 1,
   "metadata": {},
   "outputs": [],
   "source": [
    "#data point to make prediction on\n",
    "test<-data.frame(M = 14.0,So = 0,Ed = 10.0, Po1 = 12.0,Po2 = 15.5,\n",
    "                 LF = 0.640, M.F = 94.0,Pop = 150,NW = 1.1,U1 = 0.120,\n",
    "                 U2 = 3.6, Wealth = 3200,Ineq = 20.1,Prob = 0.04, Time = 39.0)"
   ]
  },
  {
   "cell_type": "markdown",
   "metadata": {},
   "source": [
    "## Loading Libraries"
   ]
  },
  {
   "cell_type": "code",
   "execution_count": 2,
   "metadata": {},
   "outputs": [],
   "source": [
    "options(warn=-1)"
   ]
  },
  {
   "cell_type": "code",
   "execution_count": 3,
   "metadata": {},
   "outputs": [
    {
     "name": "stderr",
     "output_type": "stream",
     "text": [
      "Installing package into 'C:/Users/fayal/R/win-library/3.6'\n",
      "(as 'lib' is unspecified)\n",
      "\n"
     ]
    },
    {
     "name": "stdout",
     "output_type": "stream",
     "text": [
      "package 'BBmisc' successfully unpacked and MD5 sums checked\n",
      "\n",
      "The downloaded binary packages are in\n",
      "\tC:\\Users\\fayal\\AppData\\Local\\Temp\\RtmpU31wmU\\downloaded_packages\n"
     ]
    }
   ],
   "source": [
    "install.packages(\"BBmisc\")"
   ]
  },
  {
   "cell_type": "code",
   "execution_count": 4,
   "metadata": {},
   "outputs": [
    {
     "name": "stderr",
     "output_type": "stream",
     "text": [
      "\n",
      "Attaching package: 'BBmisc'\n",
      "\n",
      "\n",
      "The following object is masked from 'package:base':\n",
      "\n",
      "    isFALSE\n",
      "\n",
      "\n"
     ]
    }
   ],
   "source": [
    "library(BBmisc)"
   ]
  },
  {
   "cell_type": "code",
   "execution_count": 5,
   "metadata": {},
   "outputs": [],
   "source": [
    "library(ggplot2)"
   ]
  },
  {
   "cell_type": "code",
   "execution_count": 6,
   "metadata": {},
   "outputs": [
    {
     "name": "stderr",
     "output_type": "stream",
     "text": [
      "-- \u001b[1mAttaching packages\u001b[22m --------------------------------------- tidyverse 1.3.0 --\n",
      "\n",
      "\u001b[32mv\u001b[39m \u001b[34mtibble \u001b[39m 2.1.3     \u001b[32mv\u001b[39m \u001b[34mdplyr  \u001b[39m 0.8.3\n",
      "\u001b[32mv\u001b[39m \u001b[34mtidyr  \u001b[39m 1.0.0     \u001b[32mv\u001b[39m \u001b[34mstringr\u001b[39m 1.4.0\n",
      "\u001b[32mv\u001b[39m \u001b[34mreadr  \u001b[39m 1.3.1     \u001b[32mv\u001b[39m \u001b[34mforcats\u001b[39m 0.4.0\n",
      "\u001b[32mv\u001b[39m \u001b[34mpurrr  \u001b[39m 0.3.3     \n",
      "\n",
      "-- \u001b[1mConflicts\u001b[22m ------------------------------------------ tidyverse_conflicts() --\n",
      "\u001b[31mx\u001b[39m \u001b[34mdplyr\u001b[39m::\u001b[32mcoalesce()\u001b[39m masks \u001b[34mBBmisc\u001b[39m::coalesce()\n",
      "\u001b[31mx\u001b[39m \u001b[34mdplyr\u001b[39m::\u001b[32mcollapse()\u001b[39m masks \u001b[34mBBmisc\u001b[39m::collapse()\n",
      "\u001b[31mx\u001b[39m \u001b[34mdplyr\u001b[39m::\u001b[32mfilter()\u001b[39m   masks \u001b[34mstats\u001b[39m::filter()\n",
      "\u001b[31mx\u001b[39m \u001b[34mdplyr\u001b[39m::\u001b[32mlag()\u001b[39m      masks \u001b[34mstats\u001b[39m::lag()\n",
      "\n"
     ]
    }
   ],
   "source": [
    "library(tidyverse)"
   ]
  },
  {
   "cell_type": "code",
   "execution_count": 7,
   "metadata": {},
   "outputs": [
    {
     "name": "stderr",
     "output_type": "stream",
     "text": [
      "Loading required package: lattice\n",
      "\n",
      "\n",
      "Attaching package: 'caret'\n",
      "\n",
      "\n",
      "The following object is masked from 'package:purrr':\n",
      "\n",
      "    lift\n",
      "\n",
      "\n"
     ]
    }
   ],
   "source": [
    "library(caret)"
   ]
  },
  {
   "cell_type": "markdown",
   "metadata": {},
   "source": [
    "### Loading Data"
   ]
  },
  {
   "cell_type": "code",
   "execution_count": 8,
   "metadata": {},
   "outputs": [
    {
     "name": "stderr",
     "output_type": "stream",
     "text": [
      "Parsed with column specification:\n",
      "cols(\n",
      "  M = \u001b[32mcol_double()\u001b[39m,\n",
      "  So = \u001b[32mcol_double()\u001b[39m,\n",
      "  Ed = \u001b[32mcol_double()\u001b[39m,\n",
      "  Po1 = \u001b[32mcol_double()\u001b[39m,\n",
      "  Po2 = \u001b[32mcol_double()\u001b[39m,\n",
      "  LF = \u001b[32mcol_double()\u001b[39m,\n",
      "  M.F = \u001b[32mcol_double()\u001b[39m,\n",
      "  Pop = \u001b[32mcol_double()\u001b[39m,\n",
      "  NW = \u001b[32mcol_double()\u001b[39m,\n",
      "  U1 = \u001b[32mcol_double()\u001b[39m,\n",
      "  U2 = \u001b[32mcol_double()\u001b[39m,\n",
      "  Wealth = \u001b[32mcol_double()\u001b[39m,\n",
      "  Ineq = \u001b[32mcol_double()\u001b[39m,\n",
      "  Prob = \u001b[32mcol_double()\u001b[39m,\n",
      "  Time = \u001b[32mcol_double()\u001b[39m,\n",
      "  Crime = \u001b[32mcol_double()\u001b[39m\n",
      ")\n",
      "\n"
     ]
    }
   ],
   "source": [
    "#loading data\n",
    "crime=read_tsv(\"uscrime.txt\")"
   ]
  },
  {
   "cell_type": "markdown",
   "metadata": {},
   "source": [
    "Criminologists are interested in the effect of punishment regimes on crime rates. This has been studied using aggregate data on 47 states of the USA for 1960. The data set contains the following columns:\n",
    "\n",
    "    Variable   Description\n",
    "    M\t\tpercentage of males aged 14–24 in total state population\n",
    "    So\t\tindicator variable for a southern state\n",
    "    Ed\t\tmean years of schooling of the population aged 25 years or over\n",
    "    Po1\t\tper capita expenditure on police protection in 1960\n",
    "    Po2\t\tper capita expenditure on police protection in 1959\n",
    "    LF\t\tlabour force participation rate of civilian urban males in the age-group 14-24\n",
    "    M.F\t\tnumber of males per 100 females\n",
    "    Pop\t\tstate population in 1960 in hundred thousands\n",
    "    NW\t\tpercentage of nonwhites in the population\n",
    "    U1\t\tunemployment rate of urban males 14–24\n",
    "    U2\t\tunemployment rate of urban males 35–39\n",
    "    Wealth\twealth: median value of transferable assets or family income\n",
    "    Ineq\tincome inequality: percentage of families earning below half the median income\n",
    "    Prob\tprobability of imprisonment: ratio of number of commitments to number of offenses\n",
    "    Time\taverage time in months served by offenders in state prisons before their first release\n",
    "    Crime\t\tcrime rate: number of offenses per 100,000 population in 1960"
   ]
  },
  {
   "cell_type": "code",
   "execution_count": 9,
   "metadata": {},
   "outputs": [
    {
     "data": {
      "text/html": [
       "<table>\n",
       "<caption>A tibble: 6 × 16</caption>\n",
       "<thead>\n",
       "\t<tr><th scope=col>M</th><th scope=col>So</th><th scope=col>Ed</th><th scope=col>Po1</th><th scope=col>Po2</th><th scope=col>LF</th><th scope=col>M.F</th><th scope=col>Pop</th><th scope=col>NW</th><th scope=col>U1</th><th scope=col>U2</th><th scope=col>Wealth</th><th scope=col>Ineq</th><th scope=col>Prob</th><th scope=col>Time</th><th scope=col>Crime</th></tr>\n",
       "\t<tr><th scope=col>&lt;dbl&gt;</th><th scope=col>&lt;dbl&gt;</th><th scope=col>&lt;dbl&gt;</th><th scope=col>&lt;dbl&gt;</th><th scope=col>&lt;dbl&gt;</th><th scope=col>&lt;dbl&gt;</th><th scope=col>&lt;dbl&gt;</th><th scope=col>&lt;dbl&gt;</th><th scope=col>&lt;dbl&gt;</th><th scope=col>&lt;dbl&gt;</th><th scope=col>&lt;dbl&gt;</th><th scope=col>&lt;dbl&gt;</th><th scope=col>&lt;dbl&gt;</th><th scope=col>&lt;dbl&gt;</th><th scope=col>&lt;dbl&gt;</th><th scope=col>&lt;dbl&gt;</th></tr>\n",
       "</thead>\n",
       "<tbody>\n",
       "\t<tr><td>15.1</td><td>1</td><td> 9.1</td><td> 5.8</td><td> 5.6</td><td>0.510</td><td> 95.0</td><td> 33</td><td>30.1</td><td>0.108</td><td>4.1</td><td>3940</td><td>26.1</td><td>0.084602</td><td>26.2011</td><td> 791</td></tr>\n",
       "\t<tr><td>14.3</td><td>0</td><td>11.3</td><td>10.3</td><td> 9.5</td><td>0.583</td><td>101.2</td><td> 13</td><td>10.2</td><td>0.096</td><td>3.6</td><td>5570</td><td>19.4</td><td>0.029599</td><td>25.2999</td><td>1635</td></tr>\n",
       "\t<tr><td>14.2</td><td>1</td><td> 8.9</td><td> 4.5</td><td> 4.4</td><td>0.533</td><td> 96.9</td><td> 18</td><td>21.9</td><td>0.094</td><td>3.3</td><td>3180</td><td>25.0</td><td>0.083401</td><td>24.3006</td><td> 578</td></tr>\n",
       "\t<tr><td>13.6</td><td>0</td><td>12.1</td><td>14.9</td><td>14.1</td><td>0.577</td><td> 99.4</td><td>157</td><td> 8.0</td><td>0.102</td><td>3.9</td><td>6730</td><td>16.7</td><td>0.015801</td><td>29.9012</td><td>1969</td></tr>\n",
       "\t<tr><td>14.1</td><td>0</td><td>12.1</td><td>10.9</td><td>10.1</td><td>0.591</td><td> 98.5</td><td> 18</td><td> 3.0</td><td>0.091</td><td>2.0</td><td>5780</td><td>17.4</td><td>0.041399</td><td>21.2998</td><td>1234</td></tr>\n",
       "\t<tr><td>12.1</td><td>0</td><td>11.0</td><td>11.8</td><td>11.5</td><td>0.547</td><td> 96.4</td><td> 25</td><td> 4.4</td><td>0.084</td><td>2.9</td><td>6890</td><td>12.6</td><td>0.034201</td><td>20.9995</td><td> 682</td></tr>\n",
       "</tbody>\n",
       "</table>\n"
      ],
      "text/latex": [
       "A tibble: 6 × 16\n",
       "\\begin{tabular}{llllllllllllllll}\n",
       " M & So & Ed & Po1 & Po2 & LF & M.F & Pop & NW & U1 & U2 & Wealth & Ineq & Prob & Time & Crime\\\\\n",
       " <dbl> & <dbl> & <dbl> & <dbl> & <dbl> & <dbl> & <dbl> & <dbl> & <dbl> & <dbl> & <dbl> & <dbl> & <dbl> & <dbl> & <dbl> & <dbl>\\\\\n",
       "\\hline\n",
       "\t 15.1 & 1 &  9.1 &  5.8 &  5.6 & 0.510 &  95.0 &  33 & 30.1 & 0.108 & 4.1 & 3940 & 26.1 & 0.084602 & 26.2011 &  791\\\\\n",
       "\t 14.3 & 0 & 11.3 & 10.3 &  9.5 & 0.583 & 101.2 &  13 & 10.2 & 0.096 & 3.6 & 5570 & 19.4 & 0.029599 & 25.2999 & 1635\\\\\n",
       "\t 14.2 & 1 &  8.9 &  4.5 &  4.4 & 0.533 &  96.9 &  18 & 21.9 & 0.094 & 3.3 & 3180 & 25.0 & 0.083401 & 24.3006 &  578\\\\\n",
       "\t 13.6 & 0 & 12.1 & 14.9 & 14.1 & 0.577 &  99.4 & 157 &  8.0 & 0.102 & 3.9 & 6730 & 16.7 & 0.015801 & 29.9012 & 1969\\\\\n",
       "\t 14.1 & 0 & 12.1 & 10.9 & 10.1 & 0.591 &  98.5 &  18 &  3.0 & 0.091 & 2.0 & 5780 & 17.4 & 0.041399 & 21.2998 & 1234\\\\\n",
       "\t 12.1 & 0 & 11.0 & 11.8 & 11.5 & 0.547 &  96.4 &  25 &  4.4 & 0.084 & 2.9 & 6890 & 12.6 & 0.034201 & 20.9995 &  682\\\\\n",
       "\\end{tabular}\n"
      ],
      "text/markdown": [
       "\n",
       "A tibble: 6 × 16\n",
       "\n",
       "| M &lt;dbl&gt; | So &lt;dbl&gt; | Ed &lt;dbl&gt; | Po1 &lt;dbl&gt; | Po2 &lt;dbl&gt; | LF &lt;dbl&gt; | M.F &lt;dbl&gt; | Pop &lt;dbl&gt; | NW &lt;dbl&gt; | U1 &lt;dbl&gt; | U2 &lt;dbl&gt; | Wealth &lt;dbl&gt; | Ineq &lt;dbl&gt; | Prob &lt;dbl&gt; | Time &lt;dbl&gt; | Crime &lt;dbl&gt; |\n",
       "|---|---|---|---|---|---|---|---|---|---|---|---|---|---|---|---|\n",
       "| 15.1 | 1 |  9.1 |  5.8 |  5.6 | 0.510 |  95.0 |  33 | 30.1 | 0.108 | 4.1 | 3940 | 26.1 | 0.084602 | 26.2011 |  791 |\n",
       "| 14.3 | 0 | 11.3 | 10.3 |  9.5 | 0.583 | 101.2 |  13 | 10.2 | 0.096 | 3.6 | 5570 | 19.4 | 0.029599 | 25.2999 | 1635 |\n",
       "| 14.2 | 1 |  8.9 |  4.5 |  4.4 | 0.533 |  96.9 |  18 | 21.9 | 0.094 | 3.3 | 3180 | 25.0 | 0.083401 | 24.3006 |  578 |\n",
       "| 13.6 | 0 | 12.1 | 14.9 | 14.1 | 0.577 |  99.4 | 157 |  8.0 | 0.102 | 3.9 | 6730 | 16.7 | 0.015801 | 29.9012 | 1969 |\n",
       "| 14.1 | 0 | 12.1 | 10.9 | 10.1 | 0.591 |  98.5 |  18 |  3.0 | 0.091 | 2.0 | 5780 | 17.4 | 0.041399 | 21.2998 | 1234 |\n",
       "| 12.1 | 0 | 11.0 | 11.8 | 11.5 | 0.547 |  96.4 |  25 |  4.4 | 0.084 | 2.9 | 6890 | 12.6 | 0.034201 | 20.9995 |  682 |\n",
       "\n"
      ],
      "text/plain": [
       "  M    So Ed   Po1  Po2  LF    M.F   Pop NW   U1    U2  Wealth Ineq Prob    \n",
       "1 15.1 1   9.1  5.8  5.6 0.510  95.0  33 30.1 0.108 4.1 3940   26.1 0.084602\n",
       "2 14.3 0  11.3 10.3  9.5 0.583 101.2  13 10.2 0.096 3.6 5570   19.4 0.029599\n",
       "3 14.2 1   8.9  4.5  4.4 0.533  96.9  18 21.9 0.094 3.3 3180   25.0 0.083401\n",
       "4 13.6 0  12.1 14.9 14.1 0.577  99.4 157  8.0 0.102 3.9 6730   16.7 0.015801\n",
       "5 14.1 0  12.1 10.9 10.1 0.591  98.5  18  3.0 0.091 2.0 5780   17.4 0.041399\n",
       "6 12.1 0  11.0 11.8 11.5 0.547  96.4  25  4.4 0.084 2.9 6890   12.6 0.034201\n",
       "  Time    Crime\n",
       "1 26.2011  791 \n",
       "2 25.2999 1635 \n",
       "3 24.3006  578 \n",
       "4 29.9012 1969 \n",
       "5 21.2998 1234 \n",
       "6 20.9995  682 "
      ]
     },
     "metadata": {},
     "output_type": "display_data"
    }
   ],
   "source": [
    "#checking the data\n",
    "head(crime)"
   ]
  },
  {
   "cell_type": "code",
   "execution_count": 10,
   "metadata": {},
   "outputs": [
    {
     "name": "stdout",
     "output_type": "stream",
     "text": [
      "Classes 'spec_tbl_df', 'tbl_df', 'tbl' and 'data.frame':\t47 obs. of  16 variables:\n",
      " $ M     : num  15.1 14.3 14.2 13.6 14.1 12.1 12.7 13.1 15.7 14 ...\n",
      " $ So    : num  1 0 1 0 0 0 1 1 1 0 ...\n",
      " $ Ed    : num  9.1 11.3 8.9 12.1 12.1 11 11.1 10.9 9 11.8 ...\n",
      " $ Po1   : num  5.8 10.3 4.5 14.9 10.9 11.8 8.2 11.5 6.5 7.1 ...\n",
      " $ Po2   : num  5.6 9.5 4.4 14.1 10.1 11.5 7.9 10.9 6.2 6.8 ...\n",
      " $ LF    : num  0.51 0.583 0.533 0.577 0.591 0.547 0.519 0.542 0.553 0.632 ...\n",
      " $ M.F   : num  95 101.2 96.9 99.4 98.5 ...\n",
      " $ Pop   : num  33 13 18 157 18 25 4 50 39 7 ...\n",
      " $ NW    : num  30.1 10.2 21.9 8 3 4.4 13.9 17.9 28.6 1.5 ...\n",
      " $ U1    : num  0.108 0.096 0.094 0.102 0.091 0.084 0.097 0.079 0.081 0.1 ...\n",
      " $ U2    : num  4.1 3.6 3.3 3.9 2 2.9 3.8 3.5 2.8 2.4 ...\n",
      " $ Wealth: num  3940 5570 3180 6730 5780 6890 6200 4720 4210 5260 ...\n",
      " $ Ineq  : num  26.1 19.4 25 16.7 17.4 12.6 16.8 20.6 23.9 17.4 ...\n",
      " $ Prob  : num  0.0846 0.0296 0.0834 0.0158 0.0414 ...\n",
      " $ Time  : num  26.2 25.3 24.3 29.9 21.3 ...\n",
      " $ Crime : num  791 1635 578 1969 1234 ...\n",
      " - attr(*, \"spec\")=\n",
      "  .. cols(\n",
      "  ..   M = \u001b[32mcol_double()\u001b[39m,\n",
      "  ..   So = \u001b[32mcol_double()\u001b[39m,\n",
      "  ..   Ed = \u001b[32mcol_double()\u001b[39m,\n",
      "  ..   Po1 = \u001b[32mcol_double()\u001b[39m,\n",
      "  ..   Po2 = \u001b[32mcol_double()\u001b[39m,\n",
      "  ..   LF = \u001b[32mcol_double()\u001b[39m,\n",
      "  ..   M.F = \u001b[32mcol_double()\u001b[39m,\n",
      "  ..   Pop = \u001b[32mcol_double()\u001b[39m,\n",
      "  ..   NW = \u001b[32mcol_double()\u001b[39m,\n",
      "  ..   U1 = \u001b[32mcol_double()\u001b[39m,\n",
      "  ..   U2 = \u001b[32mcol_double()\u001b[39m,\n",
      "  ..   Wealth = \u001b[32mcol_double()\u001b[39m,\n",
      "  ..   Ineq = \u001b[32mcol_double()\u001b[39m,\n",
      "  ..   Prob = \u001b[32mcol_double()\u001b[39m,\n",
      "  ..   Time = \u001b[32mcol_double()\u001b[39m,\n",
      "  ..   Crime = \u001b[32mcol_double()\u001b[39m\n",
      "  .. )\n"
     ]
    }
   ],
   "source": [
    "#Looking at the structure of data\n",
    "str(crime)"
   ]
  },
  {
   "cell_type": "code",
   "execution_count": 11,
   "metadata": {},
   "outputs": [
    {
     "data": {
      "text/html": [
       "<table>\n",
       "<caption>A matrix: 15 × 15 of type dbl</caption>\n",
       "<thead>\n",
       "\t<tr><th></th><th scope=col>M</th><th scope=col>So</th><th scope=col>Ed</th><th scope=col>Po1</th><th scope=col>Po2</th><th scope=col>LF</th><th scope=col>M.F</th><th scope=col>Pop</th><th scope=col>NW</th><th scope=col>U1</th><th scope=col>U2</th><th scope=col>Wealth</th><th scope=col>Ineq</th><th scope=col>Prob</th><th scope=col>Time</th></tr>\n",
       "</thead>\n",
       "<tbody>\n",
       "\t<tr><th scope=row>M</th><td> 1.00000000</td><td> 0.58435534</td><td>-0.53023964</td><td>-0.50573690</td><td>-0.51317336</td><td>-0.1609488</td><td>-0.02867993</td><td>-0.28063762</td><td> 0.59319826</td><td>-0.224380599</td><td>-0.24484339</td><td>-0.6700550558</td><td> 0.63921138</td><td> 0.361116408</td><td> 0.1145107190</td></tr>\n",
       "\t<tr><th scope=row>So</th><td> 0.58435534</td><td> 1.00000000</td><td>-0.70274132</td><td>-0.37263633</td><td>-0.37616753</td><td>-0.5054695</td><td>-0.31473291</td><td>-0.04991832</td><td> 0.76710262</td><td>-0.172419305</td><td> 0.07169289</td><td>-0.6369454328</td><td> 0.73718106</td><td> 0.530861993</td><td> 0.0668128312</td></tr>\n",
       "\t<tr><th scope=row>Ed</th><td>-0.53023964</td><td>-0.70274132</td><td> 1.00000000</td><td> 0.48295213</td><td> 0.49940958</td><td> 0.5611780</td><td> 0.43691492</td><td>-0.01722740</td><td>-0.66488190</td><td> 0.018103454</td><td>-0.21568155</td><td> 0.7359970363</td><td>-0.76865789</td><td>-0.389922862</td><td>-0.2539735471</td></tr>\n",
       "\t<tr><th scope=row>Po1</th><td>-0.50573690</td><td>-0.37263633</td><td> 0.48295213</td><td> 1.00000000</td><td> 0.99358648</td><td> 0.1214932</td><td> 0.03376027</td><td> 0.52628358</td><td>-0.21370878</td><td>-0.043697608</td><td> 0.18509304</td><td> 0.7872252807</td><td>-0.63050025</td><td>-0.473247036</td><td> 0.1033577449</td></tr>\n",
       "\t<tr><th scope=row>Po2</th><td>-0.51317336</td><td>-0.37616753</td><td> 0.49940958</td><td> 0.99358648</td><td> 1.00000000</td><td> 0.1063496</td><td> 0.02284250</td><td> 0.51378940</td><td>-0.21876821</td><td>-0.051711989</td><td> 0.16922422</td><td> 0.7942620503</td><td>-0.64815183</td><td>-0.473027293</td><td> 0.0756266536</td></tr>\n",
       "\t<tr><th scope=row>LF</th><td>-0.16094882</td><td>-0.50546948</td><td> 0.56117795</td><td> 0.12149320</td><td> 0.10634960</td><td> 1.0000000</td><td> 0.51355879</td><td>-0.12367222</td><td>-0.34121444</td><td>-0.229399684</td><td>-0.42076249</td><td> 0.2946323090</td><td>-0.26988646</td><td>-0.250086098</td><td>-0.1236404364</td></tr>\n",
       "\t<tr><th scope=row>M.F</th><td>-0.02867993</td><td>-0.31473291</td><td> 0.43691492</td><td> 0.03376027</td><td> 0.02284250</td><td> 0.5135588</td><td> 1.00000000</td><td>-0.41062750</td><td>-0.32730454</td><td> 0.351891900</td><td>-0.01869169</td><td> 0.1796086363</td><td>-0.16708869</td><td>-0.050858258</td><td>-0.4276973791</td></tr>\n",
       "\t<tr><th scope=row>Pop</th><td>-0.28063762</td><td>-0.04991832</td><td>-0.01722740</td><td> 0.52628358</td><td> 0.51378940</td><td>-0.1236722</td><td>-0.41062750</td><td> 1.00000000</td><td> 0.09515301</td><td>-0.038119948</td><td> 0.27042159</td><td> 0.3082627091</td><td>-0.12629357</td><td>-0.347289063</td><td> 0.4642104596</td></tr>\n",
       "\t<tr><th scope=row>NW</th><td> 0.59319826</td><td> 0.76710262</td><td>-0.66488190</td><td>-0.21370878</td><td>-0.21876821</td><td>-0.3412144</td><td>-0.32730454</td><td> 0.09515301</td><td> 1.00000000</td><td>-0.156450020</td><td> 0.08090829</td><td>-0.5901070652</td><td> 0.67731286</td><td> 0.428059153</td><td> 0.2303984071</td></tr>\n",
       "\t<tr><th scope=row>U1</th><td>-0.22438060</td><td>-0.17241931</td><td> 0.01810345</td><td>-0.04369761</td><td>-0.05171199</td><td>-0.2293997</td><td> 0.35189190</td><td>-0.03811995</td><td>-0.15645002</td><td> 1.000000000</td><td> 0.74592482</td><td> 0.0448572017</td><td>-0.06383218</td><td>-0.007469032</td><td>-0.1698528383</td></tr>\n",
       "\t<tr><th scope=row>U2</th><td>-0.24484339</td><td> 0.07169289</td><td>-0.21568155</td><td> 0.18509304</td><td> 0.16922422</td><td>-0.4207625</td><td>-0.01869169</td><td> 0.27042159</td><td> 0.08090829</td><td> 0.745924815</td><td> 1.00000000</td><td> 0.0920716601</td><td> 0.01567818</td><td>-0.061592474</td><td> 0.1013583270</td></tr>\n",
       "\t<tr><th scope=row>Wealth</th><td>-0.67005506</td><td>-0.63694543</td><td> 0.73599704</td><td> 0.78722528</td><td> 0.79426205</td><td> 0.2946323</td><td> 0.17960864</td><td> 0.30826271</td><td>-0.59010707</td><td> 0.044857202</td><td> 0.09207166</td><td> 1.0000000000</td><td>-0.88399728</td><td>-0.555334708</td><td> 0.0006485587</td></tr>\n",
       "\t<tr><th scope=row>Ineq</th><td> 0.63921138</td><td> 0.73718106</td><td>-0.76865789</td><td>-0.63050025</td><td>-0.64815183</td><td>-0.2698865</td><td>-0.16708869</td><td>-0.12629357</td><td> 0.67731286</td><td>-0.063832178</td><td> 0.01567818</td><td>-0.8839972758</td><td> 1.00000000</td><td> 0.465321920</td><td> 0.1018228182</td></tr>\n",
       "\t<tr><th scope=row>Prob</th><td> 0.36111641</td><td> 0.53086199</td><td>-0.38992286</td><td>-0.47324704</td><td>-0.47302729</td><td>-0.2500861</td><td>-0.05085826</td><td>-0.34728906</td><td> 0.42805915</td><td>-0.007469032</td><td>-0.06159247</td><td>-0.5553347075</td><td> 0.46532192</td><td> 1.000000000</td><td>-0.4362462614</td></tr>\n",
       "\t<tr><th scope=row>Time</th><td> 0.11451072</td><td> 0.06681283</td><td>-0.25397355</td><td> 0.10335774</td><td> 0.07562665</td><td>-0.1236404</td><td>-0.42769738</td><td> 0.46421046</td><td> 0.23039841</td><td>-0.169852838</td><td> 0.10135833</td><td> 0.0006485587</td><td> 0.10182282</td><td>-0.436246261</td><td> 1.0000000000</td></tr>\n",
       "</tbody>\n",
       "</table>\n"
      ],
      "text/latex": [
       "A matrix: 15 × 15 of type dbl\n",
       "\\begin{tabular}{r|lllllllllllllll}\n",
       "  & M & So & Ed & Po1 & Po2 & LF & M.F & Pop & NW & U1 & U2 & Wealth & Ineq & Prob & Time\\\\\n",
       "\\hline\n",
       "\tM &  1.00000000 &  0.58435534 & -0.53023964 & -0.50573690 & -0.51317336 & -0.1609488 & -0.02867993 & -0.28063762 &  0.59319826 & -0.224380599 & -0.24484339 & -0.6700550558 &  0.63921138 &  0.361116408 &  0.1145107190\\\\\n",
       "\tSo &  0.58435534 &  1.00000000 & -0.70274132 & -0.37263633 & -0.37616753 & -0.5054695 & -0.31473291 & -0.04991832 &  0.76710262 & -0.172419305 &  0.07169289 & -0.6369454328 &  0.73718106 &  0.530861993 &  0.0668128312\\\\\n",
       "\tEd & -0.53023964 & -0.70274132 &  1.00000000 &  0.48295213 &  0.49940958 &  0.5611780 &  0.43691492 & -0.01722740 & -0.66488190 &  0.018103454 & -0.21568155 &  0.7359970363 & -0.76865789 & -0.389922862 & -0.2539735471\\\\\n",
       "\tPo1 & -0.50573690 & -0.37263633 &  0.48295213 &  1.00000000 &  0.99358648 &  0.1214932 &  0.03376027 &  0.52628358 & -0.21370878 & -0.043697608 &  0.18509304 &  0.7872252807 & -0.63050025 & -0.473247036 &  0.1033577449\\\\\n",
       "\tPo2 & -0.51317336 & -0.37616753 &  0.49940958 &  0.99358648 &  1.00000000 &  0.1063496 &  0.02284250 &  0.51378940 & -0.21876821 & -0.051711989 &  0.16922422 &  0.7942620503 & -0.64815183 & -0.473027293 &  0.0756266536\\\\\n",
       "\tLF & -0.16094882 & -0.50546948 &  0.56117795 &  0.12149320 &  0.10634960 &  1.0000000 &  0.51355879 & -0.12367222 & -0.34121444 & -0.229399684 & -0.42076249 &  0.2946323090 & -0.26988646 & -0.250086098 & -0.1236404364\\\\\n",
       "\tM.F & -0.02867993 & -0.31473291 &  0.43691492 &  0.03376027 &  0.02284250 &  0.5135588 &  1.00000000 & -0.41062750 & -0.32730454 &  0.351891900 & -0.01869169 &  0.1796086363 & -0.16708869 & -0.050858258 & -0.4276973791\\\\\n",
       "\tPop & -0.28063762 & -0.04991832 & -0.01722740 &  0.52628358 &  0.51378940 & -0.1236722 & -0.41062750 &  1.00000000 &  0.09515301 & -0.038119948 &  0.27042159 &  0.3082627091 & -0.12629357 & -0.347289063 &  0.4642104596\\\\\n",
       "\tNW &  0.59319826 &  0.76710262 & -0.66488190 & -0.21370878 & -0.21876821 & -0.3412144 & -0.32730454 &  0.09515301 &  1.00000000 & -0.156450020 &  0.08090829 & -0.5901070652 &  0.67731286 &  0.428059153 &  0.2303984071\\\\\n",
       "\tU1 & -0.22438060 & -0.17241931 &  0.01810345 & -0.04369761 & -0.05171199 & -0.2293997 &  0.35189190 & -0.03811995 & -0.15645002 &  1.000000000 &  0.74592482 &  0.0448572017 & -0.06383218 & -0.007469032 & -0.1698528383\\\\\n",
       "\tU2 & -0.24484339 &  0.07169289 & -0.21568155 &  0.18509304 &  0.16922422 & -0.4207625 & -0.01869169 &  0.27042159 &  0.08090829 &  0.745924815 &  1.00000000 &  0.0920716601 &  0.01567818 & -0.061592474 &  0.1013583270\\\\\n",
       "\tWealth & -0.67005506 & -0.63694543 &  0.73599704 &  0.78722528 &  0.79426205 &  0.2946323 &  0.17960864 &  0.30826271 & -0.59010707 &  0.044857202 &  0.09207166 &  1.0000000000 & -0.88399728 & -0.555334708 &  0.0006485587\\\\\n",
       "\tIneq &  0.63921138 &  0.73718106 & -0.76865789 & -0.63050025 & -0.64815183 & -0.2698865 & -0.16708869 & -0.12629357 &  0.67731286 & -0.063832178 &  0.01567818 & -0.8839972758 &  1.00000000 &  0.465321920 &  0.1018228182\\\\\n",
       "\tProb &  0.36111641 &  0.53086199 & -0.38992286 & -0.47324704 & -0.47302729 & -0.2500861 & -0.05085826 & -0.34728906 &  0.42805915 & -0.007469032 & -0.06159247 & -0.5553347075 &  0.46532192 &  1.000000000 & -0.4362462614\\\\\n",
       "\tTime &  0.11451072 &  0.06681283 & -0.25397355 &  0.10335774 &  0.07562665 & -0.1236404 & -0.42769738 &  0.46421046 &  0.23039841 & -0.169852838 &  0.10135833 &  0.0006485587 &  0.10182282 & -0.436246261 &  1.0000000000\\\\\n",
       "\\end{tabular}\n"
      ],
      "text/markdown": [
       "\n",
       "A matrix: 15 × 15 of type dbl\n",
       "\n",
       "| <!--/--> | M | So | Ed | Po1 | Po2 | LF | M.F | Pop | NW | U1 | U2 | Wealth | Ineq | Prob | Time |\n",
       "|---|---|---|---|---|---|---|---|---|---|---|---|---|---|---|---|\n",
       "| M |  1.00000000 |  0.58435534 | -0.53023964 | -0.50573690 | -0.51317336 | -0.1609488 | -0.02867993 | -0.28063762 |  0.59319826 | -0.224380599 | -0.24484339 | -0.6700550558 |  0.63921138 |  0.361116408 |  0.1145107190 |\n",
       "| So |  0.58435534 |  1.00000000 | -0.70274132 | -0.37263633 | -0.37616753 | -0.5054695 | -0.31473291 | -0.04991832 |  0.76710262 | -0.172419305 |  0.07169289 | -0.6369454328 |  0.73718106 |  0.530861993 |  0.0668128312 |\n",
       "| Ed | -0.53023964 | -0.70274132 |  1.00000000 |  0.48295213 |  0.49940958 |  0.5611780 |  0.43691492 | -0.01722740 | -0.66488190 |  0.018103454 | -0.21568155 |  0.7359970363 | -0.76865789 | -0.389922862 | -0.2539735471 |\n",
       "| Po1 | -0.50573690 | -0.37263633 |  0.48295213 |  1.00000000 |  0.99358648 |  0.1214932 |  0.03376027 |  0.52628358 | -0.21370878 | -0.043697608 |  0.18509304 |  0.7872252807 | -0.63050025 | -0.473247036 |  0.1033577449 |\n",
       "| Po2 | -0.51317336 | -0.37616753 |  0.49940958 |  0.99358648 |  1.00000000 |  0.1063496 |  0.02284250 |  0.51378940 | -0.21876821 | -0.051711989 |  0.16922422 |  0.7942620503 | -0.64815183 | -0.473027293 |  0.0756266536 |\n",
       "| LF | -0.16094882 | -0.50546948 |  0.56117795 |  0.12149320 |  0.10634960 |  1.0000000 |  0.51355879 | -0.12367222 | -0.34121444 | -0.229399684 | -0.42076249 |  0.2946323090 | -0.26988646 | -0.250086098 | -0.1236404364 |\n",
       "| M.F | -0.02867993 | -0.31473291 |  0.43691492 |  0.03376027 |  0.02284250 |  0.5135588 |  1.00000000 | -0.41062750 | -0.32730454 |  0.351891900 | -0.01869169 |  0.1796086363 | -0.16708869 | -0.050858258 | -0.4276973791 |\n",
       "| Pop | -0.28063762 | -0.04991832 | -0.01722740 |  0.52628358 |  0.51378940 | -0.1236722 | -0.41062750 |  1.00000000 |  0.09515301 | -0.038119948 |  0.27042159 |  0.3082627091 | -0.12629357 | -0.347289063 |  0.4642104596 |\n",
       "| NW |  0.59319826 |  0.76710262 | -0.66488190 | -0.21370878 | -0.21876821 | -0.3412144 | -0.32730454 |  0.09515301 |  1.00000000 | -0.156450020 |  0.08090829 | -0.5901070652 |  0.67731286 |  0.428059153 |  0.2303984071 |\n",
       "| U1 | -0.22438060 | -0.17241931 |  0.01810345 | -0.04369761 | -0.05171199 | -0.2293997 |  0.35189190 | -0.03811995 | -0.15645002 |  1.000000000 |  0.74592482 |  0.0448572017 | -0.06383218 | -0.007469032 | -0.1698528383 |\n",
       "| U2 | -0.24484339 |  0.07169289 | -0.21568155 |  0.18509304 |  0.16922422 | -0.4207625 | -0.01869169 |  0.27042159 |  0.08090829 |  0.745924815 |  1.00000000 |  0.0920716601 |  0.01567818 | -0.061592474 |  0.1013583270 |\n",
       "| Wealth | -0.67005506 | -0.63694543 |  0.73599704 |  0.78722528 |  0.79426205 |  0.2946323 |  0.17960864 |  0.30826271 | -0.59010707 |  0.044857202 |  0.09207166 |  1.0000000000 | -0.88399728 | -0.555334708 |  0.0006485587 |\n",
       "| Ineq |  0.63921138 |  0.73718106 | -0.76865789 | -0.63050025 | -0.64815183 | -0.2698865 | -0.16708869 | -0.12629357 |  0.67731286 | -0.063832178 |  0.01567818 | -0.8839972758 |  1.00000000 |  0.465321920 |  0.1018228182 |\n",
       "| Prob |  0.36111641 |  0.53086199 | -0.38992286 | -0.47324704 | -0.47302729 | -0.2500861 | -0.05085826 | -0.34728906 |  0.42805915 | -0.007469032 | -0.06159247 | -0.5553347075 |  0.46532192 |  1.000000000 | -0.4362462614 |\n",
       "| Time |  0.11451072 |  0.06681283 | -0.25397355 |  0.10335774 |  0.07562665 | -0.1236404 | -0.42769738 |  0.46421046 |  0.23039841 | -0.169852838 |  0.10135833 |  0.0006485587 |  0.10182282 | -0.436246261 |  1.0000000000 |\n",
       "\n"
      ],
      "text/plain": [
       "       M           So          Ed          Po1         Po2         LF        \n",
       "M       1.00000000  0.58435534 -0.53023964 -0.50573690 -0.51317336 -0.1609488\n",
       "So      0.58435534  1.00000000 -0.70274132 -0.37263633 -0.37616753 -0.5054695\n",
       "Ed     -0.53023964 -0.70274132  1.00000000  0.48295213  0.49940958  0.5611780\n",
       "Po1    -0.50573690 -0.37263633  0.48295213  1.00000000  0.99358648  0.1214932\n",
       "Po2    -0.51317336 -0.37616753  0.49940958  0.99358648  1.00000000  0.1063496\n",
       "LF     -0.16094882 -0.50546948  0.56117795  0.12149320  0.10634960  1.0000000\n",
       "M.F    -0.02867993 -0.31473291  0.43691492  0.03376027  0.02284250  0.5135588\n",
       "Pop    -0.28063762 -0.04991832 -0.01722740  0.52628358  0.51378940 -0.1236722\n",
       "NW      0.59319826  0.76710262 -0.66488190 -0.21370878 -0.21876821 -0.3412144\n",
       "U1     -0.22438060 -0.17241931  0.01810345 -0.04369761 -0.05171199 -0.2293997\n",
       "U2     -0.24484339  0.07169289 -0.21568155  0.18509304  0.16922422 -0.4207625\n",
       "Wealth -0.67005506 -0.63694543  0.73599704  0.78722528  0.79426205  0.2946323\n",
       "Ineq    0.63921138  0.73718106 -0.76865789 -0.63050025 -0.64815183 -0.2698865\n",
       "Prob    0.36111641  0.53086199 -0.38992286 -0.47324704 -0.47302729 -0.2500861\n",
       "Time    0.11451072  0.06681283 -0.25397355  0.10335774  0.07562665 -0.1236404\n",
       "       M.F         Pop         NW          U1           U2         \n",
       "M      -0.02867993 -0.28063762  0.59319826 -0.224380599 -0.24484339\n",
       "So     -0.31473291 -0.04991832  0.76710262 -0.172419305  0.07169289\n",
       "Ed      0.43691492 -0.01722740 -0.66488190  0.018103454 -0.21568155\n",
       "Po1     0.03376027  0.52628358 -0.21370878 -0.043697608  0.18509304\n",
       "Po2     0.02284250  0.51378940 -0.21876821 -0.051711989  0.16922422\n",
       "LF      0.51355879 -0.12367222 -0.34121444 -0.229399684 -0.42076249\n",
       "M.F     1.00000000 -0.41062750 -0.32730454  0.351891900 -0.01869169\n",
       "Pop    -0.41062750  1.00000000  0.09515301 -0.038119948  0.27042159\n",
       "NW     -0.32730454  0.09515301  1.00000000 -0.156450020  0.08090829\n",
       "U1      0.35189190 -0.03811995 -0.15645002  1.000000000  0.74592482\n",
       "U2     -0.01869169  0.27042159  0.08090829  0.745924815  1.00000000\n",
       "Wealth  0.17960864  0.30826271 -0.59010707  0.044857202  0.09207166\n",
       "Ineq   -0.16708869 -0.12629357  0.67731286 -0.063832178  0.01567818\n",
       "Prob   -0.05085826 -0.34728906  0.42805915 -0.007469032 -0.06159247\n",
       "Time   -0.42769738  0.46421046  0.23039841 -0.169852838  0.10135833\n",
       "       Wealth        Ineq        Prob         Time         \n",
       "M      -0.6700550558  0.63921138  0.361116408  0.1145107190\n",
       "So     -0.6369454328  0.73718106  0.530861993  0.0668128312\n",
       "Ed      0.7359970363 -0.76865789 -0.389922862 -0.2539735471\n",
       "Po1     0.7872252807 -0.63050025 -0.473247036  0.1033577449\n",
       "Po2     0.7942620503 -0.64815183 -0.473027293  0.0756266536\n",
       "LF      0.2946323090 -0.26988646 -0.250086098 -0.1236404364\n",
       "M.F     0.1796086363 -0.16708869 -0.050858258 -0.4276973791\n",
       "Pop     0.3082627091 -0.12629357 -0.347289063  0.4642104596\n",
       "NW     -0.5901070652  0.67731286  0.428059153  0.2303984071\n",
       "U1      0.0448572017 -0.06383218 -0.007469032 -0.1698528383\n",
       "U2      0.0920716601  0.01567818 -0.061592474  0.1013583270\n",
       "Wealth  1.0000000000 -0.88399728 -0.555334708  0.0006485587\n",
       "Ineq   -0.8839972758  1.00000000  0.465321920  0.1018228182\n",
       "Prob   -0.5553347075  0.46532192  1.000000000 -0.4362462614\n",
       "Time    0.0006485587  0.10182282 -0.436246261  1.0000000000"
      ]
     },
     "metadata": {},
     "output_type": "display_data"
    }
   ],
   "source": [
    "#correlation matrix\n",
    "cor(crime[-16])"
   ]
  },
  {
   "cell_type": "markdown",
   "metadata": {},
   "source": [
    "---------------------------------------------------------------------------------------------------------------------\n",
    "Looking at correlation matrix above, we can see that many variables are correlated and some are highly correlated.\n",
    "\n",
    "When doing regression, if regressors(predictors) are correlated,or simply put multicollinearity exists, it is going to impact the prediction and output response.\n",
    "\n",
    "Predictors are independent variables and should be independent(uncorrelated). The higher the correlation, the bigger impact it has on fitting the model and interpreting the results.\n",
    "\n",
    "One way to approach this problem is transforming predictors such that predictos are uncorrelated. \n",
    "\n",
    "We will use principal component analysis to take originial variables and create new variables called principal components.\n",
    "\n",
    "These PCs are :\n",
    "- linear combinations of the original variables\n",
    "- uncorrelated\n",
    "- each PC explains the maximum amount of variation in the original X matrix. \n",
    "\n",
    "We can take only the first few PCs that explain some large percentage of the variation in the original matrix and reduce the number of variables to analyze. "
   ]
  },
  {
   "cell_type": "markdown",
   "metadata": {},
   "source": [
    "###  Principal Component Analysis "
   ]
  },
  {
   "cell_type": "markdown",
   "metadata": {},
   "source": [
    "A principal component is a normalized linear combination of the original predictors in a data set.First principal component is a linear combination of original predictor variables which captures the maximum variance in the data set. It determines the direction of highest variability in the data."
   ]
  },
  {
   "cell_type": "code",
   "execution_count": 12,
   "metadata": {},
   "outputs": [],
   "source": [
    "set.seed(0)\n",
    "crime_pca<-prcomp(crime[,-16],center=TRUE,scale. = TRUE)"
   ]
  },
  {
   "cell_type": "code",
   "execution_count": 13,
   "metadata": {},
   "outputs": [
    {
     "data": {
      "text/plain": [
       "Importance of components:\n",
       "                          PC1    PC2    PC3     PC4     PC5     PC6     PC7\n",
       "Standard deviation     2.4534 1.6739 1.4160 1.07806 0.97893 0.74377 0.56729\n",
       "Proportion of Variance 0.4013 0.1868 0.1337 0.07748 0.06389 0.03688 0.02145\n",
       "Cumulative Proportion  0.4013 0.5880 0.7217 0.79920 0.86308 0.89996 0.92142\n",
       "                           PC8     PC9    PC10    PC11    PC12    PC13   PC14\n",
       "Standard deviation     0.55444 0.48493 0.44708 0.41915 0.35804 0.26333 0.2418\n",
       "Proportion of Variance 0.02049 0.01568 0.01333 0.01171 0.00855 0.00462 0.0039\n",
       "Cumulative Proportion  0.94191 0.95759 0.97091 0.98263 0.99117 0.99579 0.9997\n",
       "                          PC15\n",
       "Standard deviation     0.06793\n",
       "Proportion of Variance 0.00031\n",
       "Cumulative Proportion  1.00000"
      ]
     },
     "metadata": {},
     "output_type": "display_data"
    }
   ],
   "source": [
    "summary(crime_pca)"
   ]
  },
  {
   "cell_type": "markdown",
   "metadata": {},
   "source": [
    "We obtain 15 principal components. Each of these explains a percentage of the total variation in the dataset. PC1 explains 40% of the total variance and  PC2 and PC3 explain roughly 19% and 13% of the variance. So, by knowing the position of a sample/observation in relation to just PC1, PC2 and PC3, we can get a very accurate view on where it stands in relation to other samples, as just PC1,PC2 and PC3 can explain 72% of the variance. If we would like to do dimnesion reduction, and choosing components that captures 90% of variance in data works for us, then we can select the first 6 principal components in our analysis."
   ]
  },
  {
   "cell_type": "code",
   "execution_count": 14,
   "metadata": {},
   "outputs": [
    {
     "name": "stdout",
     "output_type": "stream",
     "text": [
      "List of 5\n",
      " $ sdev    : num [1:15] 2.453 1.674 1.416 1.078 0.979 ...\n",
      " $ rotation: num [1:15, 1:15] -0.304 -0.331 0.34 0.309 0.311 ...\n",
      "  ..- attr(*, \"dimnames\")=List of 2\n",
      "  .. ..$ : chr [1:15] \"M\" \"So\" \"Ed\" \"Po1\" ...\n",
      "  .. ..$ : chr [1:15] \"PC1\" \"PC2\" \"PC3\" \"PC4\" ...\n",
      " $ center  : Named num [1:15] 13.86 0.34 10.56 8.5 8.02 ...\n",
      "  ..- attr(*, \"names\")= chr [1:15] \"M\" \"So\" \"Ed\" \"Po1\" ...\n",
      " $ scale   : Named num [1:15] 1.257 0.479 1.119 2.972 2.796 ...\n",
      "  ..- attr(*, \"names\")= chr [1:15] \"M\" \"So\" \"Ed\" \"Po1\" ...\n",
      " $ x       : num [1:47, 1:15] -4.2 1.17 -4.17 3.83 1.84 ...\n",
      "  ..- attr(*, \"dimnames\")=List of 2\n",
      "  .. ..$ : NULL\n",
      "  .. ..$ : chr [1:15] \"PC1\" \"PC2\" \"PC3\" \"PC4\" ...\n",
      " - attr(*, \"class\")= chr \"prcomp\"\n"
     ]
    }
   ],
   "source": [
    "str(crime_pca)"
   ]
  },
  {
   "cell_type": "code",
   "execution_count": 15,
   "metadata": {},
   "outputs": [
    {
     "data": {
      "text/html": [
       "<style>\n",
       ".list-inline {list-style: none; margin:0; padding: 0}\n",
       ".list-inline>li {display: inline-block}\n",
       ".list-inline>li:not(:last-child)::after {content: \"\\00b7\"; padding: 0 .5ex}\n",
       "</style>\n",
       "<ol class=list-inline><li>'sdev'</li><li>'rotation'</li><li>'center'</li><li>'scale'</li><li>'x'</li></ol>\n"
      ],
      "text/latex": [
       "\\begin{enumerate*}\n",
       "\\item 'sdev'\n",
       "\\item 'rotation'\n",
       "\\item 'center'\n",
       "\\item 'scale'\n",
       "\\item 'x'\n",
       "\\end{enumerate*}\n"
      ],
      "text/markdown": [
       "1. 'sdev'\n",
       "2. 'rotation'\n",
       "3. 'center'\n",
       "4. 'scale'\n",
       "5. 'x'\n",
       "\n",
       "\n"
      ],
      "text/plain": [
       "[1] \"sdev\"     \"rotation\" \"center\"   \"scale\"    \"x\"       "
      ]
     },
     "metadata": {},
     "output_type": "display_data"
    }
   ],
   "source": [
    "names(crime_pca)"
   ]
  },
  {
   "cell_type": "markdown",
   "metadata": {},
   "source": [
    "The rotation matrix returns the loadings of each original variable onto each PC. These loadings are basically the coefficients or **eigen vectors** to the linear combinations of the original variables for each PC:"
   ]
  },
  {
   "cell_type": "code",
   "execution_count": 16,
   "metadata": {},
   "outputs": [
    {
     "data": {
      "text/html": [
       "<table>\n",
       "<caption>A matrix: 15 × 15 of type dbl</caption>\n",
       "<thead>\n",
       "\t<tr><th></th><th scope=col>PC1</th><th scope=col>PC2</th><th scope=col>PC3</th><th scope=col>PC4</th><th scope=col>PC5</th><th scope=col>PC6</th><th scope=col>PC7</th><th scope=col>PC8</th><th scope=col>PC9</th><th scope=col>PC10</th><th scope=col>PC11</th><th scope=col>PC12</th><th scope=col>PC13</th><th scope=col>PC14</th><th scope=col>PC15</th></tr>\n",
       "</thead>\n",
       "<tbody>\n",
       "\t<tr><th scope=row>M</th><td>-0.30371194</td><td> 0.06280357</td><td> 0.1724199946</td><td>-0.02035537</td><td>-0.35832737</td><td>-0.449132706</td><td>-0.15707378</td><td>-0.55367691</td><td> 0.15474793</td><td>-0.01443093</td><td> 0.39446657</td><td> 0.16580189</td><td>-0.05142365</td><td> 0.04901705</td><td> 0.0051398012</td></tr>\n",
       "\t<tr><th scope=row>So</th><td>-0.33088129</td><td>-0.15837219</td><td> 0.0155433104</td><td> 0.29247181</td><td>-0.12061130</td><td>-0.100500743</td><td> 0.19649727</td><td> 0.22734157</td><td>-0.65599872</td><td> 0.06141452</td><td> 0.23397868</td><td>-0.05753357</td><td>-0.29368483</td><td>-0.29364512</td><td> 0.0084369230</td></tr>\n",
       "\t<tr><th scope=row>Ed</th><td> 0.33962148</td><td> 0.21461152</td><td> 0.0677396249</td><td> 0.07974375</td><td>-0.02442839</td><td>-0.008571367</td><td>-0.23943629</td><td>-0.14644678</td><td>-0.44326978</td><td> 0.51887452</td><td>-0.11821954</td><td> 0.47786536</td><td> 0.19441949</td><td> 0.03964277</td><td>-0.0280052040</td></tr>\n",
       "\t<tr><th scope=row>Po1</th><td> 0.30863412</td><td>-0.26981761</td><td> 0.0506458161</td><td> 0.33325059</td><td>-0.23527680</td><td>-0.095776709</td><td> 0.08011735</td><td> 0.04613156</td><td> 0.19425472</td><td>-0.14320978</td><td>-0.13042001</td><td> 0.22611207</td><td>-0.18592255</td><td>-0.09490151</td><td>-0.6894155129</td></tr>\n",
       "\t<tr><th scope=row>Po2</th><td> 0.31099285</td><td>-0.26396300</td><td> 0.0530651173</td><td> 0.35192809</td><td>-0.20473383</td><td>-0.119524780</td><td> 0.09518288</td><td> 0.03168720</td><td> 0.19512072</td><td>-0.05929780</td><td>-0.13885912</td><td> 0.19088461</td><td>-0.13454940</td><td>-0.08259642</td><td> 0.7200270100</td></tr>\n",
       "\t<tr><th scope=row>LF</th><td> 0.17617757</td><td> 0.31943042</td><td> 0.2715301768</td><td>-0.14326529</td><td>-0.39407588</td><td> 0.504234275</td><td>-0.15931612</td><td> 0.25513777</td><td> 0.14393498</td><td> 0.03077073</td><td> 0.38532827</td><td> 0.02705134</td><td>-0.27742957</td><td>-0.15385625</td><td> 0.0336823193</td></tr>\n",
       "\t<tr><th scope=row>M.F</th><td> 0.11638221</td><td> 0.39434428</td><td>-0.2031621598</td><td> 0.01048029</td><td>-0.57877443</td><td>-0.074501901</td><td> 0.15548197</td><td>-0.05507254</td><td>-0.24378252</td><td>-0.35323357</td><td>-0.28029732</td><td>-0.23925913</td><td> 0.31624667</td><td>-0.04125321</td><td> 0.0097922075</td></tr>\n",
       "\t<tr><th scope=row>Pop</th><td> 0.11307836</td><td>-0.46723456</td><td> 0.0770210971</td><td>-0.03210513</td><td>-0.08317034</td><td> 0.547098563</td><td> 0.09046187</td><td>-0.59078221</td><td>-0.20244830</td><td>-0.03970718</td><td> 0.05849643</td><td>-0.18350385</td><td> 0.12651689</td><td>-0.05326383</td><td> 0.0001496323</td></tr>\n",
       "\t<tr><th scope=row>NW</th><td>-0.29358647</td><td>-0.22801119</td><td> 0.0788156621</td><td> 0.23925971</td><td>-0.36079387</td><td> 0.051219538</td><td>-0.31154195</td><td> 0.20432828</td><td> 0.18984178</td><td> 0.49201966</td><td>-0.20695666</td><td>-0.36671707</td><td> 0.22901695</td><td> 0.13227774</td><td>-0.0370783671</td></tr>\n",
       "\t<tr><th scope=row>U1</th><td> 0.04050137</td><td> 0.00807439</td><td>-0.6590290980</td><td>-0.18279096</td><td>-0.13136873</td><td> 0.017385981</td><td>-0.17354115</td><td>-0.20206312</td><td> 0.02069349</td><td> 0.22765278</td><td>-0.17857891</td><td>-0.09314897</td><td>-0.59039450</td><td>-0.02335942</td><td> 0.0111359325</td></tr>\n",
       "\t<tr><th scope=row>U2</th><td> 0.01812228</td><td>-0.27971336</td><td>-0.5785006293</td><td>-0.06889312</td><td>-0.13499487</td><td> 0.048155286</td><td>-0.07526787</td><td> 0.24369650</td><td> 0.05576010</td><td>-0.04750100</td><td> 0.47021842</td><td> 0.28440496</td><td> 0.43292853</td><td>-0.03985736</td><td> 0.0073618948</td></tr>\n",
       "\t<tr><th scope=row>Wealth</th><td> 0.37970331</td><td>-0.07718862</td><td> 0.0100647664</td><td> 0.11781752</td><td> 0.01167683</td><td>-0.154683104</td><td>-0.14859424</td><td> 0.08630649</td><td>-0.23196695</td><td>-0.11219383</td><td> 0.31955631</td><td>-0.32172821</td><td>-0.14077972</td><td> 0.70031840</td><td>-0.0025685109</td></tr>\n",
       "\t<tr><th scope=row>Ineq</th><td>-0.36579778</td><td>-0.02752240</td><td>-0.0002944563</td><td>-0.08066612</td><td>-0.21672823</td><td> 0.272027031</td><td> 0.37483032</td><td> 0.07184018</td><td>-0.02494384</td><td>-0.01390576</td><td>-0.18278697</td><td> 0.43762828</td><td>-0.12181090</td><td> 0.59279037</td><td> 0.0177570357</td></tr>\n",
       "\t<tr><th scope=row>Prob</th><td>-0.25888661</td><td> 0.15831708</td><td>-0.1176726436</td><td> 0.49303389</td><td> 0.16562829</td><td> 0.283535996</td><td>-0.56159383</td><td>-0.08598908</td><td>-0.05306898</td><td>-0.42530006</td><td>-0.08978385</td><td> 0.15567100</td><td>-0.03547596</td><td> 0.04761011</td><td> 0.0293376260</td></tr>\n",
       "\t<tr><th scope=row>Time</th><td>-0.02062867</td><td>-0.38014836</td><td> 0.2235664632</td><td>-0.54059002</td><td>-0.14764767</td><td>-0.148203050</td><td>-0.44199877</td><td> 0.19507812</td><td>-0.23551363</td><td>-0.29264326</td><td>-0.26363121</td><td> 0.13536989</td><td>-0.05738113</td><td>-0.04488401</td><td> 0.0376754405</td></tr>\n",
       "</tbody>\n",
       "</table>\n"
      ],
      "text/latex": [
       "A matrix: 15 × 15 of type dbl\n",
       "\\begin{tabular}{r|lllllllllllllll}\n",
       "  & PC1 & PC2 & PC3 & PC4 & PC5 & PC6 & PC7 & PC8 & PC9 & PC10 & PC11 & PC12 & PC13 & PC14 & PC15\\\\\n",
       "\\hline\n",
       "\tM & -0.30371194 &  0.06280357 &  0.1724199946 & -0.02035537 & -0.35832737 & -0.449132706 & -0.15707378 & -0.55367691 &  0.15474793 & -0.01443093 &  0.39446657 &  0.16580189 & -0.05142365 &  0.04901705 &  0.0051398012\\\\\n",
       "\tSo & -0.33088129 & -0.15837219 &  0.0155433104 &  0.29247181 & -0.12061130 & -0.100500743 &  0.19649727 &  0.22734157 & -0.65599872 &  0.06141452 &  0.23397868 & -0.05753357 & -0.29368483 & -0.29364512 &  0.0084369230\\\\\n",
       "\tEd &  0.33962148 &  0.21461152 &  0.0677396249 &  0.07974375 & -0.02442839 & -0.008571367 & -0.23943629 & -0.14644678 & -0.44326978 &  0.51887452 & -0.11821954 &  0.47786536 &  0.19441949 &  0.03964277 & -0.0280052040\\\\\n",
       "\tPo1 &  0.30863412 & -0.26981761 &  0.0506458161 &  0.33325059 & -0.23527680 & -0.095776709 &  0.08011735 &  0.04613156 &  0.19425472 & -0.14320978 & -0.13042001 &  0.22611207 & -0.18592255 & -0.09490151 & -0.6894155129\\\\\n",
       "\tPo2 &  0.31099285 & -0.26396300 &  0.0530651173 &  0.35192809 & -0.20473383 & -0.119524780 &  0.09518288 &  0.03168720 &  0.19512072 & -0.05929780 & -0.13885912 &  0.19088461 & -0.13454940 & -0.08259642 &  0.7200270100\\\\\n",
       "\tLF &  0.17617757 &  0.31943042 &  0.2715301768 & -0.14326529 & -0.39407588 &  0.504234275 & -0.15931612 &  0.25513777 &  0.14393498 &  0.03077073 &  0.38532827 &  0.02705134 & -0.27742957 & -0.15385625 &  0.0336823193\\\\\n",
       "\tM.F &  0.11638221 &  0.39434428 & -0.2031621598 &  0.01048029 & -0.57877443 & -0.074501901 &  0.15548197 & -0.05507254 & -0.24378252 & -0.35323357 & -0.28029732 & -0.23925913 &  0.31624667 & -0.04125321 &  0.0097922075\\\\\n",
       "\tPop &  0.11307836 & -0.46723456 &  0.0770210971 & -0.03210513 & -0.08317034 &  0.547098563 &  0.09046187 & -0.59078221 & -0.20244830 & -0.03970718 &  0.05849643 & -0.18350385 &  0.12651689 & -0.05326383 &  0.0001496323\\\\\n",
       "\tNW & -0.29358647 & -0.22801119 &  0.0788156621 &  0.23925971 & -0.36079387 &  0.051219538 & -0.31154195 &  0.20432828 &  0.18984178 &  0.49201966 & -0.20695666 & -0.36671707 &  0.22901695 &  0.13227774 & -0.0370783671\\\\\n",
       "\tU1 &  0.04050137 &  0.00807439 & -0.6590290980 & -0.18279096 & -0.13136873 &  0.017385981 & -0.17354115 & -0.20206312 &  0.02069349 &  0.22765278 & -0.17857891 & -0.09314897 & -0.59039450 & -0.02335942 &  0.0111359325\\\\\n",
       "\tU2 &  0.01812228 & -0.27971336 & -0.5785006293 & -0.06889312 & -0.13499487 &  0.048155286 & -0.07526787 &  0.24369650 &  0.05576010 & -0.04750100 &  0.47021842 &  0.28440496 &  0.43292853 & -0.03985736 &  0.0073618948\\\\\n",
       "\tWealth &  0.37970331 & -0.07718862 &  0.0100647664 &  0.11781752 &  0.01167683 & -0.154683104 & -0.14859424 &  0.08630649 & -0.23196695 & -0.11219383 &  0.31955631 & -0.32172821 & -0.14077972 &  0.70031840 & -0.0025685109\\\\\n",
       "\tIneq & -0.36579778 & -0.02752240 & -0.0002944563 & -0.08066612 & -0.21672823 &  0.272027031 &  0.37483032 &  0.07184018 & -0.02494384 & -0.01390576 & -0.18278697 &  0.43762828 & -0.12181090 &  0.59279037 &  0.0177570357\\\\\n",
       "\tProb & -0.25888661 &  0.15831708 & -0.1176726436 &  0.49303389 &  0.16562829 &  0.283535996 & -0.56159383 & -0.08598908 & -0.05306898 & -0.42530006 & -0.08978385 &  0.15567100 & -0.03547596 &  0.04761011 &  0.0293376260\\\\\n",
       "\tTime & -0.02062867 & -0.38014836 &  0.2235664632 & -0.54059002 & -0.14764767 & -0.148203050 & -0.44199877 &  0.19507812 & -0.23551363 & -0.29264326 & -0.26363121 &  0.13536989 & -0.05738113 & -0.04488401 &  0.0376754405\\\\\n",
       "\\end{tabular}\n"
      ],
      "text/markdown": [
       "\n",
       "A matrix: 15 × 15 of type dbl\n",
       "\n",
       "| <!--/--> | PC1 | PC2 | PC3 | PC4 | PC5 | PC6 | PC7 | PC8 | PC9 | PC10 | PC11 | PC12 | PC13 | PC14 | PC15 |\n",
       "|---|---|---|---|---|---|---|---|---|---|---|---|---|---|---|---|\n",
       "| M | -0.30371194 |  0.06280357 |  0.1724199946 | -0.02035537 | -0.35832737 | -0.449132706 | -0.15707378 | -0.55367691 |  0.15474793 | -0.01443093 |  0.39446657 |  0.16580189 | -0.05142365 |  0.04901705 |  0.0051398012 |\n",
       "| So | -0.33088129 | -0.15837219 |  0.0155433104 |  0.29247181 | -0.12061130 | -0.100500743 |  0.19649727 |  0.22734157 | -0.65599872 |  0.06141452 |  0.23397868 | -0.05753357 | -0.29368483 | -0.29364512 |  0.0084369230 |\n",
       "| Ed |  0.33962148 |  0.21461152 |  0.0677396249 |  0.07974375 | -0.02442839 | -0.008571367 | -0.23943629 | -0.14644678 | -0.44326978 |  0.51887452 | -0.11821954 |  0.47786536 |  0.19441949 |  0.03964277 | -0.0280052040 |\n",
       "| Po1 |  0.30863412 | -0.26981761 |  0.0506458161 |  0.33325059 | -0.23527680 | -0.095776709 |  0.08011735 |  0.04613156 |  0.19425472 | -0.14320978 | -0.13042001 |  0.22611207 | -0.18592255 | -0.09490151 | -0.6894155129 |\n",
       "| Po2 |  0.31099285 | -0.26396300 |  0.0530651173 |  0.35192809 | -0.20473383 | -0.119524780 |  0.09518288 |  0.03168720 |  0.19512072 | -0.05929780 | -0.13885912 |  0.19088461 | -0.13454940 | -0.08259642 |  0.7200270100 |\n",
       "| LF |  0.17617757 |  0.31943042 |  0.2715301768 | -0.14326529 | -0.39407588 |  0.504234275 | -0.15931612 |  0.25513777 |  0.14393498 |  0.03077073 |  0.38532827 |  0.02705134 | -0.27742957 | -0.15385625 |  0.0336823193 |\n",
       "| M.F |  0.11638221 |  0.39434428 | -0.2031621598 |  0.01048029 | -0.57877443 | -0.074501901 |  0.15548197 | -0.05507254 | -0.24378252 | -0.35323357 | -0.28029732 | -0.23925913 |  0.31624667 | -0.04125321 |  0.0097922075 |\n",
       "| Pop |  0.11307836 | -0.46723456 |  0.0770210971 | -0.03210513 | -0.08317034 |  0.547098563 |  0.09046187 | -0.59078221 | -0.20244830 | -0.03970718 |  0.05849643 | -0.18350385 |  0.12651689 | -0.05326383 |  0.0001496323 |\n",
       "| NW | -0.29358647 | -0.22801119 |  0.0788156621 |  0.23925971 | -0.36079387 |  0.051219538 | -0.31154195 |  0.20432828 |  0.18984178 |  0.49201966 | -0.20695666 | -0.36671707 |  0.22901695 |  0.13227774 | -0.0370783671 |\n",
       "| U1 |  0.04050137 |  0.00807439 | -0.6590290980 | -0.18279096 | -0.13136873 |  0.017385981 | -0.17354115 | -0.20206312 |  0.02069349 |  0.22765278 | -0.17857891 | -0.09314897 | -0.59039450 | -0.02335942 |  0.0111359325 |\n",
       "| U2 |  0.01812228 | -0.27971336 | -0.5785006293 | -0.06889312 | -0.13499487 |  0.048155286 | -0.07526787 |  0.24369650 |  0.05576010 | -0.04750100 |  0.47021842 |  0.28440496 |  0.43292853 | -0.03985736 |  0.0073618948 |\n",
       "| Wealth |  0.37970331 | -0.07718862 |  0.0100647664 |  0.11781752 |  0.01167683 | -0.154683104 | -0.14859424 |  0.08630649 | -0.23196695 | -0.11219383 |  0.31955631 | -0.32172821 | -0.14077972 |  0.70031840 | -0.0025685109 |\n",
       "| Ineq | -0.36579778 | -0.02752240 | -0.0002944563 | -0.08066612 | -0.21672823 |  0.272027031 |  0.37483032 |  0.07184018 | -0.02494384 | -0.01390576 | -0.18278697 |  0.43762828 | -0.12181090 |  0.59279037 |  0.0177570357 |\n",
       "| Prob | -0.25888661 |  0.15831708 | -0.1176726436 |  0.49303389 |  0.16562829 |  0.283535996 | -0.56159383 | -0.08598908 | -0.05306898 | -0.42530006 | -0.08978385 |  0.15567100 | -0.03547596 |  0.04761011 |  0.0293376260 |\n",
       "| Time | -0.02062867 | -0.38014836 |  0.2235664632 | -0.54059002 | -0.14764767 | -0.148203050 | -0.44199877 |  0.19507812 | -0.23551363 | -0.29264326 | -0.26363121 |  0.13536989 | -0.05738113 | -0.04488401 |  0.0376754405 |\n",
       "\n"
      ],
      "text/plain": [
       "       PC1         PC2         PC3           PC4         PC5        \n",
       "M      -0.30371194  0.06280357  0.1724199946 -0.02035537 -0.35832737\n",
       "So     -0.33088129 -0.15837219  0.0155433104  0.29247181 -0.12061130\n",
       "Ed      0.33962148  0.21461152  0.0677396249  0.07974375 -0.02442839\n",
       "Po1     0.30863412 -0.26981761  0.0506458161  0.33325059 -0.23527680\n",
       "Po2     0.31099285 -0.26396300  0.0530651173  0.35192809 -0.20473383\n",
       "LF      0.17617757  0.31943042  0.2715301768 -0.14326529 -0.39407588\n",
       "M.F     0.11638221  0.39434428 -0.2031621598  0.01048029 -0.57877443\n",
       "Pop     0.11307836 -0.46723456  0.0770210971 -0.03210513 -0.08317034\n",
       "NW     -0.29358647 -0.22801119  0.0788156621  0.23925971 -0.36079387\n",
       "U1      0.04050137  0.00807439 -0.6590290980 -0.18279096 -0.13136873\n",
       "U2      0.01812228 -0.27971336 -0.5785006293 -0.06889312 -0.13499487\n",
       "Wealth  0.37970331 -0.07718862  0.0100647664  0.11781752  0.01167683\n",
       "Ineq   -0.36579778 -0.02752240 -0.0002944563 -0.08066612 -0.21672823\n",
       "Prob   -0.25888661  0.15831708 -0.1176726436  0.49303389  0.16562829\n",
       "Time   -0.02062867 -0.38014836  0.2235664632 -0.54059002 -0.14764767\n",
       "       PC6          PC7         PC8         PC9         PC10        PC11       \n",
       "M      -0.449132706 -0.15707378 -0.55367691  0.15474793 -0.01443093  0.39446657\n",
       "So     -0.100500743  0.19649727  0.22734157 -0.65599872  0.06141452  0.23397868\n",
       "Ed     -0.008571367 -0.23943629 -0.14644678 -0.44326978  0.51887452 -0.11821954\n",
       "Po1    -0.095776709  0.08011735  0.04613156  0.19425472 -0.14320978 -0.13042001\n",
       "Po2    -0.119524780  0.09518288  0.03168720  0.19512072 -0.05929780 -0.13885912\n",
       "LF      0.504234275 -0.15931612  0.25513777  0.14393498  0.03077073  0.38532827\n",
       "M.F    -0.074501901  0.15548197 -0.05507254 -0.24378252 -0.35323357 -0.28029732\n",
       "Pop     0.547098563  0.09046187 -0.59078221 -0.20244830 -0.03970718  0.05849643\n",
       "NW      0.051219538 -0.31154195  0.20432828  0.18984178  0.49201966 -0.20695666\n",
       "U1      0.017385981 -0.17354115 -0.20206312  0.02069349  0.22765278 -0.17857891\n",
       "U2      0.048155286 -0.07526787  0.24369650  0.05576010 -0.04750100  0.47021842\n",
       "Wealth -0.154683104 -0.14859424  0.08630649 -0.23196695 -0.11219383  0.31955631\n",
       "Ineq    0.272027031  0.37483032  0.07184018 -0.02494384 -0.01390576 -0.18278697\n",
       "Prob    0.283535996 -0.56159383 -0.08598908 -0.05306898 -0.42530006 -0.08978385\n",
       "Time   -0.148203050 -0.44199877  0.19507812 -0.23551363 -0.29264326 -0.26363121\n",
       "       PC12        PC13        PC14        PC15         \n",
       "M       0.16580189 -0.05142365  0.04901705  0.0051398012\n",
       "So     -0.05753357 -0.29368483 -0.29364512  0.0084369230\n",
       "Ed      0.47786536  0.19441949  0.03964277 -0.0280052040\n",
       "Po1     0.22611207 -0.18592255 -0.09490151 -0.6894155129\n",
       "Po2     0.19088461 -0.13454940 -0.08259642  0.7200270100\n",
       "LF      0.02705134 -0.27742957 -0.15385625  0.0336823193\n",
       "M.F    -0.23925913  0.31624667 -0.04125321  0.0097922075\n",
       "Pop    -0.18350385  0.12651689 -0.05326383  0.0001496323\n",
       "NW     -0.36671707  0.22901695  0.13227774 -0.0370783671\n",
       "U1     -0.09314897 -0.59039450 -0.02335942  0.0111359325\n",
       "U2      0.28440496  0.43292853 -0.03985736  0.0073618948\n",
       "Wealth -0.32172821 -0.14077972  0.70031840 -0.0025685109\n",
       "Ineq    0.43762828 -0.12181090  0.59279037  0.0177570357\n",
       "Prob    0.15567100 -0.03547596  0.04761011  0.0293376260\n",
       "Time    0.13536989 -0.05738113 -0.04488401  0.0376754405"
      ]
     },
     "metadata": {},
     "output_type": "display_data"
    }
   ],
   "source": [
    "crime_pca$rotation#linear transfomration of original variables to principal components"
   ]
  },
  {
   "cell_type": "markdown",
   "metadata": {},
   "source": [
    "----------------------------------------------------------------------------------------------------------------------------\n",
    "Out of curosity, we can normalize the X matrix (original variables), and find eigen vectors of XT * X.(see codes below.)\n",
    "Comparing it to rotation matrix, we can see they are the same, that is to say rotation matrix is eigen vector matrix sorted by eigne values.\n"
   ]
  },
  {
   "cell_type": "code",
   "execution_count": 17,
   "metadata": {},
   "outputs": [],
   "source": [
    "x_mtx<-crime[-16]\n",
    "x_norm<-normalize(x_mtx)\n",
    "x_t<-t(x_norm)"
   ]
  },
  {
   "cell_type": "code",
   "execution_count": 18,
   "metadata": {},
   "outputs": [
    {
     "data": {
      "text/html": [
       "<table>\n",
       "<caption>A matrix: 15 × 15 of type dbl</caption>\n",
       "<tbody>\n",
       "\t<tr><td>-0.30371194</td><td> 0.06280357</td><td>-0.1724199946</td><td> 0.02035537</td><td>-0.35832737</td><td> 0.449132706</td><td> 0.15707378</td><td> 0.55367691</td><td> 0.15474793</td><td> 0.01443093</td><td> 0.39446657</td><td> 0.16580189</td><td>-0.05142365</td><td> 0.04901705</td><td> 0.0051398012</td></tr>\n",
       "\t<tr><td>-0.33088129</td><td>-0.15837219</td><td>-0.0155433104</td><td>-0.29247181</td><td>-0.12061130</td><td> 0.100500743</td><td>-0.19649727</td><td>-0.22734157</td><td>-0.65599872</td><td>-0.06141452</td><td> 0.23397868</td><td>-0.05753357</td><td>-0.29368483</td><td>-0.29364512</td><td> 0.0084369230</td></tr>\n",
       "\t<tr><td> 0.33962148</td><td> 0.21461152</td><td>-0.0677396249</td><td>-0.07974375</td><td>-0.02442839</td><td> 0.008571367</td><td> 0.23943629</td><td> 0.14644678</td><td>-0.44326978</td><td>-0.51887452</td><td>-0.11821954</td><td> 0.47786536</td><td> 0.19441949</td><td> 0.03964277</td><td>-0.0280052040</td></tr>\n",
       "\t<tr><td> 0.30863412</td><td>-0.26981761</td><td>-0.0506458161</td><td>-0.33325059</td><td>-0.23527680</td><td> 0.095776709</td><td>-0.08011735</td><td>-0.04613156</td><td> 0.19425472</td><td> 0.14320978</td><td>-0.13042001</td><td> 0.22611207</td><td>-0.18592255</td><td>-0.09490151</td><td>-0.6894155129</td></tr>\n",
       "\t<tr><td> 0.31099285</td><td>-0.26396300</td><td>-0.0530651173</td><td>-0.35192809</td><td>-0.20473383</td><td> 0.119524780</td><td>-0.09518288</td><td>-0.03168720</td><td> 0.19512072</td><td> 0.05929780</td><td>-0.13885912</td><td> 0.19088461</td><td>-0.13454940</td><td>-0.08259642</td><td> 0.7200270100</td></tr>\n",
       "\t<tr><td> 0.17617757</td><td> 0.31943042</td><td>-0.2715301768</td><td> 0.14326529</td><td>-0.39407588</td><td>-0.504234275</td><td> 0.15931612</td><td>-0.25513777</td><td> 0.14393498</td><td>-0.03077073</td><td> 0.38532827</td><td> 0.02705134</td><td>-0.27742957</td><td>-0.15385625</td><td> 0.0336823193</td></tr>\n",
       "\t<tr><td> 0.11638221</td><td> 0.39434428</td><td> 0.2031621598</td><td>-0.01048029</td><td>-0.57877443</td><td> 0.074501901</td><td>-0.15548197</td><td> 0.05507254</td><td>-0.24378252</td><td> 0.35323357</td><td>-0.28029732</td><td>-0.23925913</td><td> 0.31624667</td><td>-0.04125321</td><td> 0.0097922075</td></tr>\n",
       "\t<tr><td> 0.11307836</td><td>-0.46723456</td><td>-0.0770210971</td><td> 0.03210513</td><td>-0.08317034</td><td>-0.547098563</td><td>-0.09046187</td><td> 0.59078221</td><td>-0.20244830</td><td> 0.03970718</td><td> 0.05849643</td><td>-0.18350385</td><td> 0.12651689</td><td>-0.05326383</td><td> 0.0001496323</td></tr>\n",
       "\t<tr><td>-0.29358647</td><td>-0.22801119</td><td>-0.0788156621</td><td>-0.23925971</td><td>-0.36079387</td><td>-0.051219538</td><td> 0.31154195</td><td>-0.20432828</td><td> 0.18984178</td><td>-0.49201966</td><td>-0.20695666</td><td>-0.36671707</td><td> 0.22901695</td><td> 0.13227774</td><td>-0.0370783671</td></tr>\n",
       "\t<tr><td> 0.04050137</td><td> 0.00807439</td><td> 0.6590290980</td><td> 0.18279096</td><td>-0.13136873</td><td>-0.017385981</td><td> 0.17354115</td><td> 0.20206312</td><td> 0.02069349</td><td>-0.22765278</td><td>-0.17857891</td><td>-0.09314897</td><td>-0.59039450</td><td>-0.02335942</td><td> 0.0111359325</td></tr>\n",
       "\t<tr><td> 0.01812228</td><td>-0.27971336</td><td> 0.5785006293</td><td> 0.06889312</td><td>-0.13499487</td><td>-0.048155286</td><td> 0.07526787</td><td>-0.24369650</td><td> 0.05576010</td><td> 0.04750100</td><td> 0.47021842</td><td> 0.28440496</td><td> 0.43292853</td><td>-0.03985736</td><td> 0.0073618948</td></tr>\n",
       "\t<tr><td> 0.37970331</td><td>-0.07718862</td><td>-0.0100647664</td><td>-0.11781752</td><td> 0.01167683</td><td> 0.154683104</td><td> 0.14859424</td><td>-0.08630649</td><td>-0.23196695</td><td> 0.11219383</td><td> 0.31955631</td><td>-0.32172821</td><td>-0.14077972</td><td> 0.70031840</td><td>-0.0025685109</td></tr>\n",
       "\t<tr><td>-0.36579778</td><td>-0.02752240</td><td> 0.0002944563</td><td> 0.08066612</td><td>-0.21672823</td><td>-0.272027031</td><td>-0.37483032</td><td>-0.07184018</td><td>-0.02494384</td><td> 0.01390576</td><td>-0.18278697</td><td> 0.43762828</td><td>-0.12181090</td><td> 0.59279037</td><td> 0.0177570357</td></tr>\n",
       "\t<tr><td>-0.25888661</td><td> 0.15831708</td><td> 0.1176726436</td><td>-0.49303389</td><td> 0.16562829</td><td>-0.283535996</td><td> 0.56159383</td><td> 0.08598908</td><td>-0.05306898</td><td> 0.42530006</td><td>-0.08978385</td><td> 0.15567100</td><td>-0.03547596</td><td> 0.04761011</td><td> 0.0293376260</td></tr>\n",
       "\t<tr><td>-0.02062867</td><td>-0.38014836</td><td>-0.2235664632</td><td> 0.54059002</td><td>-0.14764767</td><td> 0.148203050</td><td> 0.44199877</td><td>-0.19507812</td><td>-0.23551363</td><td> 0.29264326</td><td>-0.26363121</td><td> 0.13536989</td><td>-0.05738113</td><td>-0.04488401</td><td> 0.0376754405</td></tr>\n",
       "</tbody>\n",
       "</table>\n"
      ],
      "text/latex": [
       "A matrix: 15 × 15 of type dbl\n",
       "\\begin{tabular}{lllllllllllllll}\n",
       "\t -0.30371194 &  0.06280357 & -0.1724199946 &  0.02035537 & -0.35832737 &  0.449132706 &  0.15707378 &  0.55367691 &  0.15474793 &  0.01443093 &  0.39446657 &  0.16580189 & -0.05142365 &  0.04901705 &  0.0051398012\\\\\n",
       "\t -0.33088129 & -0.15837219 & -0.0155433104 & -0.29247181 & -0.12061130 &  0.100500743 & -0.19649727 & -0.22734157 & -0.65599872 & -0.06141452 &  0.23397868 & -0.05753357 & -0.29368483 & -0.29364512 &  0.0084369230\\\\\n",
       "\t  0.33962148 &  0.21461152 & -0.0677396249 & -0.07974375 & -0.02442839 &  0.008571367 &  0.23943629 &  0.14644678 & -0.44326978 & -0.51887452 & -0.11821954 &  0.47786536 &  0.19441949 &  0.03964277 & -0.0280052040\\\\\n",
       "\t  0.30863412 & -0.26981761 & -0.0506458161 & -0.33325059 & -0.23527680 &  0.095776709 & -0.08011735 & -0.04613156 &  0.19425472 &  0.14320978 & -0.13042001 &  0.22611207 & -0.18592255 & -0.09490151 & -0.6894155129\\\\\n",
       "\t  0.31099285 & -0.26396300 & -0.0530651173 & -0.35192809 & -0.20473383 &  0.119524780 & -0.09518288 & -0.03168720 &  0.19512072 &  0.05929780 & -0.13885912 &  0.19088461 & -0.13454940 & -0.08259642 &  0.7200270100\\\\\n",
       "\t  0.17617757 &  0.31943042 & -0.2715301768 &  0.14326529 & -0.39407588 & -0.504234275 &  0.15931612 & -0.25513777 &  0.14393498 & -0.03077073 &  0.38532827 &  0.02705134 & -0.27742957 & -0.15385625 &  0.0336823193\\\\\n",
       "\t  0.11638221 &  0.39434428 &  0.2031621598 & -0.01048029 & -0.57877443 &  0.074501901 & -0.15548197 &  0.05507254 & -0.24378252 &  0.35323357 & -0.28029732 & -0.23925913 &  0.31624667 & -0.04125321 &  0.0097922075\\\\\n",
       "\t  0.11307836 & -0.46723456 & -0.0770210971 &  0.03210513 & -0.08317034 & -0.547098563 & -0.09046187 &  0.59078221 & -0.20244830 &  0.03970718 &  0.05849643 & -0.18350385 &  0.12651689 & -0.05326383 &  0.0001496323\\\\\n",
       "\t -0.29358647 & -0.22801119 & -0.0788156621 & -0.23925971 & -0.36079387 & -0.051219538 &  0.31154195 & -0.20432828 &  0.18984178 & -0.49201966 & -0.20695666 & -0.36671707 &  0.22901695 &  0.13227774 & -0.0370783671\\\\\n",
       "\t  0.04050137 &  0.00807439 &  0.6590290980 &  0.18279096 & -0.13136873 & -0.017385981 &  0.17354115 &  0.20206312 &  0.02069349 & -0.22765278 & -0.17857891 & -0.09314897 & -0.59039450 & -0.02335942 &  0.0111359325\\\\\n",
       "\t  0.01812228 & -0.27971336 &  0.5785006293 &  0.06889312 & -0.13499487 & -0.048155286 &  0.07526787 & -0.24369650 &  0.05576010 &  0.04750100 &  0.47021842 &  0.28440496 &  0.43292853 & -0.03985736 &  0.0073618948\\\\\n",
       "\t  0.37970331 & -0.07718862 & -0.0100647664 & -0.11781752 &  0.01167683 &  0.154683104 &  0.14859424 & -0.08630649 & -0.23196695 &  0.11219383 &  0.31955631 & -0.32172821 & -0.14077972 &  0.70031840 & -0.0025685109\\\\\n",
       "\t -0.36579778 & -0.02752240 &  0.0002944563 &  0.08066612 & -0.21672823 & -0.272027031 & -0.37483032 & -0.07184018 & -0.02494384 &  0.01390576 & -0.18278697 &  0.43762828 & -0.12181090 &  0.59279037 &  0.0177570357\\\\\n",
       "\t -0.25888661 &  0.15831708 &  0.1176726436 & -0.49303389 &  0.16562829 & -0.283535996 &  0.56159383 &  0.08598908 & -0.05306898 &  0.42530006 & -0.08978385 &  0.15567100 & -0.03547596 &  0.04761011 &  0.0293376260\\\\\n",
       "\t -0.02062867 & -0.38014836 & -0.2235664632 &  0.54059002 & -0.14764767 &  0.148203050 &  0.44199877 & -0.19507812 & -0.23551363 &  0.29264326 & -0.26363121 &  0.13536989 & -0.05738113 & -0.04488401 &  0.0376754405\\\\\n",
       "\\end{tabular}\n"
      ],
      "text/markdown": [
       "\n",
       "A matrix: 15 × 15 of type dbl\n",
       "\n",
       "| -0.30371194 |  0.06280357 | -0.1724199946 |  0.02035537 | -0.35832737 |  0.449132706 |  0.15707378 |  0.55367691 |  0.15474793 |  0.01443093 |  0.39446657 |  0.16580189 | -0.05142365 |  0.04901705 |  0.0051398012 |\n",
       "| -0.33088129 | -0.15837219 | -0.0155433104 | -0.29247181 | -0.12061130 |  0.100500743 | -0.19649727 | -0.22734157 | -0.65599872 | -0.06141452 |  0.23397868 | -0.05753357 | -0.29368483 | -0.29364512 |  0.0084369230 |\n",
       "|  0.33962148 |  0.21461152 | -0.0677396249 | -0.07974375 | -0.02442839 |  0.008571367 |  0.23943629 |  0.14644678 | -0.44326978 | -0.51887452 | -0.11821954 |  0.47786536 |  0.19441949 |  0.03964277 | -0.0280052040 |\n",
       "|  0.30863412 | -0.26981761 | -0.0506458161 | -0.33325059 | -0.23527680 |  0.095776709 | -0.08011735 | -0.04613156 |  0.19425472 |  0.14320978 | -0.13042001 |  0.22611207 | -0.18592255 | -0.09490151 | -0.6894155129 |\n",
       "|  0.31099285 | -0.26396300 | -0.0530651173 | -0.35192809 | -0.20473383 |  0.119524780 | -0.09518288 | -0.03168720 |  0.19512072 |  0.05929780 | -0.13885912 |  0.19088461 | -0.13454940 | -0.08259642 |  0.7200270100 |\n",
       "|  0.17617757 |  0.31943042 | -0.2715301768 |  0.14326529 | -0.39407588 | -0.504234275 |  0.15931612 | -0.25513777 |  0.14393498 | -0.03077073 |  0.38532827 |  0.02705134 | -0.27742957 | -0.15385625 |  0.0336823193 |\n",
       "|  0.11638221 |  0.39434428 |  0.2031621598 | -0.01048029 | -0.57877443 |  0.074501901 | -0.15548197 |  0.05507254 | -0.24378252 |  0.35323357 | -0.28029732 | -0.23925913 |  0.31624667 | -0.04125321 |  0.0097922075 |\n",
       "|  0.11307836 | -0.46723456 | -0.0770210971 |  0.03210513 | -0.08317034 | -0.547098563 | -0.09046187 |  0.59078221 | -0.20244830 |  0.03970718 |  0.05849643 | -0.18350385 |  0.12651689 | -0.05326383 |  0.0001496323 |\n",
       "| -0.29358647 | -0.22801119 | -0.0788156621 | -0.23925971 | -0.36079387 | -0.051219538 |  0.31154195 | -0.20432828 |  0.18984178 | -0.49201966 | -0.20695666 | -0.36671707 |  0.22901695 |  0.13227774 | -0.0370783671 |\n",
       "|  0.04050137 |  0.00807439 |  0.6590290980 |  0.18279096 | -0.13136873 | -0.017385981 |  0.17354115 |  0.20206312 |  0.02069349 | -0.22765278 | -0.17857891 | -0.09314897 | -0.59039450 | -0.02335942 |  0.0111359325 |\n",
       "|  0.01812228 | -0.27971336 |  0.5785006293 |  0.06889312 | -0.13499487 | -0.048155286 |  0.07526787 | -0.24369650 |  0.05576010 |  0.04750100 |  0.47021842 |  0.28440496 |  0.43292853 | -0.03985736 |  0.0073618948 |\n",
       "|  0.37970331 | -0.07718862 | -0.0100647664 | -0.11781752 |  0.01167683 |  0.154683104 |  0.14859424 | -0.08630649 | -0.23196695 |  0.11219383 |  0.31955631 | -0.32172821 | -0.14077972 |  0.70031840 | -0.0025685109 |\n",
       "| -0.36579778 | -0.02752240 |  0.0002944563 |  0.08066612 | -0.21672823 | -0.272027031 | -0.37483032 | -0.07184018 | -0.02494384 |  0.01390576 | -0.18278697 |  0.43762828 | -0.12181090 |  0.59279037 |  0.0177570357 |\n",
       "| -0.25888661 |  0.15831708 |  0.1176726436 | -0.49303389 |  0.16562829 | -0.283535996 |  0.56159383 |  0.08598908 | -0.05306898 |  0.42530006 | -0.08978385 |  0.15567100 | -0.03547596 |  0.04761011 |  0.0293376260 |\n",
       "| -0.02062867 | -0.38014836 | -0.2235664632 |  0.54059002 | -0.14764767 |  0.148203050 |  0.44199877 | -0.19507812 | -0.23551363 |  0.29264326 | -0.26363121 |  0.13536989 | -0.05738113 | -0.04488401 |  0.0376754405 |\n",
       "\n"
      ],
      "text/plain": [
       "      [,1]        [,2]        [,3]          [,4]        [,5]       \n",
       " [1,] -0.30371194  0.06280357 -0.1724199946  0.02035537 -0.35832737\n",
       " [2,] -0.33088129 -0.15837219 -0.0155433104 -0.29247181 -0.12061130\n",
       " [3,]  0.33962148  0.21461152 -0.0677396249 -0.07974375 -0.02442839\n",
       " [4,]  0.30863412 -0.26981761 -0.0506458161 -0.33325059 -0.23527680\n",
       " [5,]  0.31099285 -0.26396300 -0.0530651173 -0.35192809 -0.20473383\n",
       " [6,]  0.17617757  0.31943042 -0.2715301768  0.14326529 -0.39407588\n",
       " [7,]  0.11638221  0.39434428  0.2031621598 -0.01048029 -0.57877443\n",
       " [8,]  0.11307836 -0.46723456 -0.0770210971  0.03210513 -0.08317034\n",
       " [9,] -0.29358647 -0.22801119 -0.0788156621 -0.23925971 -0.36079387\n",
       "[10,]  0.04050137  0.00807439  0.6590290980  0.18279096 -0.13136873\n",
       "[11,]  0.01812228 -0.27971336  0.5785006293  0.06889312 -0.13499487\n",
       "[12,]  0.37970331 -0.07718862 -0.0100647664 -0.11781752  0.01167683\n",
       "[13,] -0.36579778 -0.02752240  0.0002944563  0.08066612 -0.21672823\n",
       "[14,] -0.25888661  0.15831708  0.1176726436 -0.49303389  0.16562829\n",
       "[15,] -0.02062867 -0.38014836 -0.2235664632  0.54059002 -0.14764767\n",
       "      [,6]         [,7]        [,8]        [,9]        [,10]       [,11]      \n",
       " [1,]  0.449132706  0.15707378  0.55367691  0.15474793  0.01443093  0.39446657\n",
       " [2,]  0.100500743 -0.19649727 -0.22734157 -0.65599872 -0.06141452  0.23397868\n",
       " [3,]  0.008571367  0.23943629  0.14644678 -0.44326978 -0.51887452 -0.11821954\n",
       " [4,]  0.095776709 -0.08011735 -0.04613156  0.19425472  0.14320978 -0.13042001\n",
       " [5,]  0.119524780 -0.09518288 -0.03168720  0.19512072  0.05929780 -0.13885912\n",
       " [6,] -0.504234275  0.15931612 -0.25513777  0.14393498 -0.03077073  0.38532827\n",
       " [7,]  0.074501901 -0.15548197  0.05507254 -0.24378252  0.35323357 -0.28029732\n",
       " [8,] -0.547098563 -0.09046187  0.59078221 -0.20244830  0.03970718  0.05849643\n",
       " [9,] -0.051219538  0.31154195 -0.20432828  0.18984178 -0.49201966 -0.20695666\n",
       "[10,] -0.017385981  0.17354115  0.20206312  0.02069349 -0.22765278 -0.17857891\n",
       "[11,] -0.048155286  0.07526787 -0.24369650  0.05576010  0.04750100  0.47021842\n",
       "[12,]  0.154683104  0.14859424 -0.08630649 -0.23196695  0.11219383  0.31955631\n",
       "[13,] -0.272027031 -0.37483032 -0.07184018 -0.02494384  0.01390576 -0.18278697\n",
       "[14,] -0.283535996  0.56159383  0.08598908 -0.05306898  0.42530006 -0.08978385\n",
       "[15,]  0.148203050  0.44199877 -0.19507812 -0.23551363  0.29264326 -0.26363121\n",
       "      [,12]       [,13]       [,14]       [,15]        \n",
       " [1,]  0.16580189 -0.05142365  0.04901705  0.0051398012\n",
       " [2,] -0.05753357 -0.29368483 -0.29364512  0.0084369230\n",
       " [3,]  0.47786536  0.19441949  0.03964277 -0.0280052040\n",
       " [4,]  0.22611207 -0.18592255 -0.09490151 -0.6894155129\n",
       " [5,]  0.19088461 -0.13454940 -0.08259642  0.7200270100\n",
       " [6,]  0.02705134 -0.27742957 -0.15385625  0.0336823193\n",
       " [7,] -0.23925913  0.31624667 -0.04125321  0.0097922075\n",
       " [8,] -0.18350385  0.12651689 -0.05326383  0.0001496323\n",
       " [9,] -0.36671707  0.22901695  0.13227774 -0.0370783671\n",
       "[10,] -0.09314897 -0.59039450 -0.02335942  0.0111359325\n",
       "[11,]  0.28440496  0.43292853 -0.03985736  0.0073618948\n",
       "[12,] -0.32172821 -0.14077972  0.70031840 -0.0025685109\n",
       "[13,]  0.43762828 -0.12181090  0.59279037  0.0177570357\n",
       "[14,]  0.15567100 -0.03547596  0.04761011  0.0293376260\n",
       "[15,]  0.13536989 -0.05738113 -0.04488401  0.0376754405"
      ]
     },
     "metadata": {},
     "output_type": "display_data"
    }
   ],
   "source": [
    "eigen(as.matrix(x_t)%*%as.matrix(x_norm))$vectors"
   ]
  },
  {
   "cell_type": "markdown",
   "metadata": {},
   "source": [
    "--------------------------------------------------------------------------------------------------------------------------------\n",
    "Prcomp() also returns the “rotated” X matrix, which is the inner product between each observation and the loading(eigen vector) for each PC. For example, first data point is a vector with 1x15 dimension, and V1 is first eigen vector with dimension of 15x1. The inner product of these two results in the transformed variable (now PC1 for that observation) with dimnesion of 1x1 (a scalar). "
   ]
  },
  {
   "cell_type": "code",
   "execution_count": 19,
   "metadata": {},
   "outputs": [
    {
     "data": {
      "text/html": [
       "<table>\n",
       "<caption>A matrix: 5 × 15 of type dbl</caption>\n",
       "<thead>\n",
       "\t<tr><th scope=col>PC1</th><th scope=col>PC2</th><th scope=col>PC3</th><th scope=col>PC4</th><th scope=col>PC5</th><th scope=col>PC6</th><th scope=col>PC7</th><th scope=col>PC8</th><th scope=col>PC9</th><th scope=col>PC10</th><th scope=col>PC11</th><th scope=col>PC12</th><th scope=col>PC13</th><th scope=col>PC14</th><th scope=col>PC15</th></tr>\n",
       "</thead>\n",
       "<tbody>\n",
       "\t<tr><td>-4.199284</td><td>-1.0938312</td><td>-1.11907395</td><td> 0.67178115</td><td> 0.05528338</td><td> 0.3073383</td><td>-0.56640816</td><td>-0.007801727</td><td> 0.22350995</td><td> 0.45274365</td><td>-0.08474542</td><td> 0.22096639</td><td>-0.11261680</td><td> 0.3269649</td><td> 0.02338401</td></tr>\n",
       "\t<tr><td> 1.172663</td><td> 0.6770136</td><td>-0.05244634</td><td>-0.08350709</td><td>-1.17319982</td><td>-0.5832373</td><td> 0.19561119</td><td> 0.154566472</td><td> 0.43677720</td><td> 0.21208589</td><td>-0.03391661</td><td> 0.35686524</td><td> 0.29751651</td><td> 0.2523567</td><td>-0.06076368</td></tr>\n",
       "\t<tr><td>-4.173725</td><td> 0.2767750</td><td>-0.37107658</td><td> 0.37793995</td><td> 0.54134525</td><td> 0.7187223</td><td> 0.10330693</td><td> 0.351138883</td><td> 0.06299232</td><td>-0.06719022</td><td>-0.48149156</td><td>-0.04701948</td><td> 0.05216054</td><td>-0.4865511</td><td> 0.04211750</td></tr>\n",
       "\t<tr><td> 3.834962</td><td>-2.5769060</td><td> 0.22793998</td><td> 0.38262331</td><td>-1.64474650</td><td> 0.7294884</td><td> 0.26699499</td><td>-1.547460841</td><td>-0.37954181</td><td> 0.22922305</td><td> 0.10984951</td><td> 0.17727101</td><td> 0.08838131</td><td> 0.1496784</td><td> 0.02917497</td></tr>\n",
       "\t<tr><td> 1.839300</td><td> 1.3309856</td><td> 1.27882805</td><td> 0.71814305</td><td> 0.04159032</td><td>-0.3940902</td><td> 0.07050766</td><td>-0.543237437</td><td> 0.22463245</td><td> 0.47769084</td><td>-0.32958186</td><td> 0.41807551</td><td>-0.72215224</td><td> 0.1310272</td><td>-0.07514940</td></tr>\n",
       "</tbody>\n",
       "</table>\n"
      ],
      "text/latex": [
       "A matrix: 5 × 15 of type dbl\n",
       "\\begin{tabular}{lllllllllllllll}\n",
       " PC1 & PC2 & PC3 & PC4 & PC5 & PC6 & PC7 & PC8 & PC9 & PC10 & PC11 & PC12 & PC13 & PC14 & PC15\\\\\n",
       "\\hline\n",
       "\t -4.199284 & -1.0938312 & -1.11907395 &  0.67178115 &  0.05528338 &  0.3073383 & -0.56640816 & -0.007801727 &  0.22350995 &  0.45274365 & -0.08474542 &  0.22096639 & -0.11261680 &  0.3269649 &  0.02338401\\\\\n",
       "\t  1.172663 &  0.6770136 & -0.05244634 & -0.08350709 & -1.17319982 & -0.5832373 &  0.19561119 &  0.154566472 &  0.43677720 &  0.21208589 & -0.03391661 &  0.35686524 &  0.29751651 &  0.2523567 & -0.06076368\\\\\n",
       "\t -4.173725 &  0.2767750 & -0.37107658 &  0.37793995 &  0.54134525 &  0.7187223 &  0.10330693 &  0.351138883 &  0.06299232 & -0.06719022 & -0.48149156 & -0.04701948 &  0.05216054 & -0.4865511 &  0.04211750\\\\\n",
       "\t  3.834962 & -2.5769060 &  0.22793998 &  0.38262331 & -1.64474650 &  0.7294884 &  0.26699499 & -1.547460841 & -0.37954181 &  0.22922305 &  0.10984951 &  0.17727101 &  0.08838131 &  0.1496784 &  0.02917497\\\\\n",
       "\t  1.839300 &  1.3309856 &  1.27882805 &  0.71814305 &  0.04159032 & -0.3940902 &  0.07050766 & -0.543237437 &  0.22463245 &  0.47769084 & -0.32958186 &  0.41807551 & -0.72215224 &  0.1310272 & -0.07514940\\\\\n",
       "\\end{tabular}\n"
      ],
      "text/markdown": [
       "\n",
       "A matrix: 5 × 15 of type dbl\n",
       "\n",
       "| PC1 | PC2 | PC3 | PC4 | PC5 | PC6 | PC7 | PC8 | PC9 | PC10 | PC11 | PC12 | PC13 | PC14 | PC15 |\n",
       "|---|---|---|---|---|---|---|---|---|---|---|---|---|---|---|\n",
       "| -4.199284 | -1.0938312 | -1.11907395 |  0.67178115 |  0.05528338 |  0.3073383 | -0.56640816 | -0.007801727 |  0.22350995 |  0.45274365 | -0.08474542 |  0.22096639 | -0.11261680 |  0.3269649 |  0.02338401 |\n",
       "|  1.172663 |  0.6770136 | -0.05244634 | -0.08350709 | -1.17319982 | -0.5832373 |  0.19561119 |  0.154566472 |  0.43677720 |  0.21208589 | -0.03391661 |  0.35686524 |  0.29751651 |  0.2523567 | -0.06076368 |\n",
       "| -4.173725 |  0.2767750 | -0.37107658 |  0.37793995 |  0.54134525 |  0.7187223 |  0.10330693 |  0.351138883 |  0.06299232 | -0.06719022 | -0.48149156 | -0.04701948 |  0.05216054 | -0.4865511 |  0.04211750 |\n",
       "|  3.834962 | -2.5769060 |  0.22793998 |  0.38262331 | -1.64474650 |  0.7294884 |  0.26699499 | -1.547460841 | -0.37954181 |  0.22922305 |  0.10984951 |  0.17727101 |  0.08838131 |  0.1496784 |  0.02917497 |\n",
       "|  1.839300 |  1.3309856 |  1.27882805 |  0.71814305 |  0.04159032 | -0.3940902 |  0.07050766 | -0.543237437 |  0.22463245 |  0.47769084 | -0.32958186 |  0.41807551 | -0.72215224 |  0.1310272 | -0.07514940 |\n",
       "\n"
      ],
      "text/plain": [
       "     PC1       PC2        PC3         PC4         PC5         PC6       \n",
       "[1,] -4.199284 -1.0938312 -1.11907395  0.67178115  0.05528338  0.3073383\n",
       "[2,]  1.172663  0.6770136 -0.05244634 -0.08350709 -1.17319982 -0.5832373\n",
       "[3,] -4.173725  0.2767750 -0.37107658  0.37793995  0.54134525  0.7187223\n",
       "[4,]  3.834962 -2.5769060  0.22793998  0.38262331 -1.64474650  0.7294884\n",
       "[5,]  1.839300  1.3309856  1.27882805  0.71814305  0.04159032 -0.3940902\n",
       "     PC7         PC8          PC9         PC10        PC11        PC12       \n",
       "[1,] -0.56640816 -0.007801727  0.22350995  0.45274365 -0.08474542  0.22096639\n",
       "[2,]  0.19561119  0.154566472  0.43677720  0.21208589 -0.03391661  0.35686524\n",
       "[3,]  0.10330693  0.351138883  0.06299232 -0.06719022 -0.48149156 -0.04701948\n",
       "[4,]  0.26699499 -1.547460841 -0.37954181  0.22922305  0.10984951  0.17727101\n",
       "[5,]  0.07050766 -0.543237437  0.22463245  0.47769084 -0.32958186  0.41807551\n",
       "     PC13        PC14       PC15       \n",
       "[1,] -0.11261680  0.3269649  0.02338401\n",
       "[2,]  0.29751651  0.2523567 -0.06076368\n",
       "[3,]  0.05216054 -0.4865511  0.04211750\n",
       "[4,]  0.08838131  0.1496784  0.02917497\n",
       "[5,] -0.72215224  0.1310272 -0.07514940"
      ]
     },
     "metadata": {},
     "output_type": "display_data"
    }
   ],
   "source": [
    "crime_pca$x[1:5,] #variables are transformed to pcs that are uncorrelated, and now we can use these new (transformed) \n",
    "#data points to do regression (X*V)"
   ]
  },
  {
   "cell_type": "markdown",
   "metadata": {},
   "source": [
    "--------------------------------------------------------------------\n",
    "Confirming the fact that these new variables are uncorrelated:"
   ]
  },
  {
   "cell_type": "code",
   "execution_count": 20,
   "metadata": {
    "scrolled": false
   },
   "outputs": [
    {
     "data": {
      "text/html": [
       "<table>\n",
       "<caption>A matrix: 15 × 15 of type dbl</caption>\n",
       "<thead>\n",
       "\t<tr><th></th><th scope=col>PC1</th><th scope=col>PC2</th><th scope=col>PC3</th><th scope=col>PC4</th><th scope=col>PC5</th><th scope=col>PC6</th><th scope=col>PC7</th><th scope=col>PC8</th><th scope=col>PC9</th><th scope=col>PC10</th><th scope=col>PC11</th><th scope=col>PC12</th><th scope=col>PC13</th><th scope=col>PC14</th><th scope=col>PC15</th></tr>\n",
       "</thead>\n",
       "<tbody>\n",
       "\t<tr><th scope=row>PC1</th><td> 1.000000e+00</td><td>-2.498724e-16</td><td> 1.406759e-16</td><td>-8.774248e-17</td><td>-2.665258e-17</td><td>-2.204508e-16</td><td>-4.891197e-16</td><td>-7.202567e-16</td><td> 1.091212e-15</td><td>-8.742206e-18</td><td>-1.388061e-15</td><td> 1.222116e-15</td><td> 6.219244e-16</td><td> 1.386020e-15</td><td>-1.372095e-16</td></tr>\n",
       "\t<tr><th scope=row>PC2</th><td>-2.498724e-16</td><td> 1.000000e+00</td><td> 2.292147e-16</td><td> 3.304066e-16</td><td>-7.271976e-17</td><td>-6.523514e-16</td><td> 7.681567e-16</td><td> 3.497698e-16</td><td> 2.124345e-16</td><td>-5.941170e-16</td><td>-1.862286e-17</td><td> 4.683128e-16</td><td> 2.476219e-16</td><td>-6.321437e-16</td><td>-6.355398e-15</td></tr>\n",
       "\t<tr><th scope=row>PC3</th><td> 1.406759e-16</td><td> 2.292147e-16</td><td> 1.000000e+00</td><td>-6.990114e-17</td><td>-1.217264e-16</td><td> 5.609356e-17</td><td>-1.896407e-16</td><td>-3.223738e-16</td><td>-2.662930e-16</td><td>-1.782712e-17</td><td> 7.792568e-16</td><td>-6.088417e-17</td><td> 7.907746e-17</td><td> 4.081716e-17</td><td> 2.121159e-15</td></tr>\n",
       "\t<tr><th scope=row>PC4</th><td>-8.774248e-17</td><td> 3.304066e-16</td><td>-6.990114e-17</td><td> 1.000000e+00</td><td> 3.805244e-16</td><td>-1.950527e-16</td><td> 4.758753e-16</td><td>-1.952979e-16</td><td>-7.781812e-16</td><td> 5.990215e-16</td><td> 7.802394e-16</td><td> 3.114388e-17</td><td> 5.810139e-16</td><td> 2.350854e-18</td><td>-1.991797e-16</td></tr>\n",
       "\t<tr><th scope=row>PC5</th><td>-2.665258e-17</td><td>-7.271976e-17</td><td>-1.217264e-16</td><td> 3.805244e-16</td><td> 1.000000e+00</td><td> 1.937897e-16</td><td>-1.511902e-16</td><td>-3.173382e-16</td><td> 7.651916e-16</td><td>-2.782724e-16</td><td> 4.849592e-18</td><td> 2.640809e-16</td><td>-7.449419e-16</td><td> 4.574904e-16</td><td>-2.558480e-15</td></tr>\n",
       "\t<tr><th scope=row>PC6</th><td>-2.204508e-16</td><td>-6.523514e-16</td><td> 5.609356e-17</td><td>-1.950527e-16</td><td> 1.937897e-16</td><td> 1.000000e+00</td><td> 1.221846e-16</td><td> 2.931704e-16</td><td> 1.927874e-16</td><td>-2.797224e-16</td><td>-6.417124e-16</td><td> 1.489079e-16</td><td> 3.999710e-16</td><td> 8.298120e-16</td><td> 2.846300e-15</td></tr>\n",
       "\t<tr><th scope=row>PC7</th><td>-4.891197e-16</td><td> 7.681567e-16</td><td>-1.896407e-16</td><td> 4.758753e-16</td><td>-1.511902e-16</td><td> 1.221846e-16</td><td> 1.000000e+00</td><td>-3.566736e-16</td><td> 6.344743e-16</td><td> 4.817949e-17</td><td>-4.442442e-16</td><td> 1.203654e-16</td><td> 1.027063e-16</td><td>-3.398855e-16</td><td> 3.422227e-16</td></tr>\n",
       "\t<tr><th scope=row>PC8</th><td>-7.202567e-16</td><td> 3.497698e-16</td><td>-3.223738e-16</td><td>-1.952979e-16</td><td>-3.173382e-16</td><td> 2.931704e-16</td><td>-3.566736e-16</td><td> 1.000000e+00</td><td> 4.969902e-16</td><td>-3.959905e-16</td><td> 1.343111e-16</td><td> 6.886858e-17</td><td>-1.927615e-16</td><td> 5.065632e-16</td><td>-4.156596e-15</td></tr>\n",
       "\t<tr><th scope=row>PC9</th><td> 1.091212e-15</td><td> 2.124345e-16</td><td>-2.662930e-16</td><td>-7.781812e-16</td><td> 7.651916e-16</td><td> 1.927874e-16</td><td> 6.344743e-16</td><td> 4.969902e-16</td><td> 1.000000e+00</td><td>-1.662649e-15</td><td>-1.013329e-16</td><td>-7.530042e-17</td><td>-3.714909e-16</td><td>-2.452864e-16</td><td> 4.670853e-17</td></tr>\n",
       "\t<tr><th scope=row>PC10</th><td>-8.742206e-18</td><td>-5.941170e-16</td><td>-1.782712e-17</td><td> 5.990215e-16</td><td>-2.782724e-16</td><td>-2.797224e-16</td><td> 4.817949e-17</td><td>-3.959905e-16</td><td>-1.662649e-15</td><td> 1.000000e+00</td><td> 1.283457e-16</td><td> 1.309529e-15</td><td> 3.128737e-16</td><td> 3.147977e-16</td><td> 6.909476e-16</td></tr>\n",
       "\t<tr><th scope=row>PC11</th><td>-1.388061e-15</td><td>-1.862286e-17</td><td> 7.792568e-16</td><td> 7.802394e-16</td><td> 4.849592e-18</td><td>-6.417124e-16</td><td>-4.442442e-16</td><td> 1.343111e-16</td><td>-1.013329e-16</td><td> 1.283457e-16</td><td> 1.000000e+00</td><td>-2.082523e-16</td><td> 1.456797e-16</td><td>-3.270804e-16</td><td>-2.347994e-16</td></tr>\n",
       "\t<tr><th scope=row>PC12</th><td> 1.222116e-15</td><td> 4.683128e-16</td><td>-6.088417e-17</td><td> 3.114388e-17</td><td> 2.640809e-16</td><td> 1.489079e-16</td><td> 1.203654e-16</td><td> 6.886858e-17</td><td>-7.530042e-17</td><td> 1.309529e-15</td><td>-2.082523e-16</td><td> 1.000000e+00</td><td> 4.680348e-16</td><td> 6.527818e-18</td><td> 4.909419e-17</td></tr>\n",
       "\t<tr><th scope=row>PC13</th><td> 6.219244e-16</td><td> 2.476219e-16</td><td> 7.907746e-17</td><td> 5.810139e-16</td><td>-7.449419e-16</td><td> 3.999710e-16</td><td> 1.027063e-16</td><td>-1.927615e-16</td><td>-3.714909e-16</td><td> 3.128737e-16</td><td> 1.456797e-16</td><td> 4.680348e-16</td><td> 1.000000e+00</td><td>-3.860164e-16</td><td> 3.711523e-16</td></tr>\n",
       "\t<tr><th scope=row>PC14</th><td> 1.386020e-15</td><td>-6.321437e-16</td><td> 4.081716e-17</td><td> 2.350854e-18</td><td> 4.574904e-16</td><td> 8.298120e-16</td><td>-3.398855e-16</td><td> 5.065632e-16</td><td>-2.452864e-16</td><td> 3.147977e-16</td><td>-3.270804e-16</td><td> 6.527818e-18</td><td>-3.860164e-16</td><td> 1.000000e+00</td><td> 1.442645e-15</td></tr>\n",
       "\t<tr><th scope=row>PC15</th><td>-1.372095e-16</td><td>-6.355398e-15</td><td> 2.121159e-15</td><td>-1.991797e-16</td><td>-2.558480e-15</td><td> 2.846300e-15</td><td> 3.422227e-16</td><td>-4.156596e-15</td><td> 4.670853e-17</td><td> 6.909476e-16</td><td>-2.347994e-16</td><td> 4.909419e-17</td><td> 3.711523e-16</td><td> 1.442645e-15</td><td> 1.000000e+00</td></tr>\n",
       "</tbody>\n",
       "</table>\n"
      ],
      "text/latex": [
       "A matrix: 15 × 15 of type dbl\n",
       "\\begin{tabular}{r|lllllllllllllll}\n",
       "  & PC1 & PC2 & PC3 & PC4 & PC5 & PC6 & PC7 & PC8 & PC9 & PC10 & PC11 & PC12 & PC13 & PC14 & PC15\\\\\n",
       "\\hline\n",
       "\tPC1 &  1.000000e+00 & -2.498724e-16 &  1.406759e-16 & -8.774248e-17 & -2.665258e-17 & -2.204508e-16 & -4.891197e-16 & -7.202567e-16 &  1.091212e-15 & -8.742206e-18 & -1.388061e-15 &  1.222116e-15 &  6.219244e-16 &  1.386020e-15 & -1.372095e-16\\\\\n",
       "\tPC2 & -2.498724e-16 &  1.000000e+00 &  2.292147e-16 &  3.304066e-16 & -7.271976e-17 & -6.523514e-16 &  7.681567e-16 &  3.497698e-16 &  2.124345e-16 & -5.941170e-16 & -1.862286e-17 &  4.683128e-16 &  2.476219e-16 & -6.321437e-16 & -6.355398e-15\\\\\n",
       "\tPC3 &  1.406759e-16 &  2.292147e-16 &  1.000000e+00 & -6.990114e-17 & -1.217264e-16 &  5.609356e-17 & -1.896407e-16 & -3.223738e-16 & -2.662930e-16 & -1.782712e-17 &  7.792568e-16 & -6.088417e-17 &  7.907746e-17 &  4.081716e-17 &  2.121159e-15\\\\\n",
       "\tPC4 & -8.774248e-17 &  3.304066e-16 & -6.990114e-17 &  1.000000e+00 &  3.805244e-16 & -1.950527e-16 &  4.758753e-16 & -1.952979e-16 & -7.781812e-16 &  5.990215e-16 &  7.802394e-16 &  3.114388e-17 &  5.810139e-16 &  2.350854e-18 & -1.991797e-16\\\\\n",
       "\tPC5 & -2.665258e-17 & -7.271976e-17 & -1.217264e-16 &  3.805244e-16 &  1.000000e+00 &  1.937897e-16 & -1.511902e-16 & -3.173382e-16 &  7.651916e-16 & -2.782724e-16 &  4.849592e-18 &  2.640809e-16 & -7.449419e-16 &  4.574904e-16 & -2.558480e-15\\\\\n",
       "\tPC6 & -2.204508e-16 & -6.523514e-16 &  5.609356e-17 & -1.950527e-16 &  1.937897e-16 &  1.000000e+00 &  1.221846e-16 &  2.931704e-16 &  1.927874e-16 & -2.797224e-16 & -6.417124e-16 &  1.489079e-16 &  3.999710e-16 &  8.298120e-16 &  2.846300e-15\\\\\n",
       "\tPC7 & -4.891197e-16 &  7.681567e-16 & -1.896407e-16 &  4.758753e-16 & -1.511902e-16 &  1.221846e-16 &  1.000000e+00 & -3.566736e-16 &  6.344743e-16 &  4.817949e-17 & -4.442442e-16 &  1.203654e-16 &  1.027063e-16 & -3.398855e-16 &  3.422227e-16\\\\\n",
       "\tPC8 & -7.202567e-16 &  3.497698e-16 & -3.223738e-16 & -1.952979e-16 & -3.173382e-16 &  2.931704e-16 & -3.566736e-16 &  1.000000e+00 &  4.969902e-16 & -3.959905e-16 &  1.343111e-16 &  6.886858e-17 & -1.927615e-16 &  5.065632e-16 & -4.156596e-15\\\\\n",
       "\tPC9 &  1.091212e-15 &  2.124345e-16 & -2.662930e-16 & -7.781812e-16 &  7.651916e-16 &  1.927874e-16 &  6.344743e-16 &  4.969902e-16 &  1.000000e+00 & -1.662649e-15 & -1.013329e-16 & -7.530042e-17 & -3.714909e-16 & -2.452864e-16 &  4.670853e-17\\\\\n",
       "\tPC10 & -8.742206e-18 & -5.941170e-16 & -1.782712e-17 &  5.990215e-16 & -2.782724e-16 & -2.797224e-16 &  4.817949e-17 & -3.959905e-16 & -1.662649e-15 &  1.000000e+00 &  1.283457e-16 &  1.309529e-15 &  3.128737e-16 &  3.147977e-16 &  6.909476e-16\\\\\n",
       "\tPC11 & -1.388061e-15 & -1.862286e-17 &  7.792568e-16 &  7.802394e-16 &  4.849592e-18 & -6.417124e-16 & -4.442442e-16 &  1.343111e-16 & -1.013329e-16 &  1.283457e-16 &  1.000000e+00 & -2.082523e-16 &  1.456797e-16 & -3.270804e-16 & -2.347994e-16\\\\\n",
       "\tPC12 &  1.222116e-15 &  4.683128e-16 & -6.088417e-17 &  3.114388e-17 &  2.640809e-16 &  1.489079e-16 &  1.203654e-16 &  6.886858e-17 & -7.530042e-17 &  1.309529e-15 & -2.082523e-16 &  1.000000e+00 &  4.680348e-16 &  6.527818e-18 &  4.909419e-17\\\\\n",
       "\tPC13 &  6.219244e-16 &  2.476219e-16 &  7.907746e-17 &  5.810139e-16 & -7.449419e-16 &  3.999710e-16 &  1.027063e-16 & -1.927615e-16 & -3.714909e-16 &  3.128737e-16 &  1.456797e-16 &  4.680348e-16 &  1.000000e+00 & -3.860164e-16 &  3.711523e-16\\\\\n",
       "\tPC14 &  1.386020e-15 & -6.321437e-16 &  4.081716e-17 &  2.350854e-18 &  4.574904e-16 &  8.298120e-16 & -3.398855e-16 &  5.065632e-16 & -2.452864e-16 &  3.147977e-16 & -3.270804e-16 &  6.527818e-18 & -3.860164e-16 &  1.000000e+00 &  1.442645e-15\\\\\n",
       "\tPC15 & -1.372095e-16 & -6.355398e-15 &  2.121159e-15 & -1.991797e-16 & -2.558480e-15 &  2.846300e-15 &  3.422227e-16 & -4.156596e-15 &  4.670853e-17 &  6.909476e-16 & -2.347994e-16 &  4.909419e-17 &  3.711523e-16 &  1.442645e-15 &  1.000000e+00\\\\\n",
       "\\end{tabular}\n"
      ],
      "text/markdown": [
       "\n",
       "A matrix: 15 × 15 of type dbl\n",
       "\n",
       "| <!--/--> | PC1 | PC2 | PC3 | PC4 | PC5 | PC6 | PC7 | PC8 | PC9 | PC10 | PC11 | PC12 | PC13 | PC14 | PC15 |\n",
       "|---|---|---|---|---|---|---|---|---|---|---|---|---|---|---|---|\n",
       "| PC1 |  1.000000e+00 | -2.498724e-16 |  1.406759e-16 | -8.774248e-17 | -2.665258e-17 | -2.204508e-16 | -4.891197e-16 | -7.202567e-16 |  1.091212e-15 | -8.742206e-18 | -1.388061e-15 |  1.222116e-15 |  6.219244e-16 |  1.386020e-15 | -1.372095e-16 |\n",
       "| PC2 | -2.498724e-16 |  1.000000e+00 |  2.292147e-16 |  3.304066e-16 | -7.271976e-17 | -6.523514e-16 |  7.681567e-16 |  3.497698e-16 |  2.124345e-16 | -5.941170e-16 | -1.862286e-17 |  4.683128e-16 |  2.476219e-16 | -6.321437e-16 | -6.355398e-15 |\n",
       "| PC3 |  1.406759e-16 |  2.292147e-16 |  1.000000e+00 | -6.990114e-17 | -1.217264e-16 |  5.609356e-17 | -1.896407e-16 | -3.223738e-16 | -2.662930e-16 | -1.782712e-17 |  7.792568e-16 | -6.088417e-17 |  7.907746e-17 |  4.081716e-17 |  2.121159e-15 |\n",
       "| PC4 | -8.774248e-17 |  3.304066e-16 | -6.990114e-17 |  1.000000e+00 |  3.805244e-16 | -1.950527e-16 |  4.758753e-16 | -1.952979e-16 | -7.781812e-16 |  5.990215e-16 |  7.802394e-16 |  3.114388e-17 |  5.810139e-16 |  2.350854e-18 | -1.991797e-16 |\n",
       "| PC5 | -2.665258e-17 | -7.271976e-17 | -1.217264e-16 |  3.805244e-16 |  1.000000e+00 |  1.937897e-16 | -1.511902e-16 | -3.173382e-16 |  7.651916e-16 | -2.782724e-16 |  4.849592e-18 |  2.640809e-16 | -7.449419e-16 |  4.574904e-16 | -2.558480e-15 |\n",
       "| PC6 | -2.204508e-16 | -6.523514e-16 |  5.609356e-17 | -1.950527e-16 |  1.937897e-16 |  1.000000e+00 |  1.221846e-16 |  2.931704e-16 |  1.927874e-16 | -2.797224e-16 | -6.417124e-16 |  1.489079e-16 |  3.999710e-16 |  8.298120e-16 |  2.846300e-15 |\n",
       "| PC7 | -4.891197e-16 |  7.681567e-16 | -1.896407e-16 |  4.758753e-16 | -1.511902e-16 |  1.221846e-16 |  1.000000e+00 | -3.566736e-16 |  6.344743e-16 |  4.817949e-17 | -4.442442e-16 |  1.203654e-16 |  1.027063e-16 | -3.398855e-16 |  3.422227e-16 |\n",
       "| PC8 | -7.202567e-16 |  3.497698e-16 | -3.223738e-16 | -1.952979e-16 | -3.173382e-16 |  2.931704e-16 | -3.566736e-16 |  1.000000e+00 |  4.969902e-16 | -3.959905e-16 |  1.343111e-16 |  6.886858e-17 | -1.927615e-16 |  5.065632e-16 | -4.156596e-15 |\n",
       "| PC9 |  1.091212e-15 |  2.124345e-16 | -2.662930e-16 | -7.781812e-16 |  7.651916e-16 |  1.927874e-16 |  6.344743e-16 |  4.969902e-16 |  1.000000e+00 | -1.662649e-15 | -1.013329e-16 | -7.530042e-17 | -3.714909e-16 | -2.452864e-16 |  4.670853e-17 |\n",
       "| PC10 | -8.742206e-18 | -5.941170e-16 | -1.782712e-17 |  5.990215e-16 | -2.782724e-16 | -2.797224e-16 |  4.817949e-17 | -3.959905e-16 | -1.662649e-15 |  1.000000e+00 |  1.283457e-16 |  1.309529e-15 |  3.128737e-16 |  3.147977e-16 |  6.909476e-16 |\n",
       "| PC11 | -1.388061e-15 | -1.862286e-17 |  7.792568e-16 |  7.802394e-16 |  4.849592e-18 | -6.417124e-16 | -4.442442e-16 |  1.343111e-16 | -1.013329e-16 |  1.283457e-16 |  1.000000e+00 | -2.082523e-16 |  1.456797e-16 | -3.270804e-16 | -2.347994e-16 |\n",
       "| PC12 |  1.222116e-15 |  4.683128e-16 | -6.088417e-17 |  3.114388e-17 |  2.640809e-16 |  1.489079e-16 |  1.203654e-16 |  6.886858e-17 | -7.530042e-17 |  1.309529e-15 | -2.082523e-16 |  1.000000e+00 |  4.680348e-16 |  6.527818e-18 |  4.909419e-17 |\n",
       "| PC13 |  6.219244e-16 |  2.476219e-16 |  7.907746e-17 |  5.810139e-16 | -7.449419e-16 |  3.999710e-16 |  1.027063e-16 | -1.927615e-16 | -3.714909e-16 |  3.128737e-16 |  1.456797e-16 |  4.680348e-16 |  1.000000e+00 | -3.860164e-16 |  3.711523e-16 |\n",
       "| PC14 |  1.386020e-15 | -6.321437e-16 |  4.081716e-17 |  2.350854e-18 |  4.574904e-16 |  8.298120e-16 | -3.398855e-16 |  5.065632e-16 | -2.452864e-16 |  3.147977e-16 | -3.270804e-16 |  6.527818e-18 | -3.860164e-16 |  1.000000e+00 |  1.442645e-15 |\n",
       "| PC15 | -1.372095e-16 | -6.355398e-15 |  2.121159e-15 | -1.991797e-16 | -2.558480e-15 |  2.846300e-15 |  3.422227e-16 | -4.156596e-15 |  4.670853e-17 |  6.909476e-16 | -2.347994e-16 |  4.909419e-17 |  3.711523e-16 |  1.442645e-15 |  1.000000e+00 |\n",
       "\n"
      ],
      "text/plain": [
       "     PC1           PC2           PC3           PC4           PC5          \n",
       "PC1   1.000000e+00 -2.498724e-16  1.406759e-16 -8.774248e-17 -2.665258e-17\n",
       "PC2  -2.498724e-16  1.000000e+00  2.292147e-16  3.304066e-16 -7.271976e-17\n",
       "PC3   1.406759e-16  2.292147e-16  1.000000e+00 -6.990114e-17 -1.217264e-16\n",
       "PC4  -8.774248e-17  3.304066e-16 -6.990114e-17  1.000000e+00  3.805244e-16\n",
       "PC5  -2.665258e-17 -7.271976e-17 -1.217264e-16  3.805244e-16  1.000000e+00\n",
       "PC6  -2.204508e-16 -6.523514e-16  5.609356e-17 -1.950527e-16  1.937897e-16\n",
       "PC7  -4.891197e-16  7.681567e-16 -1.896407e-16  4.758753e-16 -1.511902e-16\n",
       "PC8  -7.202567e-16  3.497698e-16 -3.223738e-16 -1.952979e-16 -3.173382e-16\n",
       "PC9   1.091212e-15  2.124345e-16 -2.662930e-16 -7.781812e-16  7.651916e-16\n",
       "PC10 -8.742206e-18 -5.941170e-16 -1.782712e-17  5.990215e-16 -2.782724e-16\n",
       "PC11 -1.388061e-15 -1.862286e-17  7.792568e-16  7.802394e-16  4.849592e-18\n",
       "PC12  1.222116e-15  4.683128e-16 -6.088417e-17  3.114388e-17  2.640809e-16\n",
       "PC13  6.219244e-16  2.476219e-16  7.907746e-17  5.810139e-16 -7.449419e-16\n",
       "PC14  1.386020e-15 -6.321437e-16  4.081716e-17  2.350854e-18  4.574904e-16\n",
       "PC15 -1.372095e-16 -6.355398e-15  2.121159e-15 -1.991797e-16 -2.558480e-15\n",
       "     PC6           PC7           PC8           PC9           PC10         \n",
       "PC1  -2.204508e-16 -4.891197e-16 -7.202567e-16  1.091212e-15 -8.742206e-18\n",
       "PC2  -6.523514e-16  7.681567e-16  3.497698e-16  2.124345e-16 -5.941170e-16\n",
       "PC3   5.609356e-17 -1.896407e-16 -3.223738e-16 -2.662930e-16 -1.782712e-17\n",
       "PC4  -1.950527e-16  4.758753e-16 -1.952979e-16 -7.781812e-16  5.990215e-16\n",
       "PC5   1.937897e-16 -1.511902e-16 -3.173382e-16  7.651916e-16 -2.782724e-16\n",
       "PC6   1.000000e+00  1.221846e-16  2.931704e-16  1.927874e-16 -2.797224e-16\n",
       "PC7   1.221846e-16  1.000000e+00 -3.566736e-16  6.344743e-16  4.817949e-17\n",
       "PC8   2.931704e-16 -3.566736e-16  1.000000e+00  4.969902e-16 -3.959905e-16\n",
       "PC9   1.927874e-16  6.344743e-16  4.969902e-16  1.000000e+00 -1.662649e-15\n",
       "PC10 -2.797224e-16  4.817949e-17 -3.959905e-16 -1.662649e-15  1.000000e+00\n",
       "PC11 -6.417124e-16 -4.442442e-16  1.343111e-16 -1.013329e-16  1.283457e-16\n",
       "PC12  1.489079e-16  1.203654e-16  6.886858e-17 -7.530042e-17  1.309529e-15\n",
       "PC13  3.999710e-16  1.027063e-16 -1.927615e-16 -3.714909e-16  3.128737e-16\n",
       "PC14  8.298120e-16 -3.398855e-16  5.065632e-16 -2.452864e-16  3.147977e-16\n",
       "PC15  2.846300e-15  3.422227e-16 -4.156596e-15  4.670853e-17  6.909476e-16\n",
       "     PC11          PC12          PC13          PC14          PC15         \n",
       "PC1  -1.388061e-15  1.222116e-15  6.219244e-16  1.386020e-15 -1.372095e-16\n",
       "PC2  -1.862286e-17  4.683128e-16  2.476219e-16 -6.321437e-16 -6.355398e-15\n",
       "PC3   7.792568e-16 -6.088417e-17  7.907746e-17  4.081716e-17  2.121159e-15\n",
       "PC4   7.802394e-16  3.114388e-17  5.810139e-16  2.350854e-18 -1.991797e-16\n",
       "PC5   4.849592e-18  2.640809e-16 -7.449419e-16  4.574904e-16 -2.558480e-15\n",
       "PC6  -6.417124e-16  1.489079e-16  3.999710e-16  8.298120e-16  2.846300e-15\n",
       "PC7  -4.442442e-16  1.203654e-16  1.027063e-16 -3.398855e-16  3.422227e-16\n",
       "PC8   1.343111e-16  6.886858e-17 -1.927615e-16  5.065632e-16 -4.156596e-15\n",
       "PC9  -1.013329e-16 -7.530042e-17 -3.714909e-16 -2.452864e-16  4.670853e-17\n",
       "PC10  1.283457e-16  1.309529e-15  3.128737e-16  3.147977e-16  6.909476e-16\n",
       "PC11  1.000000e+00 -2.082523e-16  1.456797e-16 -3.270804e-16 -2.347994e-16\n",
       "PC12 -2.082523e-16  1.000000e+00  4.680348e-16  6.527818e-18  4.909419e-17\n",
       "PC13  1.456797e-16  4.680348e-16  1.000000e+00 -3.860164e-16  3.711523e-16\n",
       "PC14 -3.270804e-16  6.527818e-18 -3.860164e-16  1.000000e+00  1.442645e-15\n",
       "PC15 -2.347994e-16  4.909419e-17  3.711523e-16  1.442645e-15  1.000000e+00"
      ]
     },
     "metadata": {},
     "output_type": "display_data"
    }
   ],
   "source": [
    "cor(crime_pca$x)"
   ]
  },
  {
   "cell_type": "markdown",
   "metadata": {},
   "source": [
    "-----------------------------------------------------------------------------------------------------------------------------\n",
    "As we can see in above correlation matrix, there is no correlation between principal components (all correlation except the diagonal ones are zero.)"
   ]
  },
  {
   "cell_type": "markdown",
   "metadata": {},
   "source": [
    "### Preparing Test Data Point for Prediction"
   ]
  },
  {
   "cell_type": "markdown",
   "metadata": {},
   "source": [
    "We can use predict() to transform the test data point for regression. This function takes care of scaling the data point and then returns the principal components for this observation."
   ]
  },
  {
   "cell_type": "code",
   "execution_count": 21,
   "metadata": {},
   "outputs": [],
   "source": [
    "test_pca<-predict(crime_pca,test)"
   ]
  },
  {
   "cell_type": "code",
   "execution_count": 22,
   "metadata": {},
   "outputs": [
    {
     "data": {
      "text/html": [
       "<table>\n",
       "<caption>A matrix: 1 × 15 of type dbl</caption>\n",
       "<thead>\n",
       "\t<tr><th scope=col>PC1</th><th scope=col>PC2</th><th scope=col>PC3</th><th scope=col>PC4</th><th scope=col>PC5</th><th scope=col>PC6</th><th scope=col>PC7</th><th scope=col>PC8</th><th scope=col>PC9</th><th scope=col>PC10</th><th scope=col>PC11</th><th scope=col>PC12</th><th scope=col>PC13</th><th scope=col>PC14</th><th scope=col>PC15</th></tr>\n",
       "</thead>\n",
       "<tbody>\n",
       "\t<tr><td>1.224044</td><td>-2.767641</td><td>0.533605</td><td>-1.146837</td><td>-1.206098</td><td>2.333343</td><td>-0.1535916</td><td>-1.391625</td><td>1.460274</td><td>-0.4525158</td><td>-0.3466498</td><td>1.663782</td><td>-1.811307</td><td>-2.174071</td><td>1.288675</td></tr>\n",
       "</tbody>\n",
       "</table>\n"
      ],
      "text/latex": [
       "A matrix: 1 × 15 of type dbl\n",
       "\\begin{tabular}{lllllllllllllll}\n",
       " PC1 & PC2 & PC3 & PC4 & PC5 & PC6 & PC7 & PC8 & PC9 & PC10 & PC11 & PC12 & PC13 & PC14 & PC15\\\\\n",
       "\\hline\n",
       "\t 1.224044 & -2.767641 & 0.533605 & -1.146837 & -1.206098 & 2.333343 & -0.1535916 & -1.391625 & 1.460274 & -0.4525158 & -0.3466498 & 1.663782 & -1.811307 & -2.174071 & 1.288675\\\\\n",
       "\\end{tabular}\n"
      ],
      "text/markdown": [
       "\n",
       "A matrix: 1 × 15 of type dbl\n",
       "\n",
       "| PC1 | PC2 | PC3 | PC4 | PC5 | PC6 | PC7 | PC8 | PC9 | PC10 | PC11 | PC12 | PC13 | PC14 | PC15 |\n",
       "|---|---|---|---|---|---|---|---|---|---|---|---|---|---|---|\n",
       "| 1.224044 | -2.767641 | 0.533605 | -1.146837 | -1.206098 | 2.333343 | -0.1535916 | -1.391625 | 1.460274 | -0.4525158 | -0.3466498 | 1.663782 | -1.811307 | -2.174071 | 1.288675 |\n",
       "\n"
      ],
      "text/plain": [
       "     PC1      PC2       PC3      PC4       PC5       PC6      PC7       \n",
       "[1,] 1.224044 -2.767641 0.533605 -1.146837 -1.206098 2.333343 -0.1535916\n",
       "     PC8       PC9      PC10       PC11       PC12     PC13      PC14     \n",
       "[1,] -1.391625 1.460274 -0.4525158 -0.3466498 1.663782 -1.811307 -2.174071\n",
       "     PC15    \n",
       "[1,] 1.288675"
      ]
     },
     "metadata": {},
     "output_type": "display_data"
    }
   ],
   "source": [
    "test_pca"
   ]
  },
  {
   "cell_type": "markdown",
   "metadata": {},
   "source": [
    "-------------------------------------------------------------------------------------------------------------------------------\n",
    "We can manually transform the original variables to principal components and compare. As we can see, they both result in same transformed values."
   ]
  },
  {
   "cell_type": "code",
   "execution_count": 23,
   "metadata": {},
   "outputs": [],
   "source": [
    "test_norm<-(test-sapply(crime[-16],mean))/sapply(crime[-16],sd)"
   ]
  },
  {
   "cell_type": "code",
   "execution_count": 24,
   "metadata": {},
   "outputs": [
    {
     "data": {
      "text/html": [
       "<table>\n",
       "<caption>A matrix: 1 × 15 of type dbl</caption>\n",
       "<thead>\n",
       "\t<tr><th scope=col>PC1</th><th scope=col>PC2</th><th scope=col>PC3</th><th scope=col>PC4</th><th scope=col>PC5</th><th scope=col>PC6</th><th scope=col>PC7</th><th scope=col>PC8</th><th scope=col>PC9</th><th scope=col>PC10</th><th scope=col>PC11</th><th scope=col>PC12</th><th scope=col>PC13</th><th scope=col>PC14</th><th scope=col>PC15</th></tr>\n",
       "</thead>\n",
       "<tbody>\n",
       "\t<tr><td>1.224044</td><td>-2.767641</td><td>0.533605</td><td>-1.146837</td><td>-1.206098</td><td>2.333343</td><td>-0.1535916</td><td>-1.391625</td><td>1.460274</td><td>-0.4525158</td><td>-0.3466498</td><td>1.663782</td><td>-1.811307</td><td>-2.174071</td><td>1.288675</td></tr>\n",
       "</tbody>\n",
       "</table>\n"
      ],
      "text/latex": [
       "A matrix: 1 × 15 of type dbl\n",
       "\\begin{tabular}{lllllllllllllll}\n",
       " PC1 & PC2 & PC3 & PC4 & PC5 & PC6 & PC7 & PC8 & PC9 & PC10 & PC11 & PC12 & PC13 & PC14 & PC15\\\\\n",
       "\\hline\n",
       "\t 1.224044 & -2.767641 & 0.533605 & -1.146837 & -1.206098 & 2.333343 & -0.1535916 & -1.391625 & 1.460274 & -0.4525158 & -0.3466498 & 1.663782 & -1.811307 & -2.174071 & 1.288675\\\\\n",
       "\\end{tabular}\n"
      ],
      "text/markdown": [
       "\n",
       "A matrix: 1 × 15 of type dbl\n",
       "\n",
       "| PC1 | PC2 | PC3 | PC4 | PC5 | PC6 | PC7 | PC8 | PC9 | PC10 | PC11 | PC12 | PC13 | PC14 | PC15 |\n",
       "|---|---|---|---|---|---|---|---|---|---|---|---|---|---|---|\n",
       "| 1.224044 | -2.767641 | 0.533605 | -1.146837 | -1.206098 | 2.333343 | -0.1535916 | -1.391625 | 1.460274 | -0.4525158 | -0.3466498 | 1.663782 | -1.811307 | -2.174071 | 1.288675 |\n",
       "\n"
      ],
      "text/plain": [
       "     PC1      PC2       PC3      PC4       PC5       PC6      PC7       \n",
       "[1,] 1.224044 -2.767641 0.533605 -1.146837 -1.206098 2.333343 -0.1535916\n",
       "     PC8       PC9      PC10       PC11       PC12     PC13      PC14     \n",
       "[1,] -1.391625 1.460274 -0.4525158 -0.3466498 1.663782 -1.811307 -2.174071\n",
       "     PC15    \n",
       "[1,] 1.288675"
      ]
     },
     "metadata": {},
     "output_type": "display_data"
    }
   ],
   "source": [
    "as.matrix(test_norm)%*%as.matrix(crime_pca$rotation)"
   ]
  },
  {
   "cell_type": "markdown",
   "metadata": {},
   "source": [
    "### Visualizing PCs"
   ]
  },
  {
   "cell_type": "code",
   "execution_count": 25,
   "metadata": {},
   "outputs": [
    {
     "name": "stderr",
     "output_type": "stream",
     "text": [
      "Welcome! Want to learn more? See two factoextra-related books at https://goo.gl/ve3WBa\n",
      "\n"
     ]
    }
   ],
   "source": [
    "library(factoextra)"
   ]
  },
  {
   "cell_type": "markdown",
   "metadata": {},
   "source": [
    "The plot below shows how much variance is captured in each principal components:"
   ]
  },
  {
   "cell_type": "code",
   "execution_count": 26,
   "metadata": {},
   "outputs": [
    {
     "data": {
      "image/png": "[encoded data removed]",
      "text/plain": [
       "plot without title"
      ]
     },
     "metadata": {
      "image/png": {
       "height": 420,
       "width": 420
      },
      "text/plain": {
       "height": 420,
       "width": 420
      }
     },
     "output_type": "display_data"
    }
   ],
   "source": [
    "fviz_eig(crime_pca,addlabels=TRUE)"
   ]
  },
  {
   "cell_type": "markdown",
   "metadata": {},
   "source": [
    "We can see the contribution of original variables in PC1 and PC2:"
   ]
  },
  {
   "cell_type": "code",
   "execution_count": 27,
   "metadata": {},
   "outputs": [
    {
     "data": {
      "image/png": "[encoded data removed]",
      "text/plain": [
       "plot without title"
      ]
     },
     "metadata": {
      "image/png": {
       "height": 420,
       "width": 420
      },
      "text/plain": {
       "height": 420,
       "width": 420
      }
     },
     "output_type": "display_data"
    }
   ],
   "source": [
    "#Contributions of variables to PC1\n",
    "fviz_contrib(crime_pca, choice = \"var\", axes = 1, top = 10)"
   ]
  },
  {
   "cell_type": "code",
   "execution_count": 28,
   "metadata": {},
   "outputs": [
    {
     "data": {
      "image/png": "[encoded data removed]",
      "text/plain": [
       "plot without title"
      ]
     },
     "metadata": {
      "image/png": {
       "height": 420,
       "width": 420
      },
      "text/plain": {
       "height": 420,
       "width": 420
      }
     },
     "output_type": "display_data"
    }
   ],
   "source": [
    "#Contributions of variables to PC2\n",
    "fviz_contrib(crime_pca, choice = \"var\", axes = 2, top = 10)"
   ]
  },
  {
   "cell_type": "markdown",
   "metadata": {},
   "source": [
    "If we had a categorical variable, such as low, medium and high crime states, we could establish some clusters here. Since, there is no labeled clusters in our data, we simply observe data points (states) that are similar to each other,based on their position. However, we must remember that PC1 and PC2 contain only 60% of variation and do not tell us the whole story hidden in data."
   ]
  },
  {
   "cell_type": "code",
   "execution_count": 29,
   "metadata": {},
   "outputs": [
    {
     "data": {
      "image/png": "[encoded data removed]",
      "text/plain": [
       "plot without title"
      ]
     },
     "metadata": {
      "image/png": {
       "height": 420,
       "width": 420
      },
      "text/plain": {
       "height": 420,
       "width": 420
      }
     },
     "output_type": "display_data"
    }
   ],
   "source": [
    "#graph of individuals\n",
    "p<-fviz_pca_ind(crime_pca,\n",
    "             col.ind = \"cos2\", #importance of a principal component for a given observation\n",
    "             gradient.cols = c(\"#00AFBB\", \"#E7B800\", \"#FC4E07\"),\n",
    "             repel = TRUE # Avoid text overlapping\n",
    "             \n",
    "             )\n",
    "p"
   ]
  },
  {
   "cell_type": "markdown",
   "metadata": {},
   "source": [
    "The test data point has PC1=1.2 and PC2=-2.7. If we look at the above graph, we can see the position of test observation is close to states 11,20 and 36.\n",
    "Looking at crime rate of these states, we might guess that the estimation of crime rate of new state will be close to their range."
   ]
  },
  {
   "cell_type": "code",
   "execution_count": 30,
   "metadata": {},
   "outputs": [
    {
     "name": "stdout",
     "output_type": "stream",
     "text": [
      "State #36 Crime Rate: 1272 \n",
      " State #11 Crime Rate: 1674 \n",
      " State #20 Crime Rate: 1225"
     ]
    }
   ],
   "source": [
    "cat(\"State #36 Crime Rate:\",crime$Crime[36],\"\\n\",\"State #11 Crime Rate:\",crime$Crime[11],\"\\n\"\n",
    "    ,\"State #20 Crime Rate:\",crime$Crime[20])"
   ]
  },
  {
   "cell_type": "markdown",
   "metadata": {},
   "source": [
    "The below visualization shows the weight of each variable in PCA transformation equation:"
   ]
  },
  {
   "cell_type": "code",
   "execution_count": 31,
   "metadata": {},
   "outputs": [
    {
     "data": {
      "image/png": "[encoded data removed]",
      "text/plain": [
       "plot without title"
      ]
     },
     "metadata": {
      "image/png": {
       "height": 420,
       "width": 420
      },
      "text/plain": {
       "height": 420,
       "width": 420
      }
     },
     "output_type": "display_data"
    }
   ],
   "source": [
    "fviz_pca_var(crime_pca,\n",
    "             col.var = \"contrib\", # Color by contributions to the PC\n",
    "             gradient.cols = c(\"#00AFBB\", \"#E7B800\", \"#FC4E07\"),\n",
    "             repel = TRUE     # Avoid text overlapping\n",
    "             )"
   ]
  },
  {
   "cell_type": "markdown",
   "metadata": {},
   "source": [
    "### Principal component regression"
   ]
  },
  {
   "cell_type": "code",
   "execution_count": 32,
   "metadata": {},
   "outputs": [],
   "source": [
    "crime_transformed <-cbind(data.frame(crime_pca$x),crime[,16])\n"
   ]
  },
  {
   "cell_type": "code",
   "execution_count": 33,
   "metadata": {},
   "outputs": [
    {
     "data": {
      "text/html": [
       "<table>\n",
       "<caption>A data.frame: 6 × 16</caption>\n",
       "<thead>\n",
       "\t<tr><th></th><th scope=col>PC1</th><th scope=col>PC2</th><th scope=col>PC3</th><th scope=col>PC4</th><th scope=col>PC5</th><th scope=col>PC6</th><th scope=col>PC7</th><th scope=col>PC8</th><th scope=col>PC9</th><th scope=col>PC10</th><th scope=col>PC11</th><th scope=col>PC12</th><th scope=col>PC13</th><th scope=col>PC14</th><th scope=col>PC15</th><th scope=col>Crime</th></tr>\n",
       "\t<tr><th></th><th scope=col>&lt;dbl&gt;</th><th scope=col>&lt;dbl&gt;</th><th scope=col>&lt;dbl&gt;</th><th scope=col>&lt;dbl&gt;</th><th scope=col>&lt;dbl&gt;</th><th scope=col>&lt;dbl&gt;</th><th scope=col>&lt;dbl&gt;</th><th scope=col>&lt;dbl&gt;</th><th scope=col>&lt;dbl&gt;</th><th scope=col>&lt;dbl&gt;</th><th scope=col>&lt;dbl&gt;</th><th scope=col>&lt;dbl&gt;</th><th scope=col>&lt;dbl&gt;</th><th scope=col>&lt;dbl&gt;</th><th scope=col>&lt;dbl&gt;</th><th scope=col>&lt;dbl&gt;</th></tr>\n",
       "</thead>\n",
       "<tbody>\n",
       "\t<tr><th scope=row>1</th><td>-4.199284</td><td>-1.0938312</td><td>-1.11907395</td><td> 0.67178115</td><td> 0.05528338</td><td> 0.3073383</td><td>-0.56640816</td><td>-0.007801727</td><td> 0.22350995</td><td> 0.45274365</td><td>-0.08474542</td><td> 0.22096639</td><td>-0.11261680</td><td> 0.3269649</td><td> 0.02338401</td><td> 791</td></tr>\n",
       "\t<tr><th scope=row>2</th><td> 1.172663</td><td> 0.6770136</td><td>-0.05244634</td><td>-0.08350709</td><td>-1.17319982</td><td>-0.5832373</td><td> 0.19561119</td><td> 0.154566472</td><td> 0.43677720</td><td> 0.21208589</td><td>-0.03391661</td><td> 0.35686524</td><td> 0.29751651</td><td> 0.2523567</td><td>-0.06076368</td><td>1635</td></tr>\n",
       "\t<tr><th scope=row>3</th><td>-4.173725</td><td> 0.2767750</td><td>-0.37107658</td><td> 0.37793995</td><td> 0.54134525</td><td> 0.7187223</td><td> 0.10330693</td><td> 0.351138883</td><td> 0.06299232</td><td>-0.06719022</td><td>-0.48149156</td><td>-0.04701948</td><td> 0.05216054</td><td>-0.4865511</td><td> 0.04211750</td><td> 578</td></tr>\n",
       "\t<tr><th scope=row>4</th><td> 3.834962</td><td>-2.5769060</td><td> 0.22793998</td><td> 0.38262331</td><td>-1.64474650</td><td> 0.7294884</td><td> 0.26699499</td><td>-1.547460841</td><td>-0.37954181</td><td> 0.22922305</td><td> 0.10984951</td><td> 0.17727101</td><td> 0.08838131</td><td> 0.1496784</td><td> 0.02917497</td><td>1969</td></tr>\n",
       "\t<tr><th scope=row>5</th><td> 1.839300</td><td> 1.3309856</td><td> 1.27882805</td><td> 0.71814305</td><td> 0.04159032</td><td>-0.3940902</td><td> 0.07050766</td><td>-0.543237437</td><td> 0.22463245</td><td> 0.47769084</td><td>-0.32958186</td><td> 0.41807551</td><td>-0.72215224</td><td> 0.1310272</td><td>-0.07514940</td><td>1234</td></tr>\n",
       "\t<tr><th scope=row>6</th><td> 2.907234</td><td>-0.3305421</td><td> 0.53288181</td><td> 1.22140635</td><td> 1.37436096</td><td>-0.6922513</td><td> 0.22648209</td><td> 0.562323186</td><td> 0.41772217</td><td> 0.09100939</td><td> 0.01022969</td><td>-0.70661980</td><td>-0.13517271</td><td> 0.1949257</td><td> 0.01558610</td><td> 682</td></tr>\n",
       "</tbody>\n",
       "</table>\n"
      ],
      "text/latex": [
       "A data.frame: 6 × 16\n",
       "\\begin{tabular}{r|llllllllllllllll}\n",
       "  & PC1 & PC2 & PC3 & PC4 & PC5 & PC6 & PC7 & PC8 & PC9 & PC10 & PC11 & PC12 & PC13 & PC14 & PC15 & Crime\\\\\n",
       "  & <dbl> & <dbl> & <dbl> & <dbl> & <dbl> & <dbl> & <dbl> & <dbl> & <dbl> & <dbl> & <dbl> & <dbl> & <dbl> & <dbl> & <dbl> & <dbl>\\\\\n",
       "\\hline\n",
       "\t1 & -4.199284 & -1.0938312 & -1.11907395 &  0.67178115 &  0.05528338 &  0.3073383 & -0.56640816 & -0.007801727 &  0.22350995 &  0.45274365 & -0.08474542 &  0.22096639 & -0.11261680 &  0.3269649 &  0.02338401 &  791\\\\\n",
       "\t2 &  1.172663 &  0.6770136 & -0.05244634 & -0.08350709 & -1.17319982 & -0.5832373 &  0.19561119 &  0.154566472 &  0.43677720 &  0.21208589 & -0.03391661 &  0.35686524 &  0.29751651 &  0.2523567 & -0.06076368 & 1635\\\\\n",
       "\t3 & -4.173725 &  0.2767750 & -0.37107658 &  0.37793995 &  0.54134525 &  0.7187223 &  0.10330693 &  0.351138883 &  0.06299232 & -0.06719022 & -0.48149156 & -0.04701948 &  0.05216054 & -0.4865511 &  0.04211750 &  578\\\\\n",
       "\t4 &  3.834962 & -2.5769060 &  0.22793998 &  0.38262331 & -1.64474650 &  0.7294884 &  0.26699499 & -1.547460841 & -0.37954181 &  0.22922305 &  0.10984951 &  0.17727101 &  0.08838131 &  0.1496784 &  0.02917497 & 1969\\\\\n",
       "\t5 &  1.839300 &  1.3309856 &  1.27882805 &  0.71814305 &  0.04159032 & -0.3940902 &  0.07050766 & -0.543237437 &  0.22463245 &  0.47769084 & -0.32958186 &  0.41807551 & -0.72215224 &  0.1310272 & -0.07514940 & 1234\\\\\n",
       "\t6 &  2.907234 & -0.3305421 &  0.53288181 &  1.22140635 &  1.37436096 & -0.6922513 &  0.22648209 &  0.562323186 &  0.41772217 &  0.09100939 &  0.01022969 & -0.70661980 & -0.13517271 &  0.1949257 &  0.01558610 &  682\\\\\n",
       "\\end{tabular}\n"
      ],
      "text/markdown": [
       "\n",
       "A data.frame: 6 × 16\n",
       "\n",
       "| <!--/--> | PC1 &lt;dbl&gt; | PC2 &lt;dbl&gt; | PC3 &lt;dbl&gt; | PC4 &lt;dbl&gt; | PC5 &lt;dbl&gt; | PC6 &lt;dbl&gt; | PC7 &lt;dbl&gt; | PC8 &lt;dbl&gt; | PC9 &lt;dbl&gt; | PC10 &lt;dbl&gt; | PC11 &lt;dbl&gt; | PC12 &lt;dbl&gt; | PC13 &lt;dbl&gt; | PC14 &lt;dbl&gt; | PC15 &lt;dbl&gt; | Crime &lt;dbl&gt; |\n",
       "|---|---|---|---|---|---|---|---|---|---|---|---|---|---|---|---|---|\n",
       "| 1 | -4.199284 | -1.0938312 | -1.11907395 |  0.67178115 |  0.05528338 |  0.3073383 | -0.56640816 | -0.007801727 |  0.22350995 |  0.45274365 | -0.08474542 |  0.22096639 | -0.11261680 |  0.3269649 |  0.02338401 |  791 |\n",
       "| 2 |  1.172663 |  0.6770136 | -0.05244634 | -0.08350709 | -1.17319982 | -0.5832373 |  0.19561119 |  0.154566472 |  0.43677720 |  0.21208589 | -0.03391661 |  0.35686524 |  0.29751651 |  0.2523567 | -0.06076368 | 1635 |\n",
       "| 3 | -4.173725 |  0.2767750 | -0.37107658 |  0.37793995 |  0.54134525 |  0.7187223 |  0.10330693 |  0.351138883 |  0.06299232 | -0.06719022 | -0.48149156 | -0.04701948 |  0.05216054 | -0.4865511 |  0.04211750 |  578 |\n",
       "| 4 |  3.834962 | -2.5769060 |  0.22793998 |  0.38262331 | -1.64474650 |  0.7294884 |  0.26699499 | -1.547460841 | -0.37954181 |  0.22922305 |  0.10984951 |  0.17727101 |  0.08838131 |  0.1496784 |  0.02917497 | 1969 |\n",
       "| 5 |  1.839300 |  1.3309856 |  1.27882805 |  0.71814305 |  0.04159032 | -0.3940902 |  0.07050766 | -0.543237437 |  0.22463245 |  0.47769084 | -0.32958186 |  0.41807551 | -0.72215224 |  0.1310272 | -0.07514940 | 1234 |\n",
       "| 6 |  2.907234 | -0.3305421 |  0.53288181 |  1.22140635 |  1.37436096 | -0.6922513 |  0.22648209 |  0.562323186 |  0.41772217 |  0.09100939 |  0.01022969 | -0.70661980 | -0.13517271 |  0.1949257 |  0.01558610 |  682 |\n",
       "\n"
      ],
      "text/plain": [
       "  PC1       PC2        PC3         PC4         PC5         PC6       \n",
       "1 -4.199284 -1.0938312 -1.11907395  0.67178115  0.05528338  0.3073383\n",
       "2  1.172663  0.6770136 -0.05244634 -0.08350709 -1.17319982 -0.5832373\n",
       "3 -4.173725  0.2767750 -0.37107658  0.37793995  0.54134525  0.7187223\n",
       "4  3.834962 -2.5769060  0.22793998  0.38262331 -1.64474650  0.7294884\n",
       "5  1.839300  1.3309856  1.27882805  0.71814305  0.04159032 -0.3940902\n",
       "6  2.907234 -0.3305421  0.53288181  1.22140635  1.37436096 -0.6922513\n",
       "  PC7         PC8          PC9         PC10        PC11        PC12       \n",
       "1 -0.56640816 -0.007801727  0.22350995  0.45274365 -0.08474542  0.22096639\n",
       "2  0.19561119  0.154566472  0.43677720  0.21208589 -0.03391661  0.35686524\n",
       "3  0.10330693  0.351138883  0.06299232 -0.06719022 -0.48149156 -0.04701948\n",
       "4  0.26699499 -1.547460841 -0.37954181  0.22922305  0.10984951  0.17727101\n",
       "5  0.07050766 -0.543237437  0.22463245  0.47769084 -0.32958186  0.41807551\n",
       "6  0.22648209  0.562323186  0.41772217  0.09100939  0.01022969 -0.70661980\n",
       "  PC13        PC14       PC15        Crime\n",
       "1 -0.11261680  0.3269649  0.02338401  791 \n",
       "2  0.29751651  0.2523567 -0.06076368 1635 \n",
       "3  0.05216054 -0.4865511  0.04211750  578 \n",
       "4  0.08838131  0.1496784  0.02917497 1969 \n",
       "5 -0.72215224  0.1310272 -0.07514940 1234 \n",
       "6 -0.13517271  0.1949257  0.01558610  682 "
      ]
     },
     "metadata": {},
     "output_type": "display_data"
    }
   ],
   "source": [
    "head(crime_transformed)"
   ]
  },
  {
   "cell_type": "markdown",
   "metadata": {},
   "source": [
    "### Model 1 : Using all PCs as predictors"
   ]
  },
  {
   "cell_type": "code",
   "execution_count": 34,
   "metadata": {},
   "outputs": [],
   "source": [
    "set.seed(0)\n",
    "model_1<-lm(Crime~.,data=crime_transformed)"
   ]
  },
  {
   "cell_type": "code",
   "execution_count": 35,
   "metadata": {},
   "outputs": [
    {
     "data": {
      "text/plain": [
       "\n",
       "Call:\n",
       "lm(formula = Crime ~ ., data = crime_transformed)\n",
       "\n",
       "Residuals:\n",
       "    Min      1Q  Median      3Q     Max \n",
       "-395.74  -98.09   -6.69  112.99  512.67 \n",
       "\n",
       "Coefficients:\n",
       "            Estimate Std. Error t value Pr(>|t|)    \n",
       "(Intercept)   905.09      30.50  29.680  < 2e-16 ***\n",
       "PC1            65.22      12.56   5.191 1.24e-05 ***\n",
       "PC2           -70.08      18.42  -3.806 0.000625 ***\n",
       "PC3            25.19      21.77   1.157 0.255987    \n",
       "PC4            69.45      28.59   2.429 0.021143 *  \n",
       "PC5          -229.04      31.49  -7.274 3.49e-08 ***\n",
       "PC6           -60.21      41.44  -1.453 0.156305    \n",
       "PC7           117.26      54.34   2.158 0.038794 *  \n",
       "PC8            28.72      55.60   0.517 0.609159    \n",
       "PC9           -37.18      63.57  -0.585 0.562890    \n",
       "PC10           56.32      68.95   0.817 0.420261    \n",
       "PC11           30.59      73.54   0.416 0.680272    \n",
       "PC12          289.61      86.09   3.364 0.002059 ** \n",
       "PC13           81.79     117.06   0.699 0.489962    \n",
       "PC14          219.19     127.48   1.719 0.095517 .  \n",
       "PC15         -622.21     453.79  -1.371 0.180174    \n",
       "---\n",
       "Signif. codes:  0 '***' 0.001 '**' 0.01 '*' 0.05 '.' 0.1 ' ' 1\n",
       "\n",
       "Residual standard error: 209.1 on 31 degrees of freedom\n",
       "Multiple R-squared:  0.8031,\tAdjusted R-squared:  0.7078 \n",
       "F-statistic: 8.429 on 15 and 31 DF,  p-value: 3.539e-07\n"
      ]
     },
     "metadata": {},
     "output_type": "display_data"
    }
   ],
   "source": [
    "summary(model_1)"
   ]
  },
  {
   "cell_type": "code",
   "execution_count": 36,
   "metadata": {},
   "outputs": [
    {
     "data": {
      "text/html": [
       "<strong>1:</strong> 155.434896887449"
      ],
      "text/latex": [
       "\\textbf{1:} 155.434896887449"
      ],
      "text/markdown": [
       "**1:** 155.434896887449"
      ],
      "text/plain": [
       "       1 \n",
       "155.4349 "
      ]
     },
     "metadata": {},
     "output_type": "display_data"
    }
   ],
   "source": [
    "predict(model_1,data.frame(test_pca))\n"
   ]
  },
  {
   "cell_type": "markdown",
   "metadata": {},
   "source": [
    "Using all PCs are predictors result in Adjusted R-squared= 0.7. However, when we do prediction for test data point, the crime rate is well below the minimum rate we have in our data set.It is very clear that we have overfitting in this model.\n",
    "\n",
    "As a matter of fact, this result is very similar to regression model built with all original predictors done in homework 8.2.\n",
    "Looking at the summary of this model and p-values, we can see not all PCs have a sginificant predictive power. Filtering PCs with p-values less than 0.05 shows:"
   ]
  },
  {
   "cell_type": "code",
   "execution_count": 37,
   "metadata": {},
   "outputs": [
    {
     "data": {
      "text/html": [
       "<table>\n",
       "<caption>A data.frame: 7 × 1</caption>\n",
       "<thead>\n",
       "\t<tr><th></th><th scope=col>summary.model_1..coef.summary.model_1..coef...4.....0.05..4.</th></tr>\n",
       "\t<tr><th></th><th scope=col>&lt;dbl&gt;</th></tr>\n",
       "</thead>\n",
       "<tbody>\n",
       "\t<tr><th scope=row>(Intercept)</th><td>2.493918e-24</td></tr>\n",
       "\t<tr><th scope=row>PC1</th><td>1.243676e-05</td></tr>\n",
       "\t<tr><th scope=row>PC2</th><td>6.249578e-04</td></tr>\n",
       "\t<tr><th scope=row>PC4</th><td>2.114298e-02</td></tr>\n",
       "\t<tr><th scope=row>PC5</th><td>3.487643e-08</td></tr>\n",
       "\t<tr><th scope=row>PC7</th><td>3.879414e-02</td></tr>\n",
       "\t<tr><th scope=row>PC12</th><td>2.059021e-03</td></tr>\n",
       "</tbody>\n",
       "</table>\n"
      ],
      "text/latex": [
       "A data.frame: 7 × 1\n",
       "\\begin{tabular}{r|l}\n",
       "  & summary.model\\_1..coef.summary.model\\_1..coef...4.....0.05..4.\\\\\n",
       "  & <dbl>\\\\\n",
       "\\hline\n",
       "\t(Intercept) & 2.493918e-24\\\\\n",
       "\tPC1 & 1.243676e-05\\\\\n",
       "\tPC2 & 6.249578e-04\\\\\n",
       "\tPC4 & 2.114298e-02\\\\\n",
       "\tPC5 & 3.487643e-08\\\\\n",
       "\tPC7 & 3.879414e-02\\\\\n",
       "\tPC12 & 2.059021e-03\\\\\n",
       "\\end{tabular}\n"
      ],
      "text/markdown": [
       "\n",
       "A data.frame: 7 × 1\n",
       "\n",
       "| <!--/--> | summary.model_1..coef.summary.model_1..coef...4.....0.05..4. &lt;dbl&gt; |\n",
       "|---|---|\n",
       "| (Intercept) | 2.493918e-24 |\n",
       "| PC1 | 1.243676e-05 |\n",
       "| PC2 | 6.249578e-04 |\n",
       "| PC4 | 2.114298e-02 |\n",
       "| PC5 | 3.487643e-08 |\n",
       "| PC7 | 3.879414e-02 |\n",
       "| PC12 | 2.059021e-03 |\n",
       "\n"
      ],
      "text/plain": [
       "            summary.model_1..coef.summary.model_1..coef...4.....0.05..4.\n",
       "(Intercept) 2.493918e-24                                                \n",
       "PC1         1.243676e-05                                                \n",
       "PC2         6.249578e-04                                                \n",
       "PC4         2.114298e-02                                                \n",
       "PC5         3.487643e-08                                                \n",
       "PC7         3.879414e-02                                                \n",
       "PC12        2.059021e-03                                                "
      ]
     },
     "metadata": {},
     "output_type": "display_data"
    }
   ],
   "source": [
    "data.frame(summary(model_1)$coef[summary(model_1)$coef[,4] <= .05, 4])"
   ]
  },
  {
   "cell_type": "markdown",
   "metadata": {},
   "source": [
    "We are going to build a model using these PCs.\n"
   ]
  },
  {
   "cell_type": "markdown",
   "metadata": {},
   "source": [
    "### Model 2 : Using PCs with p-values<= 0.05"
   ]
  },
  {
   "cell_type": "code",
   "execution_count": 38,
   "metadata": {},
   "outputs": [],
   "source": [
    "set.seed(0)\n",
    "model_2<-lm(Crime~PC1+PC2+PC4+PC5+PC7+PC12,data=crime_transformed)"
   ]
  },
  {
   "cell_type": "code",
   "execution_count": 39,
   "metadata": {},
   "outputs": [
    {
     "data": {
      "text/plain": [
       "\n",
       "Call:\n",
       "lm(formula = Crime ~ PC1 + PC2 + PC4 + PC5 + PC7 + PC12, data = crime_transformed)\n",
       "\n",
       "Residuals:\n",
       "    Min      1Q  Median      3Q     Max \n",
       "-441.28 -122.29   12.37  139.91  521.45 \n",
       "\n",
       "Coefficients:\n",
       "            Estimate Std. Error t value Pr(>|t|)    \n",
       "(Intercept)   905.09      30.96  29.236  < 2e-16 ***\n",
       "PC1            65.22      12.76   5.113 8.26e-06 ***\n",
       "PC2           -70.08      18.69  -3.749 0.000562 ***\n",
       "PC4            69.45      29.03   2.392 0.021523 *  \n",
       "PC5          -229.04      31.97  -7.165 1.11e-08 ***\n",
       "PC7           117.26      55.16   2.126 0.039756 *  \n",
       "PC12          289.61      87.40   3.314 0.001963 ** \n",
       "---\n",
       "Signif. codes:  0 '***' 0.001 '**' 0.01 '*' 0.05 '.' 0.1 ' ' 1\n",
       "\n",
       "Residual standard error: 212.2 on 40 degrees of freedom\n",
       "Multiple R-squared:  0.7381,\tAdjusted R-squared:  0.6989 \n",
       "F-statistic: 18.79 on 6 and 40 DF,  p-value: 2.991e-10\n"
      ]
     },
     "metadata": {},
     "output_type": "display_data"
    }
   ],
   "source": [
    "summary(model_2)"
   ]
  },
  {
   "cell_type": "code",
   "execution_count": 40,
   "metadata": {},
   "outputs": [
    {
     "data": {
      "text/html": [
       "<strong>1:</strong> 1839.32589268046"
      ],
      "text/latex": [
       "\\textbf{1:} 1839.32589268046"
      ],
      "text/markdown": [
       "**1:** 1839.32589268046"
      ],
      "text/plain": [
       "       1 \n",
       "1839.326 "
      ]
     },
     "metadata": {},
     "output_type": "display_data"
    }
   ],
   "source": [
    "predict(model_2,data.frame(test_pca))"
   ]
  },
  {
   "cell_type": "markdown",
   "metadata": {},
   "source": [
    "### Model 3 : Using first 6 PCs with 90% variation"
   ]
  },
  {
   "cell_type": "code",
   "execution_count": 41,
   "metadata": {},
   "outputs": [],
   "source": [
    "set.seed(0)\n",
    "model_3<-lm(Crime~PC1+PC2+PC3+PC4+PC5+PC6,data=crime_transformed)"
   ]
  },
  {
   "cell_type": "code",
   "execution_count": 42,
   "metadata": {},
   "outputs": [
    {
     "data": {
      "text/plain": [
       "\n",
       "Call:\n",
       "lm(formula = Crime ~ PC1 + PC2 + PC3 + PC4 + PC5 + PC6, data = crime_transformed)\n",
       "\n",
       "Residuals:\n",
       "    Min      1Q  Median      3Q     Max \n",
       "-377.15 -172.23   25.81  132.10  480.38 \n",
       "\n",
       "Coefficients:\n",
       "            Estimate Std. Error t value Pr(>|t|)    \n",
       "(Intercept)   905.09      35.35  25.604  < 2e-16 ***\n",
       "PC1            65.22      14.56   4.478 6.14e-05 ***\n",
       "PC2           -70.08      21.35  -3.283  0.00214 ** \n",
       "PC3            25.19      25.23   0.998  0.32409    \n",
       "PC4            69.45      33.14   2.095  0.04252 *  \n",
       "PC5          -229.04      36.50  -6.275 1.94e-07 ***\n",
       "PC6           -60.21      48.04  -1.253  0.21734    \n",
       "---\n",
       "Signif. codes:  0 '***' 0.001 '**' 0.01 '*' 0.05 '.' 0.1 ' ' 1\n",
       "\n",
       "Residual standard error: 242.3 on 40 degrees of freedom\n",
       "Multiple R-squared:  0.6586,\tAdjusted R-squared:  0.6074 \n",
       "F-statistic: 12.86 on 6 and 40 DF,  p-value: 4.869e-08\n"
      ]
     },
     "metadata": {},
     "output_type": "display_data"
    }
   ],
   "source": [
    "summary(model_3)"
   ]
  },
  {
   "cell_type": "code",
   "execution_count": 43,
   "metadata": {},
   "outputs": [
    {
     "data": {
      "text/html": [
       "<strong>1:</strong> 1248.42743441833"
      ],
      "text/latex": [
       "\\textbf{1:} 1248.42743441833"
      ],
      "text/markdown": [
       "**1:** 1248.42743441833"
      ],
      "text/plain": [
       "       1 \n",
       "1248.427 "
      ]
     },
     "metadata": {},
     "output_type": "display_data"
    }
   ],
   "source": [
    "predict(model_3,data.frame(test_pca))"
   ]
  },
  {
   "cell_type": "markdown",
   "metadata": {},
   "source": [
    "### Model 4 : Using PCs with p-values <=0.05  and k-fold cross validation"
   ]
  },
  {
   "cell_type": "code",
   "execution_count": 44,
   "metadata": {},
   "outputs": [
    {
     "data": {
      "text/plain": [
       "Linear Regression \n",
       "\n",
       "47 samples\n",
       " 6 predictor\n",
       "\n",
       "No pre-processing\n",
       "Resampling: Cross-Validated (10 fold) \n",
       "Summary of sample sizes: 42, 41, 43, 42, 42, 42, ... \n",
       "Resampling results:\n",
       "\n",
       "  RMSE      Rsquared   MAE     \n",
       "  214.9555  0.6798814  176.9869\n",
       "\n",
       "Tuning parameter 'intercept' was held constant at a value of TRUE"
      ]
     },
     "metadata": {},
     "output_type": "display_data"
    }
   ],
   "source": [
    "set.seed(0) \n",
    "train.control <- trainControl(method = \"cv\", number = 10)\n",
    "\n",
    "model_4<- train(Crime ~ PC1+PC2+PC4+PC5+PC7+PC12, \n",
    "                data = crime_transformed, \n",
    "                method = \"lm\",\n",
    "               trControl = train.control)\n",
    "# Summarize the results\n",
    "model_4"
   ]
  },
  {
   "cell_type": "code",
   "execution_count": 45,
   "metadata": {},
   "outputs": [
    {
     "data": {
      "text/html": [
       "<strong>1:</strong> 1839.32589268045"
      ],
      "text/latex": [
       "\\textbf{1:} 1839.32589268045"
      ],
      "text/markdown": [
       "**1:** 1839.32589268045"
      ],
      "text/plain": [
       "       1 \n",
       "1839.326 "
      ]
     },
     "metadata": {},
     "output_type": "display_data"
    }
   ],
   "source": [
    "predict(model_4,data.frame(test_pca))"
   ]
  },
  {
   "cell_type": "markdown",
   "metadata": {},
   "source": [
    "### Model 5 : Using first 6 PCs with 90% variation and k-fold cross validation"
   ]
  },
  {
   "cell_type": "code",
   "execution_count": 46,
   "metadata": {},
   "outputs": [
    {
     "data": {
      "text/plain": [
       "Linear Regression \n",
       "\n",
       "47 samples\n",
       " 6 predictor\n",
       "\n",
       "No pre-processing\n",
       "Resampling: Cross-Validated (10 fold) \n",
       "Summary of sample sizes: 42, 41, 43, 42, 42, 42, ... \n",
       "Resampling results:\n",
       "\n",
       "  RMSE      Rsquared  MAE     \n",
       "  239.8631  0.567828  201.8449\n",
       "\n",
       "Tuning parameter 'intercept' was held constant at a value of TRUE"
      ]
     },
     "metadata": {},
     "output_type": "display_data"
    }
   ],
   "source": [
    "set.seed(0) \n",
    "train.control <- trainControl(method = \"cv\", number = 10)\n",
    "\n",
    "model_5<- train(Crime ~ PC1 + PC2 + PC3 + PC4 + PC5 + PC6, \n",
    "                data = crime_transformed, \n",
    "                method = \"lm\",\n",
    "               trControl = train.control)\n",
    "# Summarize the results\n",
    "model_5"
   ]
  },
  {
   "cell_type": "code",
   "execution_count": 47,
   "metadata": {},
   "outputs": [
    {
     "data": {
      "text/html": [
       "<strong>1:</strong> 1248.42743441832"
      ],
      "text/latex": [
       "\\textbf{1:} 1248.42743441832"
      ],
      "text/markdown": [
       "**1:** 1248.42743441832"
      ],
      "text/plain": [
       "       1 \n",
       "1248.427 "
      ]
     },
     "metadata": {},
     "output_type": "display_data"
    }
   ],
   "source": [
    "predict(model_5,data.frame(test_pca))"
   ]
  },
  {
   "cell_type": "markdown",
   "metadata": {},
   "source": [
    "### Results:\n",
    "\n",
    "If we compare the regression models using transformed variables(PCs) as regressors:\n",
    "\n",
    " Model ------ R-Sqaured ----- Crime Estimation -----  Predictors\n",
    "\n",
    "     1        0.7078               155                  PC1:PC15 (overfitting)\n",
    "     \n",
    "     2        0.6989               1839                 PC1,PC2,PC4,PC5,PC7,PC12 (p-values<=0.05)\n",
    "     \n",
    "     3        0.6074               1248                 PC1:PC6\n",
    "     \n",
    "     4        0.6798               1839                 PC1,PC2,PC4,PC5,PC7,PC12 (p-values<=0.05 & cross-validation)\n",
    "     \n",
    "     5        0.5678               1248                 PC1: PC6 (cross-validation)\n",
    "     \n",
    "\n",
    "Using PCs with significant impact on estimation (model 2 and 4) result in a better quality of model (higher adjusted Rsquared).\n",
    "We can conclude that a crime rate of **1839** looks like a good estimation based on what we have learned so far in this course.\n",
    "\n",
    "In previous homework, I had used Feature Selection using Recursive Feature Elimination method, which resulted in Rsquared of 0.6572 and prediction came out as 870. That crime rate is very different from what is predicted here. The output using PCs might be more accurate,since we are removing the collinearity in our model usign PCA.\n"
   ]
  },
  {
   "cell_type": "markdown",
   "metadata": {},
   "source": [
    "### Finding Coefficients of linear regression model in terms of original data"
   ]
  },
  {
   "cell_type": "markdown",
   "metadata": {},
   "source": [
    "We can find the coefficeint of linear regression model in the original variable space as shown below.\n",
    "If we plug in the standardized (scaled) data point in this linear equation, we get the same prediction as we got in model 2 and 4.\n"
   ]
  },
  {
   "cell_type": "code",
   "execution_count": 48,
   "metadata": {},
   "outputs": [
    {
     "data": {
      "text/html": [
       "<strong>(Intercept):</strong> 905.085106382979"
      ],
      "text/latex": [
       "\\textbf{(Intercept):} 905.085106382979"
      ],
      "text/markdown": [
       "**(Intercept):** 905.085106382979"
      ],
      "text/plain": [
       "(Intercept) \n",
       "   905.0851 "
      ]
     },
     "metadata": {},
     "output_type": "display_data"
    }
   ],
   "source": [
    "a0<-model_3$coefficients[1]\n",
    "a0"
   ]
  },
  {
   "cell_type": "code",
   "execution_count": 49,
   "metadata": {},
   "outputs": [
    {
     "data": {
      "text/html": [
       "<table>\n",
       "<caption>A matrix: 15 × 1 of type dbl</caption>\n",
       "<tbody>\n",
       "\t<tr><th scope=row>M</th><td> 86.050997</td></tr>\n",
       "\t<tr><th scope=row>So</th><td> 43.834620</td></tr>\n",
       "\t<tr><th scope=row>Ed</th><td>128.561982</td></tr>\n",
       "\t<tr><th scope=row>Po1</th><td>190.948216</td></tr>\n",
       "\t<tr><th scope=row>Po2</th><td>176.557343</td></tr>\n",
       "\t<tr><th scope=row>LF</th><td> 58.567623</td></tr>\n",
       "\t<tr><th scope=row>M.F</th><td> 62.183585</td></tr>\n",
       "\t<tr><th scope=row>Pop</th><td> 14.401786</td></tr>\n",
       "\t<tr><th scope=row>NW</th><td>-46.650182</td></tr>\n",
       "\t<tr><th scope=row>U1</th><td>-27.855492</td></tr>\n",
       "\t<tr><th scope=row>U2</th><td>120.462165</td></tr>\n",
       "\t<tr><th scope=row>Wealth</th><td>-74.920539</td></tr>\n",
       "\t<tr><th scope=row>Ineq</th><td>192.805165</td></tr>\n",
       "\t<tr><th scope=row>Prob</th><td>-52.441400</td></tr>\n",
       "\t<tr><th scope=row>Time</th><td>  8.950432</td></tr>\n",
       "</tbody>\n",
       "</table>\n"
      ],
      "text/latex": [
       "A matrix: 15 × 1 of type dbl\n",
       "\\begin{tabular}{r|l}\n",
       "\tM &  86.050997\\\\\n",
       "\tSo &  43.834620\\\\\n",
       "\tEd & 128.561982\\\\\n",
       "\tPo1 & 190.948216\\\\\n",
       "\tPo2 & 176.557343\\\\\n",
       "\tLF &  58.567623\\\\\n",
       "\tM.F &  62.183585\\\\\n",
       "\tPop &  14.401786\\\\\n",
       "\tNW & -46.650182\\\\\n",
       "\tU1 & -27.855492\\\\\n",
       "\tU2 & 120.462165\\\\\n",
       "\tWealth & -74.920539\\\\\n",
       "\tIneq & 192.805165\\\\\n",
       "\tProb & -52.441400\\\\\n",
       "\tTime &   8.950432\\\\\n",
       "\\end{tabular}\n"
      ],
      "text/markdown": [
       "\n",
       "A matrix: 15 × 1 of type dbl\n",
       "\n",
       "| M |  86.050997 |\n",
       "| So |  43.834620 |\n",
       "| Ed | 128.561982 |\n",
       "| Po1 | 190.948216 |\n",
       "| Po2 | 176.557343 |\n",
       "| LF |  58.567623 |\n",
       "| M.F |  62.183585 |\n",
       "| Pop |  14.401786 |\n",
       "| NW | -46.650182 |\n",
       "| U1 | -27.855492 |\n",
       "| U2 | 120.462165 |\n",
       "| Wealth | -74.920539 |\n",
       "| Ineq | 192.805165 |\n",
       "| Prob | -52.441400 |\n",
       "| Time |   8.950432 |\n",
       "\n"
      ],
      "text/plain": [
       "       [,1]      \n",
       "M       86.050997\n",
       "So      43.834620\n",
       "Ed     128.561982\n",
       "Po1    190.948216\n",
       "Po2    176.557343\n",
       "LF      58.567623\n",
       "M.F     62.183585\n",
       "Pop     14.401786\n",
       "NW     -46.650182\n",
       "U1     -27.855492\n",
       "U2     120.462165\n",
       "Wealth -74.920539\n",
       "Ineq   192.805165\n",
       "Prob   -52.441400\n",
       "Time     8.950432"
      ]
     },
     "metadata": {},
     "output_type": "display_data"
    }
   ],
   "source": [
    "a<-(crime_pca$rotation[,c(1,2,4,5,7,12)]%*%model_2$coefficients[-1])\n",
    "a"
   ]
  },
  {
   "cell_type": "code",
   "execution_count": 50,
   "metadata": {},
   "outputs": [
    {
     "data": {
      "text/html": [
       "<table>\n",
       "<caption>A data.frame: 1 × 15</caption>\n",
       "<thead>\n",
       "\t<tr><th scope=col>M</th><th scope=col>So</th><th scope=col>Ed</th><th scope=col>Po1</th><th scope=col>Po2</th><th scope=col>LF</th><th scope=col>M.F</th><th scope=col>Pop</th><th scope=col>NW</th><th scope=col>U1</th><th scope=col>U2</th><th scope=col>Wealth</th><th scope=col>Ineq</th><th scope=col>Prob</th><th scope=col>Time</th></tr>\n",
       "\t<tr><th scope=col>&lt;dbl&gt;</th><th scope=col>&lt;dbl&gt;</th><th scope=col>&lt;dbl&gt;</th><th scope=col>&lt;dbl&gt;</th><th scope=col>&lt;dbl&gt;</th><th scope=col>&lt;dbl&gt;</th><th scope=col>&lt;dbl&gt;</th><th scope=col>&lt;dbl&gt;</th><th scope=col>&lt;dbl&gt;</th><th scope=col>&lt;dbl&gt;</th><th scope=col>&lt;dbl&gt;</th><th scope=col>&lt;dbl&gt;</th><th scope=col>&lt;dbl&gt;</th><th scope=col>&lt;dbl&gt;</th><th scope=col>&lt;dbl&gt;</th></tr>\n",
       "</thead>\n",
       "<tbody>\n",
       "\t<tr><td>14</td><td>0</td><td>10</td><td>12</td><td>15.5</td><td>0.64</td><td>94</td><td>150</td><td>1.1</td><td>0.12</td><td>3.6</td><td>3200</td><td>20.1</td><td>0.04</td><td>39</td></tr>\n",
       "</tbody>\n",
       "</table>\n"
      ],
      "text/latex": [
       "A data.frame: 1 × 15\n",
       "\\begin{tabular}{lllllllllllllll}\n",
       " M & So & Ed & Po1 & Po2 & LF & M.F & Pop & NW & U1 & U2 & Wealth & Ineq & Prob & Time\\\\\n",
       " <dbl> & <dbl> & <dbl> & <dbl> & <dbl> & <dbl> & <dbl> & <dbl> & <dbl> & <dbl> & <dbl> & <dbl> & <dbl> & <dbl> & <dbl>\\\\\n",
       "\\hline\n",
       "\t 14 & 0 & 10 & 12 & 15.5 & 0.64 & 94 & 150 & 1.1 & 0.12 & 3.6 & 3200 & 20.1 & 0.04 & 39\\\\\n",
       "\\end{tabular}\n"
      ],
      "text/markdown": [
       "\n",
       "A data.frame: 1 × 15\n",
       "\n",
       "| M &lt;dbl&gt; | So &lt;dbl&gt; | Ed &lt;dbl&gt; | Po1 &lt;dbl&gt; | Po2 &lt;dbl&gt; | LF &lt;dbl&gt; | M.F &lt;dbl&gt; | Pop &lt;dbl&gt; | NW &lt;dbl&gt; | U1 &lt;dbl&gt; | U2 &lt;dbl&gt; | Wealth &lt;dbl&gt; | Ineq &lt;dbl&gt; | Prob &lt;dbl&gt; | Time &lt;dbl&gt; |\n",
       "|---|---|---|---|---|---|---|---|---|---|---|---|---|---|---|\n",
       "| 14 | 0 | 10 | 12 | 15.5 | 0.64 | 94 | 150 | 1.1 | 0.12 | 3.6 | 3200 | 20.1 | 0.04 | 39 |\n",
       "\n"
      ],
      "text/plain": [
       "  M  So Ed Po1 Po2  LF   M.F Pop NW  U1   U2  Wealth Ineq Prob Time\n",
       "1 14 0  10 12  15.5 0.64 94  150 1.1 0.12 3.6 3200   20.1 0.04 39  "
      ]
     },
     "metadata": {},
     "output_type": "display_data"
    }
   ],
   "source": [
    "test"
   ]
  },
  {
   "cell_type": "code",
   "execution_count": 51,
   "metadata": {},
   "outputs": [],
   "source": [
    "#standardizing test data point\n",
    "test_standard<-(test-crime_pca$center)/crime_pca$scale"
   ]
  },
  {
   "cell_type": "code",
   "execution_count": 52,
   "metadata": {},
   "outputs": [],
   "source": [
    "prediction<-a0+ as.matrix(test_standard)%*%as.matrix(a)"
   ]
  },
  {
   "cell_type": "code",
   "execution_count": 53,
   "metadata": {},
   "outputs": [
    {
     "data": {
      "text/html": [
       "<table>\n",
       "<caption>A matrix: 1 × 1 of type dbl</caption>\n",
       "<tbody>\n",
       "\t<tr><td>1839.326</td></tr>\n",
       "</tbody>\n",
       "</table>\n"
      ],
      "text/latex": [
       "A matrix: 1 × 1 of type dbl\n",
       "\\begin{tabular}{l}\n",
       "\t 1839.326\\\\\n",
       "\\end{tabular}\n"
      ],
      "text/markdown": [
       "\n",
       "A matrix: 1 × 1 of type dbl\n",
       "\n",
       "| 1839.326 |\n",
       "\n"
      ],
      "text/plain": [
       "     [,1]    \n",
       "[1,] 1839.326"
      ]
     },
     "metadata": {},
     "output_type": "display_data"
    }
   ],
   "source": [
    "prediction"
   ]
  }
 ],
 "metadata": {
  "kernelspec": {
   "display_name": "R",
   "language": "R",
   "name": "ir"
  },
  "language_info": {
   "codemirror_mode": "r",
   "file_extension": ".r",
   "mimetype": "text/x-r-source",
   "name": "R",
   "pygments_lexer": "r",
   "version": "3.6.1"
  }
 },
 "nbformat": 4,
 "nbformat_minor": 2
}
