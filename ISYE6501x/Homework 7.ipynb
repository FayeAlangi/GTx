{
 "cells": [
  {
   "cell_type": "markdown",
   "metadata": {},
   "source": [
    "## ISYE6501x Homework 7\n"
   ]
  },
  {
   "cell_type": "markdown",
   "metadata": {},
   "source": [
    "## Loading Libraries"
   ]
  },
  {
   "cell_type": "code",
   "execution_count": 1,
   "metadata": {},
   "outputs": [],
   "source": [
    "options(warn=-1)"
   ]
  },
  {
   "cell_type": "code",
   "execution_count": 1,
   "metadata": {},
   "outputs": [
    {
     "name": "stderr",
     "output_type": "stream",
     "text": [
      "Installing package into 'C:/Users/fayal/R/win-library/3.6'\n",
      "(as 'lib' is unspecified)\n",
      "\n"
     ]
    },
    {
     "name": "stdout",
     "output_type": "stream",
     "text": [
      "package 'rpart' successfully unpacked and MD5 sums checked\n",
      "\n",
      "The downloaded binary packages are in\n",
      "\tC:\\Users\\fayal\\AppData\\Local\\Temp\\RtmpcpaUC7\\downloaded_packages\n"
     ]
    }
   ],
   "source": [
    "install.packages(\"rpart\")"
   ]
  },
  {
   "cell_type": "code",
   "execution_count": 24,
   "metadata": {},
   "outputs": [
    {
     "name": "stderr",
     "output_type": "stream",
     "text": [
      "Installing package into 'C:/Users/fayal/R/win-library/3.6'\n",
      "(as 'lib' is unspecified)\n",
      "\n"
     ]
    },
    {
     "name": "stdout",
     "output_type": "stream",
     "text": [
      "package 'tree' successfully unpacked and MD5 sums checked\n",
      "\n",
      "The downloaded binary packages are in\n",
      "\tC:\\Users\\fayal\\AppData\\Local\\Temp\\RtmpcpaUC7\\downloaded_packages\n"
     ]
    }
   ],
   "source": [
    "install.packages(\"tree\")"
   ]
  },
  {
   "cell_type": "code",
   "execution_count": 2,
   "metadata": {},
   "outputs": [],
   "source": [
    "library(tree)"
   ]
  },
  {
   "cell_type": "code",
   "execution_count": 3,
   "metadata": {},
   "outputs": [],
   "source": [
    "library(rpart)"
   ]
  },
  {
   "cell_type": "code",
   "execution_count": 4,
   "metadata": {},
   "outputs": [],
   "source": [
    "library(ggplot2)"
   ]
  },
  {
   "cell_type": "code",
   "execution_count": 5,
   "metadata": {},
   "outputs": [
    {
     "name": "stderr",
     "output_type": "stream",
     "text": [
      "Registered S3 method overwritten by 'cli':\n",
      "  method     from\n",
      "  print.tree tree\n",
      "\n",
      "-- \u001b[1mAttaching packages\u001b[22m --------------------------------------- tidyverse 1.3.0 --\n",
      "\n",
      "\u001b[32mv\u001b[39m \u001b[34mtibble \u001b[39m 2.1.3     \u001b[32mv\u001b[39m \u001b[34mdplyr  \u001b[39m 0.8.3\n",
      "\u001b[32mv\u001b[39m \u001b[34mtidyr  \u001b[39m 1.0.0     \u001b[32mv\u001b[39m \u001b[34mstringr\u001b[39m 1.4.0\n",
      "\u001b[32mv\u001b[39m \u001b[34mreadr  \u001b[39m 1.3.1     \u001b[32mv\u001b[39m \u001b[34mforcats\u001b[39m 0.4.0\n",
      "\u001b[32mv\u001b[39m \u001b[34mpurrr  \u001b[39m 0.3.3     \n",
      "\n",
      "-- \u001b[1mConflicts\u001b[22m ------------------------------------------ tidyverse_conflicts() --\n",
      "\u001b[31mx\u001b[39m \u001b[34mdplyr\u001b[39m::\u001b[32mfilter()\u001b[39m masks \u001b[34mstats\u001b[39m::filter()\n",
      "\u001b[31mx\u001b[39m \u001b[34mdplyr\u001b[39m::\u001b[32mlag()\u001b[39m    masks \u001b[34mstats\u001b[39m::lag()\n",
      "\n"
     ]
    }
   ],
   "source": [
    "library(tidyverse)"
   ]
  },
  {
   "cell_type": "code",
   "execution_count": 6,
   "metadata": {},
   "outputs": [
    {
     "name": "stderr",
     "output_type": "stream",
     "text": [
      "Loading required package: lattice\n",
      "\n",
      "\n",
      "Attaching package: 'caret'\n",
      "\n",
      "\n",
      "The following object is masked from 'package:purrr':\n",
      "\n",
      "    lift\n",
      "\n",
      "\n"
     ]
    }
   ],
   "source": [
    "library(caret)"
   ]
  },
  {
   "cell_type": "code",
   "execution_count": 7,
   "metadata": {},
   "outputs": [
    {
     "name": "stderr",
     "output_type": "stream",
     "text": [
      "Loading required package: gplots\n",
      "\n",
      "\n",
      "Attaching package: 'gplots'\n",
      "\n",
      "\n",
      "The following object is masked from 'package:stats':\n",
      "\n",
      "    lowess\n",
      "\n",
      "\n"
     ]
    }
   ],
   "source": [
    "library(ROCR)"
   ]
  },
  {
   "cell_type": "code",
   "execution_count": 8,
   "metadata": {},
   "outputs": [
    {
     "name": "stderr",
     "output_type": "stream",
     "text": [
      "Installing package into 'C:/Users/fayal/R/win-library/3.6'\n",
      "(as 'lib' is unspecified)\n",
      "\n"
     ]
    },
    {
     "name": "stdout",
     "output_type": "stream",
     "text": [
      "package 'AUC' successfully unpacked and MD5 sums checked\n",
      "\n",
      "The downloaded binary packages are in\n",
      "\tC:\\Users\\fayal\\AppData\\Local\\Temp\\RtmpMPzG3E\\downloaded_packages\n"
     ]
    }
   ],
   "source": [
    "install.packages(\"AUC\")"
   ]
  },
  {
   "cell_type": "code",
   "execution_count": 9,
   "metadata": {},
   "outputs": [
    {
     "name": "stderr",
     "output_type": "stream",
     "text": [
      "AUC 0.3.0\n",
      "\n",
      "Type AUCNews() to see the change log and ?AUC to get an overview.\n",
      "\n",
      "\n",
      "Attaching package: 'AUC'\n",
      "\n",
      "\n",
      "The following objects are masked from 'package:caret':\n",
      "\n",
      "    sensitivity, specificity\n",
      "\n",
      "\n"
     ]
    }
   ],
   "source": [
    "library(AUC)"
   ]
  },
  {
   "cell_type": "code",
   "execution_count": 285,
   "metadata": {},
   "outputs": [
    {
     "name": "stderr",
     "output_type": "stream",
     "text": [
      "Installing package into 'C:/Users/fayal/R/win-library/3.6'\n",
      "(as 'lib' is unspecified)\n",
      "\n"
     ]
    },
    {
     "name": "stdout",
     "output_type": "stream",
     "text": [
      "package 'randomForest' successfully unpacked and MD5 sums checked\n",
      "\n",
      "The downloaded binary packages are in\n",
      "\tC:\\Users\\fayal\\AppData\\Local\\Temp\\RtmpcpaUC7\\downloaded_packages\n"
     ]
    }
   ],
   "source": [
    "install.packages(\"randomForest\")"
   ]
  },
  {
   "cell_type": "code",
   "execution_count": 42,
   "metadata": {},
   "outputs": [
    {
     "name": "stderr",
     "output_type": "stream",
     "text": [
      "randomForest 4.6-14\n",
      "\n",
      "Type rfNews() to see new features/changes/bug fixes.\n",
      "\n",
      "\n",
      "Attaching package: 'randomForest'\n",
      "\n",
      "\n",
      "The following object is masked from 'package:dplyr':\n",
      "\n",
      "    combine\n",
      "\n",
      "\n",
      "The following object is masked from 'package:ggplot2':\n",
      "\n",
      "    margin\n",
      "\n",
      "\n"
     ]
    }
   ],
   "source": [
    "library(randomForest)"
   ]
  },
  {
   "cell_type": "markdown",
   "metadata": {},
   "source": [
    "## Question 10.1\n",
    "\n",
    "Using the same crime data set uscrime.txt as in Questions 8.2 and 9.1, find the best model you can\n",
    "using\n",
    "(a) a regression tree model, and\n",
    "(b) a random forest model.\n",
    "In R, you can use the tree package or the rpart package, and the randomForest package. For\n",
    "each model, describe one or two qualitative takeaways you get from analyzing the results (i.e., don’t just stop when you have a good model, but interpret it too).\n"
   ]
  },
  {
   "cell_type": "markdown",
   "metadata": {},
   "source": [
    "### Loading Crime Data"
   ]
  },
  {
   "cell_type": "code",
   "execution_count": 10,
   "metadata": {},
   "outputs": [
    {
     "name": "stderr",
     "output_type": "stream",
     "text": [
      "Parsed with column specification:\n",
      "cols(\n",
      "  M = \u001b[32mcol_double()\u001b[39m,\n",
      "  So = \u001b[32mcol_double()\u001b[39m,\n",
      "  Ed = \u001b[32mcol_double()\u001b[39m,\n",
      "  Po1 = \u001b[32mcol_double()\u001b[39m,\n",
      "  Po2 = \u001b[32mcol_double()\u001b[39m,\n",
      "  LF = \u001b[32mcol_double()\u001b[39m,\n",
      "  M.F = \u001b[32mcol_double()\u001b[39m,\n",
      "  Pop = \u001b[32mcol_double()\u001b[39m,\n",
      "  NW = \u001b[32mcol_double()\u001b[39m,\n",
      "  U1 = \u001b[32mcol_double()\u001b[39m,\n",
      "  U2 = \u001b[32mcol_double()\u001b[39m,\n",
      "  Wealth = \u001b[32mcol_double()\u001b[39m,\n",
      "  Ineq = \u001b[32mcol_double()\u001b[39m,\n",
      "  Prob = \u001b[32mcol_double()\u001b[39m,\n",
      "  Time = \u001b[32mcol_double()\u001b[39m,\n",
      "  Crime = \u001b[32mcol_double()\u001b[39m\n",
      ")\n",
      "\n"
     ]
    }
   ],
   "source": [
    "#loading data\n",
    "crime=read_tsv(\"uscrime.txt\")"
   ]
  },
  {
   "cell_type": "markdown",
   "metadata": {},
   "source": [
    "Criminologists are interested in the effect of punishment regimes on crime rates. This has been studied using aggregate data on 47 states of the USA for 1960. The data set contains the following columns:\n",
    "\n",
    "    Variable   Description\n",
    "    M\t\tpercentage of males aged 14–24 in total state population\n",
    "    So\t\tindicator variable for a southern state\n",
    "    Ed\t\tmean years of schooling of the population aged 25 years or over\n",
    "    Po1\t\tper capita expenditure on police protection in 1960\n",
    "    Po2\t\tper capita expenditure on police protection in 1959\n",
    "    LF\t\tlabour force participation rate of civilian urban males in the age-group 14-24\n",
    "    M.F\t\tnumber of males per 100 females\n",
    "    Pop\t\tstate population in 1960 in hundred thousands\n",
    "    NW\t\tpercentage of nonwhites in the population\n",
    "    U1\t\tunemployment rate of urban males 14–24\n",
    "    U2\t\tunemployment rate of urban males 35–39\n",
    "    Wealth\twealth: median value of transferable assets or family income\n",
    "    Ineq\tincome inequality: percentage of families earning below half the median income\n",
    "    Prob\tprobability of imprisonment: ratio of number of commitments to number of offenses\n",
    "    Time\taverage time in months served by offenders in state prisons before their first release\n",
    "    Crime\t\tcrime rate: number of offenses per 100,000 population in 1960"
   ]
  },
  {
   "cell_type": "code",
   "execution_count": 11,
   "metadata": {},
   "outputs": [
    {
     "data": {
      "text/html": [
       "<table>\n",
       "<caption>A tibble: 6 × 16</caption>\n",
       "<thead>\n",
       "\t<tr><th scope=col>M</th><th scope=col>So</th><th scope=col>Ed</th><th scope=col>Po1</th><th scope=col>Po2</th><th scope=col>LF</th><th scope=col>M.F</th><th scope=col>Pop</th><th scope=col>NW</th><th scope=col>U1</th><th scope=col>U2</th><th scope=col>Wealth</th><th scope=col>Ineq</th><th scope=col>Prob</th><th scope=col>Time</th><th scope=col>Crime</th></tr>\n",
       "\t<tr><th scope=col>&lt;dbl&gt;</th><th scope=col>&lt;dbl&gt;</th><th scope=col>&lt;dbl&gt;</th><th scope=col>&lt;dbl&gt;</th><th scope=col>&lt;dbl&gt;</th><th scope=col>&lt;dbl&gt;</th><th scope=col>&lt;dbl&gt;</th><th scope=col>&lt;dbl&gt;</th><th scope=col>&lt;dbl&gt;</th><th scope=col>&lt;dbl&gt;</th><th scope=col>&lt;dbl&gt;</th><th scope=col>&lt;dbl&gt;</th><th scope=col>&lt;dbl&gt;</th><th scope=col>&lt;dbl&gt;</th><th scope=col>&lt;dbl&gt;</th><th scope=col>&lt;dbl&gt;</th></tr>\n",
       "</thead>\n",
       "<tbody>\n",
       "\t<tr><td>15.1</td><td>1</td><td> 9.1</td><td> 5.8</td><td> 5.6</td><td>0.510</td><td> 95.0</td><td> 33</td><td>30.1</td><td>0.108</td><td>4.1</td><td>3940</td><td>26.1</td><td>0.084602</td><td>26.2011</td><td> 791</td></tr>\n",
       "\t<tr><td>14.3</td><td>0</td><td>11.3</td><td>10.3</td><td> 9.5</td><td>0.583</td><td>101.2</td><td> 13</td><td>10.2</td><td>0.096</td><td>3.6</td><td>5570</td><td>19.4</td><td>0.029599</td><td>25.2999</td><td>1635</td></tr>\n",
       "\t<tr><td>14.2</td><td>1</td><td> 8.9</td><td> 4.5</td><td> 4.4</td><td>0.533</td><td> 96.9</td><td> 18</td><td>21.9</td><td>0.094</td><td>3.3</td><td>3180</td><td>25.0</td><td>0.083401</td><td>24.3006</td><td> 578</td></tr>\n",
       "\t<tr><td>13.6</td><td>0</td><td>12.1</td><td>14.9</td><td>14.1</td><td>0.577</td><td> 99.4</td><td>157</td><td> 8.0</td><td>0.102</td><td>3.9</td><td>6730</td><td>16.7</td><td>0.015801</td><td>29.9012</td><td>1969</td></tr>\n",
       "\t<tr><td>14.1</td><td>0</td><td>12.1</td><td>10.9</td><td>10.1</td><td>0.591</td><td> 98.5</td><td> 18</td><td> 3.0</td><td>0.091</td><td>2.0</td><td>5780</td><td>17.4</td><td>0.041399</td><td>21.2998</td><td>1234</td></tr>\n",
       "\t<tr><td>12.1</td><td>0</td><td>11.0</td><td>11.8</td><td>11.5</td><td>0.547</td><td> 96.4</td><td> 25</td><td> 4.4</td><td>0.084</td><td>2.9</td><td>6890</td><td>12.6</td><td>0.034201</td><td>20.9995</td><td> 682</td></tr>\n",
       "</tbody>\n",
       "</table>\n"
      ],
      "text/latex": [
       "A tibble: 6 × 16\n",
       "\\begin{tabular}{llllllllllllllll}\n",
       " M & So & Ed & Po1 & Po2 & LF & M.F & Pop & NW & U1 & U2 & Wealth & Ineq & Prob & Time & Crime\\\\\n",
       " <dbl> & <dbl> & <dbl> & <dbl> & <dbl> & <dbl> & <dbl> & <dbl> & <dbl> & <dbl> & <dbl> & <dbl> & <dbl> & <dbl> & <dbl> & <dbl>\\\\\n",
       "\\hline\n",
       "\t 15.1 & 1 &  9.1 &  5.8 &  5.6 & 0.510 &  95.0 &  33 & 30.1 & 0.108 & 4.1 & 3940 & 26.1 & 0.084602 & 26.2011 &  791\\\\\n",
       "\t 14.3 & 0 & 11.3 & 10.3 &  9.5 & 0.583 & 101.2 &  13 & 10.2 & 0.096 & 3.6 & 5570 & 19.4 & 0.029599 & 25.2999 & 1635\\\\\n",
       "\t 14.2 & 1 &  8.9 &  4.5 &  4.4 & 0.533 &  96.9 &  18 & 21.9 & 0.094 & 3.3 & 3180 & 25.0 & 0.083401 & 24.3006 &  578\\\\\n",
       "\t 13.6 & 0 & 12.1 & 14.9 & 14.1 & 0.577 &  99.4 & 157 &  8.0 & 0.102 & 3.9 & 6730 & 16.7 & 0.015801 & 29.9012 & 1969\\\\\n",
       "\t 14.1 & 0 & 12.1 & 10.9 & 10.1 & 0.591 &  98.5 &  18 &  3.0 & 0.091 & 2.0 & 5780 & 17.4 & 0.041399 & 21.2998 & 1234\\\\\n",
       "\t 12.1 & 0 & 11.0 & 11.8 & 11.5 & 0.547 &  96.4 &  25 &  4.4 & 0.084 & 2.9 & 6890 & 12.6 & 0.034201 & 20.9995 &  682\\\\\n",
       "\\end{tabular}\n"
      ],
      "text/markdown": [
       "\n",
       "A tibble: 6 × 16\n",
       "\n",
       "| M &lt;dbl&gt; | So &lt;dbl&gt; | Ed &lt;dbl&gt; | Po1 &lt;dbl&gt; | Po2 &lt;dbl&gt; | LF &lt;dbl&gt; | M.F &lt;dbl&gt; | Pop &lt;dbl&gt; | NW &lt;dbl&gt; | U1 &lt;dbl&gt; | U2 &lt;dbl&gt; | Wealth &lt;dbl&gt; | Ineq &lt;dbl&gt; | Prob &lt;dbl&gt; | Time &lt;dbl&gt; | Crime &lt;dbl&gt; |\n",
       "|---|---|---|---|---|---|---|---|---|---|---|---|---|---|---|---|\n",
       "| 15.1 | 1 |  9.1 |  5.8 |  5.6 | 0.510 |  95.0 |  33 | 30.1 | 0.108 | 4.1 | 3940 | 26.1 | 0.084602 | 26.2011 |  791 |\n",
       "| 14.3 | 0 | 11.3 | 10.3 |  9.5 | 0.583 | 101.2 |  13 | 10.2 | 0.096 | 3.6 | 5570 | 19.4 | 0.029599 | 25.2999 | 1635 |\n",
       "| 14.2 | 1 |  8.9 |  4.5 |  4.4 | 0.533 |  96.9 |  18 | 21.9 | 0.094 | 3.3 | 3180 | 25.0 | 0.083401 | 24.3006 |  578 |\n",
       "| 13.6 | 0 | 12.1 | 14.9 | 14.1 | 0.577 |  99.4 | 157 |  8.0 | 0.102 | 3.9 | 6730 | 16.7 | 0.015801 | 29.9012 | 1969 |\n",
       "| 14.1 | 0 | 12.1 | 10.9 | 10.1 | 0.591 |  98.5 |  18 |  3.0 | 0.091 | 2.0 | 5780 | 17.4 | 0.041399 | 21.2998 | 1234 |\n",
       "| 12.1 | 0 | 11.0 | 11.8 | 11.5 | 0.547 |  96.4 |  25 |  4.4 | 0.084 | 2.9 | 6890 | 12.6 | 0.034201 | 20.9995 |  682 |\n",
       "\n"
      ],
      "text/plain": [
       "  M    So Ed   Po1  Po2  LF    M.F   Pop NW   U1    U2  Wealth Ineq Prob    \n",
       "1 15.1 1   9.1  5.8  5.6 0.510  95.0  33 30.1 0.108 4.1 3940   26.1 0.084602\n",
       "2 14.3 0  11.3 10.3  9.5 0.583 101.2  13 10.2 0.096 3.6 5570   19.4 0.029599\n",
       "3 14.2 1   8.9  4.5  4.4 0.533  96.9  18 21.9 0.094 3.3 3180   25.0 0.083401\n",
       "4 13.6 0  12.1 14.9 14.1 0.577  99.4 157  8.0 0.102 3.9 6730   16.7 0.015801\n",
       "5 14.1 0  12.1 10.9 10.1 0.591  98.5  18  3.0 0.091 2.0 5780   17.4 0.041399\n",
       "6 12.1 0  11.0 11.8 11.5 0.547  96.4  25  4.4 0.084 2.9 6890   12.6 0.034201\n",
       "  Time    Crime\n",
       "1 26.2011  791 \n",
       "2 25.2999 1635 \n",
       "3 24.3006  578 \n",
       "4 29.9012 1969 \n",
       "5 21.2998 1234 \n",
       "6 20.9995  682 "
      ]
     },
     "metadata": {},
     "output_type": "display_data"
    }
   ],
   "source": [
    "#checking the data\n",
    "head(crime)"
   ]
  },
  {
   "cell_type": "markdown",
   "metadata": {},
   "source": [
    "### Building Regression Tree "
   ]
  },
  {
   "cell_type": "code",
   "execution_count": 12,
   "metadata": {},
   "outputs": [
    {
     "data": {
      "text/plain": [
       "\n",
       "Regression tree:\n",
       "tree(formula = Crime ~ ., data = crime)\n",
       "Variables actually used in tree construction:\n",
       "[1] \"Po1\" \"Pop\" \"LF\"  \"NW\" \n",
       "Number of terminal nodes:  7 \n",
       "Residual mean deviance:  47390 = 1896000 / 40 \n",
       "Distribution of residuals:\n",
       "    Min.  1st Qu.   Median     Mean  3rd Qu.     Max. \n",
       "-573.900  -98.300   -1.545    0.000  110.600  490.100 "
      ]
     },
     "metadata": {},
     "output_type": "display_data"
    }
   ],
   "source": [
    "set.seed(1)\n",
    "\n",
    "#regression tree using all variables\n",
    "crime.tree<-tree(Crime~.,crime)\n",
    "summary(crime.tree)"
   ]
  },
  {
   "cell_type": "markdown",
   "metadata": {},
   "source": [
    "Note: Normality of the residuals is an assumption of running a linear model. So, if residuals are normal, it means that assumption is valid and model inference (confidence intervals, model predictions) should also be valid. \n",
    "The mean=0 indicates our model is valid."
   ]
  },
  {
   "cell_type": "markdown",
   "metadata": {},
   "source": [
    "It seems that the most significant predictors are:\n",
    "\n",
    "    -Po1:per capita expenditure on police protection in 1960\n",
    "    -Pop: state population in 1960 in hundred thousands\n",
    "    -LF:labour force participation rate of civilian urban males in the age-group 14-24\n",
    "    -NW: percentage of nonwhites in the population\n",
    "\n"
   ]
  },
  {
   "cell_type": "markdown",
   "metadata": {},
   "source": [
    "We can also plot crime rate versus Po1. As we can observe, there is a strong correlation between these two:"
   ]
  },
  {
   "cell_type": "code",
   "execution_count": 13,
   "metadata": {},
   "outputs": [
    {
     "data": {
      "image/png": "[encoded data removed]",
      "text/plain": [
       "plot without title"
      ]
     },
     "metadata": {
      "image/png": {
       "height": 420,
       "width": 420
      },
      "text/plain": {
       "height": 420,
       "width": 420
      }
     },
     "output_type": "display_data"
    }
   ],
   "source": [
    "ggplot(crime,aes(x=Po1,y=Crime))+\n",
    "geom_point()"
   ]
  },
  {
   "cell_type": "markdown",
   "metadata": {},
   "source": [
    "We can look at the tree and see how the data set is divided:"
   ]
  },
  {
   "cell_type": "code",
   "execution_count": 15,
   "metadata": {},
   "outputs": [
    {
     "data": {
      "image/png": "[encoded data removed]",
      "text/plain": [
       "plot without title"
      ]
     },
     "metadata": {
      "image/png": {
       "height": 420,
       "width": 420
      },
      "text/plain": {
       "height": 420,
       "width": 420
      }
     },
     "output_type": "display_data"
    }
   ],
   "source": [
    "plot(crime.tree)\n",
    "text(crime.tree,pretty=0)"
   ]
  },
  {
   "cell_type": "code",
   "execution_count": 247,
   "metadata": {},
   "outputs": [
    {
     "name": "stdout",
     "output_type": "stream",
     "text": [
      "node), split, n, deviance, yval\n",
      "      * denotes terminal node\n",
      "\n",
      " 1) root 47 6881000  905.1  \n",
      "   2) Po1 < 7.65 23  779200  669.6  \n",
      "     4) Pop < 22.5 12  243800  550.5  \n",
      "       8) LF < 0.5675 7   48520  466.9 *\n",
      "       9) LF > 0.5675 5   77760  667.6 *\n",
      "     5) Pop > 22.5 11  179500  799.5 *\n",
      "   3) Po1 > 7.65 24 3604000 1131.0  \n",
      "     6) NW < 7.65 10  557600  886.9  \n",
      "      12) Pop < 21.5 5  146400 1049.0 *\n",
      "      13) Pop > 21.5 5  147800  724.6 *\n",
      "     7) NW > 7.65 14 2027000 1305.0  \n",
      "      14) Po1 < 9.65 6  170800 1041.0 *\n",
      "      15) Po1 > 9.65 8 1125000 1503.0 *\n"
     ]
    }
   ],
   "source": [
    "print(crime.tree)"
   ]
  },
  {
   "cell_type": "code",
   "execution_count": 222,
   "metadata": {},
   "outputs": [
    {
     "data": {
      "text/html": [
       "<style>\n",
       ".list-inline {list-style: none; margin:0; padding: 0}\n",
       ".list-inline>li {display: inline-block}\n",
       ".list-inline>li:not(:last-child)::after {content: \"\\00b7\"; padding: 0 .5ex}\n",
       "</style>\n",
       "<ol class=list-inline><li>'frame'</li><li>'where'</li><li>'terms'</li><li>'call'</li><li>'y'</li><li>'weights'</li></ol>\n"
      ],
      "text/latex": [
       "\\begin{enumerate*}\n",
       "\\item 'frame'\n",
       "\\item 'where'\n",
       "\\item 'terms'\n",
       "\\item 'call'\n",
       "\\item 'y'\n",
       "\\item 'weights'\n",
       "\\end{enumerate*}\n"
      ],
      "text/markdown": [
       "1. 'frame'\n",
       "2. 'where'\n",
       "3. 'terms'\n",
       "4. 'call'\n",
       "5. 'y'\n",
       "6. 'weights'\n",
       "\n",
       "\n"
      ],
      "text/plain": [
       "[1] \"frame\"   \"where\"   \"terms\"   \"call\"    \"y\"       \"weights\""
      ]
     },
     "metadata": {},
     "output_type": "display_data"
    }
   ],
   "source": [
    "names(crime.tree)"
   ]
  },
  {
   "cell_type": "code",
   "execution_count": 223,
   "metadata": {},
   "outputs": [
    {
     "data": {
      "text/html": [
       "<table>\n",
       "<caption>A data.frame: 11 × 5</caption>\n",
       "<thead>\n",
       "\t<tr><th></th><th scope=col>var</th><th scope=col>n</th><th scope=col>dev</th><th scope=col>yval</th><th scope=col>splits</th></tr>\n",
       "\t<tr><th></th><th scope=col>&lt;fct&gt;</th><th scope=col>&lt;dbl&gt;</th><th scope=col>&lt;dbl&gt;</th><th scope=col>&lt;dbl&gt;</th><th scope=col>&lt;chr[,2]&gt;</th></tr>\n",
       "</thead>\n",
       "<tbody>\n",
       "\t<tr><th scope=row>1</th><td><span style=white-space:pre-wrap>Prob  </span></td><td>35</td><td>3333946.97</td><td> 877.1714</td><td>&lt;0.042399, &gt;0.042399</td></tr>\n",
       "\t<tr><th scope=row>2</th><td><span style=white-space:pre-wrap>NW    </span></td><td>16</td><td>1883259.94</td><td>1058.4375</td><td><span style=white-space:pre-wrap>&lt;7.75    , &gt;7.75    </span></td></tr>\n",
       "\t<tr><th scope=row>4</th><td><span style=white-space:pre-wrap>M.F   </span></td><td>10</td><td> 284254.90</td><td> 871.1000</td><td><span style=white-space:pre-wrap>&lt;98.45   , &gt;98.45   </span></td></tr>\n",
       "\t<tr><th scope=row>8</th><td>&lt;leaf&gt;</td><td> 5</td><td><span style=white-space:pre-wrap>  22802.80</span></td><td> 735.2000</td><td><span style=white-space:pre-wrap>         ,          </span></td></tr>\n",
       "\t<tr><th scope=row>9</th><td>&lt;leaf&gt;</td><td> 5</td><td><span style=white-space:pre-wrap>  76764.00</span></td><td>1007.0000</td><td><span style=white-space:pre-wrap>         ,          </span></td></tr>\n",
       "\t<tr><th scope=row>5</th><td>&lt;leaf&gt;</td><td> 6</td><td> 663129.33</td><td>1370.6667</td><td><span style=white-space:pre-wrap>         ,          </span></td></tr>\n",
       "\t<tr><th scope=row>3</th><td><span style=white-space:pre-wrap>NW    </span></td><td>19</td><td> 482258.74</td><td> 724.5263</td><td><span style=white-space:pre-wrap>&lt;6.05    , &gt;6.05    </span></td></tr>\n",
       "\t<tr><th scope=row>6</th><td>&lt;leaf&gt;</td><td> 8</td><td> 117042.00</td><td> 601.5000</td><td><span style=white-space:pre-wrap>         ,          </span></td></tr>\n",
       "\t<tr><th scope=row>7</th><td><span style=white-space:pre-wrap>Po1   </span></td><td>11</td><td> 156072.00</td><td> 814.0000</td><td><span style=white-space:pre-wrap>&lt;5.95    , &gt;5.95    </span></td></tr>\n",
       "\t<tr><th scope=row>14</th><td>&lt;leaf&gt;</td><td> 5</td><td><span style=white-space:pre-wrap>  42418.80</span></td><td> 738.8000</td><td><span style=white-space:pre-wrap>         ,          </span></td></tr>\n",
       "\t<tr><th scope=row>15</th><td>&lt;leaf&gt;</td><td> 6</td><td><span style=white-space:pre-wrap>  61815.33</span></td><td> 876.6667</td><td><span style=white-space:pre-wrap>         ,          </span></td></tr>\n",
       "</tbody>\n",
       "</table>\n"
      ],
      "text/latex": [
       "A data.frame: 11 × 5\n",
       "\\begin{tabular}{r|lllll}\n",
       "  & var & n & dev & yval & splits\\\\\n",
       "  & <fct> & <dbl> & <dbl> & <dbl> & <chr{[},2{]}>\\\\\n",
       "\\hline\n",
       "\t1 & Prob   & 35 & 3333946.97 &  877.1714 & <0.042399, >0.042399\\\\\n",
       "\t2 & NW     & 16 & 1883259.94 & 1058.4375 & <7.75    , >7.75    \\\\\n",
       "\t4 & M.F    & 10 &  284254.90 &  871.1000 & <98.45   , >98.45   \\\\\n",
       "\t8 & <leaf> &  5 &   22802.80 &  735.2000 &          ,          \\\\\n",
       "\t9 & <leaf> &  5 &   76764.00 & 1007.0000 &          ,          \\\\\n",
       "\t5 & <leaf> &  6 &  663129.33 & 1370.6667 &          ,          \\\\\n",
       "\t3 & NW     & 19 &  482258.74 &  724.5263 & <6.05    , >6.05    \\\\\n",
       "\t6 & <leaf> &  8 &  117042.00 &  601.5000 &          ,          \\\\\n",
       "\t7 & Po1    & 11 &  156072.00 &  814.0000 & <5.95    , >5.95    \\\\\n",
       "\t14 & <leaf> &  5 &   42418.80 &  738.8000 &          ,          \\\\\n",
       "\t15 & <leaf> &  6 &   61815.33 &  876.6667 &          ,          \\\\\n",
       "\\end{tabular}\n"
      ],
      "text/markdown": [
       "\n",
       "A data.frame: 11 × 5\n",
       "\n",
       "| <!--/--> | var &lt;fct&gt; | n &lt;dbl&gt; | dev &lt;dbl&gt; | yval &lt;dbl&gt; | splits &lt;chr[,2]&gt; |\n",
       "|---|---|---|---|---|---|\n",
       "| 1 | Prob   | 35 | 3333946.97 |  877.1714 | &lt;0.042399, &gt;0.042399 |\n",
       "| 2 | NW     | 16 | 1883259.94 | 1058.4375 | &lt;7.75    , &gt;7.75     |\n",
       "| 4 | M.F    | 10 |  284254.90 |  871.1000 | &lt;98.45   , &gt;98.45    |\n",
       "| 8 | &lt;leaf&gt; |  5 |   22802.80 |  735.2000 |          ,           |\n",
       "| 9 | &lt;leaf&gt; |  5 |   76764.00 | 1007.0000 |          ,           |\n",
       "| 5 | &lt;leaf&gt; |  6 |  663129.33 | 1370.6667 |          ,           |\n",
       "| 3 | NW     | 19 |  482258.74 |  724.5263 | &lt;6.05    , &gt;6.05     |\n",
       "| 6 | &lt;leaf&gt; |  8 |  117042.00 |  601.5000 |          ,           |\n",
       "| 7 | Po1    | 11 |  156072.00 |  814.0000 | &lt;5.95    , &gt;5.95     |\n",
       "| 14 | &lt;leaf&gt; |  5 |   42418.80 |  738.8000 |          ,           |\n",
       "| 15 | &lt;leaf&gt; |  6 |   61815.33 |  876.6667 |          ,           |\n",
       "\n"
      ],
      "text/plain": [
       "   var    n  dev        yval      splits              \n",
       "1  Prob   35 3333946.97  877.1714 <0.042399, >0.042399\n",
       "2  NW     16 1883259.94 1058.4375 <7.75    , >7.75    \n",
       "4  M.F    10  284254.90  871.1000 <98.45   , >98.45   \n",
       "8  <leaf>  5   22802.80  735.2000          ,          \n",
       "9  <leaf>  5   76764.00 1007.0000          ,          \n",
       "5  <leaf>  6  663129.33 1370.6667          ,          \n",
       "3  NW     19  482258.74  724.5263 <6.05    , >6.05    \n",
       "6  <leaf>  8  117042.00  601.5000          ,          \n",
       "7  Po1    11  156072.00  814.0000 <5.95    , >5.95    \n",
       "14 <leaf>  5   42418.80  738.8000          ,          \n",
       "15 <leaf>  6   61815.33  876.6667          ,          "
      ]
     },
     "metadata": {},
     "output_type": "display_data"
    }
   ],
   "source": [
    "crime.tree$frame"
   ]
  },
  {
   "cell_type": "markdown",
   "metadata": {},
   "source": [
    "### Regression Tree Evaluation , calculating R-Squared"
   ]
  },
  {
   "cell_type": "code",
   "execution_count": 16,
   "metadata": {},
   "outputs": [],
   "source": [
    "#prediction on whole data set\n",
    "crime.pred<-predict(crime.tree)"
   ]
  },
  {
   "cell_type": "code",
   "execution_count": 268,
   "metadata": {},
   "outputs": [
    {
     "data": {
      "image/png": "[encoded data removed]",
      "text/plain": [
       "plot without title"
      ]
     },
     "metadata": {
      "image/png": {
       "height": 420,
       "width": 420
      },
      "text/plain": {
       "height": 420,
       "width": 420
      }
     },
     "output_type": "display_data"
    }
   ],
   "source": [
    "plot(crime$Crime,crime.pred)"
   ]
  },
  {
   "cell_type": "code",
   "execution_count": 17,
   "metadata": {},
   "outputs": [
    {
     "data": {
      "text/html": [
       "1895721.65941558"
      ],
      "text/latex": [
       "1895721.65941558"
      ],
      "text/markdown": [
       "1895721.65941558"
      ],
      "text/plain": [
       "[1] 1895722"
      ]
     },
     "metadata": {},
     "output_type": "display_data"
    }
   ],
   "source": [
    "#sum of squared errors\n",
    "SSE<-sum((crime.pred-crime$Crime)^2)\n",
    "SSE"
   ]
  },
  {
   "cell_type": "code",
   "execution_count": 18,
   "metadata": {},
   "outputs": [
    {
     "data": {
      "text/html": [
       "6880927.65957447"
      ],
      "text/latex": [
       "6880927.65957447"
      ],
      "text/markdown": [
       "6880927.65957447"
      ],
      "text/plain": [
       "[1] 6880928"
      ]
     },
     "metadata": {},
     "output_type": "display_data"
    }
   ],
   "source": [
    "#sum of squared deviations of y around its mean\n",
    "SST<-sum((crime$Crime-mean(crime$Crime))^2)\n",
    "SST"
   ]
  },
  {
   "cell_type": "code",
   "execution_count": 19,
   "metadata": {},
   "outputs": [
    {
     "data": {
      "text/html": [
       "0.724496208475934"
      ],
      "text/latex": [
       "0.724496208475934"
      ],
      "text/markdown": [
       "0.724496208475934"
      ],
      "text/plain": [
       "[1] 0.7244962"
      ]
     },
     "metadata": {},
     "output_type": "display_data"
    }
   ],
   "source": [
    "#R-squared value of the model\n",
    "R.sq<-1-SSE/SST\n",
    "R.sq"
   ]
  },
  {
   "cell_type": "markdown",
   "metadata": {},
   "source": [
    "R-squared value shows a good performance for regression tree model. However, this is not the true performance of model and we know the model is overfitted due to having too many variables.\n",
    "\n",
    "We can use cross validation to see if pruning the tree helps improve the model."
   ]
  },
  {
   "cell_type": "markdown",
   "metadata": {},
   "source": [
    "### Cross-validation for pruning the tree"
   ]
  },
  {
   "cell_type": "markdown",
   "metadata": {},
   "source": [
    "We look at deviance of trees with different number of leaves, using cross-validation to see if pruning helps:"
   ]
  },
  {
   "cell_type": "code",
   "execution_count": 20,
   "metadata": {},
   "outputs": [],
   "source": [
    "set.seed(1)\n",
    "cv.crime <- cv.tree(crime.tree)"
   ]
  },
  {
   "cell_type": "code",
   "execution_count": 21,
   "metadata": {},
   "outputs": [
    {
     "data": {
      "image/png": "[encoded data removed]",
      "text/plain": [
       "plot without title"
      ]
     },
     "metadata": {
      "image/png": {
       "height": 420,
       "width": 420
      },
      "text/plain": {
       "height": 420,
       "width": 420
      }
     },
     "output_type": "display_data"
    }
   ],
   "source": [
    "plot(cv.crime$size, cv.crime$dev,type=\"b\",\n",
    "    xlab=\"Tree Size\",\n",
    "    ylab=\"Deviance\")"
   ]
  },
  {
   "cell_type": "code",
   "execution_count": 22,
   "metadata": {},
   "outputs": [
    {
     "data": {
      "text/html": [
       "7767232.25146786"
      ],
      "text/latex": [
       "7767232.25146786"
      ],
      "text/markdown": [
       "7767232.25146786"
      ],
      "text/plain": [
       "[1] 7767232"
      ]
     },
     "metadata": {},
     "output_type": "display_data"
    }
   ],
   "source": [
    "min(cv.crime$dev)"
   ]
  },
  {
   "cell_type": "markdown",
   "metadata": {},
   "source": [
    "Deviance is very similar to SSE. We notice that deviance is larger than both errors."
   ]
  },
  {
   "cell_type": "markdown",
   "metadata": {},
   "source": [
    "It seems that the model has the lowest error with 2 leaves. So, we can prune and and see how it improves the performance:"
   ]
  },
  {
   "cell_type": "code",
   "execution_count": 23,
   "metadata": {},
   "outputs": [],
   "source": [
    "crime.pruned<-prune.tree(crime.tree, best = 2)"
   ]
  },
  {
   "cell_type": "code",
   "execution_count": 24,
   "metadata": {},
   "outputs": [
    {
     "data": {
      "text/plain": [
       "\n",
       "Regression tree:\n",
       "snip.tree(tree = crime.tree, nodes = 2:3)\n",
       "Variables actually used in tree construction:\n",
       "[1] \"Po1\"\n",
       "Number of terminal nodes:  2 \n",
       "Residual mean deviance:  97410 = 4383000 / 45 \n",
       "Distribution of residuals:\n",
       "    Min.  1st Qu.   Median     Mean  3rd Qu.     Max. \n",
       "-622.800 -193.200   -5.609    0.000  147.300  862.200 "
      ]
     },
     "metadata": {},
     "output_type": "display_data"
    }
   ],
   "source": [
    "summary(crime.pruned)"
   ]
  },
  {
   "cell_type": "code",
   "execution_count": 25,
   "metadata": {},
   "outputs": [
    {
     "data": {
      "image/png": "[encoded data removed]",
      "text/plain": [
       "plot without title"
      ]
     },
     "metadata": {
      "image/png": {
       "height": 420,
       "width": 420
      },
      "text/plain": {
       "height": 420,
       "width": 420
      }
     },
     "output_type": "display_data"
    }
   ],
   "source": [
    "plot(crime.pruned)\n",
    "text(crime.pruned,pretty=0)"
   ]
  },
  {
   "cell_type": "code",
   "execution_count": 26,
   "metadata": {},
   "outputs": [],
   "source": [
    "pruned.pred<-predict(crime.pruned)"
   ]
  },
  {
   "cell_type": "code",
   "execution_count": 27,
   "metadata": {},
   "outputs": [
    {
     "data": {
      "text/html": [
       "4383405.97826087"
      ],
      "text/latex": [
       "4383405.97826087"
      ],
      "text/markdown": [
       "4383405.97826087"
      ],
      "text/plain": [
       "[1] 4383406"
      ]
     },
     "metadata": {},
     "output_type": "display_data"
    }
   ],
   "source": [
    "SSE.pruned<-sum((pruned.pred-crime$Crime)^2)\n",
    "SSE.pruned"
   ]
  },
  {
   "cell_type": "code",
   "execution_count": 28,
   "metadata": {},
   "outputs": [
    {
     "data": {
      "text/html": [
       "6880927.65957447"
      ],
      "text/latex": [
       "6880927.65957447"
      ],
      "text/markdown": [
       "6880927.65957447"
      ],
      "text/plain": [
       "[1] 6880928"
      ]
     },
     "metadata": {},
     "output_type": "display_data"
    }
   ],
   "source": [
    "SST.pruned<-sum((crime$Crime-mean(crime$Crime))^2)\n",
    "SST.pruned"
   ]
  },
  {
   "cell_type": "code",
   "execution_count": 29,
   "metadata": {},
   "outputs": [
    {
     "data": {
      "text/html": [
       "0.362962932452636"
      ],
      "text/latex": [
       "0.362962932452636"
      ],
      "text/markdown": [
       "0.362962932452636"
      ],
      "text/plain": [
       "[1] 0.3629629"
      ]
     },
     "metadata": {},
     "output_type": "display_data"
    }
   ],
   "source": [
    "#R-squared\n",
    "1-SSE.pruned/SST.pruned"
   ]
  },
  {
   "cell_type": "markdown",
   "metadata": {},
   "source": [
    "We can't really use this model to predict due to being too simple and low R-squared value.\n",
    "However, we can use the tree to divide our data set into 2 subsets:\n",
    "\n",
    "    - Subset with Po1<7.65 \n",
    "    - Subset with Po1>7.65\n",
    "Then we can build a linear regression model for each subset. "
   ]
  },
  {
   "cell_type": "markdown",
   "metadata": {},
   "source": [
    "### Linear regression using subsets of regression tree"
   ]
  },
  {
   "cell_type": "code",
   "execution_count": 35,
   "metadata": {},
   "outputs": [],
   "source": [
    "subset1<-crime[crime$Po1<=7.65,]\n",
    "subset2<-crime[crime$Po1>7.65,]"
   ]
  },
  {
   "cell_type": "code",
   "execution_count": 37,
   "metadata": {},
   "outputs": [],
   "source": [
    "lm_1<-train(Crime~.,data=subset1,\n",
    "           method=\"lm\",\n",
    "           trControl=trainControl(method=\"cv\",number=5)\n",
    "           )"
   ]
  },
  {
   "cell_type": "code",
   "execution_count": 40,
   "metadata": {},
   "outputs": [
    {
     "data": {
      "text/plain": [
       "\n",
       "Call:\n",
       "lm(formula = .outcome ~ ., data = dat)\n",
       "\n",
       "Residuals:\n",
       "     Min       1Q   Median       3Q      Max \n",
       "-109.147  -52.803   -6.495   53.784  127.196 \n",
       "\n",
       "Coefficients:\n",
       "              Estimate Std. Error t value Pr(>|t|)  \n",
       "(Intercept)   -48.5477  2044.9766  -0.024   0.9817  \n",
       "M              45.8622    58.6256   0.782   0.4597  \n",
       "So            380.4815   223.1072   1.705   0.1319  \n",
       "Ed            187.9074    89.5799   2.098   0.0741 .\n",
       "Po1            -3.5138   157.7513  -0.022   0.9829  \n",
       "Po2            44.6382   148.5528   0.300   0.7725  \n",
       "LF           1059.3652  1187.9722   0.892   0.4021  \n",
       "M.F           -22.5521    21.4677  -1.051   0.3284  \n",
       "Pop            10.6413     5.0929   2.089   0.0750 .\n",
       "NW              0.1010     7.9019   0.013   0.9902  \n",
       "U1           4878.2802  4874.8165   1.001   0.3503  \n",
       "U2             -5.5126   133.5094  -0.041   0.9682  \n",
       "Wealth         -0.1022     0.1752  -0.583   0.5779  \n",
       "Ineq            4.7779    35.5290   0.134   0.8968  \n",
       "Prob        -7317.4407  3280.7511  -2.230   0.0609 .\n",
       "Time          -20.0603     7.7287  -2.596   0.0357 *\n",
       "---\n",
       "Signif. codes:  0 '***' 0.001 '**' 0.01 '*' 0.05 '.' 0.1 ' ' 1\n",
       "\n",
       "Residual standard error: 115.9 on 7 degrees of freedom\n",
       "Multiple R-squared:  0.8794,\tAdjusted R-squared:  0.6209 \n",
       "F-statistic: 3.403 on 15 and 7 DF,  p-value: 0.0541\n"
      ]
     },
     "metadata": {},
     "output_type": "display_data"
    }
   ],
   "source": [
    "summary(lm_1)"
   ]
  },
  {
   "cell_type": "code",
   "execution_count": 38,
   "metadata": {},
   "outputs": [],
   "source": [
    "lm_2<-train(Crime~.,data=subset2,\n",
    "           method=\"lm\",\n",
    "           trControl=trainControl(method=\"cv\",number=5)\n",
    "           )"
   ]
  },
  {
   "cell_type": "code",
   "execution_count": 41,
   "metadata": {},
   "outputs": [
    {
     "data": {
      "text/plain": [
       "\n",
       "Call:\n",
       "lm(formula = .outcome ~ ., data = dat)\n",
       "\n",
       "Residuals:\n",
       "     Min       1Q   Median       3Q      Max \n",
       "-206.805 -120.407   -9.489  103.985  248.226 \n",
       "\n",
       "Coefficients:\n",
       "              Estimate Std. Error t value Pr(>|t|)   \n",
       "(Intercept) -8634.1701  2366.4043  -3.649  0.00651 **\n",
       "M               5.6032    96.1623   0.058  0.95496   \n",
       "So            179.6267   409.5210   0.439  0.67254   \n",
       "Ed            263.0845   146.4229   1.797  0.11010   \n",
       "Po1           235.2349   166.1289   1.416  0.19452   \n",
       "Po2          -140.7023   193.8759  -0.726  0.48869   \n",
       "LF           1442.4214  4832.4463   0.298  0.77294   \n",
       "M.F            -1.2379    54.8160  -0.023  0.98254   \n",
       "Pop            -3.7686     2.8833  -1.307  0.22751   \n",
       "NW             -0.5396    24.5039  -0.022  0.98297   \n",
       "U1          -3779.9843 10923.3434  -0.346  0.73823   \n",
       "U2            163.7106   150.5361   1.088  0.30848   \n",
       "Wealth          0.3017     0.2051   1.471  0.17946   \n",
       "Ineq          155.3754    65.5077   2.372  0.04511 * \n",
       "Prob        -3624.0711  4381.4724  -0.827  0.43214   \n",
       "Time           21.9335    14.6754   1.495  0.17338   \n",
       "---\n",
       "Signif. codes:  0 '***' 0.001 '**' 0.01 '*' 0.05 '.' 0.1 ' ' 1\n",
       "\n",
       "Residual standard error: 229.9 on 8 degrees of freedom\n",
       "Multiple R-squared:  0.8827,\tAdjusted R-squared:  0.6626 \n",
       "F-statistic: 4.012 on 15 and 8 DF,  p-value: 0.02669\n"
      ]
     },
     "metadata": {},
     "output_type": "display_data"
    }
   ],
   "source": [
    "summary(lm_2)"
   ]
  },
  {
   "cell_type": "markdown",
   "metadata": {},
   "source": [
    "By looking at these 2 models, we can observe R-squared values and see each model has a decent performance.\n",
    "Also, it is clear that coefficients are different in each subset and significant variables are not the same in these 2 models."
   ]
  },
  {
   "cell_type": "markdown",
   "metadata": {},
   "source": [
    "**Next we will use random forest method to see if we can achieve a better model.**"
   ]
  },
  {
   "cell_type": "markdown",
   "metadata": {},
   "source": [
    "### Random Forest Regression"
   ]
  },
  {
   "cell_type": "code",
   "execution_count": 43,
   "metadata": {},
   "outputs": [],
   "source": [
    "#Number of variables randomly sampled as candidates at each split\n",
    "numpred<-4"
   ]
  },
  {
   "cell_type": "code",
   "execution_count": 44,
   "metadata": {},
   "outputs": [],
   "source": [
    "set.seed(1)\n",
    "\n",
    "#building random forest model\n",
    "crime.rf<-randomForest(Crime~.,data=crime,\n",
    "                       mtry=numpred,\n",
    "                       importance=TRUE)"
   ]
  },
  {
   "cell_type": "code",
   "execution_count": 46,
   "metadata": {},
   "outputs": [
    {
     "data": {
      "text/plain": [
       "                Length Class  Mode     \n",
       "call              5    -none- call     \n",
       "type              1    -none- character\n",
       "predicted        47    -none- numeric  \n",
       "mse             500    -none- numeric  \n",
       "rsq             500    -none- numeric  \n",
       "oob.times        47    -none- numeric  \n",
       "importance       30    -none- numeric  \n",
       "importanceSD     15    -none- numeric  \n",
       "localImportance   0    -none- NULL     \n",
       "proximity         0    -none- NULL     \n",
       "ntree             1    -none- numeric  \n",
       "mtry              1    -none- numeric  \n",
       "forest           11    -none- list     \n",
       "coefs             0    -none- NULL     \n",
       "y                47    -none- numeric  \n",
       "test              0    -none- NULL     \n",
       "inbag             0    -none- NULL     \n",
       "terms             3    terms  call     "
      ]
     },
     "metadata": {},
     "output_type": "display_data"
    }
   ],
   "source": [
    "summary(crime.rf)\n"
   ]
  },
  {
   "cell_type": "code",
   "execution_count": 319,
   "metadata": {},
   "outputs": [
    {
     "data": {
      "text/html": [
       "<style>\n",
       ".list-inline {list-style: none; margin:0; padding: 0}\n",
       ".list-inline>li {display: inline-block}\n",
       ".list-inline>li:not(:last-child)::after {content: \"\\00b7\"; padding: 0 .5ex}\n",
       "</style>\n",
       "<ol class=list-inline><li>'call'</li><li>'type'</li><li>'predicted'</li><li>'mse'</li><li>'rsq'</li><li>'oob.times'</li><li>'importance'</li><li>'importanceSD'</li><li>'localImportance'</li><li>'proximity'</li><li>'ntree'</li><li>'mtry'</li><li>'forest'</li><li>'coefs'</li><li>'y'</li><li>'test'</li><li>'inbag'</li><li>'terms'</li></ol>\n"
      ],
      "text/latex": [
       "\\begin{enumerate*}\n",
       "\\item 'call'\n",
       "\\item 'type'\n",
       "\\item 'predicted'\n",
       "\\item 'mse'\n",
       "\\item 'rsq'\n",
       "\\item 'oob.times'\n",
       "\\item 'importance'\n",
       "\\item 'importanceSD'\n",
       "\\item 'localImportance'\n",
       "\\item 'proximity'\n",
       "\\item 'ntree'\n",
       "\\item 'mtry'\n",
       "\\item 'forest'\n",
       "\\item 'coefs'\n",
       "\\item 'y'\n",
       "\\item 'test'\n",
       "\\item 'inbag'\n",
       "\\item 'terms'\n",
       "\\end{enumerate*}\n"
      ],
      "text/markdown": [
       "1. 'call'\n",
       "2. 'type'\n",
       "3. 'predicted'\n",
       "4. 'mse'\n",
       "5. 'rsq'\n",
       "6. 'oob.times'\n",
       "7. 'importance'\n",
       "8. 'importanceSD'\n",
       "9. 'localImportance'\n",
       "10. 'proximity'\n",
       "11. 'ntree'\n",
       "12. 'mtry'\n",
       "13. 'forest'\n",
       "14. 'coefs'\n",
       "15. 'y'\n",
       "16. 'test'\n",
       "17. 'inbag'\n",
       "18. 'terms'\n",
       "\n",
       "\n"
      ],
      "text/plain": [
       " [1] \"call\"            \"type\"            \"predicted\"       \"mse\"            \n",
       " [5] \"rsq\"             \"oob.times\"       \"importance\"      \"importanceSD\"   \n",
       " [9] \"localImportance\" \"proximity\"       \"ntree\"           \"mtry\"           \n",
       "[13] \"forest\"          \"coefs\"           \"y\"               \"test\"           \n",
       "[17] \"inbag\"           \"terms\"          "
      ]
     },
     "metadata": {},
     "output_type": "display_data"
    }
   ],
   "source": [
    "names(crime.rf)"
   ]
  },
  {
   "cell_type": "code",
   "execution_count": 322,
   "metadata": {},
   "outputs": [
    {
     "data": {
      "image/png": "[encoded data removed]",
      "text/plain": [
       "Plot with title \"crime.rf\""
      ]
     },
     "metadata": {
      "image/png": {
       "height": 420,
       "width": 420
      },
      "text/plain": {
       "height": 420,
       "width": 420
      }
     },
     "output_type": "display_data"
    }
   ],
   "source": [
    "plot(crime.rf)"
   ]
  },
  {
   "cell_type": "markdown",
   "metadata": {},
   "source": [
    "The plot shows after 200 trees, the error stays almost flat."
   ]
  },
  {
   "cell_type": "code",
   "execution_count": 61,
   "metadata": {},
   "outputs": [
    {
     "data": {
      "text/html": [
       "<table>\n",
       "<caption>A matrix: 15 × 2 of type dbl</caption>\n",
       "<thead>\n",
       "\t<tr><th></th><th scope=col>%IncMSE</th><th scope=col>IncNodePurity</th></tr>\n",
       "</thead>\n",
       "<tbody>\n",
       "\t<tr><th scope=row>M</th><td> 1.5433378</td><td> 205277.24</td></tr>\n",
       "\t<tr><th scope=row>So</th><td> 2.2457511</td><td>  21269.39</td></tr>\n",
       "\t<tr><th scope=row>Ed</th><td> 3.7399142</td><td> 264814.17</td></tr>\n",
       "\t<tr><th scope=row>Po1</th><td>11.9531848</td><td>1084645.06</td></tr>\n",
       "\t<tr><th scope=row>Po2</th><td>11.0005698</td><td>1057598.29</td></tr>\n",
       "\t<tr><th scope=row>LF</th><td> 3.2283145</td><td> 304235.71</td></tr>\n",
       "\t<tr><th scope=row>M.F</th><td> 1.5315964</td><td> 235479.84</td></tr>\n",
       "\t<tr><th scope=row>Pop</th><td>-0.3558573</td><td> 325124.91</td></tr>\n",
       "\t<tr><th scope=row>NW</th><td> 8.7914688</td><td> 495462.04</td></tr>\n",
       "\t<tr><th scope=row>U1</th><td>-0.3078521</td><td> 155244.37</td></tr>\n",
       "\t<tr><th scope=row>U2</th><td> 2.7747464</td><td> 187534.18</td></tr>\n",
       "\t<tr><th scope=row>Wealth</th><td> 4.3542465</td><td> 770430.48</td></tr>\n",
       "\t<tr><th scope=row>Ineq</th><td> 2.1762932</td><td> 206096.64</td></tr>\n",
       "\t<tr><th scope=row>Prob</th><td> 8.8829484</td><td> 717873.42</td></tr>\n",
       "\t<tr><th scope=row>Time</th><td> 2.1279085</td><td> 249099.59</td></tr>\n",
       "</tbody>\n",
       "</table>\n"
      ],
      "text/latex": [
       "A matrix: 15 × 2 of type dbl\n",
       "\\begin{tabular}{r|ll}\n",
       "  & \\%IncMSE & IncNodePurity\\\\\n",
       "\\hline\n",
       "\tM &  1.5433378 &  205277.24\\\\\n",
       "\tSo &  2.2457511 &   21269.39\\\\\n",
       "\tEd &  3.7399142 &  264814.17\\\\\n",
       "\tPo1 & 11.9531848 & 1084645.06\\\\\n",
       "\tPo2 & 11.0005698 & 1057598.29\\\\\n",
       "\tLF &  3.2283145 &  304235.71\\\\\n",
       "\tM.F &  1.5315964 &  235479.84\\\\\n",
       "\tPop & -0.3558573 &  325124.91\\\\\n",
       "\tNW &  8.7914688 &  495462.04\\\\\n",
       "\tU1 & -0.3078521 &  155244.37\\\\\n",
       "\tU2 &  2.7747464 &  187534.18\\\\\n",
       "\tWealth &  4.3542465 &  770430.48\\\\\n",
       "\tIneq &  2.1762932 &  206096.64\\\\\n",
       "\tProb &  8.8829484 &  717873.42\\\\\n",
       "\tTime &  2.1279085 &  249099.59\\\\\n",
       "\\end{tabular}\n"
      ],
      "text/markdown": [
       "\n",
       "A matrix: 15 × 2 of type dbl\n",
       "\n",
       "| <!--/--> | %IncMSE | IncNodePurity |\n",
       "|---|---|---|\n",
       "| M |  1.5433378 |  205277.24 |\n",
       "| So |  2.2457511 |   21269.39 |\n",
       "| Ed |  3.7399142 |  264814.17 |\n",
       "| Po1 | 11.9531848 | 1084645.06 |\n",
       "| Po2 | 11.0005698 | 1057598.29 |\n",
       "| LF |  3.2283145 |  304235.71 |\n",
       "| M.F |  1.5315964 |  235479.84 |\n",
       "| Pop | -0.3558573 |  325124.91 |\n",
       "| NW |  8.7914688 |  495462.04 |\n",
       "| U1 | -0.3078521 |  155244.37 |\n",
       "| U2 |  2.7747464 |  187534.18 |\n",
       "| Wealth |  4.3542465 |  770430.48 |\n",
       "| Ineq |  2.1762932 |  206096.64 |\n",
       "| Prob |  8.8829484 |  717873.42 |\n",
       "| Time |  2.1279085 |  249099.59 |\n",
       "\n"
      ],
      "text/plain": [
       "       %IncMSE    IncNodePurity\n",
       "M       1.5433378  205277.24   \n",
       "So      2.2457511   21269.39   \n",
       "Ed      3.7399142  264814.17   \n",
       "Po1    11.9531848 1084645.06   \n",
       "Po2    11.0005698 1057598.29   \n",
       "LF      3.2283145  304235.71   \n",
       "M.F     1.5315964  235479.84   \n",
       "Pop    -0.3558573  325124.91   \n",
       "NW      8.7914688  495462.04   \n",
       "U1     -0.3078521  155244.37   \n",
       "U2      2.7747464  187534.18   \n",
       "Wealth  4.3542465  770430.48   \n",
       "Ineq    2.1762932  206096.64   \n",
       "Prob    8.8829484  717873.42   \n",
       "Time    2.1279085  249099.59   "
      ]
     },
     "metadata": {},
     "output_type": "display_data"
    }
   ],
   "source": [
    "importance(crime.rf)"
   ]
  },
  {
   "cell_type": "code",
   "execution_count": 60,
   "metadata": {},
   "outputs": [
    {
     "data": {
      "text/html": [
       "<style>\n",
       ".dl-inline {width: auto; margin:0; padding: 0}\n",
       ".dl-inline>dt, .dl-inline>dd {float: none; width: auto; display: inline-block}\n",
       ".dl-inline>dt::after {content: \":\\0020\"; padding-right: .5ex}\n",
       ".dl-inline>dt:not(:first-of-type) {padding-left: .5ex}\n",
       "</style><dl class=dl-inline><dt>Po1</dt><dd>11.9531848090873</dd><dt>Po2</dt><dd>11.0005698250477</dd><dt>Prob</dt><dd>8.88294837250869</dd><dt>NW</dt><dd>8.79146884814286</dd><dt>Wealth</dt><dd>4.35424649901312</dd><dt>Ed</dt><dd>3.73991415524224</dd><dt>LF</dt><dd>3.22831446379919</dd><dt>U2</dt><dd>2.77474644249345</dd><dt>So</dt><dd>2.24575107608279</dd><dt>Ineq</dt><dd>2.17629315357591</dd><dt>Time</dt><dd>2.1279085082654</dd><dt>M</dt><dd>1.54333782615767</dd><dt>M.F</dt><dd>1.53159642079393</dd><dt>U1</dt><dd>-0.307852143295736</dd><dt>Pop</dt><dd>-0.355857286418768</dd></dl>\n"
      ],
      "text/latex": [
       "\\begin{description*}\n",
       "\\item[Po1] 11.9531848090873\n",
       "\\item[Po2] 11.0005698250477\n",
       "\\item[Prob] 8.88294837250869\n",
       "\\item[NW] 8.79146884814286\n",
       "\\item[Wealth] 4.35424649901312\n",
       "\\item[Ed] 3.73991415524224\n",
       "\\item[LF] 3.22831446379919\n",
       "\\item[U2] 2.77474644249345\n",
       "\\item[So] 2.24575107608279\n",
       "\\item[Ineq] 2.17629315357591\n",
       "\\item[Time] 2.1279085082654\n",
       "\\item[M] 1.54333782615767\n",
       "\\item[M.F] 1.53159642079393\n",
       "\\item[U1] -0.307852143295736\n",
       "\\item[Pop] -0.355857286418768\n",
       "\\end{description*}\n"
      ],
      "text/markdown": [
       "Po1\n",
       ":   11.9531848090873Po2\n",
       ":   11.0005698250477Prob\n",
       ":   8.88294837250869NW\n",
       ":   8.79146884814286Wealth\n",
       ":   4.35424649901312Ed\n",
       ":   3.73991415524224LF\n",
       ":   3.22831446379919U2\n",
       ":   2.77474644249345So\n",
       ":   2.24575107608279Ineq\n",
       ":   2.17629315357591Time\n",
       ":   2.1279085082654M\n",
       ":   1.54333782615767M.F\n",
       ":   1.53159642079393U1\n",
       ":   -0.307852143295736Pop\n",
       ":   -0.355857286418768\n",
       "\n"
      ],
      "text/plain": [
       "       Po1        Po2       Prob         NW     Wealth         Ed         LF \n",
       "11.9531848 11.0005698  8.8829484  8.7914688  4.3542465  3.7399142  3.2283145 \n",
       "        U2         So       Ineq       Time          M        M.F         U1 \n",
       " 2.7747464  2.2457511  2.1762932  2.1279085  1.5433378  1.5315964 -0.3078521 \n",
       "       Pop \n",
       "-0.3558573 "
      ]
     },
     "metadata": {},
     "output_type": "display_data"
    }
   ],
   "source": [
    "sort(importance(crime.rf)[,1],decreasing=TRUE)"
   ]
  },
  {
   "cell_type": "markdown",
   "metadata": {},
   "source": [
    "In random forest model, we can see that Po1 is again the most important variable."
   ]
  },
  {
   "cell_type": "code",
   "execution_count": 323,
   "metadata": {},
   "outputs": [],
   "source": [
    "rf.pred<-predict(crime.rf)"
   ]
  },
  {
   "cell_type": "code",
   "execution_count": 325,
   "metadata": {},
   "outputs": [
    {
     "data": {
      "text/html": [
       "3872503.63331015"
      ],
      "text/latex": [
       "3872503.63331015"
      ],
      "text/markdown": [
       "3872503.63331015"
      ],
      "text/plain": [
       "[1] 3872504"
      ]
     },
     "metadata": {},
     "output_type": "display_data"
    }
   ],
   "source": [
    "SSE.rf<-sum((rf.pred-crime$Crime)^2)\n",
    "SSE.rf"
   ]
  },
  {
   "cell_type": "code",
   "execution_count": 326,
   "metadata": {},
   "outputs": [
    {
     "data": {
      "text/html": [
       "6880927.65957447"
      ],
      "text/latex": [
       "6880927.65957447"
      ],
      "text/markdown": [
       "6880927.65957447"
      ],
      "text/plain": [
       "[1] 6880928"
      ]
     },
     "metadata": {},
     "output_type": "display_data"
    }
   ],
   "source": [
    "SST<-sum((crime$Crime-mean(crime$Crime))^2)\n",
    "SST"
   ]
  },
  {
   "cell_type": "code",
   "execution_count": 346,
   "metadata": {},
   "outputs": [
    {
     "data": {
      "text/html": [
       "0.437211982904405"
      ],
      "text/latex": [
       "0.437211982904405"
      ],
      "text/markdown": [
       "0.437211982904405"
      ],
      "text/plain": [
       "[1] 0.437212"
      ]
     },
     "metadata": {},
     "output_type": "display_data"
    }
   ],
   "source": [
    "#R-squared\n",
    "1-SSE.rf/SST"
   ]
  },
  {
   "cell_type": "markdown",
   "metadata": {},
   "source": [
    "By looking at R-squared value, we observe that the goodness of fit has not gotten better.With such small data set, our models are prone to overfitting and having a low quality for random forest model is not a surprise."
   ]
  },
  {
   "cell_type": "markdown",
   "metadata": {},
   "source": [
    "## Question 10.2\n",
    "\n",
    "Describe a situation or problem from your job, everyday life, current events, etc., for which a logistic\n",
    "regression model would be appropriate. List some (up to 5) predictors that you might use.\n",
    "\n",
    "**Answer:**\n",
    "\n",
    "An application of logistic regression would be in a company, to find probability for promoting employees and classifying them as possible candidates for promotion.\n",
    "Some features or variables would be the level of education, number of years in a current position, age, salary and utilization rate."
   ]
  },
  {
   "cell_type": "markdown",
   "metadata": {},
   "source": [
    "## Question 10.3\n",
    "\n",
    "  1.Using the GermanCredit data set germancredit.txt from\n",
    "http://archive.ics.uci.edu/ml/machine-learning-databases/statlog/german / (description at\n",
    "http://archive.ics.uci.edu/ml/datasets/Statlog+%28German+Credit+Data%29 ), use logistic\n",
    "regression to find a good predictive model for whether credit applicants are good credit risks or\n",
    "not. Show your model (factors used and their coefficients), the software output, and the quality \n",
    "of fit. You can use the glm function in R. To get a logistic regression (logit) model on data where\n",
    "the response is either zero or one, use family=binomial(link=”logit”) in your glm\n",
    "function call.\n",
    "2. Because the model gives a result between 0 and 1, it requires setting a threshold probability to\n",
    "separate between “good” and “bad” answers. In this data set, they estimate that incorrectly\n",
    "identifying a bad customer as good, is 5 times worse than incorrectly classifying a good\n",
    "customer as bad. Determine a good threshold probability based on your model."
   ]
  },
  {
   "cell_type": "code",
   "execution_count": 64,
   "metadata": {},
   "outputs": [],
   "source": [
    "#Loading the data\n",
    "g.credit<-read.table(\"germancredit.txt\",header=FALSE,stringsAsFactors=FALSE)"
   ]
  },
  {
   "cell_type": "code",
   "execution_count": 65,
   "metadata": {},
   "outputs": [
    {
     "data": {
      "text/html": [
       "0"
      ],
      "text/latex": [
       "0"
      ],
      "text/markdown": [
       "0"
      ],
      "text/plain": [
       "[1] 0"
      ]
     },
     "metadata": {},
     "output_type": "display_data"
    }
   ],
   "source": [
    "#Making sure there is no missing values\n",
    "sum(is.na(g.credit))"
   ]
  },
  {
   "cell_type": "code",
   "execution_count": 66,
   "metadata": {},
   "outputs": [
    {
     "data": {
      "text/html": [
       "<table>\n",
       "<caption>A data.frame: 6 × 21</caption>\n",
       "<thead>\n",
       "\t<tr><th></th><th scope=col>V1</th><th scope=col>V2</th><th scope=col>V3</th><th scope=col>V4</th><th scope=col>V5</th><th scope=col>V6</th><th scope=col>V7</th><th scope=col>V8</th><th scope=col>V9</th><th scope=col>V10</th><th scope=col>...</th><th scope=col>V12</th><th scope=col>V13</th><th scope=col>V14</th><th scope=col>V15</th><th scope=col>V16</th><th scope=col>V17</th><th scope=col>V18</th><th scope=col>V19</th><th scope=col>V20</th><th scope=col>V21</th></tr>\n",
       "\t<tr><th></th><th scope=col>&lt;chr&gt;</th><th scope=col>&lt;int&gt;</th><th scope=col>&lt;chr&gt;</th><th scope=col>&lt;chr&gt;</th><th scope=col>&lt;int&gt;</th><th scope=col>&lt;chr&gt;</th><th scope=col>&lt;chr&gt;</th><th scope=col>&lt;int&gt;</th><th scope=col>&lt;chr&gt;</th><th scope=col>&lt;chr&gt;</th><th scope=col>...</th><th scope=col>&lt;chr&gt;</th><th scope=col>&lt;int&gt;</th><th scope=col>&lt;chr&gt;</th><th scope=col>&lt;chr&gt;</th><th scope=col>&lt;int&gt;</th><th scope=col>&lt;chr&gt;</th><th scope=col>&lt;int&gt;</th><th scope=col>&lt;chr&gt;</th><th scope=col>&lt;chr&gt;</th><th scope=col>&lt;int&gt;</th></tr>\n",
       "</thead>\n",
       "<tbody>\n",
       "\t<tr><th scope=row>1</th><td>A11</td><td> 6</td><td>A34</td><td>A43</td><td>1169</td><td>A65</td><td>A75</td><td>4</td><td>A93</td><td>A101</td><td>...</td><td>A121</td><td>67</td><td>A143</td><td>A152</td><td>2</td><td>A173</td><td>1</td><td>A192</td><td>A201</td><td>1</td></tr>\n",
       "\t<tr><th scope=row>2</th><td>A12</td><td>48</td><td>A32</td><td>A43</td><td>5951</td><td>A61</td><td>A73</td><td>2</td><td>A92</td><td>A101</td><td>...</td><td>A121</td><td>22</td><td>A143</td><td>A152</td><td>1</td><td>A173</td><td>1</td><td>A191</td><td>A201</td><td>2</td></tr>\n",
       "\t<tr><th scope=row>3</th><td>A14</td><td>12</td><td>A34</td><td>A46</td><td>2096</td><td>A61</td><td>A74</td><td>2</td><td>A93</td><td>A101</td><td>...</td><td>A121</td><td>49</td><td>A143</td><td>A152</td><td>1</td><td>A172</td><td>2</td><td>A191</td><td>A201</td><td>1</td></tr>\n",
       "\t<tr><th scope=row>4</th><td>A11</td><td>42</td><td>A32</td><td>A42</td><td>7882</td><td>A61</td><td>A74</td><td>2</td><td>A93</td><td>A103</td><td>...</td><td>A122</td><td>45</td><td>A143</td><td>A153</td><td>1</td><td>A173</td><td>2</td><td>A191</td><td>A201</td><td>1</td></tr>\n",
       "\t<tr><th scope=row>5</th><td>A11</td><td>24</td><td>A33</td><td>A40</td><td>4870</td><td>A61</td><td>A73</td><td>3</td><td>A93</td><td>A101</td><td>...</td><td>A124</td><td>53</td><td>A143</td><td>A153</td><td>2</td><td>A173</td><td>2</td><td>A191</td><td>A201</td><td>2</td></tr>\n",
       "\t<tr><th scope=row>6</th><td>A14</td><td>36</td><td>A32</td><td>A46</td><td>9055</td><td>A65</td><td>A73</td><td>2</td><td>A93</td><td>A101</td><td>...</td><td>A124</td><td>35</td><td>A143</td><td>A153</td><td>1</td><td>A172</td><td>2</td><td>A192</td><td>A201</td><td>1</td></tr>\n",
       "</tbody>\n",
       "</table>\n"
      ],
      "text/latex": [
       "A data.frame: 6 × 21\n",
       "\\begin{tabular}{r|lllllllllllllllllllll}\n",
       "  & V1 & V2 & V3 & V4 & V5 & V6 & V7 & V8 & V9 & V10 & ... & V12 & V13 & V14 & V15 & V16 & V17 & V18 & V19 & V20 & V21\\\\\n",
       "  & <chr> & <int> & <chr> & <chr> & <int> & <chr> & <chr> & <int> & <chr> & <chr> & ... & <chr> & <int> & <chr> & <chr> & <int> & <chr> & <int> & <chr> & <chr> & <int>\\\\\n",
       "\\hline\n",
       "\t1 & A11 &  6 & A34 & A43 & 1169 & A65 & A75 & 4 & A93 & A101 & ... & A121 & 67 & A143 & A152 & 2 & A173 & 1 & A192 & A201 & 1\\\\\n",
       "\t2 & A12 & 48 & A32 & A43 & 5951 & A61 & A73 & 2 & A92 & A101 & ... & A121 & 22 & A143 & A152 & 1 & A173 & 1 & A191 & A201 & 2\\\\\n",
       "\t3 & A14 & 12 & A34 & A46 & 2096 & A61 & A74 & 2 & A93 & A101 & ... & A121 & 49 & A143 & A152 & 1 & A172 & 2 & A191 & A201 & 1\\\\\n",
       "\t4 & A11 & 42 & A32 & A42 & 7882 & A61 & A74 & 2 & A93 & A103 & ... & A122 & 45 & A143 & A153 & 1 & A173 & 2 & A191 & A201 & 1\\\\\n",
       "\t5 & A11 & 24 & A33 & A40 & 4870 & A61 & A73 & 3 & A93 & A101 & ... & A124 & 53 & A143 & A153 & 2 & A173 & 2 & A191 & A201 & 2\\\\\n",
       "\t6 & A14 & 36 & A32 & A46 & 9055 & A65 & A73 & 2 & A93 & A101 & ... & A124 & 35 & A143 & A153 & 1 & A172 & 2 & A192 & A201 & 1\\\\\n",
       "\\end{tabular}\n"
      ],
      "text/markdown": [
       "\n",
       "A data.frame: 6 × 21\n",
       "\n",
       "| <!--/--> | V1 &lt;chr&gt; | V2 &lt;int&gt; | V3 &lt;chr&gt; | V4 &lt;chr&gt; | V5 &lt;int&gt; | V6 &lt;chr&gt; | V7 &lt;chr&gt; | V8 &lt;int&gt; | V9 &lt;chr&gt; | V10 &lt;chr&gt; | ... ... | V12 &lt;chr&gt; | V13 &lt;int&gt; | V14 &lt;chr&gt; | V15 &lt;chr&gt; | V16 &lt;int&gt; | V17 &lt;chr&gt; | V18 &lt;int&gt; | V19 &lt;chr&gt; | V20 &lt;chr&gt; | V21 &lt;int&gt; |\n",
       "|---|---|---|---|---|---|---|---|---|---|---|---|---|---|---|---|---|---|---|---|---|---|\n",
       "| 1 | A11 |  6 | A34 | A43 | 1169 | A65 | A75 | 4 | A93 | A101 | ... | A121 | 67 | A143 | A152 | 2 | A173 | 1 | A192 | A201 | 1 |\n",
       "| 2 | A12 | 48 | A32 | A43 | 5951 | A61 | A73 | 2 | A92 | A101 | ... | A121 | 22 | A143 | A152 | 1 | A173 | 1 | A191 | A201 | 2 |\n",
       "| 3 | A14 | 12 | A34 | A46 | 2096 | A61 | A74 | 2 | A93 | A101 | ... | A121 | 49 | A143 | A152 | 1 | A172 | 2 | A191 | A201 | 1 |\n",
       "| 4 | A11 | 42 | A32 | A42 | 7882 | A61 | A74 | 2 | A93 | A103 | ... | A122 | 45 | A143 | A153 | 1 | A173 | 2 | A191 | A201 | 1 |\n",
       "| 5 | A11 | 24 | A33 | A40 | 4870 | A61 | A73 | 3 | A93 | A101 | ... | A124 | 53 | A143 | A153 | 2 | A173 | 2 | A191 | A201 | 2 |\n",
       "| 6 | A14 | 36 | A32 | A46 | 9055 | A65 | A73 | 2 | A93 | A101 | ... | A124 | 35 | A143 | A153 | 1 | A172 | 2 | A192 | A201 | 1 |\n",
       "\n"
      ],
      "text/plain": [
       "  V1  V2 V3  V4  V5   V6  V7  V8 V9  V10  ... V12  V13 V14  V15  V16 V17  V18\n",
       "1 A11  6 A34 A43 1169 A65 A75 4  A93 A101 ... A121 67  A143 A152 2   A173 1  \n",
       "2 A12 48 A32 A43 5951 A61 A73 2  A92 A101 ... A121 22  A143 A152 1   A173 1  \n",
       "3 A14 12 A34 A46 2096 A61 A74 2  A93 A101 ... A121 49  A143 A152 1   A172 2  \n",
       "4 A11 42 A32 A42 7882 A61 A74 2  A93 A103 ... A122 45  A143 A153 1   A173 2  \n",
       "5 A11 24 A33 A40 4870 A61 A73 3  A93 A101 ... A124 53  A143 A153 2   A173 2  \n",
       "6 A14 36 A32 A46 9055 A65 A73 2  A93 A101 ... A124 35  A143 A153 1   A172 2  \n",
       "  V19  V20  V21\n",
       "1 A192 A201 1  \n",
       "2 A191 A201 2  \n",
       "3 A191 A201 1  \n",
       "4 A191 A201 1  \n",
       "5 A191 A201 2  \n",
       "6 A192 A201 1  "
      ]
     },
     "metadata": {},
     "output_type": "display_data"
    }
   ],
   "source": [
    "#Checking the first 6 observations\n",
    "head(g.credit)"
   ]
  },
  {
   "cell_type": "code",
   "execution_count": 67,
   "metadata": {},
   "outputs": [
    {
     "name": "stdout",
     "output_type": "stream",
     "text": [
      "'data.frame':\t1000 obs. of  21 variables:\n",
      " $ V1 : chr  \"A11\" \"A12\" \"A14\" \"A11\" ...\n",
      " $ V2 : int  6 48 12 42 24 36 24 36 12 30 ...\n",
      " $ V3 : chr  \"A34\" \"A32\" \"A34\" \"A32\" ...\n",
      " $ V4 : chr  \"A43\" \"A43\" \"A46\" \"A42\" ...\n",
      " $ V5 : int  1169 5951 2096 7882 4870 9055 2835 6948 3059 5234 ...\n",
      " $ V6 : chr  \"A65\" \"A61\" \"A61\" \"A61\" ...\n",
      " $ V7 : chr  \"A75\" \"A73\" \"A74\" \"A74\" ...\n",
      " $ V8 : int  4 2 2 2 3 2 3 2 2 4 ...\n",
      " $ V9 : chr  \"A93\" \"A92\" \"A93\" \"A93\" ...\n",
      " $ V10: chr  \"A101\" \"A101\" \"A101\" \"A103\" ...\n",
      " $ V11: int  4 2 3 4 4 4 4 2 4 2 ...\n",
      " $ V12: chr  \"A121\" \"A121\" \"A121\" \"A122\" ...\n",
      " $ V13: int  67 22 49 45 53 35 53 35 61 28 ...\n",
      " $ V14: chr  \"A143\" \"A143\" \"A143\" \"A143\" ...\n",
      " $ V15: chr  \"A152\" \"A152\" \"A152\" \"A153\" ...\n",
      " $ V16: int  2 1 1 1 2 1 1 1 1 2 ...\n",
      " $ V17: chr  \"A173\" \"A173\" \"A172\" \"A173\" ...\n",
      " $ V18: int  1 1 2 2 2 2 1 1 1 1 ...\n",
      " $ V19: chr  \"A192\" \"A191\" \"A191\" \"A191\" ...\n",
      " $ V20: chr  \"A201\" \"A201\" \"A201\" \"A201\" ...\n",
      " $ V21: int  1 2 1 1 2 1 1 1 1 2 ...\n"
     ]
    }
   ],
   "source": [
    "#Checking the structure of data\n",
    "str(g.credit)"
   ]
  },
  {
   "cell_type": "code",
   "execution_count": 68,
   "metadata": {},
   "outputs": [
    {
     "data": {
      "image/png": "[encoded data removed]",
      "text/plain": [
       "Plot with title \"Histogram of g.credit$V21\""
      ]
     },
     "metadata": {
      "image/png": {
       "height": 420,
       "width": 420
      },
      "text/plain": {
       "height": 420,
       "width": 420
      }
     },
     "output_type": "display_data"
    }
   ],
   "source": [
    "#checking the distribution of response\n",
    "hist(g.credit$V21,\n",
    "    xlab=\"Classification of Customers\") "
   ]
  },
  {
   "cell_type": "code",
   "execution_count": 69,
   "metadata": {},
   "outputs": [],
   "source": [
    "#Converting response variable to 0 & 1 since for logistric model : 0<=y<=1\n",
    "\n",
    "g.credit$V21[g.credit$V21==1]<-0 # good response\n",
    "g.credit$V21[g.credit$V21==2]<-1 #bad response\n"
   ]
  },
  {
   "cell_type": "markdown",
   "metadata": {},
   "source": [
    "Caution : order of assigning values matter here.If we assign 2<--1 first, all values will be 0."
   ]
  },
  {
   "cell_type": "code",
   "execution_count": 70,
   "metadata": {},
   "outputs": [
    {
     "data": {
      "text/html": [
       "<table>\n",
       "<caption>A data.frame: 6 × 21</caption>\n",
       "<thead>\n",
       "\t<tr><th></th><th scope=col>V1</th><th scope=col>V2</th><th scope=col>V3</th><th scope=col>V4</th><th scope=col>V5</th><th scope=col>V6</th><th scope=col>V7</th><th scope=col>V8</th><th scope=col>V9</th><th scope=col>V10</th><th scope=col>...</th><th scope=col>V12</th><th scope=col>V13</th><th scope=col>V14</th><th scope=col>V15</th><th scope=col>V16</th><th scope=col>V17</th><th scope=col>V18</th><th scope=col>V19</th><th scope=col>V20</th><th scope=col>V21</th></tr>\n",
       "\t<tr><th></th><th scope=col>&lt;chr&gt;</th><th scope=col>&lt;int&gt;</th><th scope=col>&lt;chr&gt;</th><th scope=col>&lt;chr&gt;</th><th scope=col>&lt;int&gt;</th><th scope=col>&lt;chr&gt;</th><th scope=col>&lt;chr&gt;</th><th scope=col>&lt;int&gt;</th><th scope=col>&lt;chr&gt;</th><th scope=col>&lt;chr&gt;</th><th scope=col>...</th><th scope=col>&lt;chr&gt;</th><th scope=col>&lt;int&gt;</th><th scope=col>&lt;chr&gt;</th><th scope=col>&lt;chr&gt;</th><th scope=col>&lt;int&gt;</th><th scope=col>&lt;chr&gt;</th><th scope=col>&lt;int&gt;</th><th scope=col>&lt;chr&gt;</th><th scope=col>&lt;chr&gt;</th><th scope=col>&lt;dbl&gt;</th></tr>\n",
       "</thead>\n",
       "<tbody>\n",
       "\t<tr><th scope=row>1</th><td>A11</td><td> 6</td><td>A34</td><td>A43</td><td>1169</td><td>A65</td><td>A75</td><td>4</td><td>A93</td><td>A101</td><td>...</td><td>A121</td><td>67</td><td>A143</td><td>A152</td><td>2</td><td>A173</td><td>1</td><td>A192</td><td>A201</td><td>0</td></tr>\n",
       "\t<tr><th scope=row>2</th><td>A12</td><td>48</td><td>A32</td><td>A43</td><td>5951</td><td>A61</td><td>A73</td><td>2</td><td>A92</td><td>A101</td><td>...</td><td>A121</td><td>22</td><td>A143</td><td>A152</td><td>1</td><td>A173</td><td>1</td><td>A191</td><td>A201</td><td>1</td></tr>\n",
       "\t<tr><th scope=row>3</th><td>A14</td><td>12</td><td>A34</td><td>A46</td><td>2096</td><td>A61</td><td>A74</td><td>2</td><td>A93</td><td>A101</td><td>...</td><td>A121</td><td>49</td><td>A143</td><td>A152</td><td>1</td><td>A172</td><td>2</td><td>A191</td><td>A201</td><td>0</td></tr>\n",
       "\t<tr><th scope=row>4</th><td>A11</td><td>42</td><td>A32</td><td>A42</td><td>7882</td><td>A61</td><td>A74</td><td>2</td><td>A93</td><td>A103</td><td>...</td><td>A122</td><td>45</td><td>A143</td><td>A153</td><td>1</td><td>A173</td><td>2</td><td>A191</td><td>A201</td><td>0</td></tr>\n",
       "\t<tr><th scope=row>5</th><td>A11</td><td>24</td><td>A33</td><td>A40</td><td>4870</td><td>A61</td><td>A73</td><td>3</td><td>A93</td><td>A101</td><td>...</td><td>A124</td><td>53</td><td>A143</td><td>A153</td><td>2</td><td>A173</td><td>2</td><td>A191</td><td>A201</td><td>1</td></tr>\n",
       "\t<tr><th scope=row>6</th><td>A14</td><td>36</td><td>A32</td><td>A46</td><td>9055</td><td>A65</td><td>A73</td><td>2</td><td>A93</td><td>A101</td><td>...</td><td>A124</td><td>35</td><td>A143</td><td>A153</td><td>1</td><td>A172</td><td>2</td><td>A192</td><td>A201</td><td>0</td></tr>\n",
       "</tbody>\n",
       "</table>\n"
      ],
      "text/latex": [
       "A data.frame: 6 × 21\n",
       "\\begin{tabular}{r|lllllllllllllllllllll}\n",
       "  & V1 & V2 & V3 & V4 & V5 & V6 & V7 & V8 & V9 & V10 & ... & V12 & V13 & V14 & V15 & V16 & V17 & V18 & V19 & V20 & V21\\\\\n",
       "  & <chr> & <int> & <chr> & <chr> & <int> & <chr> & <chr> & <int> & <chr> & <chr> & ... & <chr> & <int> & <chr> & <chr> & <int> & <chr> & <int> & <chr> & <chr> & <dbl>\\\\\n",
       "\\hline\n",
       "\t1 & A11 &  6 & A34 & A43 & 1169 & A65 & A75 & 4 & A93 & A101 & ... & A121 & 67 & A143 & A152 & 2 & A173 & 1 & A192 & A201 & 0\\\\\n",
       "\t2 & A12 & 48 & A32 & A43 & 5951 & A61 & A73 & 2 & A92 & A101 & ... & A121 & 22 & A143 & A152 & 1 & A173 & 1 & A191 & A201 & 1\\\\\n",
       "\t3 & A14 & 12 & A34 & A46 & 2096 & A61 & A74 & 2 & A93 & A101 & ... & A121 & 49 & A143 & A152 & 1 & A172 & 2 & A191 & A201 & 0\\\\\n",
       "\t4 & A11 & 42 & A32 & A42 & 7882 & A61 & A74 & 2 & A93 & A103 & ... & A122 & 45 & A143 & A153 & 1 & A173 & 2 & A191 & A201 & 0\\\\\n",
       "\t5 & A11 & 24 & A33 & A40 & 4870 & A61 & A73 & 3 & A93 & A101 & ... & A124 & 53 & A143 & A153 & 2 & A173 & 2 & A191 & A201 & 1\\\\\n",
       "\t6 & A14 & 36 & A32 & A46 & 9055 & A65 & A73 & 2 & A93 & A101 & ... & A124 & 35 & A143 & A153 & 1 & A172 & 2 & A192 & A201 & 0\\\\\n",
       "\\end{tabular}\n"
      ],
      "text/markdown": [
       "\n",
       "A data.frame: 6 × 21\n",
       "\n",
       "| <!--/--> | V1 &lt;chr&gt; | V2 &lt;int&gt; | V3 &lt;chr&gt; | V4 &lt;chr&gt; | V5 &lt;int&gt; | V6 &lt;chr&gt; | V7 &lt;chr&gt; | V8 &lt;int&gt; | V9 &lt;chr&gt; | V10 &lt;chr&gt; | ... ... | V12 &lt;chr&gt; | V13 &lt;int&gt; | V14 &lt;chr&gt; | V15 &lt;chr&gt; | V16 &lt;int&gt; | V17 &lt;chr&gt; | V18 &lt;int&gt; | V19 &lt;chr&gt; | V20 &lt;chr&gt; | V21 &lt;dbl&gt; |\n",
       "|---|---|---|---|---|---|---|---|---|---|---|---|---|---|---|---|---|---|---|---|---|---|\n",
       "| 1 | A11 |  6 | A34 | A43 | 1169 | A65 | A75 | 4 | A93 | A101 | ... | A121 | 67 | A143 | A152 | 2 | A173 | 1 | A192 | A201 | 0 |\n",
       "| 2 | A12 | 48 | A32 | A43 | 5951 | A61 | A73 | 2 | A92 | A101 | ... | A121 | 22 | A143 | A152 | 1 | A173 | 1 | A191 | A201 | 1 |\n",
       "| 3 | A14 | 12 | A34 | A46 | 2096 | A61 | A74 | 2 | A93 | A101 | ... | A121 | 49 | A143 | A152 | 1 | A172 | 2 | A191 | A201 | 0 |\n",
       "| 4 | A11 | 42 | A32 | A42 | 7882 | A61 | A74 | 2 | A93 | A103 | ... | A122 | 45 | A143 | A153 | 1 | A173 | 2 | A191 | A201 | 0 |\n",
       "| 5 | A11 | 24 | A33 | A40 | 4870 | A61 | A73 | 3 | A93 | A101 | ... | A124 | 53 | A143 | A153 | 2 | A173 | 2 | A191 | A201 | 1 |\n",
       "| 6 | A14 | 36 | A32 | A46 | 9055 | A65 | A73 | 2 | A93 | A101 | ... | A124 | 35 | A143 | A153 | 1 | A172 | 2 | A192 | A201 | 0 |\n",
       "\n"
      ],
      "text/plain": [
       "  V1  V2 V3  V4  V5   V6  V7  V8 V9  V10  ... V12  V13 V14  V15  V16 V17  V18\n",
       "1 A11  6 A34 A43 1169 A65 A75 4  A93 A101 ... A121 67  A143 A152 2   A173 1  \n",
       "2 A12 48 A32 A43 5951 A61 A73 2  A92 A101 ... A121 22  A143 A152 1   A173 1  \n",
       "3 A14 12 A34 A46 2096 A61 A74 2  A93 A101 ... A121 49  A143 A152 1   A172 2  \n",
       "4 A11 42 A32 A42 7882 A61 A74 2  A93 A103 ... A122 45  A143 A153 1   A173 2  \n",
       "5 A11 24 A33 A40 4870 A61 A73 3  A93 A101 ... A124 53  A143 A153 2   A173 2  \n",
       "6 A14 36 A32 A46 9055 A65 A73 2  A93 A101 ... A124 35  A143 A153 1   A172 2  \n",
       "  V19  V20  V21\n",
       "1 A192 A201 0  \n",
       "2 A191 A201 1  \n",
       "3 A191 A201 0  \n",
       "4 A191 A201 0  \n",
       "5 A191 A201 1  \n",
       "6 A192 A201 0  "
      ]
     },
     "metadata": {},
     "output_type": "display_data"
    }
   ],
   "source": [
    "#Making sure the new values are correctly converted\n",
    "head(g.credit)"
   ]
  },
  {
   "cell_type": "code",
   "execution_count": 71,
   "metadata": {},
   "outputs": [],
   "source": [
    "#Splitting data into training and testing\n",
    "\n",
    "set.seed(1)\n",
    "train<-sample(1:nrow(g.credit),round(nrow(g.credit)*0.7))\n",
    "\n",
    "training<-g.credit[train,]\n",
    "testing<-g.credit[-train,]"
   ]
  },
  {
   "cell_type": "code",
   "execution_count": 72,
   "metadata": {},
   "outputs": [
    {
     "data": {
      "image/png": "[encoded data removed]",
      "text/plain": [
       "Plot with title \"Histogram of testing$V21\""
      ]
     },
     "metadata": {
      "image/png": {
       "height": 420,
       "width": 420
      },
      "text/plain": {
       "height": 420,
       "width": 420
      }
     },
     "output_type": "display_data"
    }
   ],
   "source": [
    "#checking distribution of responses in training and testing subsets\n",
    "par(mfrow=c(1,2))\n",
    "\n",
    "hist(training$V21,xlab=\"response\")\n",
    "hist(testing$V21,xlab=\"response\")"
   ]
  },
  {
   "cell_type": "markdown",
   "metadata": {},
   "source": [
    "### Logistic regression model 1, using all variables"
   ]
  },
  {
   "cell_type": "code",
   "execution_count": 73,
   "metadata": {},
   "outputs": [],
   "source": [
    "#Fitting a logistic regression model\n",
    "set.seed(1)\n",
    "glm_m1<-glm(V21~.,data=training,family=binomial(link=\"logit\"))"
   ]
  },
  {
   "cell_type": "code",
   "execution_count": 74,
   "metadata": {},
   "outputs": [
    {
     "data": {
      "text/plain": [
       "\n",
       "Call:\n",
       "glm(formula = V21 ~ ., family = binomial(link = \"logit\"), data = training)\n",
       "\n",
       "Deviance Residuals: \n",
       "    Min       1Q   Median       3Q      Max  \n",
       "-2.4438  -0.6861  -0.3608   0.6750   2.4540  \n",
       "\n",
       "Coefficients:\n",
       "              Estimate Std. Error z value Pr(>|z|)    \n",
       "(Intercept)  3.823e-01  1.332e+00   0.287 0.774162    \n",
       "V1A12       -5.201e-01  2.681e-01  -1.940 0.052408 .  \n",
       "V1A13       -1.150e+00  4.473e-01  -2.570 0.010173 *  \n",
       "V1A14       -1.675e+00  2.750e-01  -6.091 1.12e-09 ***\n",
       "V2           2.570e-02  1.159e-02   2.217 0.026647 *  \n",
       "V3A31        8.440e-02  6.580e-01   0.128 0.897943    \n",
       "V3A32       -8.078e-01  4.996e-01  -1.617 0.105907    \n",
       "V3A33       -7.683e-01  5.372e-01  -1.430 0.152634    \n",
       "V3A34       -1.446e+00  5.127e-01  -2.821 0.004784 ** \n",
       "V4A41       -1.513e+00  4.479e-01  -3.379 0.000728 ***\n",
       "V4A410      -2.412e+00  1.160e+00  -2.080 0.037543 *  \n",
       "V4A42       -5.496e-01  3.195e-01  -1.720 0.085354 .  \n",
       "V4A43       -9.142e-01  3.024e-01  -3.023 0.002503 ** \n",
       "V4A44       -4.163e-01  9.455e-01  -0.440 0.659751    \n",
       "V4A45       -1.562e-01  6.742e-01  -0.232 0.816732    \n",
       "V4A46       -2.569e-01  5.085e-01  -0.505 0.613382    \n",
       "V4A48       -1.531e+01  4.556e+02  -0.034 0.973202    \n",
       "V4A49       -5.397e-01  4.017e-01  -1.344 0.179086    \n",
       "V5           1.076e-04  5.600e-05   1.922 0.054633 .  \n",
       "V6A62       -3.474e-01  3.579e-01  -0.971 0.331777    \n",
       "V6A63       -2.440e-01  4.761e-01  -0.513 0.608232    \n",
       "V6A64       -1.379e+00  6.535e-01  -2.110 0.034823 *  \n",
       "V6A65       -8.106e-01  3.223e-01  -2.515 0.011910 *  \n",
       "V7A72       -1.814e-01  5.243e-01  -0.346 0.729300    \n",
       "V7A73       -5.253e-01  5.001e-01  -1.050 0.293529    \n",
       "V7A74       -1.129e+00  5.455e-01  -2.070 0.038431 *  \n",
       "V7A75       -5.927e-01  5.052e-01  -1.173 0.240705    \n",
       "V8           3.523e-01  1.094e-01   3.219 0.001284 ** \n",
       "V9A92        4.849e-02  4.760e-01   0.102 0.918863    \n",
       "V9A93       -4.446e-01  4.691e-01  -0.948 0.343279    \n",
       "V9A94       -4.288e-01  5.837e-01  -0.735 0.462524    \n",
       "V10A102      3.052e-01  5.338e-01   0.572 0.567472    \n",
       "V10A103     -3.086e-01  5.237e-01  -0.589 0.555669    \n",
       "V11         -1.080e-01  1.073e-01  -1.007 0.314147    \n",
       "V12A122      2.219e-01  3.161e-01   0.702 0.482767    \n",
       "V12A123      3.274e-01  2.922e-01   1.120 0.262504    \n",
       "V12A124      1.156e+00  5.656e-01   2.044 0.040944 *  \n",
       "V13         -2.257e-02  1.140e-02  -1.980 0.047667 *  \n",
       "V14A142     -5.214e-01  4.925e-01  -1.059 0.289757    \n",
       "V14A143     -7.780e-01  2.848e-01  -2.732 0.006299 ** \n",
       "V15A152     -6.323e-01  2.870e-01  -2.203 0.027579 *  \n",
       "V15A153     -6.674e-01  6.202e-01  -1.076 0.281931    \n",
       "V16          2.866e-01  2.236e-01   1.282 0.199939    \n",
       "V17A172      1.565e+00  8.891e-01   1.760 0.078442 .  \n",
       "V17A173      1.564e+00  8.582e-01   1.823 0.068370 .  \n",
       "V17A174      1.400e+00  8.772e-01   1.596 0.110563    \n",
       "V18          1.645e-01  3.004e-01   0.548 0.583871    \n",
       "V19A192     -3.319e-01  2.413e-01  -1.376 0.168942    \n",
       "V20A202     -2.137e+00  8.573e-01  -2.493 0.012665 *  \n",
       "---\n",
       "Signif. codes:  0 '***' 0.001 '**' 0.01 '*' 0.05 '.' 0.1 ' ' 1\n",
       "\n",
       "(Dispersion parameter for binomial family taken to be 1)\n",
       "\n",
       "    Null deviance: 851.79  on 699  degrees of freedom\n",
       "Residual deviance: 613.21  on 651  degrees of freedom\n",
       "AIC: 711.21\n",
       "\n",
       "Number of Fisher Scoring iterations: 14\n"
      ]
     },
     "metadata": {},
     "output_type": "display_data"
    }
   ],
   "source": [
    "summary(glm_m1)"
   ]
  },
  {
   "cell_type": "markdown",
   "metadata": {},
   "source": [
    "As we have many variables, we definitly have overfitting in our model. We will use most significant variables based on their p-values to build a simpler model. Below we filter all variables with p-values more than 5% and only choose variables which fall in 95% confidence interval."
   ]
  },
  {
   "cell_type": "code",
   "execution_count": 75,
   "metadata": {
    "scrolled": false
   },
   "outputs": [
    {
     "data": {
      "text/html": [
       "<table>\n",
       "<caption>A data.frame: 16 × 1</caption>\n",
       "<thead>\n",
       "\t<tr><th></th><th scope=col>summary.glm_m1..coef.summary.glm_m1..coef...4.....0.05..4.</th></tr>\n",
       "\t<tr><th></th><th scope=col>&lt;dbl&gt;</th></tr>\n",
       "</thead>\n",
       "<tbody>\n",
       "\t<tr><th scope=row>V1A13</th><td>1.017285e-02</td></tr>\n",
       "\t<tr><th scope=row>V1A14</th><td>1.120252e-09</td></tr>\n",
       "\t<tr><th scope=row>V2</th><td>2.664655e-02</td></tr>\n",
       "\t<tr><th scope=row>V3A34</th><td>4.783571e-03</td></tr>\n",
       "\t<tr><th scope=row>V4A41</th><td>7.283376e-04</td></tr>\n",
       "\t<tr><th scope=row>V4A410</th><td>3.754332e-02</td></tr>\n",
       "\t<tr><th scope=row>V4A43</th><td>2.503233e-03</td></tr>\n",
       "\t<tr><th scope=row>V6A64</th><td>3.482266e-02</td></tr>\n",
       "\t<tr><th scope=row>V6A65</th><td>1.190983e-02</td></tr>\n",
       "\t<tr><th scope=row>V7A74</th><td>3.843066e-02</td></tr>\n",
       "\t<tr><th scope=row>V8</th><td>1.284175e-03</td></tr>\n",
       "\t<tr><th scope=row>V12A124</th><td>4.094445e-02</td></tr>\n",
       "\t<tr><th scope=row>V13</th><td>4.766670e-02</td></tr>\n",
       "\t<tr><th scope=row>V14A143</th><td>6.299401e-03</td></tr>\n",
       "\t<tr><th scope=row>V15A152</th><td>2.757853e-02</td></tr>\n",
       "\t<tr><th scope=row>V20A202</th><td>1.266533e-02</td></tr>\n",
       "</tbody>\n",
       "</table>\n"
      ],
      "text/latex": [
       "A data.frame: 16 × 1\n",
       "\\begin{tabular}{r|l}\n",
       "  & summary.glm\\_m1..coef.summary.glm\\_m1..coef...4.....0.05..4.\\\\\n",
       "  & <dbl>\\\\\n",
       "\\hline\n",
       "\tV1A13 & 1.017285e-02\\\\\n",
       "\tV1A14 & 1.120252e-09\\\\\n",
       "\tV2 & 2.664655e-02\\\\\n",
       "\tV3A34 & 4.783571e-03\\\\\n",
       "\tV4A41 & 7.283376e-04\\\\\n",
       "\tV4A410 & 3.754332e-02\\\\\n",
       "\tV4A43 & 2.503233e-03\\\\\n",
       "\tV6A64 & 3.482266e-02\\\\\n",
       "\tV6A65 & 1.190983e-02\\\\\n",
       "\tV7A74 & 3.843066e-02\\\\\n",
       "\tV8 & 1.284175e-03\\\\\n",
       "\tV12A124 & 4.094445e-02\\\\\n",
       "\tV13 & 4.766670e-02\\\\\n",
       "\tV14A143 & 6.299401e-03\\\\\n",
       "\tV15A152 & 2.757853e-02\\\\\n",
       "\tV20A202 & 1.266533e-02\\\\\n",
       "\\end{tabular}\n"
      ],
      "text/markdown": [
       "\n",
       "A data.frame: 16 × 1\n",
       "\n",
       "| <!--/--> | summary.glm_m1..coef.summary.glm_m1..coef...4.....0.05..4. &lt;dbl&gt; |\n",
       "|---|---|\n",
       "| V1A13 | 1.017285e-02 |\n",
       "| V1A14 | 1.120252e-09 |\n",
       "| V2 | 2.664655e-02 |\n",
       "| V3A34 | 4.783571e-03 |\n",
       "| V4A41 | 7.283376e-04 |\n",
       "| V4A410 | 3.754332e-02 |\n",
       "| V4A43 | 2.503233e-03 |\n",
       "| V6A64 | 3.482266e-02 |\n",
       "| V6A65 | 1.190983e-02 |\n",
       "| V7A74 | 3.843066e-02 |\n",
       "| V8 | 1.284175e-03 |\n",
       "| V12A124 | 4.094445e-02 |\n",
       "| V13 | 4.766670e-02 |\n",
       "| V14A143 | 6.299401e-03 |\n",
       "| V15A152 | 2.757853e-02 |\n",
       "| V20A202 | 1.266533e-02 |\n",
       "\n"
      ],
      "text/plain": [
       "        summary.glm_m1..coef.summary.glm_m1..coef...4.....0.05..4.\n",
       "V1A13   1.017285e-02                                              \n",
       "V1A14   1.120252e-09                                              \n",
       "V2      2.664655e-02                                              \n",
       "V3A34   4.783571e-03                                              \n",
       "V4A41   7.283376e-04                                              \n",
       "V4A410  3.754332e-02                                              \n",
       "V4A43   2.503233e-03                                              \n",
       "V6A64   3.482266e-02                                              \n",
       "V6A65   1.190983e-02                                              \n",
       "V7A74   3.843066e-02                                              \n",
       "V8      1.284175e-03                                              \n",
       "V12A124 4.094445e-02                                              \n",
       "V13     4.766670e-02                                              \n",
       "V14A143 6.299401e-03                                              \n",
       "V15A152 2.757853e-02                                              \n",
       "V20A202 1.266533e-02                                              "
      ]
     },
     "metadata": {},
     "output_type": "display_data"
    }
   ],
   "source": [
    "data.frame(summary(glm_m1)$coef[summary(glm_m1)$coef[,4] <= .05, 4])"
   ]
  },
  {
   "cell_type": "markdown",
   "metadata": {},
   "source": [
    "### Logistic regression model 2, using significant variables"
   ]
  },
  {
   "cell_type": "code",
   "execution_count": 76,
   "metadata": {},
   "outputs": [
    {
     "data": {
      "text/plain": [
       "\n",
       "Call:\n",
       "glm(formula = V21 ~ V1 + V2 + V3 + V4 + V6 + V7 + V8 + V12 + \n",
       "    V13 + V14 + V15 + V20, family = binomial, data = training)\n",
       "\n",
       "Deviance Residuals: \n",
       "    Min       1Q   Median       3Q      Max  \n",
       "-2.1343  -0.7151  -0.3829   0.6860   2.4613  \n",
       "\n",
       "Coefficients:\n",
       "              Estimate Std. Error z value Pr(>|z|)    \n",
       "(Intercept)   1.954704   0.891687   2.192 0.028369 *  \n",
       "V1A12        -0.576472   0.261484  -2.205 0.027481 *  \n",
       "V1A13        -1.246843   0.431631  -2.889 0.003869 ** \n",
       "V1A14        -1.633312   0.268529  -6.082 1.18e-09 ***\n",
       "V2            0.036245   0.009018   4.019 5.83e-05 ***\n",
       "V3A31        -0.077212   0.626544  -0.123 0.901921    \n",
       "V3A32        -0.971152   0.467517  -2.077 0.037778 *  \n",
       "V3A33        -0.743337   0.523613  -1.420 0.155715    \n",
       "V3A34        -1.447406   0.498458  -2.904 0.003687 ** \n",
       "V4A41        -1.375418   0.415248  -3.312 0.000925 ***\n",
       "V4A410       -2.141135   1.005226  -2.130 0.033171 *  \n",
       "V4A42        -0.448810   0.306760  -1.463 0.143450    \n",
       "V4A43        -0.939346   0.291483  -3.223 0.001270 ** \n",
       "V4A44        -0.492708   0.950608  -0.518 0.604243    \n",
       "V4A45        -0.238889   0.676434  -0.353 0.723969    \n",
       "V4A46        -0.268251   0.499637  -0.537 0.591342    \n",
       "V4A48       -15.257528 451.906122  -0.034 0.973066    \n",
       "V4A49        -0.570040   0.388370  -1.468 0.142165    \n",
       "V6A62        -0.307611   0.343036  -0.897 0.369862    \n",
       "V6A63        -0.484692   0.466898  -1.038 0.299218    \n",
       "V6A64        -1.212443   0.622420  -1.948 0.051421 .  \n",
       "V6A65        -0.810257   0.313011  -2.589 0.009637 ** \n",
       "V7A72         0.199964   0.461824   0.433 0.665025    \n",
       "V7A73        -0.179579   0.428502  -0.419 0.675153    \n",
       "V7A74        -0.874730   0.481305  -1.817 0.069154 .  \n",
       "V7A75        -0.318585   0.442407  -0.720 0.471453    \n",
       "V8            0.235399   0.095022   2.477 0.013237 *  \n",
       "V12A122       0.282784   0.305057   0.927 0.353932    \n",
       "V12A123       0.433363   0.275990   1.570 0.116365    \n",
       "V12A124       1.052152   0.533417   1.972 0.048555 *  \n",
       "V13          -0.022929   0.010929  -2.098 0.035904 *  \n",
       "V14A142      -0.485528   0.484466  -1.002 0.316251    \n",
       "V14A143      -0.716748   0.278048  -2.578 0.009944 ** \n",
       "V15A152      -0.592894   0.264661  -2.240 0.025078 *  \n",
       "V15A153      -0.512743   0.587424  -0.873 0.382735    \n",
       "V20A202      -2.057069   0.840733  -2.447 0.014415 *  \n",
       "---\n",
       "Signif. codes:  0 '***' 0.001 '**' 0.01 '*' 0.05 '.' 0.1 ' ' 1\n",
       "\n",
       "(Dispersion parameter for binomial family taken to be 1)\n",
       "\n",
       "    Null deviance: 851.79  on 699  degrees of freedom\n",
       "Residual deviance: 628.99  on 664  degrees of freedom\n",
       "AIC: 700.99\n",
       "\n",
       "Number of Fisher Scoring iterations: 14\n"
      ]
     },
     "metadata": {},
     "output_type": "display_data"
    }
   ],
   "source": [
    "set.seed(1)\n",
    "glm_m2<- glm(V21 ~ V1+V2+V3+V4+V6+V7+V8+V12+V13+V14+V15+V20,\n",
    "          family=binomial,\n",
    "         data=training)\n",
    "summary(glm_m2)"
   ]
  },
  {
   "cell_type": "markdown",
   "metadata": {},
   "source": [
    "By looking at AIC for both models, we can see that the model 2 is showing a better performance, having lower value than model 1.\n",
    "\n",
    "If we look at the p-values of variables in model 2, we can see there is room for refinement, but we will proceed with model 2 for this homework."
   ]
  },
  {
   "cell_type": "code",
   "execution_count": 77,
   "metadata": {},
   "outputs": [
    {
     "data": {
      "text/html": [
       "<table>\n",
       "<caption>A data.frame: 17 × 1</caption>\n",
       "<thead>\n",
       "\t<tr><th></th><th scope=col>summary.glm_m2..coef.summary.glm_m2..coef...4.....0.05..4.</th></tr>\n",
       "\t<tr><th></th><th scope=col>&lt;dbl&gt;</th></tr>\n",
       "</thead>\n",
       "<tbody>\n",
       "\t<tr><th scope=row>(Intercept)</th><td>2.836938e-02</td></tr>\n",
       "\t<tr><th scope=row>V1A12</th><td>2.748119e-02</td></tr>\n",
       "\t<tr><th scope=row>V1A13</th><td>3.868643e-03</td></tr>\n",
       "\t<tr><th scope=row>V1A14</th><td>1.183683e-09</td></tr>\n",
       "\t<tr><th scope=row>V2</th><td>5.834709e-05</td></tr>\n",
       "\t<tr><th scope=row>V3A32</th><td>3.777820e-02</td></tr>\n",
       "\t<tr><th scope=row>V3A34</th><td>3.687023e-03</td></tr>\n",
       "\t<tr><th scope=row>V4A41</th><td>9.253936e-04</td></tr>\n",
       "\t<tr><th scope=row>V4A410</th><td>3.317136e-02</td></tr>\n",
       "\t<tr><th scope=row>V4A43</th><td>1.270130e-03</td></tr>\n",
       "\t<tr><th scope=row>V6A65</th><td>9.636987e-03</td></tr>\n",
       "\t<tr><th scope=row>V8</th><td>1.323747e-02</td></tr>\n",
       "\t<tr><th scope=row>V12A124</th><td>4.855536e-02</td></tr>\n",
       "\t<tr><th scope=row>V13</th><td>3.590365e-02</td></tr>\n",
       "\t<tr><th scope=row>V14A143</th><td>9.943581e-03</td></tr>\n",
       "\t<tr><th scope=row>V15A152</th><td>2.507800e-02</td></tr>\n",
       "\t<tr><th scope=row>V20A202</th><td>1.441486e-02</td></tr>\n",
       "</tbody>\n",
       "</table>\n"
      ],
      "text/latex": [
       "A data.frame: 17 × 1\n",
       "\\begin{tabular}{r|l}\n",
       "  & summary.glm\\_m2..coef.summary.glm\\_m2..coef...4.....0.05..4.\\\\\n",
       "  & <dbl>\\\\\n",
       "\\hline\n",
       "\t(Intercept) & 2.836938e-02\\\\\n",
       "\tV1A12 & 2.748119e-02\\\\\n",
       "\tV1A13 & 3.868643e-03\\\\\n",
       "\tV1A14 & 1.183683e-09\\\\\n",
       "\tV2 & 5.834709e-05\\\\\n",
       "\tV3A32 & 3.777820e-02\\\\\n",
       "\tV3A34 & 3.687023e-03\\\\\n",
       "\tV4A41 & 9.253936e-04\\\\\n",
       "\tV4A410 & 3.317136e-02\\\\\n",
       "\tV4A43 & 1.270130e-03\\\\\n",
       "\tV6A65 & 9.636987e-03\\\\\n",
       "\tV8 & 1.323747e-02\\\\\n",
       "\tV12A124 & 4.855536e-02\\\\\n",
       "\tV13 & 3.590365e-02\\\\\n",
       "\tV14A143 & 9.943581e-03\\\\\n",
       "\tV15A152 & 2.507800e-02\\\\\n",
       "\tV20A202 & 1.441486e-02\\\\\n",
       "\\end{tabular}\n"
      ],
      "text/markdown": [
       "\n",
       "A data.frame: 17 × 1\n",
       "\n",
       "| <!--/--> | summary.glm_m2..coef.summary.glm_m2..coef...4.....0.05..4. &lt;dbl&gt; |\n",
       "|---|---|\n",
       "| (Intercept) | 2.836938e-02 |\n",
       "| V1A12 | 2.748119e-02 |\n",
       "| V1A13 | 3.868643e-03 |\n",
       "| V1A14 | 1.183683e-09 |\n",
       "| V2 | 5.834709e-05 |\n",
       "| V3A32 | 3.777820e-02 |\n",
       "| V3A34 | 3.687023e-03 |\n",
       "| V4A41 | 9.253936e-04 |\n",
       "| V4A410 | 3.317136e-02 |\n",
       "| V4A43 | 1.270130e-03 |\n",
       "| V6A65 | 9.636987e-03 |\n",
       "| V8 | 1.323747e-02 |\n",
       "| V12A124 | 4.855536e-02 |\n",
       "| V13 | 3.590365e-02 |\n",
       "| V14A143 | 9.943581e-03 |\n",
       "| V15A152 | 2.507800e-02 |\n",
       "| V20A202 | 1.441486e-02 |\n",
       "\n"
      ],
      "text/plain": [
       "            summary.glm_m2..coef.summary.glm_m2..coef...4.....0.05..4.\n",
       "(Intercept) 2.836938e-02                                              \n",
       "V1A12       2.748119e-02                                              \n",
       "V1A13       3.868643e-03                                              \n",
       "V1A14       1.183683e-09                                              \n",
       "V2          5.834709e-05                                              \n",
       "V3A32       3.777820e-02                                              \n",
       "V3A34       3.687023e-03                                              \n",
       "V4A41       9.253936e-04                                              \n",
       "V4A410      3.317136e-02                                              \n",
       "V4A43       1.270130e-03                                              \n",
       "V6A65       9.636987e-03                                              \n",
       "V8          1.323747e-02                                              \n",
       "V12A124     4.855536e-02                                              \n",
       "V13         3.590365e-02                                              \n",
       "V14A143     9.943581e-03                                              \n",
       "V15A152     2.507800e-02                                              \n",
       "V20A202     1.441486e-02                                              "
      ]
     },
     "metadata": {},
     "output_type": "display_data"
    }
   ],
   "source": [
    "data.frame(summary(glm_m2)$coef[summary(glm_m2)$coef[,4] <= .05, 4])"
   ]
  },
  {
   "cell_type": "markdown",
   "metadata": {},
   "source": [
    "### Threshold of logistic regression model based on cost of misclassification"
   ]
  },
  {
   "cell_type": "markdown",
   "metadata": {},
   "source": [
    "The output of a logistic regression model is a probability. We need to select a threshold value. If the probability is greater than this threshold value, the event is predicted to happen otherwise it is predicted not to happen.\n",
    "\n",
    "In this study case,it is worse to class a customer as good when they are bad (5), than it is to class a customer as bad when they are good (1).\n",
    "\n",
    "So for finding the most cost-efficient model, we calculate the cost of misclassification for different values of threshold and pick one which results in lowest cost."
   ]
  },
  {
   "cell_type": "code",
   "execution_count": 78,
   "metadata": {},
   "outputs": [],
   "source": [
    "#getting predicted values from model 2\n",
    "glm_pred2<-predict(glm_m2,newdata = testing[,-21],type=\"response\")"
   ]
  },
  {
   "cell_type": "code",
   "execution_count": 79,
   "metadata": {},
   "outputs": [],
   "source": [
    "#function inputs: predicted values from model\n",
    "        # outputs: cost of misclassification\n",
    "\n",
    "cost_func<-function(threshold,prediction){\n",
    "    #converting True/False to 1/0\n",
    "    response<-as.integer(prediction>threshold)\n",
    "    false_pos<-(testing$V21==1)& (prediction<threshold)\n",
    "    false_neg<-(testing$V21==0)&(prediction>threshold)\n",
    "   \n",
    "    cost<-sum(false_pos)*5+sum(false_neg)\n",
    "    \n",
    "    return(cost)\n",
    "  \n",
    "}"
   ]
  },
  {
   "cell_type": "code",
   "execution_count": 80,
   "metadata": {
    "scrolled": false
   },
   "outputs": [],
   "source": [
    "cost_vector<-c() # to store cost values\n",
    "threshold_vector<-c() # to store threshold values\n",
    "for(i in 1:50){\n",
    "    \n",
    "    cost_vector<-c(cost_vector,cost_func(i/100,glm_pred2))\n",
    "    threshold_vector<-c(threshold_vector,i/100)   \n",
    "}"
   ]
  },
  {
   "cell_type": "code",
   "execution_count": 81,
   "metadata": {},
   "outputs": [
    {
     "data": {
      "text/html": [
       "0.13"
      ],
      "text/latex": [
       "0.13"
      ],
      "text/markdown": [
       "0.13"
      ],
      "text/plain": [
       "[1] 0.13"
      ]
     },
     "metadata": {},
     "output_type": "display_data"
    }
   ],
   "source": [
    "ind<-which.min(cost_vector) # index of lowest cost\n",
    "threshold_vector[ind] # threshold resulting in lowest cost"
   ]
  },
  {
   "cell_type": "code",
   "execution_count": 82,
   "metadata": {},
   "outputs": [
    {
     "data": {
      "image/png": "[encoded data removed]",
      "text/plain": [
       "plot without title"
      ]
     },
     "metadata": {
      "image/png": {
       "height": 420,
       "width": 420
      },
      "text/plain": {
       "height": 420,
       "width": 420
      }
     },
     "output_type": "display_data"
    }
   ],
   "source": [
    "#visualizing cost versus threshold\n",
    "plot(threshold_vector,cost_vector,\n",
    "    xlab=\"Threshold\",\n",
    "    ylab=\"Cost\")"
   ]
  },
  {
   "cell_type": "markdown",
   "metadata": {},
   "source": [
    "So, threshold of 0.13 for classifying the output probabilities will give us the lowest cost of misclassification.\n",
    "\n",
    "We will use this threshold, and build our confusion matrix."
   ]
  },
  {
   "cell_type": "code",
   "execution_count": 87,
   "metadata": {},
   "outputs": [
    {
     "data": {
      "text/plain": [
       "Confusion Matrix and Statistics\n",
       "\n",
       "          Reference\n",
       "Prediction   0   1\n",
       "         0  88   7\n",
       "         1 120  85\n",
       "                                          \n",
       "               Accuracy : 0.5767          \n",
       "                 95% CI : (0.5186, 0.6332)\n",
       "    No Information Rate : 0.6933          \n",
       "    P-Value [Acc > NIR] : 1               \n",
       "                                          \n",
       "                  Kappa : 0.2585          \n",
       "                                          \n",
       " Mcnemar's Test P-Value : <2e-16          \n",
       "                                          \n",
       "            Sensitivity : 0.4231          \n",
       "            Specificity : 0.9239          \n",
       "         Pos Pred Value : 0.9263          \n",
       "         Neg Pred Value : 0.4146          \n",
       "             Prevalence : 0.6933          \n",
       "         Detection Rate : 0.2933          \n",
       "   Detection Prevalence : 0.3167          \n",
       "      Balanced Accuracy : 0.6735          \n",
       "                                          \n",
       "       'Positive' Class : 0               \n",
       "                                          "
      ]
     },
     "metadata": {},
     "output_type": "display_data"
    }
   ],
   "source": [
    "m2_response<-as.integer(glm_pred2>0.13)\n",
    "\n",
    "confusionMatrix(as.factor(m2_response),as.factor(testing$V21))"
   ]
  },
  {
   "cell_type": "markdown",
   "metadata": {},
   "source": [
    "The accuracy of the model goes down as we choose to accept more misclassification of \n",
    "good customers as bad, and minimizie misclassification of bad customers as good."
   ]
  },
  {
   "cell_type": "markdown",
   "metadata": {},
   "source": [
    "We can also find area under the curve (AUC) of the model:"
   ]
  },
  {
   "cell_type": "code",
   "execution_count": 58,
   "metadata": {},
   "outputs": [
    {
     "data": {
      "image/png": "[encoded data removed]",
      "text/plain": [
       "plot without title"
      ]
     },
     "metadata": {
      "image/png": {
       "height": 420,
       "width": 420
      },
      "text/plain": {
       "height": 420,
       "width": 420
      }
     },
     "output_type": "display_data"
    }
   ],
   "source": [
    "prediction(glm_pred2,testing$V21) %>%\n",
    "  performance(measure = \"tpr\", x.measure = \"fpr\") %>%\n",
    "  plot(xlab=\"Specifity (FPR)\",\n",
    "      ylab=\"Sensitivity (TPR)\")"
   ]
  },
  {
   "cell_type": "code",
   "execution_count": 90,
   "metadata": {},
   "outputs": [
    {
     "data": {
      "text/html": [
       "<ol>\n",
       "\t<li>0.673494983277592</li>\n",
       "</ol>\n"
      ],
      "text/latex": [
       "\\begin{enumerate}\n",
       "\\item 0.673494983277592\n",
       "\\end{enumerate}\n"
      ],
      "text/markdown": [
       "1. 0.673494983277592\n",
       "\n",
       "\n"
      ],
      "text/plain": [
       "[[1]]\n",
       "[1] 0.673495\n"
      ]
     },
     "metadata": {},
     "output_type": "display_data"
    }
   ],
   "source": [
    "prediction(m2_response,testing$V21)%>%\n",
    "    performance(measure=\"auc\")%>%\n",
    "    .@y.values"
   ]
  },
  {
   "cell_type": "markdown",
   "metadata": {},
   "source": [
    "The Area Under the Curve (AUC) evaluates the model’s performance, regardless of the chosen decision boundary. The perfect machine learning model will have an AUC of 1.0 , while a random one will have an AUC of 0.5. A good model will be over 0.7, a great one will be over 0.85. \n",
    "\n",
    "\n",
    "The AUC value is a relative value. It is also useful if we build other models using different methods and compare them using this value.\n",
    "\n",
    "However, having AUC of 0.67 for this model, we can see that it has a decent performance."
   ]
  }
 ],
 "metadata": {
  "kernelspec": {
   "display_name": "R",
   "language": "R",
   "name": "ir"
  },
  "language_info": {
   "codemirror_mode": "r",
   "file_extension": ".r",
   "mimetype": "text/x-r-source",
   "name": "R",
   "pygments_lexer": "r",
   "version": "3.6.1"
  }
 },
 "nbformat": 4,
 "nbformat_minor": 2
}
