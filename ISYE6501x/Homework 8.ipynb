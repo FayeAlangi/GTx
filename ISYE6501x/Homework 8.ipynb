{
 "cells": [
  {
   "cell_type": "markdown",
   "metadata": {},
   "source": [
    "## ISYE6501x Homework 8\n"
   ]
  },
  {
   "cell_type": "markdown",
   "metadata": {},
   "source": [
    "## Loading Libraries"
   ]
  },
  {
   "cell_type": "code",
   "execution_count": 1,
   "metadata": {},
   "outputs": [],
   "source": [
    "options(warn=-1)"
   ]
  },
  {
   "cell_type": "code",
   "execution_count": 8,
   "metadata": {},
   "outputs": [],
   "source": [
    "message=FALSE"
   ]
  },
  {
   "cell_type": "code",
   "execution_count": 3,
   "metadata": {},
   "outputs": [],
   "source": [
    "library(ggplot2)"
   ]
  },
  {
   "cell_type": "code",
   "execution_count": 9,
   "metadata": {},
   "outputs": [],
   "source": [
    "library(tidyverse)"
   ]
  },
  {
   "cell_type": "code",
   "execution_count": 10,
   "metadata": {},
   "outputs": [],
   "source": [
    "library(caret)"
   ]
  },
  {
   "cell_type": "code",
   "execution_count": 11,
   "metadata": {},
   "outputs": [],
   "source": [
    "library(MASS)"
   ]
  },
  {
   "cell_type": "code",
   "execution_count": 12,
   "metadata": {},
   "outputs": [],
   "source": [
    "library(glmnet)"
   ]
  },
  {
   "cell_type": "markdown",
   "metadata": {},
   "source": [
    "## Question 11.1\n",
    "\n",
    "Using the crime data set uscrime.txt from Questions 8.2, 9.1, and 10.1, build a regression model\n",
    "using:\n",
    "1. Stepwise regression\n",
    "2. Lasso\n",
    "3. Elastic net\n",
    "\n",
    "For Parts 2 and 3, remember to scale the data first – otherwise, the regression coefficients will be on\n",
    "different scales and the constraint won’t have the desired effect."
   ]
  },
  {
   "cell_type": "markdown",
   "metadata": {},
   "source": [
    "### Loading Crime Data"
   ]
  },
  {
   "cell_type": "code",
   "execution_count": 13,
   "metadata": {},
   "outputs": [
    {
     "name": "stderr",
     "output_type": "stream",
     "text": [
      "Parsed with column specification:\n",
      "cols(\n",
      "  M = \u001b[32mcol_double()\u001b[39m,\n",
      "  So = \u001b[32mcol_double()\u001b[39m,\n",
      "  Ed = \u001b[32mcol_double()\u001b[39m,\n",
      "  Po1 = \u001b[32mcol_double()\u001b[39m,\n",
      "  Po2 = \u001b[32mcol_double()\u001b[39m,\n",
      "  LF = \u001b[32mcol_double()\u001b[39m,\n",
      "  M.F = \u001b[32mcol_double()\u001b[39m,\n",
      "  Pop = \u001b[32mcol_double()\u001b[39m,\n",
      "  NW = \u001b[32mcol_double()\u001b[39m,\n",
      "  U1 = \u001b[32mcol_double()\u001b[39m,\n",
      "  U2 = \u001b[32mcol_double()\u001b[39m,\n",
      "  Wealth = \u001b[32mcol_double()\u001b[39m,\n",
      "  Ineq = \u001b[32mcol_double()\u001b[39m,\n",
      "  Prob = \u001b[32mcol_double()\u001b[39m,\n",
      "  Time = \u001b[32mcol_double()\u001b[39m,\n",
      "  Crime = \u001b[32mcol_double()\u001b[39m\n",
      ")\n",
      "\n"
     ]
    }
   ],
   "source": [
    "#loading data\n",
    "crime=read_tsv(\"uscrime.txt\")"
   ]
  },
  {
   "cell_type": "markdown",
   "metadata": {},
   "source": [
    "Criminologists are interested in the effect of punishment regimes on crime rates. This has been studied using aggregate data on 47 states of the USA for 1960. The data set contains the following columns:\n",
    "\n",
    "    Variable   Description\n",
    "    M\t\tpercentage of males aged 14–24 in total state population\n",
    "    So\t\tindicator variable for a southern state\n",
    "    Ed\t\tmean years of schooling of the population aged 25 years or over\n",
    "    Po1\t\tper capita expenditure on police protection in 1960\n",
    "    Po2\t\tper capita expenditure on police protection in 1959\n",
    "    LF\t\tlabour force participation rate of civilian urban males in the age-group 14-24\n",
    "    M.F\t\tnumber of males per 100 females\n",
    "    Pop\t\tstate population in 1960 in hundred thousands\n",
    "    NW\t\tpercentage of nonwhites in the population\n",
    "    U1\t\tunemployment rate of urban males 14–24\n",
    "    U2\t\tunemployment rate of urban males 35–39\n",
    "    Wealth\twealth: median value of transferable assets or family income\n",
    "    Ineq\tincome inequality: percentage of families earning below half the median income\n",
    "    Prob\tprobability of imprisonment: ratio of number of commitments to number of offenses\n",
    "    Time\taverage time in months served by offenders in state prisons before their first release\n",
    "    Crime\t\tcrime rate: number of offenses per 100,000 population in 1960"
   ]
  },
  {
   "cell_type": "code",
   "execution_count": 14,
   "metadata": {},
   "outputs": [
    {
     "data": {
      "text/html": [
       "<table>\n",
       "<caption>A tibble: 6 × 16</caption>\n",
       "<thead>\n",
       "\t<tr><th scope=col>M</th><th scope=col>So</th><th scope=col>Ed</th><th scope=col>Po1</th><th scope=col>Po2</th><th scope=col>LF</th><th scope=col>M.F</th><th scope=col>Pop</th><th scope=col>NW</th><th scope=col>U1</th><th scope=col>U2</th><th scope=col>Wealth</th><th scope=col>Ineq</th><th scope=col>Prob</th><th scope=col>Time</th><th scope=col>Crime</th></tr>\n",
       "\t<tr><th scope=col>&lt;dbl&gt;</th><th scope=col>&lt;dbl&gt;</th><th scope=col>&lt;dbl&gt;</th><th scope=col>&lt;dbl&gt;</th><th scope=col>&lt;dbl&gt;</th><th scope=col>&lt;dbl&gt;</th><th scope=col>&lt;dbl&gt;</th><th scope=col>&lt;dbl&gt;</th><th scope=col>&lt;dbl&gt;</th><th scope=col>&lt;dbl&gt;</th><th scope=col>&lt;dbl&gt;</th><th scope=col>&lt;dbl&gt;</th><th scope=col>&lt;dbl&gt;</th><th scope=col>&lt;dbl&gt;</th><th scope=col>&lt;dbl&gt;</th><th scope=col>&lt;dbl&gt;</th></tr>\n",
       "</thead>\n",
       "<tbody>\n",
       "\t<tr><td>15.1</td><td>1</td><td> 9.1</td><td> 5.8</td><td> 5.6</td><td>0.510</td><td> 95.0</td><td> 33</td><td>30.1</td><td>0.108</td><td>4.1</td><td>3940</td><td>26.1</td><td>0.084602</td><td>26.2011</td><td> 791</td></tr>\n",
       "\t<tr><td>14.3</td><td>0</td><td>11.3</td><td>10.3</td><td> 9.5</td><td>0.583</td><td>101.2</td><td> 13</td><td>10.2</td><td>0.096</td><td>3.6</td><td>5570</td><td>19.4</td><td>0.029599</td><td>25.2999</td><td>1635</td></tr>\n",
       "\t<tr><td>14.2</td><td>1</td><td> 8.9</td><td> 4.5</td><td> 4.4</td><td>0.533</td><td> 96.9</td><td> 18</td><td>21.9</td><td>0.094</td><td>3.3</td><td>3180</td><td>25.0</td><td>0.083401</td><td>24.3006</td><td> 578</td></tr>\n",
       "\t<tr><td>13.6</td><td>0</td><td>12.1</td><td>14.9</td><td>14.1</td><td>0.577</td><td> 99.4</td><td>157</td><td> 8.0</td><td>0.102</td><td>3.9</td><td>6730</td><td>16.7</td><td>0.015801</td><td>29.9012</td><td>1969</td></tr>\n",
       "\t<tr><td>14.1</td><td>0</td><td>12.1</td><td>10.9</td><td>10.1</td><td>0.591</td><td> 98.5</td><td> 18</td><td> 3.0</td><td>0.091</td><td>2.0</td><td>5780</td><td>17.4</td><td>0.041399</td><td>21.2998</td><td>1234</td></tr>\n",
       "\t<tr><td>12.1</td><td>0</td><td>11.0</td><td>11.8</td><td>11.5</td><td>0.547</td><td> 96.4</td><td> 25</td><td> 4.4</td><td>0.084</td><td>2.9</td><td>6890</td><td>12.6</td><td>0.034201</td><td>20.9995</td><td> 682</td></tr>\n",
       "</tbody>\n",
       "</table>\n"
      ],
      "text/latex": [
       "A tibble: 6 × 16\n",
       "\\begin{tabular}{llllllllllllllll}\n",
       " M & So & Ed & Po1 & Po2 & LF & M.F & Pop & NW & U1 & U2 & Wealth & Ineq & Prob & Time & Crime\\\\\n",
       " <dbl> & <dbl> & <dbl> & <dbl> & <dbl> & <dbl> & <dbl> & <dbl> & <dbl> & <dbl> & <dbl> & <dbl> & <dbl> & <dbl> & <dbl> & <dbl>\\\\\n",
       "\\hline\n",
       "\t 15.1 & 1 &  9.1 &  5.8 &  5.6 & 0.510 &  95.0 &  33 & 30.1 & 0.108 & 4.1 & 3940 & 26.1 & 0.084602 & 26.2011 &  791\\\\\n",
       "\t 14.3 & 0 & 11.3 & 10.3 &  9.5 & 0.583 & 101.2 &  13 & 10.2 & 0.096 & 3.6 & 5570 & 19.4 & 0.029599 & 25.2999 & 1635\\\\\n",
       "\t 14.2 & 1 &  8.9 &  4.5 &  4.4 & 0.533 &  96.9 &  18 & 21.9 & 0.094 & 3.3 & 3180 & 25.0 & 0.083401 & 24.3006 &  578\\\\\n",
       "\t 13.6 & 0 & 12.1 & 14.9 & 14.1 & 0.577 &  99.4 & 157 &  8.0 & 0.102 & 3.9 & 6730 & 16.7 & 0.015801 & 29.9012 & 1969\\\\\n",
       "\t 14.1 & 0 & 12.1 & 10.9 & 10.1 & 0.591 &  98.5 &  18 &  3.0 & 0.091 & 2.0 & 5780 & 17.4 & 0.041399 & 21.2998 & 1234\\\\\n",
       "\t 12.1 & 0 & 11.0 & 11.8 & 11.5 & 0.547 &  96.4 &  25 &  4.4 & 0.084 & 2.9 & 6890 & 12.6 & 0.034201 & 20.9995 &  682\\\\\n",
       "\\end{tabular}\n"
      ],
      "text/markdown": [
       "\n",
       "A tibble: 6 × 16\n",
       "\n",
       "| M &lt;dbl&gt; | So &lt;dbl&gt; | Ed &lt;dbl&gt; | Po1 &lt;dbl&gt; | Po2 &lt;dbl&gt; | LF &lt;dbl&gt; | M.F &lt;dbl&gt; | Pop &lt;dbl&gt; | NW &lt;dbl&gt; | U1 &lt;dbl&gt; | U2 &lt;dbl&gt; | Wealth &lt;dbl&gt; | Ineq &lt;dbl&gt; | Prob &lt;dbl&gt; | Time &lt;dbl&gt; | Crime &lt;dbl&gt; |\n",
       "|---|---|---|---|---|---|---|---|---|---|---|---|---|---|---|---|\n",
       "| 15.1 | 1 |  9.1 |  5.8 |  5.6 | 0.510 |  95.0 |  33 | 30.1 | 0.108 | 4.1 | 3940 | 26.1 | 0.084602 | 26.2011 |  791 |\n",
       "| 14.3 | 0 | 11.3 | 10.3 |  9.5 | 0.583 | 101.2 |  13 | 10.2 | 0.096 | 3.6 | 5570 | 19.4 | 0.029599 | 25.2999 | 1635 |\n",
       "| 14.2 | 1 |  8.9 |  4.5 |  4.4 | 0.533 |  96.9 |  18 | 21.9 | 0.094 | 3.3 | 3180 | 25.0 | 0.083401 | 24.3006 |  578 |\n",
       "| 13.6 | 0 | 12.1 | 14.9 | 14.1 | 0.577 |  99.4 | 157 |  8.0 | 0.102 | 3.9 | 6730 | 16.7 | 0.015801 | 29.9012 | 1969 |\n",
       "| 14.1 | 0 | 12.1 | 10.9 | 10.1 | 0.591 |  98.5 |  18 |  3.0 | 0.091 | 2.0 | 5780 | 17.4 | 0.041399 | 21.2998 | 1234 |\n",
       "| 12.1 | 0 | 11.0 | 11.8 | 11.5 | 0.547 |  96.4 |  25 |  4.4 | 0.084 | 2.9 | 6890 | 12.6 | 0.034201 | 20.9995 |  682 |\n",
       "\n"
      ],
      "text/plain": [
       "  M    So Ed   Po1  Po2  LF    M.F   Pop NW   U1    U2  Wealth Ineq Prob    \n",
       "1 15.1 1   9.1  5.8  5.6 0.510  95.0  33 30.1 0.108 4.1 3940   26.1 0.084602\n",
       "2 14.3 0  11.3 10.3  9.5 0.583 101.2  13 10.2 0.096 3.6 5570   19.4 0.029599\n",
       "3 14.2 1   8.9  4.5  4.4 0.533  96.9  18 21.9 0.094 3.3 3180   25.0 0.083401\n",
       "4 13.6 0  12.1 14.9 14.1 0.577  99.4 157  8.0 0.102 3.9 6730   16.7 0.015801\n",
       "5 14.1 0  12.1 10.9 10.1 0.591  98.5  18  3.0 0.091 2.0 5780   17.4 0.041399\n",
       "6 12.1 0  11.0 11.8 11.5 0.547  96.4  25  4.4 0.084 2.9 6890   12.6 0.034201\n",
       "  Time    Crime\n",
       "1 26.2011  791 \n",
       "2 25.2999 1635 \n",
       "3 24.3006  578 \n",
       "4 29.9012 1969 \n",
       "5 21.2998 1234 \n",
       "6 20.9995  682 "
      ]
     },
     "metadata": {},
     "output_type": "display_data"
    }
   ],
   "source": [
    "#checking the data\n",
    "head(crime)"
   ]
  },
  {
   "cell_type": "markdown",
   "metadata": {},
   "source": [
    "### Splitting data for training and testing"
   ]
  },
  {
   "cell_type": "code",
   "execution_count": 15,
   "metadata": {},
   "outputs": [],
   "source": [
    "#number of rows in crime data set\n",
    "r<-nrow(crime)"
   ]
  },
  {
   "cell_type": "code",
   "execution_count": 16,
   "metadata": {},
   "outputs": [],
   "source": [
    "set.seed(1)\n",
    "\n",
    "#generating random numbers for index\n",
    "train<-round(sample(1:r, size=r*0.8))\n",
    "\n",
    "#getting data with random indices\n",
    "training<-crime[train,]\n",
    "\n",
    "#assiging the rest of data to test data set\n",
    "testing<-crime[-train,]"
   ]
  },
  {
   "cell_type": "markdown",
   "metadata": {},
   "source": [
    "### Standardizing the data\n",
    "\n",
    "For standardazing the data, it is not neccessary to scale the output/response and it does not make sense to standardazie a categorical data. So, we will take out independent variable : So and response from data and put it back with normalized data."
   ]
  },
  {
   "cell_type": "code",
   "execution_count": 17,
   "metadata": {},
   "outputs": [],
   "source": [
    "#scaling data, taking out categorical and response variable\n",
    "scaled.data<-scale(crime[,c(-2,-16)],center=TRUE,scale=TRUE) \n",
    "\n",
    "#binding categorical and response variable to training and test data\n",
    "scaled.tr<-cbind(scaled.data[train,],crime[train,c(2,16)])\n",
    "scaled.te<-cbind(scaled.data[-train,],crime[-train,c(2,16)])\n",
    "\n"
   ]
  },
  {
   "cell_type": "markdown",
   "metadata": {},
   "source": [
    "### Stepwise Regression"
   ]
  },
  {
   "cell_type": "markdown",
   "metadata": {},
   "source": [
    "Stepwise selection is a feature selection technique for linear regression models. We will fit a linear regression model using train() in caret specifying this method."
   ]
  },
  {
   "cell_type": "code",
   "execution_count": 128,
   "metadata": {},
   "outputs": [],
   "source": [
    "set.seed(1)\n",
    "\n",
    "#cross-validation, 5-fold\n",
    "train.control=trainControl(method=\"cv\",\n",
    "                          number=5)\n",
    "#we don't need scaled data for this method\n",
    "sw.model<-train(Crime~.,data=training,\n",
    "             method=\"lmStepAIC\",\n",
    "             trControl=train.control,\n",
    "             trace=FALSE)\n"
   ]
  },
  {
   "cell_type": "code",
   "execution_count": 129,
   "metadata": {},
   "outputs": [
    {
     "data": {
      "text/plain": [
       "\n",
       "Call:\n",
       "lm(formula = .outcome ~ M + Ed + Po1 + U2 + Wealth + Ineq, data = dat)\n",
       "\n",
       "Residuals:\n",
       "    Min      1Q  Median      3Q     Max \n",
       "-271.32 -123.33  -13.88  106.18  329.92 \n",
       "\n",
       "Coefficients:\n",
       "              Estimate Std. Error t value Pr(>|t|)    \n",
       "(Intercept) -6.627e+03  1.001e+03  -6.618 2.51e-07 ***\n",
       "M            9.647e+01  3.199e+01   3.016  0.00518 ** \n",
       "Ed           2.309e+02  4.702e+01   4.910 3.01e-05 ***\n",
       "Po1          8.464e+01  1.829e+01   4.628 6.65e-05 ***\n",
       "U2           8.287e+01  3.797e+01   2.183  0.03703 *  \n",
       "Wealth       1.581e-01  9.429e-02   1.677  0.10390    \n",
       "Ineq         9.759e+01  1.853e+01   5.267 1.09e-05 ***\n",
       "---\n",
       "Signif. codes:  0 '***' 0.001 '**' 0.01 '*' 0.05 '.' 0.1 ' ' 1\n",
       "\n",
       "Residual standard error: 168.2 on 30 degrees of freedom\n",
       "Multiple R-squared:  0.7557,\tAdjusted R-squared:  0.7069 \n",
       "F-statistic: 15.47 on 6 and 30 DF,  p-value: 5.313e-08\n"
      ]
     },
     "metadata": {},
     "output_type": "display_data"
    }
   ],
   "source": [
    "summary(sw.model)"
   ]
  },
  {
   "cell_type": "code",
   "execution_count": 130,
   "metadata": {},
   "outputs": [
    {
     "data": {
      "text/plain": [
       "\n",
       "Call:\n",
       "lm(formula = .outcome ~ M + Ed + Po1 + U2 + Wealth + Ineq, data = dat)\n",
       "\n",
       "Coefficients:\n",
       "(Intercept)            M           Ed          Po1           U2       Wealth  \n",
       " -6627.4427      96.4691     230.8667      84.6435      82.8654       0.1581  \n",
       "       Ineq  \n",
       "    97.5886  \n"
      ]
     },
     "metadata": {},
     "output_type": "display_data"
    }
   ],
   "source": [
    "sw.model$finalModel"
   ]
  },
  {
   "cell_type": "markdown",
   "metadata": {},
   "source": [
    "Using stepwise selection, 6 features have been selected to fit a linear regression. Connsidering the fact that we have only 37 observations for training the model, and 6 variables contributing in model, there is still overfitting.\n",
    "\n",
    "Looking at coefficients of the model, it makes sense that income inequality has the most weight in predicting crime rate,\n",
    "followed by years of education, police protection,wealth, percentage of male poplulation, and unemployment with next higher coefficients.\n",
    "\n",
    "Stepwise method to select features has some drawbacks. Stepwise selection uses many repeated hypothesis tests to make decisions on the inclusion or exclusion of individual predictors. The corresponding p-values are unadjusted, leading to an over-selection of features (i.e., false positive findings). In addition, this problem is exacerbated when highly correlated predictors are present.\n",
    "\n",
    "If we look closer at features selected by final model, we observe that many of them highly correlated. \n",
    "\n",
    "Stepwise selection uses greedy algorithm that give us the \"good enough\" solution which might not be the \"best solution\".\n"
   ]
  },
  {
   "cell_type": "code",
   "execution_count": 131,
   "metadata": {},
   "outputs": [],
   "source": [
    "#function to calculate R-squared\n",
    "#input: predicted and actual values\n",
    "#returns R-squared value\n",
    "R_squared<-function(prediction,actual){\n",
    "    \n",
    "    sse<-sum((prediction-actual)^2)\n",
    "    sst<-sum((actual-mean(actual))^2)\n",
    "   \n",
    "    return(1-sse/sst)\n",
    "}"
   ]
  },
  {
   "cell_type": "code",
   "execution_count": 132,
   "metadata": {},
   "outputs": [],
   "source": [
    "#prediction of test data set\n",
    "sw.pred<-predict(sw.model,testing[,-16])\n"
   ]
  },
  {
   "cell_type": "code",
   "execution_count": 133,
   "metadata": {},
   "outputs": [
    {
     "data": {
      "text/html": [
       "<style>\n",
       ".dl-inline {width: auto; margin:0; padding: 0}\n",
       ".dl-inline>dt, .dl-inline>dd {float: none; width: auto; display: inline-block}\n",
       ".dl-inline>dt::after {content: \":\\0020\"; padding-right: .5ex}\n",
       ".dl-inline>dt:not(:first-of-type) {padding-left: .5ex}\n",
       "</style><dl class=dl-inline><dt>RMSE</dt><dd>345.171456521377</dd><dt>Rsquared</dt><dd>0.721678997758258</dd><dt>MAE</dt><dd>273.847016390542</dd></dl>\n"
      ],
      "text/latex": [
       "\\begin{description*}\n",
       "\\item[RMSE] 345.171456521377\n",
       "\\item[Rsquared] 0.721678997758258\n",
       "\\item[MAE] 273.847016390542\n",
       "\\end{description*}\n"
      ],
      "text/markdown": [
       "RMSE\n",
       ":   345.171456521377Rsquared\n",
       ":   0.721678997758258MAE\n",
       ":   273.847016390542\n",
       "\n"
      ],
      "text/plain": [
       "      RMSE   Rsquared        MAE \n",
       "345.171457   0.721679 273.847016 "
      ]
     },
     "metadata": {},
     "output_type": "display_data"
    }
   ],
   "source": [
    "#using caret package to find R2\n",
    "postResample(pred = sw.pred, obs = scaled.te$Crime)\n"
   ]
  },
  {
   "cell_type": "code",
   "execution_count": 134,
   "metadata": {},
   "outputs": [
    {
     "data": {
      "text/html": [
       "0.721678997758258"
      ],
      "text/latex": [
       "0.721678997758258"
      ],
      "text/markdown": [
       "0.721678997758258"
      ],
      "text/plain": [
       "[1] 0.721679"
      ]
     },
     "metadata": {},
     "output_type": "display_data"
    }
   ],
   "source": [
    "#checking the correlation matrix\n",
    "cor(sw.pred,scaled.te$Crime)**2"
   ]
  },
  {
   "cell_type": "markdown",
   "metadata": {},
   "source": [
    "The above function in caret uses the correlation squared approximation for R-squared not the conventional 1-SSE/SST.\n",
    "We can calculate R-squared as Explained variation / Total variation: "
   ]
  },
  {
   "cell_type": "code",
   "execution_count": 135,
   "metadata": {},
   "outputs": [
    {
     "data": {
      "text/html": [
       "0.630154168694992"
      ],
      "text/latex": [
       "0.630154168694992"
      ],
      "text/markdown": [
       "0.630154168694992"
      ],
      "text/plain": [
       "[1] 0.6301542"
      ]
     },
     "metadata": {},
     "output_type": "display_data"
    }
   ],
   "source": [
    "sw.R2<-R_squared(sw.pred,scaled.te$Crime)\n",
    "sw.R2"
   ]
  },
  {
   "cell_type": "markdown",
   "metadata": {},
   "source": [
    "It is very hard to evaluate the model quality since we have only 20 data points for test set and 6 independent variables.Even in prediction of test data set, there is still possibility of overfitting. However, compared to techniques used in previous homeworks, this model shows a good performance."
   ]
  },
  {
   "cell_type": "markdown",
   "metadata": {},
   "source": [
    "### Lasso Regression"
   ]
  },
  {
   "cell_type": "code",
   "execution_count": 136,
   "metadata": {},
   "outputs": [],
   "source": [
    "lambda <- 10^seq(-3, 3, length = 100)\n",
    "\n",
    "set.seed(1)\n",
    "\n",
    "train.control=trainControl(method=\"cv\",\n",
    "                          number=5)\n",
    "\n",
    "lasso.model<-train(Crime~.,data=scaled.tr,#using scaled training data\n",
    "             method=\"glmnet\",\n",
    "             trControl=train.control,\n",
    "             tuneGrid=expand.grid(alpha=1,lambda=lambda))#for lasso, alpha=1\n"
   ]
  },
  {
   "cell_type": "code",
   "execution_count": 137,
   "metadata": {},
   "outputs": [
    {
     "data": {
      "text/plain": [
       "            Length Class      Mode     \n",
       "a0            88   -none-     numeric  \n",
       "beta        1320   dgCMatrix  S4       \n",
       "df            88   -none-     numeric  \n",
       "dim            2   -none-     numeric  \n",
       "lambda        88   -none-     numeric  \n",
       "dev.ratio     88   -none-     numeric  \n",
       "nulldev        1   -none-     numeric  \n",
       "npasses        1   -none-     numeric  \n",
       "jerr           1   -none-     numeric  \n",
       "offset         1   -none-     logical  \n",
       "call           5   -none-     call     \n",
       "nobs           1   -none-     numeric  \n",
       "lambdaOpt      1   -none-     numeric  \n",
       "xNames        15   -none-     character\n",
       "problemType    1   -none-     character\n",
       "tuneValue      2   data.frame list     \n",
       "obsLevels      1   -none-     logical  \n",
       "param          0   -none-     list     "
      ]
     },
     "metadata": {},
     "output_type": "display_data"
    }
   ],
   "source": [
    "summary(lasso.model)"
   ]
  },
  {
   "cell_type": "code",
   "execution_count": 139,
   "metadata": {},
   "outputs": [
    {
     "data": {
      "text/html": [
       "<table>\n",
       "<caption>A data.frame: 1 × 2</caption>\n",
       "<thead>\n",
       "\t<tr><th></th><th scope=col>alpha</th><th scope=col>lambda</th></tr>\n",
       "\t<tr><th></th><th scope=col>&lt;dbl&gt;</th><th scope=col>&lt;dbl&gt;</th></tr>\n",
       "</thead>\n",
       "<tbody>\n",
       "\t<tr><th scope=row>60</th><td>1</td><td>3.764936</td></tr>\n",
       "</tbody>\n",
       "</table>\n"
      ],
      "text/latex": [
       "A data.frame: 1 × 2\n",
       "\\begin{tabular}{r|ll}\n",
       "  & alpha & lambda\\\\\n",
       "  & <dbl> & <dbl>\\\\\n",
       "\\hline\n",
       "\t60 & 1 & 3.764936\\\\\n",
       "\\end{tabular}\n"
      ],
      "text/markdown": [
       "\n",
       "A data.frame: 1 × 2\n",
       "\n",
       "| <!--/--> | alpha &lt;dbl&gt; | lambda &lt;dbl&gt; |\n",
       "|---|---|---|\n",
       "| 60 | 1 | 3.764936 |\n",
       "\n"
      ],
      "text/plain": [
       "   alpha lambda  \n",
       "60 1     3.764936"
      ]
     },
     "metadata": {},
     "output_type": "display_data"
    }
   ],
   "source": [
    "#optimized value for lambda\n",
    "lasso.model$bestTune"
   ]
  },
  {
   "cell_type": "code",
   "execution_count": 140,
   "metadata": {},
   "outputs": [
    {
     "data": {
      "text/plain": [
       "16 x 1 sparse Matrix of class \"dgCMatrix\"\n",
       "                     1\n",
       "(Intercept) 878.540684\n",
       "M            92.176884\n",
       "Ed          237.015651\n",
       "Po1         222.407558\n",
       "Po2           .       \n",
       "LF            .       \n",
       "M.F           .       \n",
       "Pop           1.090525\n",
       "NW           67.084266\n",
       "U1            4.894793\n",
       "U2           59.104608\n",
       "Wealth       99.155343\n",
       "Ineq        317.573754\n",
       "Prob        -67.278009\n",
       "Time        -28.372296\n",
       "So            .       "
      ]
     },
     "metadata": {},
     "output_type": "display_data"
    }
   ],
   "source": [
    "# Model coefficients\n",
    "coef(lasso.model$finalModel, lasso.model$bestTune$lambda)\n"
   ]
  },
  {
   "cell_type": "code",
   "execution_count": 147,
   "metadata": {},
   "outputs": [],
   "source": [
    "# Make predictions\n",
    "lasso.pred <- lasso.model %>% predict(scaled.te[,-16])\n"
   ]
  },
  {
   "cell_type": "code",
   "execution_count": 148,
   "metadata": {},
   "outputs": [
    {
     "data": {
      "text/html": [
       "<style>\n",
       ".dl-inline {width: auto; margin:0; padding: 0}\n",
       ".dl-inline>dt, .dl-inline>dd {float: none; width: auto; display: inline-block}\n",
       ".dl-inline>dt::after {content: \":\\0020\"; padding-right: .5ex}\n",
       ".dl-inline>dt:not(:first-of-type) {padding-left: .5ex}\n",
       "</style><dl class=dl-inline><dt>RMSE</dt><dd>344.032943800282</dd><dt>Rsquared</dt><dd>0.719888753838912</dd><dt>MAE</dt><dd>274.446349336118</dd></dl>\n"
      ],
      "text/latex": [
       "\\begin{description*}\n",
       "\\item[RMSE] 344.032943800282\n",
       "\\item[Rsquared] 0.719888753838912\n",
       "\\item[MAE] 274.446349336118\n",
       "\\end{description*}\n"
      ],
      "text/markdown": [
       "RMSE\n",
       ":   344.032943800282Rsquared\n",
       ":   0.719888753838912MAE\n",
       ":   274.446349336118\n",
       "\n"
      ],
      "text/plain": [
       "       RMSE    Rsquared         MAE \n",
       "344.0329438   0.7198888 274.4463493 "
      ]
     },
     "metadata": {},
     "output_type": "display_data"
    }
   ],
   "source": [
    "postResample(lasso.pred, scaled.te$Crime)"
   ]
  },
  {
   "cell_type": "code",
   "execution_count": 149,
   "metadata": {},
   "outputs": [
    {
     "data": {
      "text/html": [
       "0.632589942226048"
      ],
      "text/latex": [
       "0.632589942226048"
      ],
      "text/markdown": [
       "0.632589942226048"
      ],
      "text/plain": [
       "[1] 0.6325899"
      ]
     },
     "metadata": {},
     "output_type": "display_data"
    }
   ],
   "source": [
    "#R-squared value for test data \n",
    "lasso.R2<-R_squared(lasso.pred,scaled.te$Crime)\n",
    "lasso.R2"
   ]
  },
  {
   "cell_type": "markdown",
   "metadata": {},
   "source": [
    "The R-Squared value for lasso is slightly better than stepwise method. If we look at variables selected for lasso regression model, we observe that important features in stepwise regression (M, Ed, Po1, U2, Wealth and Ineq) are also among important features here.\n"
   ]
  },
  {
   "cell_type": "code",
   "execution_count": 150,
   "metadata": {},
   "outputs": [
    {
     "data": {
      "image/png": "[encoded data removed]",
      "text/plain": [
       "plot without title"
      ]
     },
     "metadata": {
      "image/png": {
       "height": 420,
       "width": 420
      },
      "text/plain": {
       "height": 420,
       "width": 420
      }
     },
     "output_type": "display_data"
    }
   ],
   "source": [
    "#visualizing features ranked by importance\n",
    "plot(varImp(lasso.model, scale = FALSE))"
   ]
  },
  {
   "cell_type": "markdown",
   "metadata": {},
   "source": [
    "### Elastic net Regression"
   ]
  },
  {
   "cell_type": "code",
   "execution_count": 151,
   "metadata": {},
   "outputs": [],
   "source": [
    "lambda_e<-seq(0,100)\n",
    "alpha_e<-seq(0,1,by=0.1)"
   ]
  },
  {
   "cell_type": "code",
   "execution_count": 152,
   "metadata": {},
   "outputs": [],
   "source": [
    "set.seed(1)\n",
    "\n",
    "train.control=trainControl(method=\"cv\",\n",
    "                          number=5)\n",
    "\n",
    "elastic.model<-train(Crime~.,data=scaled.tr,\n",
    "             method=\"glmnet\",\n",
    "             trControl=train.control,\n",
    "             tuneGrid=expand.grid(alpha=alpha_e,lambda=lambda_e))\n"
   ]
  },
  {
   "cell_type": "code",
   "execution_count": 153,
   "metadata": {
    "scrolled": false
   },
   "outputs": [
    {
     "data": {
      "text/plain": [
       "            Length Class      Mode     \n",
       "a0            95   -none-     numeric  \n",
       "beta        1425   dgCMatrix  S4       \n",
       "df            95   -none-     numeric  \n",
       "dim            2   -none-     numeric  \n",
       "lambda        95   -none-     numeric  \n",
       "dev.ratio     95   -none-     numeric  \n",
       "nulldev        1   -none-     numeric  \n",
       "npasses        1   -none-     numeric  \n",
       "jerr           1   -none-     numeric  \n",
       "offset         1   -none-     logical  \n",
       "call           5   -none-     call     \n",
       "nobs           1   -none-     numeric  \n",
       "lambdaOpt      1   -none-     numeric  \n",
       "xNames        15   -none-     character\n",
       "problemType    1   -none-     character\n",
       "tuneValue      2   data.frame list     \n",
       "obsLevels      1   -none-     logical  \n",
       "param          0   -none-     list     "
      ]
     },
     "metadata": {},
     "output_type": "display_data"
    }
   ],
   "source": [
    "summary(elastic.model)"
   ]
  },
  {
   "cell_type": "code",
   "execution_count": 154,
   "metadata": {
    "scrolled": false
   },
   "outputs": [
    {
     "data": {
      "text/html": [
       "<table>\n",
       "<caption>A data.frame: 1 × 2</caption>\n",
       "<thead>\n",
       "\t<tr><th></th><th scope=col>alpha</th><th scope=col>lambda</th></tr>\n",
       "\t<tr><th></th><th scope=col>&lt;dbl&gt;</th><th scope=col>&lt;int&gt;</th></tr>\n",
       "</thead>\n",
       "<tbody>\n",
       "\t<tr><th scope=row>612</th><td>0.6</td><td>5</td></tr>\n",
       "</tbody>\n",
       "</table>\n"
      ],
      "text/latex": [
       "A data.frame: 1 × 2\n",
       "\\begin{tabular}{r|ll}\n",
       "  & alpha & lambda\\\\\n",
       "  & <dbl> & <int>\\\\\n",
       "\\hline\n",
       "\t612 & 0.6 & 5\\\\\n",
       "\\end{tabular}\n"
      ],
      "text/markdown": [
       "\n",
       "A data.frame: 1 × 2\n",
       "\n",
       "| <!--/--> | alpha &lt;dbl&gt; | lambda &lt;int&gt; |\n",
       "|---|---|---|\n",
       "| 612 | 0.6 | 5 |\n",
       "\n"
      ],
      "text/plain": [
       "    alpha lambda\n",
       "612 0.6   5     "
      ]
     },
     "metadata": {},
     "output_type": "display_data"
    }
   ],
   "source": [
    "elastic.model$bestTune"
   ]
  },
  {
   "cell_type": "code",
   "execution_count": 68,
   "metadata": {},
   "outputs": [
    {
     "data": {
      "text/plain": [
       "16 x 1 sparse Matrix of class \"dgCMatrix\"\n",
       "                      1\n",
       "(Intercept) 877.0066371\n",
       "M            94.7137235\n",
       "Ed          228.7915566\n",
       "Po1         211.8315893\n",
       "Po2           .        \n",
       "LF           -0.5923834\n",
       "M.F           .        \n",
       "Pop           8.0929198\n",
       "NW           70.1606782\n",
       "U1            9.1056773\n",
       "U2           54.5285415\n",
       "Wealth      104.8634242\n",
       "Ineq        308.8210598\n",
       "Prob        -71.7776731\n",
       "Time        -35.8642094\n",
       "So            .        "
      ]
     },
     "metadata": {},
     "output_type": "display_data"
    }
   ],
   "source": [
    "coef(elastic.model$finalModel, elastic.model$finalModel$lambdaOpt)"
   ]
  },
  {
   "cell_type": "code",
   "execution_count": 126,
   "metadata": {},
   "outputs": [
    {
     "data": {
      "image/png": "[encoded data removed]",
      "text/plain": [
       "plot without title"
      ]
     },
     "metadata": {
      "image/png": {
       "height": 420,
       "width": 420
      },
      "text/plain": {
       "height": 420,
       "width": 420
      }
     },
     "output_type": "display_data"
    }
   ],
   "source": [
    "plot(varImp(elastic.model))"
   ]
  },
  {
   "cell_type": "code",
   "execution_count": 123,
   "metadata": {},
   "outputs": [],
   "source": [
    "elastic.pred<-predict(elastic.model,scaled.te[,-16])"
   ]
  },
  {
   "cell_type": "code",
   "execution_count": 155,
   "metadata": {},
   "outputs": [
    {
     "data": {
      "text/html": [
       "0.621159189660338"
      ],
      "text/latex": [
       "0.621159189660338"
      ],
      "text/markdown": [
       "0.621159189660338"
      ],
      "text/plain": [
       "[1] 0.6211592"
      ]
     },
     "metadata": {},
     "output_type": "display_data"
    }
   ],
   "source": [
    "#R-squared value\n",
    "R_squared(elastic.pred,scaled.te$Crime)"
   ]
  },
  {
   "cell_type": "code",
   "execution_count": 125,
   "metadata": {},
   "outputs": [
    {
     "data": {
      "text/html": [
       "<style>\n",
       ".dl-inline {width: auto; margin:0; padding: 0}\n",
       ".dl-inline>dt, .dl-inline>dd {float: none; width: auto; display: inline-block}\n",
       ".dl-inline>dt::after {content: \":\\0020\"; padding-right: .5ex}\n",
       ".dl-inline>dt:not(:first-of-type) {padding-left: .5ex}\n",
       "</style><dl class=dl-inline><dt>RMSE</dt><dd>349.343679042636</dd><dt>Rsquared</dt><dd>0.720960605420118</dd><dt>MAE</dt><dd>277.890937393843</dd></dl>\n"
      ],
      "text/latex": [
       "\\begin{description*}\n",
       "\\item[RMSE] 349.343679042636\n",
       "\\item[Rsquared] 0.720960605420118\n",
       "\\item[MAE] 277.890937393843\n",
       "\\end{description*}\n"
      ],
      "text/markdown": [
       "RMSE\n",
       ":   349.343679042636Rsquared\n",
       ":   0.720960605420118MAE\n",
       ":   277.890937393843\n",
       "\n"
      ],
      "text/plain": [
       "       RMSE    Rsquared         MAE \n",
       "349.3436790   0.7209606 277.8909374 "
      ]
     },
     "metadata": {},
     "output_type": "display_data"
    }
   ],
   "source": [
    "postResample(elastic.pred,scaled.te$Crime)"
   ]
  },
  {
   "cell_type": "markdown",
   "metadata": {},
   "source": [
    "Using elastic net method, we can see similar features are selected in fitting the model. R-squared value of elastic net method is slightly worse than the other two methods.\n",
    "\n",
    "Overall, for our data set, stepwise selection and lasso method result in a linear regression model with decent R-squared values. These models are also easy to interpret and show better performance (compared to models built before such as PCA and random forest)."
   ]
  },
  {
   "cell_type": "code",
   "execution_count": 69,
   "metadata": {},
   "outputs": [
    {
     "data": {
      "image/png": "[encoded data removed]",
      "text/plain": [
       "plot without title"
      ]
     },
     "metadata": {
      "image/png": {
       "height": 420,
       "width": 420
      },
      "text/plain": {
       "height": 420,
       "width": 420
      }
     },
     "output_type": "display_data"
    }
   ],
   "source": [
    "plot(elastic.model)"
   ]
  }
 ],
 "metadata": {
  "kernelspec": {
   "display_name": "R",
   "language": "R",
   "name": "ir"
  },
  "language_info": {
   "codemirror_mode": "r",
   "file_extension": ".r",
   "mimetype": "text/x-r-source",
   "name": "R",
   "pygments_lexer": "r",
   "version": "3.6.1"
  }
 },
 "nbformat": 4,
 "nbformat_minor": 2
}
