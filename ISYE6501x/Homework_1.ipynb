{
 "cells": [
  {
   "cell_type": "markdown",
   "metadata": {},
   "source": [
    "<p style=\"font-family: Arial; font-size:1.75em;color:#2462C0; font-style:bold\">ISYE6501x : Homework 1 </p>"
   ]
  },
  {
   "cell_type": "markdown",
   "metadata": {},
   "source": [
    "<p style=\"font-family: Arial; font-size:1.5em;color:#2462C0; font-style:bold\">    Question 2.1 </p>"
   ]
  },
  {
   "cell_type": "markdown",
   "metadata": {},
   "source": [
    "#### Describe a situation or problem from your job, everyday life, current events, etc., for which a classification model would be appropriate. List some (up to 5) predictors that you might use.####"
   ]
  },
  {
   "cell_type": "markdown",
   "metadata": {},
   "source": [
    "Answer:\n",
    "\n",
    "As an electrical engineer who works in building/construction industry, it is very crucial to do a good estimation of project's cost which will help the project not become over budget.\n",
    "A machine learning  classifier, binary or multi=class, will be beneficial to predict  if the proposal fees leads in making a profit or not.\n",
    "\n",
    "An appropriate predictor would be to retrieve a similar project by matching a set of project attributes ( such as type of the building, location, size of the building, client type, etc)  and predict if the proposed fees will result in a profitable project based on the actual cost at the time of closing and the proposed fees for the new project.\n"
   ]
  },
  {
   "cell_type": "markdown",
   "metadata": {},
   "source": [
    "<p style=\"font-family: Arial; font-size:1.5em;color:#2462C0; font-style:bold\">    Question 2.2 </p>"
   ]
  },
  {
   "cell_type": "markdown",
   "metadata": {},
   "source": [
    "<p style=\"font-family: Arial; font-size:1.25em;color:#2462C0; font-style:bold\">Part 1 & 2 </p>"
   ]
  },
  {
   "cell_type": "markdown",
   "metadata": {},
   "source": [
    "Using the support vector machine function ksvm contained in the R package kernlab, find a\n",
    "good classifier for this data. Show the equation of your classifier, and how well it classifies the\n",
    "data points in the full data set."
   ]
  },
  {
   "cell_type": "markdown",
   "metadata": {},
   "source": [
    "First we need to install required packages."
   ]
  },
  {
   "cell_type": "code",
   "execution_count": 4,
   "metadata": {},
   "outputs": [
    {
     "name": "stderr",
     "output_type": "stream",
     "text": [
      "Installing package into 'C:/Users/fayal/R/win-library/3.6'\n",
      "(as 'lib' is unspecified)\n"
     ]
    },
    {
     "name": "stdout",
     "output_type": "stream",
     "text": [
      "package 'kernlab' successfully unpacked and MD5 sums checked\n",
      "\n",
      "The downloaded binary packages are in\n",
      "\tC:\\Users\\fayal\\AppData\\Local\\Temp\\RtmpQpwYRB\\downloaded_packages\n"
     ]
    }
   ],
   "source": [
    "install.packages(\"kernlab\")\n"
   ]
  },
  {
   "cell_type": "code",
   "execution_count": 64,
   "metadata": {},
   "outputs": [
    {
     "name": "stderr",
     "output_type": "stream",
     "text": [
      "Installing package into 'C:/Users/fayal/R/win-library/3.6'\n",
      "(as 'lib' is unspecified)\n",
      "also installing the dependency 'pROC'\n",
      "\n"
     ]
    },
    {
     "name": "stdout",
     "output_type": "stream",
     "text": [
      "\n",
      "  There is a binary version available but the source version is later:\n",
      "     binary source needs_compilation\n",
      "pROC 1.15.3 1.16.1              TRUE\n",
      "\n",
      "  Binaries will be installed\n",
      "package 'pROC' successfully unpacked and MD5 sums checked\n",
      "package 'caret' successfully unpacked and MD5 sums checked\n",
      "\n",
      "The downloaded binary packages are in\n",
      "\tC:\\Users\\fayal\\AppData\\Local\\Temp\\Rtmp6LejOJ\\downloaded_packages\n"
     ]
    }
   ],
   "source": [
    "install.packages(\"caret\")"
   ]
  },
  {
   "cell_type": "code",
   "execution_count": 100,
   "metadata": {},
   "outputs": [
    {
     "name": "stderr",
     "output_type": "stream",
     "text": [
      "Installing package into 'C:/Users/fayal/R/win-library/3.6'\n",
      "(as 'lib' is unspecified)\n",
      "Warning message:\n",
      "\"package 'e1071' is in use and will not be installed\""
     ]
    }
   ],
   "source": [
    "install.packages(\"e1071\")"
   ]
  },
  {
   "cell_type": "code",
   "execution_count": 129,
   "metadata": {},
   "outputs": [
    {
     "name": "stderr",
     "output_type": "stream",
     "text": [
      "Installing package into 'C:/Users/fayal/R/win-library/3.6'\n",
      "(as 'lib' is unspecified)\n",
      "also installing the dependency 'igraph'\n",
      "\n"
     ]
    },
    {
     "name": "stdout",
     "output_type": "stream",
     "text": [
      "package 'igraph' successfully unpacked and MD5 sums checked\n",
      "package 'kknn' successfully unpacked and MD5 sums checked\n",
      "\n",
      "The downloaded binary packages are in\n",
      "\tC:\\Users\\fayal\\AppData\\Local\\Temp\\Rtmp6LejOJ\\downloaded_packages\n"
     ]
    }
   ],
   "source": [
    "install.packages(\"kknn\")"
   ]
  },
  {
   "cell_type": "code",
   "execution_count": 194,
   "metadata": {},
   "outputs": [],
   "source": [
    "library(kernlab)"
   ]
  },
  {
   "cell_type": "code",
   "execution_count": 3,
   "metadata": {},
   "outputs": [],
   "source": [
    "#Loading data in a table format\n",
    "data <- read.table(\"credit_card_data-headers.txt\",\n",
    "                  header=TRUE,\n",
    "                  stringsAsFactors = FALSE)"
   ]
  },
  {
   "cell_type": "code",
   "execution_count": 4,
   "metadata": {},
   "outputs": [
    {
     "data": {
      "text/html": [
       "<table>\n",
       "<thead><tr><th scope=col>A1</th><th scope=col>A2</th><th scope=col>A3</th><th scope=col>A8</th><th scope=col>A9</th><th scope=col>A10</th><th scope=col>A11</th><th scope=col>A12</th><th scope=col>A14</th><th scope=col>A15</th><th scope=col>R1</th></tr></thead>\n",
       "<tbody>\n",
       "\t<tr><td>1    </td><td>30.83</td><td>0.000</td><td>1.25 </td><td>1    </td><td>0    </td><td>1    </td><td>1    </td><td>202  </td><td>  0  </td><td>1    </td></tr>\n",
       "\t<tr><td>0    </td><td>58.67</td><td>4.460</td><td>3.04 </td><td>1    </td><td>0    </td><td>6    </td><td>1    </td><td> 43  </td><td>560  </td><td>1    </td></tr>\n",
       "\t<tr><td>0    </td><td>24.50</td><td>0.500</td><td>1.50 </td><td>1    </td><td>1    </td><td>0    </td><td>1    </td><td>280  </td><td>824  </td><td>1    </td></tr>\n",
       "\t<tr><td>1    </td><td>27.83</td><td>1.540</td><td>3.75 </td><td>1    </td><td>0    </td><td>5    </td><td>0    </td><td>100  </td><td>  3  </td><td>1    </td></tr>\n",
       "\t<tr><td>1    </td><td>20.17</td><td>5.625</td><td>1.71 </td><td>1    </td><td>1    </td><td>0    </td><td>1    </td><td>120  </td><td>  0  </td><td>1    </td></tr>\n",
       "\t<tr><td>1    </td><td>32.08</td><td>4.000</td><td>2.50 </td><td>1    </td><td>1    </td><td>0    </td><td>0    </td><td>360  </td><td>  0  </td><td>1    </td></tr>\n",
       "</tbody>\n",
       "</table>\n"
      ],
      "text/latex": [
       "\\begin{tabular}{r|lllllllllll}\n",
       " A1 & A2 & A3 & A8 & A9 & A10 & A11 & A12 & A14 & A15 & R1\\\\\n",
       "\\hline\n",
       "\t 1     & 30.83 & 0.000 & 1.25  & 1     & 0     & 1     & 1     & 202   &   0   & 1    \\\\\n",
       "\t 0     & 58.67 & 4.460 & 3.04  & 1     & 0     & 6     & 1     &  43   & 560   & 1    \\\\\n",
       "\t 0     & 24.50 & 0.500 & 1.50  & 1     & 1     & 0     & 1     & 280   & 824   & 1    \\\\\n",
       "\t 1     & 27.83 & 1.540 & 3.75  & 1     & 0     & 5     & 0     & 100   &   3   & 1    \\\\\n",
       "\t 1     & 20.17 & 5.625 & 1.71  & 1     & 1     & 0     & 1     & 120   &   0   & 1    \\\\\n",
       "\t 1     & 32.08 & 4.000 & 2.50  & 1     & 1     & 0     & 0     & 360   &   0   & 1    \\\\\n",
       "\\end{tabular}\n"
      ],
      "text/markdown": [
       "\n",
       "| A1 | A2 | A3 | A8 | A9 | A10 | A11 | A12 | A14 | A15 | R1 |\n",
       "|---|---|---|---|---|---|---|---|---|---|---|\n",
       "| 1     | 30.83 | 0.000 | 1.25  | 1     | 0     | 1     | 1     | 202   |   0   | 1     |\n",
       "| 0     | 58.67 | 4.460 | 3.04  | 1     | 0     | 6     | 1     |  43   | 560   | 1     |\n",
       "| 0     | 24.50 | 0.500 | 1.50  | 1     | 1     | 0     | 1     | 280   | 824   | 1     |\n",
       "| 1     | 27.83 | 1.540 | 3.75  | 1     | 0     | 5     | 0     | 100   |   3   | 1     |\n",
       "| 1     | 20.17 | 5.625 | 1.71  | 1     | 1     | 0     | 1     | 120   |   0   | 1     |\n",
       "| 1     | 32.08 | 4.000 | 2.50  | 1     | 1     | 0     | 0     | 360   |   0   | 1     |\n",
       "\n"
      ],
      "text/plain": [
       "  A1 A2    A3    A8   A9 A10 A11 A12 A14 A15 R1\n",
       "1 1  30.83 0.000 1.25 1  0   1   1   202   0 1 \n",
       "2 0  58.67 4.460 3.04 1  0   6   1    43 560 1 \n",
       "3 0  24.50 0.500 1.50 1  1   0   1   280 824 1 \n",
       "4 1  27.83 1.540 3.75 1  0   5   0   100   3 1 \n",
       "5 1  20.17 5.625 1.71 1  1   0   1   120   0 1 \n",
       "6 1  32.08 4.000 2.50 1  1   0   0   360   0 1 "
      ]
     },
     "metadata": {},
     "output_type": "display_data"
    }
   ],
   "source": [
    "head(data)"
   ]
  },
  {
   "cell_type": "markdown",
   "metadata": {},
   "source": [
    "<p style=\"font-family: Arial; font-size:1em;color:#2462C0; font-style:bold\"> Classifying data using ksvm </p>"
   ]
  },
  {
   "cell_type": "markdown",
   "metadata": {},
   "source": [
    "Support Vector Machines are an excellent tool for classification.\n",
    "The kernel function is used in training and predicting. This parameter can be set to\n",
    "any function, of class kernel, which computes the inner product in feature space\n",
    "between two vector arguments (see kernels).\n",
    "kernlab provides the most popular kernel functions which can be used by setting\n",
    "the kernel parameter to the following strings:\n",
    "\n",
    "• vanilladot:Linear kernel\n",
    "\n",
    "• rbfdot: Radial Basis kernel \"Gaussian\"\n",
    "\n",
    "• polydot: Polynomial kernel\n",
    "\n",
    " "
   ]
  },
  {
   "cell_type": "code",
   "execution_count": 197,
   "metadata": {},
   "outputs": [],
   "source": [
    "#trying linear and nonlinear kernels to see which kernel gives the lowest error\n",
    "kernels<- c(\"vanilladot\",\"rbfdot\",\"polydot\")\n",
    "cost=100"
   ]
  },
  {
   "cell_type": "code",
   "execution_count": 198,
   "metadata": {
    "scrolled": false
   },
   "outputs": [
    {
     "name": "stdout",
     "output_type": "stream",
     "text": [
      " Setting default kernel parameters  \n",
      " Setting default kernel parameters  \n",
      "[[1]]\n",
      "Support Vector Machine object of class \"ksvm\" \n",
      "\n",
      "SV type: C-svc  (classification) \n",
      " parameter : cost C = 100 \n",
      "\n",
      "Linear (vanilla) kernel function. \n",
      "\n",
      "Number of Support Vectors : 189 \n",
      "\n",
      "Objective Function Value : -17887.92 \n",
      "Training error : 0.136086 \n",
      "\n",
      "[[2]]\n",
      "Support Vector Machine object of class \"ksvm\" \n",
      "\n",
      "SV type: C-svc  (classification) \n",
      " parameter : cost C = 100 \n",
      "\n",
      "Gaussian Radial Basis kernel function. \n",
      " Hyperparameter : sigma =  0.0977682291819642 \n",
      "\n",
      "Number of Support Vectors : 242 \n",
      "\n",
      "Objective Function Value : -8766.773 \n",
      "Training error : 0.045872 \n",
      "\n",
      "[[3]]\n",
      "Support Vector Machine object of class \"ksvm\" \n",
      "\n",
      "SV type: C-svc  (classification) \n",
      " parameter : cost C = 100 \n",
      "\n",
      "Polynomial kernel function. \n",
      " Hyperparameters : degree =  1  scale =  1  offset =  1 \n",
      "\n",
      "Number of Support Vectors : 190 \n",
      "\n",
      "Objective Function Value : -17887.98 \n",
      "Training error : 0.136086 \n",
      "\n"
     ]
    }
   ],
   "source": [
    "# set pseudorandom number generator\n",
    "set.seed(10)\n",
    "\n",
    "models<-NULL\n",
    "for (k in kernels){\n",
    "    model <- ksvm(as.matrix(data[,1:10]),as.factor(data[,11]),\n",
    "              type=\"C-svc\",\n",
    "              kernel=k, \n",
    "              C=cost,\n",
    "              scaled=TRUE)\n",
    "    models<-append(models,model)\n",
    "\n",
    "    }\n",
    "\n",
    "print(models)"
   ]
  },
  {
   "cell_type": "markdown",
   "metadata": {},
   "source": [
    "By Looking at the above models, we can see that the rbfdot kernel : Radial Basis kernel \"Gaussian\" gives the lowest error and is the best kernel out of the three kernels used."
   ]
  },
  {
   "cell_type": "markdown",
   "metadata": {},
   "source": [
    "<p style=\"font-family: Arial; font-size:1em;color:#2462C0; font-style:bold\"> The equation of linear classifier</p>"
   ]
  },
  {
   "cell_type": "code",
   "execution_count": 199,
   "metadata": {},
   "outputs": [
    {
     "name": "stdout",
     "output_type": "stream",
     "text": [
      " Setting default kernel parameters  \n"
     ]
    },
    {
     "data": {
      "text/html": [
       "<table>\n",
       "<thead><tr><th></th><th scope=col>A1</th><th scope=col>A2</th><th scope=col>A3</th><th scope=col>A8</th><th scope=col>A9</th><th scope=col>A10</th><th scope=col>A11</th><th scope=col>A12</th><th scope=col>A14</th><th scope=col>A15</th></tr></thead>\n",
       "<tbody>\n",
       "\t<tr><th scope=row>1</th><td>0.6703899    </td><td>-0.06245717  </td><td>-0.9616313   </td><td>-0.29434003  </td><td> 0.931259    </td><td>-1.1299515   </td><td>-0.3017670   </td><td> 0.9255499   </td><td> 0.1302071028</td><td>-0.1929261   </td></tr>\n",
       "\t<tr><th scope=row>5</th><td>0.6703899    </td><td>-0.95214066  </td><td> 0.1581515   </td><td>-0.15780899  </td><td> 0.931259    </td><td> 0.8836405   </td><td>-0.5031503   </td><td> 0.9255499   </td><td>-0.3569725882</td><td>-0.1929261   </td></tr>\n",
       "\t<tr><th scope=row>6</th><td>0.6703899    </td><td> 0.04186782  </td><td>-0.1653413   </td><td> 0.07666823  </td><td> 0.931259    </td><td> 0.8836405   </td><td>-0.5031503   </td><td>-1.0787867   </td><td> 1.0689191904</td><td>-0.1929261   </td></tr>\n",
       "\t<tr><th scope=row>9</th><td>0.6703899    </td><td> 1.90636399  </td><td>-0.8620951   </td><td> 0.51000589  </td><td> 0.931259    </td><td> 0.8836405   </td><td>-0.5031503   </td><td> 0.9255499   </td><td>-0.0004996435</td><td>-0.1331088   </td></tr>\n",
       "\t<tr><th scope=row>11</th><td>0.6703899    </td><td>-0.79273208  </td><td>-0.7964012   </td><td>-0.02276198  </td><td>-1.072173    </td><td> 0.8836405   </td><td>-0.5031503   </td><td>-1.0787867   </td><td>-0.3094428622</td><td>-0.1929261   </td></tr>\n",
       "\t<tr><th scope=row>12</th><td>0.6703899    </td><td>-0.13840576  </td><td>-0.5963333   </td><td> 0.62130837  </td><td> 0.931259    </td><td> 0.8836405   </td><td>-0.5031503   </td><td> 0.9255499   </td><td> 0.4747976160</td><td>-0.1548259   </td></tr>\n",
       "</tbody>\n",
       "</table>\n"
      ],
      "text/latex": [
       "\\begin{tabular}{r|llllllllll}\n",
       "  & A1 & A2 & A3 & A8 & A9 & A10 & A11 & A12 & A14 & A15\\\\\n",
       "\\hline\n",
       "\t1 & 0.6703899     & -0.06245717   & -0.9616313    & -0.29434003   &  0.931259     & -1.1299515    & -0.3017670    &  0.9255499    &  0.1302071028 & -0.1929261   \\\\\n",
       "\t5 & 0.6703899     & -0.95214066   &  0.1581515    & -0.15780899   &  0.931259     &  0.8836405    & -0.5031503    &  0.9255499    & -0.3569725882 & -0.1929261   \\\\\n",
       "\t6 & 0.6703899     &  0.04186782   & -0.1653413    &  0.07666823   &  0.931259     &  0.8836405    & -0.5031503    & -1.0787867    &  1.0689191904 & -0.1929261   \\\\\n",
       "\t9 & 0.6703899     &  1.90636399   & -0.8620951    &  0.51000589   &  0.931259     &  0.8836405    & -0.5031503    &  0.9255499    & -0.0004996435 & -0.1331088   \\\\\n",
       "\t11 & 0.6703899     & -0.79273208   & -0.7964012    & -0.02276198   & -1.072173     &  0.8836405    & -0.5031503    & -1.0787867    & -0.3094428622 & -0.1929261   \\\\\n",
       "\t12 & 0.6703899     & -0.13840576   & -0.5963333    &  0.62130837   &  0.931259     &  0.8836405    & -0.5031503    &  0.9255499    &  0.4747976160 & -0.1548259   \\\\\n",
       "\\end{tabular}\n"
      ],
      "text/markdown": [
       "\n",
       "| <!--/--> | A1 | A2 | A3 | A8 | A9 | A10 | A11 | A12 | A14 | A15 |\n",
       "|---|---|---|---|---|---|---|---|---|---|---|\n",
       "| 1 | 0.6703899     | -0.06245717   | -0.9616313    | -0.29434003   |  0.931259     | -1.1299515    | -0.3017670    |  0.9255499    |  0.1302071028 | -0.1929261    |\n",
       "| 5 | 0.6703899     | -0.95214066   |  0.1581515    | -0.15780899   |  0.931259     |  0.8836405    | -0.5031503    |  0.9255499    | -0.3569725882 | -0.1929261    |\n",
       "| 6 | 0.6703899     |  0.04186782   | -0.1653413    |  0.07666823   |  0.931259     |  0.8836405    | -0.5031503    | -1.0787867    |  1.0689191904 | -0.1929261    |\n",
       "| 9 | 0.6703899     |  1.90636399   | -0.8620951    |  0.51000589   |  0.931259     |  0.8836405    | -0.5031503    |  0.9255499    | -0.0004996435 | -0.1331088    |\n",
       "| 11 | 0.6703899     | -0.79273208   | -0.7964012    | -0.02276198   | -1.072173     |  0.8836405    | -0.5031503    | -1.0787867    | -0.3094428622 | -0.1929261    |\n",
       "| 12 | 0.6703899     | -0.13840576   | -0.5963333    |  0.62130837   |  0.931259     |  0.8836405    | -0.5031503    |  0.9255499    |  0.4747976160 | -0.1548259    |\n",
       "\n"
      ],
      "text/plain": [
       "   A1        A2          A3         A8          A9        A10        A11       \n",
       "1  0.6703899 -0.06245717 -0.9616313 -0.29434003  0.931259 -1.1299515 -0.3017670\n",
       "5  0.6703899 -0.95214066  0.1581515 -0.15780899  0.931259  0.8836405 -0.5031503\n",
       "6  0.6703899  0.04186782 -0.1653413  0.07666823  0.931259  0.8836405 -0.5031503\n",
       "9  0.6703899  1.90636399 -0.8620951  0.51000589  0.931259  0.8836405 -0.5031503\n",
       "11 0.6703899 -0.79273208 -0.7964012 -0.02276198 -1.072173  0.8836405 -0.5031503\n",
       "12 0.6703899 -0.13840576 -0.5963333  0.62130837  0.931259  0.8836405 -0.5031503\n",
       "   A12        A14           A15       \n",
       "1   0.9255499  0.1302071028 -0.1929261\n",
       "5   0.9255499 -0.3569725882 -0.1929261\n",
       "6  -1.0787867  1.0689191904 -0.1929261\n",
       "9   0.9255499 -0.0004996435 -0.1331088\n",
       "11 -1.0787867 -0.3094428622 -0.1929261\n",
       "12  0.9255499  0.4747976160 -0.1548259"
      ]
     },
     "metadata": {},
     "output_type": "display_data"
    }
   ],
   "source": [
    "#running linear model again to extract coeffcients\n",
    "linear_model <- ksvm(as.matrix(data[,1:10]),as.factor(data[,11]),\n",
    "              type=\"C-svc\",\n",
    "              kernel=\"vanilladot\", \n",
    "              C=100,\n",
    "              scaled=TRUE)\n",
    "#taking a look\n",
    "head(linear_model@xmatrix[[1]])\n"
   ]
  },
  {
   "cell_type": "code",
   "execution_count": 201,
   "metadata": {},
   "outputs": [
    {
     "data": {
      "text/html": [
       "<dl class=dl-horizontal>\n",
       "\t<dt>A1</dt>\n",
       "\t\t<dd>-0.00100653481057611</dd>\n",
       "\t<dt>A2</dt>\n",
       "\t\t<dd>-0.00117290480611665</dd>\n",
       "\t<dt>A3</dt>\n",
       "\t\t<dd>-0.00162619672236963</dd>\n",
       "\t<dt>A8</dt>\n",
       "\t\t<dd>0.0030064202649194</dd>\n",
       "\t<dt>A9</dt>\n",
       "\t\t<dd>1.00494056410556</dd>\n",
       "\t<dt>A10</dt>\n",
       "\t\t<dd>-0.00282594323043472</dd>\n",
       "\t<dt>A11</dt>\n",
       "\t\t<dd>0.000260029507016313</dd>\n",
       "\t<dt>A12</dt>\n",
       "\t\t<dd>-0.000534955143494997</dd>\n",
       "\t<dt>A14</dt>\n",
       "\t\t<dd>-0.00122837582291523</dd>\n",
       "\t<dt>A15</dt>\n",
       "\t\t<dd>0.106363399527188</dd>\n",
       "</dl>\n"
      ],
      "text/latex": [
       "\\begin{description*}\n",
       "\\item[A1] -0.00100653481057611\n",
       "\\item[A2] -0.00117290480611665\n",
       "\\item[A3] -0.00162619672236963\n",
       "\\item[A8] 0.0030064202649194\n",
       "\\item[A9] 1.00494056410556\n",
       "\\item[A10] -0.00282594323043472\n",
       "\\item[A11] 0.000260029507016313\n",
       "\\item[A12] -0.000534955143494997\n",
       "\\item[A14] -0.00122837582291523\n",
       "\\item[A15] 0.106363399527188\n",
       "\\end{description*}\n"
      ],
      "text/markdown": [
       "A1\n",
       ":   -0.00100653481057611A2\n",
       ":   -0.00117290480611665A3\n",
       ":   -0.00162619672236963A8\n",
       ":   0.0030064202649194A9\n",
       ":   1.00494056410556A10\n",
       ":   -0.00282594323043472A11\n",
       ":   0.000260029507016313A12\n",
       ":   -0.000534955143494997A14\n",
       ":   -0.00122837582291523A15\n",
       ":   0.106363399527188\n",
       "\n"
      ],
      "text/plain": [
       "           A1            A2            A3            A8            A9 \n",
       "-0.0010065348 -0.0011729048 -0.0016261967  0.0030064203  1.0049405641 \n",
       "          A10           A11           A12           A14           A15 \n",
       "-0.0028259432  0.0002600295 -0.0005349551 -0.0012283758  0.1063633995 "
      ]
     },
     "metadata": {},
     "output_type": "display_data"
    }
   ],
   "source": [
    "#Calculating a1,a2,...,an\n",
    "a <- colSums(linear_model@xmatrix[[1]]*linear_model@coef[[1]])\n",
    "a"
   ]
  },
  {
   "cell_type": "code",
   "execution_count": 202,
   "metadata": {},
   "outputs": [
    {
     "data": {
      "text/html": [
       "'numeric'"
      ],
      "text/latex": [
       "'numeric'"
      ],
      "text/markdown": [
       "'numeric'"
      ],
      "text/plain": [
       "[1] \"numeric\""
      ]
     },
     "metadata": {},
     "output_type": "display_data"
    }
   ],
   "source": [
    "class(a)"
   ]
  },
  {
   "cell_type": "code",
   "execution_count": 203,
   "metadata": {},
   "outputs": [
    {
     "name": "stdout",
     "output_type": "stream",
     "text": [
      " [1] \"-0.0010065348a1\" \"-0.0011729048a2\" \"-0.0016261967a3\" \"0.0030064203a4\" \n",
      " [5] \"1.0049405641a5\"  \"-0.0028259432a6\" \"0.0002600295a7\"  \"-0.0005349551a8\"\n",
      " [9] \"-0.0012283758a9\" \"0.1063633995a10\"\n"
     ]
    }
   ],
   "source": [
    "i<-1\n",
    "classifier_coef<-NULL\n",
    "\n",
    "for (coef in a){\n",
    "    classifier_coef<-c(classifier_coef,paste0(round(coef,digits=10),\"a\",i,collapse = \",\" ))\n",
    "    i<-i+1\n",
    "    \n",
    "}\n",
    "\n",
    "#before adding bias\n",
    "print(classifier_coef) "
   ]
  },
  {
   "cell_type": "code",
   "execution_count": 204,
   "metadata": {},
   "outputs": [
    {
     "data": {
      "text/html": [
       "0.081584921659538"
      ],
      "text/latex": [
       "0.081584921659538"
      ],
      "text/markdown": [
       "0.081584921659538"
      ],
      "text/plain": [
       "[1] 0.08158492"
      ]
     },
     "metadata": {},
     "output_type": "display_data"
    }
   ],
   "source": [
    "#calculating bias a0\n",
    "a0<--linear_model@b\n",
    "a0"
   ]
  },
  {
   "cell_type": "markdown",
   "metadata": {},
   "source": [
    "**Below see the coefficients of the linear classifier equation : \"f(x)=Wx+b\".**"
   ]
  },
  {
   "cell_type": "code",
   "execution_count": 205,
   "metadata": {},
   "outputs": [
    {
     "data": {
      "text/html": [
       "<ol class=list-inline>\n",
       "\t<li>'-0.0010065348a1'</li>\n",
       "\t<li>'-0.0011729048a2'</li>\n",
       "\t<li>'-0.0016261967a3'</li>\n",
       "\t<li>'0.0030064203a4'</li>\n",
       "\t<li>'1.0049405641a5'</li>\n",
       "\t<li>'-0.0028259432a6'</li>\n",
       "\t<li>'0.0002600295a7'</li>\n",
       "\t<li>'-0.0005349551a8'</li>\n",
       "\t<li>'-0.0012283758a9'</li>\n",
       "\t<li>'0.1063633995a10'</li>\n",
       "\t<li>'0.081584921659538'</li>\n",
       "</ol>\n"
      ],
      "text/latex": [
       "\\begin{enumerate*}\n",
       "\\item '-0.0010065348a1'\n",
       "\\item '-0.0011729048a2'\n",
       "\\item '-0.0016261967a3'\n",
       "\\item '0.0030064203a4'\n",
       "\\item '1.0049405641a5'\n",
       "\\item '-0.0028259432a6'\n",
       "\\item '0.0002600295a7'\n",
       "\\item '-0.0005349551a8'\n",
       "\\item '-0.0012283758a9'\n",
       "\\item '0.1063633995a10'\n",
       "\\item '0.081584921659538'\n",
       "\\end{enumerate*}\n"
      ],
      "text/markdown": [
       "1. '-0.0010065348a1'\n",
       "2. '-0.0011729048a2'\n",
       "3. '-0.0016261967a3'\n",
       "4. '0.0030064203a4'\n",
       "5. '1.0049405641a5'\n",
       "6. '-0.0028259432a6'\n",
       "7. '0.0002600295a7'\n",
       "8. '-0.0005349551a8'\n",
       "9. '-0.0012283758a9'\n",
       "10. '0.1063633995a10'\n",
       "11. '0.081584921659538'\n",
       "\n",
       "\n"
      ],
      "text/plain": [
       " [1] \"-0.0010065348a1\"   \"-0.0011729048a2\"   \"-0.0016261967a3\"  \n",
       " [4] \"0.0030064203a4\"    \"1.0049405641a5\"    \"-0.0028259432a6\"  \n",
       " [7] \"0.0002600295a7\"    \"-0.0005349551a8\"   \"-0.0012283758a9\"  \n",
       "[10] \"0.1063633995a10\"   \"0.081584921659538\""
      ]
     },
     "metadata": {},
     "output_type": "display_data"
    }
   ],
   "source": [
    "classifier_coef<- append(classifier_coef,a0)\n",
    "classifier_coef"
   ]
  },
  {
   "cell_type": "markdown",
   "metadata": {},
   "source": [
    "<p style=\"font-family: Arial; font-size:1em;color:#2462C0; font-style:bold\"> Model Accuracy</p>"
   ]
  },
  {
   "cell_type": "code",
   "execution_count": 206,
   "metadata": {},
   "outputs": [
    {
     "data": {
      "text/html": [
       "<ol class=list-inline>\n",
       "\t<li>0.863914373088685</li>\n",
       "\t<li>0.954128440366973</li>\n",
       "\t<li>0.863914373088685</li>\n",
       "</ol>\n"
      ],
      "text/latex": [
       "\\begin{enumerate*}\n",
       "\\item 0.863914373088685\n",
       "\\item 0.954128440366973\n",
       "\\item 0.863914373088685\n",
       "\\end{enumerate*}\n"
      ],
      "text/markdown": [
       "1. 0.863914373088685\n",
       "2. 0.954128440366973\n",
       "3. 0.863914373088685\n",
       "\n",
       "\n"
      ],
      "text/plain": [
       "[1] 0.8639144 0.9541284 0.8639144"
      ]
     },
     "metadata": {},
     "output_type": "display_data"
    }
   ],
   "source": [
    "model_accuracy<-NULL\n",
    "for (m in models){\n",
    "    pred <- predict(m,data[,1:10])\n",
    "    accuracy<-sum(pred==data[,11])/nrow(data)\n",
    "    model_accuracy<-append(model_accuracy,accuracy)    \n",
    "    \n",
    "}\n",
    "model_accuracy"
   ]
  },
  {
   "cell_type": "markdown",
   "metadata": {},
   "source": [
    "**Below we can see the model accuracy for each kernel used.**"
   ]
  },
  {
   "cell_type": "code",
   "execution_count": 207,
   "metadata": {},
   "outputs": [
    {
     "name": "stdout",
     "output_type": "stream",
     "text": [
      "Model accuracy of vanilladot is: 0.8639144 \n",
      "Model accuracy of rbfdot is: 0.9541284 \n",
      "Model accuracy of polydot is: 0.8639144 \n"
     ]
    }
   ],
   "source": [
    "i<-1\n",
    "while(i<=3){    \n",
    "    cat(\"Model accuracy of\",kernels[i],\"is:\",model_accuracy[i],\"\\n\")\n",
    "    i<-i+1\n",
    "}"
   ]
  },
  {
   "cell_type": "code",
   "execution_count": 208,
   "metadata": {},
   "outputs": [],
   "source": [
    "# Confusion matrix\n",
    "library(caret)"
   ]
  },
  {
   "cell_type": "code",
   "execution_count": 209,
   "metadata": {},
   "outputs": [],
   "source": [
    "library(e1071)"
   ]
  },
  {
   "cell_type": "code",
   "execution_count": 210,
   "metadata": {},
   "outputs": [
    {
     "name": "stdout",
     "output_type": "stream",
     "text": [
      "Confusion Matrix and Statistics\n",
      "\n",
      "          Reference\n",
      "Prediction   0   1\n",
      "         0 286  17\n",
      "         1  72 279\n",
      "                                          \n",
      "               Accuracy : 0.8639          \n",
      "                 95% CI : (0.8352, 0.8893)\n",
      "    No Information Rate : 0.5474          \n",
      "    P-Value [Acc > NIR] : < 2.2e-16       \n",
      "                                          \n",
      "                  Kappa : 0.7297          \n",
      "                                          \n",
      " Mcnemar's Test P-Value : 1.041e-08       \n",
      "                                          \n",
      "            Sensitivity : 0.7989          \n",
      "            Specificity : 0.9426          \n",
      "         Pos Pred Value : 0.9439          \n",
      "         Neg Pred Value : 0.7949          \n",
      "             Prevalence : 0.5474          \n",
      "         Detection Rate : 0.4373          \n",
      "   Detection Prevalence : 0.4633          \n",
      "      Balanced Accuracy : 0.8707          \n",
      "                                          \n",
      "       'Positive' Class : 0               \n",
      "                                          \n",
      "Confusion Matrix and Statistics\n",
      "\n",
      "          Reference\n",
      "Prediction   0   1\n",
      "         0 347  19\n",
      "         1  11 277\n",
      "                                          \n",
      "               Accuracy : 0.9541          \n",
      "                 95% CI : (0.9352, 0.9688)\n",
      "    No Information Rate : 0.5474          \n",
      "    P-Value [Acc > NIR] : <2e-16          \n",
      "                                          \n",
      "                  Kappa : 0.9072          \n",
      "                                          \n",
      " Mcnemar's Test P-Value : 0.2012          \n",
      "                                          \n",
      "            Sensitivity : 0.9693          \n",
      "            Specificity : 0.9358          \n",
      "         Pos Pred Value : 0.9481          \n",
      "         Neg Pred Value : 0.9618          \n",
      "             Prevalence : 0.5474          \n",
      "         Detection Rate : 0.5306          \n",
      "   Detection Prevalence : 0.5596          \n",
      "      Balanced Accuracy : 0.9525          \n",
      "                                          \n",
      "       'Positive' Class : 0               \n",
      "                                          \n",
      "Confusion Matrix and Statistics\n",
      "\n",
      "          Reference\n",
      "Prediction   0   1\n",
      "         0 286  17\n",
      "         1  72 279\n",
      "                                          \n",
      "               Accuracy : 0.8639          \n",
      "                 95% CI : (0.8352, 0.8893)\n",
      "    No Information Rate : 0.5474          \n",
      "    P-Value [Acc > NIR] : < 2.2e-16       \n",
      "                                          \n",
      "                  Kappa : 0.7297          \n",
      "                                          \n",
      " Mcnemar's Test P-Value : 1.041e-08       \n",
      "                                          \n",
      "            Sensitivity : 0.7989          \n",
      "            Specificity : 0.9426          \n",
      "         Pos Pred Value : 0.9439          \n",
      "         Neg Pred Value : 0.7949          \n",
      "             Prevalence : 0.5474          \n",
      "         Detection Rate : 0.4373          \n",
      "   Detection Prevalence : 0.4633          \n",
      "      Balanced Accuracy : 0.8707          \n",
      "                                          \n",
      "       'Positive' Class : 0               \n",
      "                                          \n"
     ]
    }
   ],
   "source": [
    "for(m in models){\n",
    "    pred <- predict(m,data[,1:10])\n",
    "    confusion_mtx<-confusionMatrix(as.factor(pred),as.factor(data[,11]))\n",
    "    print(confusion_mtx)\n",
    "    \n",
    "}"
   ]
  },
  {
   "cell_type": "markdown",
   "metadata": {},
   "source": [
    "<p style=\"font-family: Arial; font-size:1em;color:#2462C0; font-style:bold\"> Optimization of C(Cost of misclassification)</p>"
   ]
  },
  {
   "cell_type": "code",
   "execution_count": 211,
   "metadata": {},
   "outputs": [],
   "source": [
    "#trying some values to find optimal value for cost of misclassification\n",
    "cost_misclass<-c(0.0001,0.001,0.01,1,10,100)"
   ]
  },
  {
   "cell_type": "code",
   "execution_count": 212,
   "metadata": {},
   "outputs": [
    {
     "name": "stdout",
     "output_type": "stream",
     "text": [
      "vanilladot kernel accuracy: \n",
      "------------------------- \n",
      " Setting default kernel parameters  \n",
      "C= 1e-04 Accuracy: 0.5474006 \n",
      "\n",
      " Setting default kernel parameters  \n",
      "C= 0.001 Accuracy: 0.8379205 \n",
      "\n",
      " Setting default kernel parameters  \n",
      "C= 0.01 Accuracy: 0.8639144 \n",
      "\n",
      " Setting default kernel parameters  \n",
      "C= 1 Accuracy: 0.8639144 \n",
      "\n",
      " Setting default kernel parameters  \n",
      "C= 10 Accuracy: 0.8639144 \n",
      "\n",
      " Setting default kernel parameters  \n",
      "C= 100 Accuracy: 0.8639144 \n",
      "\n",
      "rbfdot kernel accuracy: \n",
      "------------------------- \n",
      "C= 1e-04 Accuracy: 0.5474006 \n",
      "\n",
      "C= 0.001 Accuracy: 0.5474006 \n",
      "\n",
      "C= 0.01 Accuracy: 0.5626911 \n",
      "\n",
      "C= 1 Accuracy: 0.8715596 \n",
      "\n",
      "C= 10 Accuracy: 0.9082569 \n",
      "\n",
      "C= 100 Accuracy: 0.9525994 \n",
      "\n",
      "polydot kernel accuracy: \n",
      "------------------------- \n",
      " Setting default kernel parameters  \n",
      "C= 1e-04 Accuracy: 0.5474006 \n",
      "\n",
      " Setting default kernel parameters  \n",
      "C= 0.001 Accuracy: 0.8379205 \n",
      "\n",
      " Setting default kernel parameters  \n",
      "C= 0.01 Accuracy: 0.8639144 \n",
      "\n",
      " Setting default kernel parameters  \n",
      "C= 1 Accuracy: 0.8639144 \n",
      "\n",
      " Setting default kernel parameters  \n",
      "C= 10 Accuracy: 0.8639144 \n",
      "\n",
      " Setting default kernel parameters  \n",
      "C= 100 Accuracy: 0.8639144 \n",
      "\n"
     ]
    }
   ],
   "source": [
    "accuracy_vect<-NULL\n",
    "set.seed(1)\n",
    "for (k in kernels){\n",
    "    cat(k,\"kernel accuracy:\",\"\\n\")\n",
    "    cat('-------------------------',\"\\n\")\n",
    "    for (cost in cost_misclass){\n",
    "        model_c <- ksvm(as.matrix(data[,1:10]),as.factor(data[,11]),\n",
    "              type=\"C-svc\",\n",
    "              kernel=k, \n",
    "              C=cost,\n",
    "              scaled=TRUE)\n",
    "        pred_c <- predict(model_c,data[,1:10])\n",
    "        confusion_mtx_c<-confusionMatrix(as.factor(pred_c),as.factor(data[,11]))\n",
    "        cat(\"C=\",cost,\"Accuracy:\",confusion_mtx_c$overall[[1]],\"\\n\")\n",
    "        cat(\"\\n\")\n",
    "    }\n",
    "}\n",
    "\n"
   ]
  },
  {
   "cell_type": "markdown",
   "metadata": {},
   "source": [
    "- As we can see from above results, for linear classifier (vanilladot) and polynomial classifier (polydot), all values of C from 0.01 to 100 lead to similar model accuracy, so we can keep 100 as optimal value.\n",
    "- For the classifier modeled with rbfdot kernel (Gaussian) a value of 100 gives the best accuracy. However, this might not be an optimal value since there is a high possibility of overfitting."
   ]
  },
  {
   "cell_type": "markdown",
   "metadata": {},
   "source": [
    "<p style=\"font-family: Arial; font-size:1.25em;color:#2462C0; font-style:bold\">Part 3</p>"
   ]
  },
  {
   "cell_type": "markdown",
   "metadata": {},
   "source": [
    "Using the k-nearest-neighbors classification function kknn contained in the R kknn package,\n",
    "suggest a good value of k, and show how well it classifies that data points in the full data set. "
   ]
  },
  {
   "cell_type": "code",
   "execution_count": 1,
   "metadata": {},
   "outputs": [
    {
     "name": "stderr",
     "output_type": "stream",
     "text": [
      "Warning message:\n",
      "\"package 'kknn' was built under R version 3.6.2\""
     ]
    }
   ],
   "source": [
    "library(kknn)"
   ]
  },
  {
   "cell_type": "markdown",
   "metadata": {},
   "source": [
    "- First, we try to use train.kknn function to find a good value of k (Number of neighbors considered)."
   ]
  },
  {
   "cell_type": "code",
   "execution_count": 7,
   "metadata": {},
   "outputs": [
    {
     "data": {
      "text/plain": [
       "\n",
       "Call:\n",
       "train.kknn(formula = R1 ~ ., data = train_data, kmax = 100, kernel = c(\"optimal\",     \"rectangular\", \"inv\", \"gaussian\", \"triangular\"), scale = TRUE)\n",
       "\n",
       "Type of response variable: continuous\n",
       "minimal mean absolute error: 0.2576336\n",
       "Minimal mean squared error: 0.1402142\n",
       "Best kernel: rectangular\n",
       "Best k: 12"
      ]
     },
     "metadata": {},
     "output_type": "display_data"
    }
   ],
   "source": [
    "#Number of rows in data\n",
    "num_rows <- nrow(data) \n",
    "\n",
    "#Creating a vector randomly selecting 80% of values of rows\n",
    "set.seed(123)\n",
    "num_sample <- sample(1:num_rows, size = round(0.8*num_rows), replace = FALSE)\n",
    "               \n",
    "#Selecting training data\n",
    "train_data <- data[-num_sample,]\n",
    "#Selecting test data\n",
    "test_data <- data[num_sample,]  \n",
    "\n",
    "#Training of kknn method via leave-one-out (train.kknn) crossvalidation, we want to find the optimal value of 'k'\n",
    "best_k<-train.kknn(R1 ~ ., data = train_data, kmax = 100, kernel = c(\"optimal\",\"rectangular\", \"inv\", \"gaussian\", \"triangular\"), scale = TRUE) \n",
    "best_k"
   ]
  },
  {
   "cell_type": "code",
   "execution_count": 215,
   "metadata": {},
   "outputs": [
    {
     "name": "stdout",
     "output_type": "stream",
     "text": [
      "For k= 1 : Accuracy is: 0.8149847 \n",
      "For k= 2 : Accuracy is: 0.8149847 \n",
      "For k= 3 : Accuracy is: 0.8149847 \n",
      "For k= 4 : Accuracy is: 0.8149847 \n",
      "For k= 5 : Accuracy is: 0.851682 \n",
      "For k= 6 : Accuracy is: 0.8455657 \n",
      "For k= 7 : Accuracy is: 0.8470948 \n",
      "For k= 8 : Accuracy is: 0.8486239 \n",
      "For k= 9 : Accuracy is: 0.8470948 \n",
      "For k= 10 : Accuracy is: 0.8501529 \n",
      "For k= 11 : Accuracy is: 0.851682 \n",
      "For k= 12 : Accuracy is: 0.853211 \n",
      "For k= 13 : Accuracy is: 0.851682 \n",
      "For k= 14 : Accuracy is: 0.851682 \n",
      "For k= 15 : Accuracy is: 0.853211 \n",
      "For k= 16 : Accuracy is: 0.851682 \n",
      "For k= 17 : Accuracy is: 0.851682 \n",
      "For k= 18 : Accuracy is: 0.851682 \n",
      "For k= 19 : Accuracy is: 0.8501529 \n",
      "For k= 20 : Accuracy is: 0.8501529 \n"
     ]
    }
   ],
   "source": [
    "# A function to find accuracy of model using kknn with different values of k\n",
    "set.seed(1)\n",
    "kknn_accuracy = function(k_value){\n",
    "  pred <- rep(0,(nrow(data))) \n",
    "\n",
    "\n",
    "  for (i in 1:nrow(data)){\n",
    "\n",
    "    model<- kknn(R1~. ,data[-i,],data[i,],k=k_value, scale = TRUE) \n",
    "    pred[i] <- as.integer(fitted(model)+0.5) # round off to 0 or 1\n",
    "  }\n",
    "    \n",
    "  accuracy_model <- sum(pred== data[,11]) / nrow(data)\n",
    "  return(accuracy_model)\n",
    "}\n",
    "\n",
    "\n",
    "acc <- rep(0,20)\n",
    "\n",
    "#Finding the best value of k which results in best accuracy\n",
    "for (X in 1:20){\n",
    "  acc[X] = kknn_accuracy(X)\n",
    "    cat(\"For k=\",X,\":\",\"Accuracy is:\",acc[X],\"\\n\")\n",
    "}\n"
   ]
  },
  {
   "cell_type": "markdown",
   "metadata": {},
   "source": [
    "- Using this function, a good sugggested value for k is 12. Next, we will implement a function to find accuracy of the model with different values of k to confirm k=12 achieves the lowest error."
   ]
  },
  {
   "cell_type": "markdown",
   "metadata": {},
   "source": [
    "As we can see from above results, k=12 and k=15 result in highest accuracy of the model."
   ]
  }
 ],
 "metadata": {
  "kernelspec": {
   "display_name": "R",
   "language": "R",
   "name": "ir"
  },
  "language_info": {
   "codemirror_mode": "r",
   "file_extension": ".r",
   "mimetype": "text/x-r-source",
   "name": "R",
   "pygments_lexer": "r",
   "version": "3.6.1"
  }
 },
 "nbformat": 4,
 "nbformat_minor": 2
}
